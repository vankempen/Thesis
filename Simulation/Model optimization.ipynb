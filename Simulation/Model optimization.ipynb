{
 "metadata": {
  "name": ""
 },
 "nbformat": 3,
 "nbformat_minor": 0,
 "worksheets": [
  {
   "cells": [
    {
     "cell_type": "code",
     "collapsed": false,
     "input": [
      "import numpy as np\n",
      "from scipy import optimize, stats"
     ],
     "language": "python",
     "metadata": {},
     "outputs": [],
     "prompt_number": 14
    },
    {
     "cell_type": "heading",
     "level": 3,
     "metadata": {},
     "source": [
      "The model"
     ]
    },
    {
     "cell_type": "code",
     "collapsed": false,
     "input": [
      "A = Ay[:3,:]\n",
      "A[2,:] *= 100\n",
      "y = Ay[3,:]*100"
     ],
     "language": "python",
     "metadata": {},
     "outputs": [],
     "prompt_number": 336
    },
    {
     "cell_type": "code",
     "collapsed": false,
     "input": [
      "# ln(y) because of curve in plot\n",
      "y = np.log(y)"
     ],
     "language": "python",
     "metadata": {},
     "outputs": [],
     "prompt_number": 231
    },
    {
     "cell_type": "code",
     "collapsed": false,
     "input": [
      "def model(params, a, b, c, d, e):\n",
      "    \"\"\"\n",
      "    returns result of expected model\n",
      "    \"\"\"\n",
      "    RP, m, P_f = params\n",
      "    return a + b * RP + c * np.log(m) + d * P_f + e * np.power(P_f, 2)\n",
      "\n",
      "# the fitting\n",
      "popt, pcov = optimize.curve_fit(model, A, y)\n",
      "results = model(A, *popt)\n",
      "print '%.3g + %.3g \\\\mbox{RP} + %.3g \\\\ln(m) + %.3g P^f + %.3g P^f^2' % tuple(popt)"
     ],
     "language": "python",
     "metadata": {},
     "outputs": [
      {
       "output_type": "stream",
       "stream": "stdout",
       "text": [
        "1.52 + 0.0557 \\mbox{RP} + 0.218 \\ln(m) + 6.16e-12 P^f + -7.21e-24 P^f^2\n"
       ]
      }
     ],
     "prompt_number": 232
    },
    {
     "cell_type": "code",
     "collapsed": false,
     "input": [
      "print stats.pearsonr(y, results)\n",
      "\n",
      "#regression line\n",
      "Ax = np.vstack([np.ones(len(results)), results]).T\n",
      "a, b = np.linalg.lstsq(Ax, y)[0]\n",
      "\n",
      "#plot\n",
      "scatter(y, results)\n",
      "plot(results, a+ b*results, 'r', label='Fitted line')\n",
      "\n",
      "xlabel('actual')\n",
      "ylabel('predicted')"
     ],
     "language": "python",
     "metadata": {},
     "outputs": [
      {
       "output_type": "stream",
       "stream": "stdout",
       "text": [
        "(0.82529229575718754, 4.5951309980404395e-29)\n"
       ]
      },
      {
       "metadata": {},
       "output_type": "pyout",
       "prompt_number": 233,
       "text": [
        "<matplotlib.text.Text at 0xa533810>"
       ]
      },
      {
       "metadata": {},
       "output_type": "display_data",
       "png": "[encoded data removed]",
       "text": [
        "<matplotlib.figure.Figure at 0x9e0c510>"
       ]
      }
     ],
     "prompt_number": 233
    },
    {
     "cell_type": "code",
     "collapsed": false,
     "input": [
      "# compute MAPE\n",
      "MAPE = np.absolute((y-results)/y).mean()\n",
      "print MAPE"
     ],
     "language": "python",
     "metadata": {},
     "outputs": [
      {
       "output_type": "stream",
       "stream": "stdout",
       "text": [
        "0.218070428022\n"
       ]
      }
     ],
     "prompt_number": 234
    },
    {
     "cell_type": "code",
     "collapsed": false,
     "input": [
      "np.exp(MAPE)"
     ],
     "language": "python",
     "metadata": {},
     "outputs": [
      {
       "metadata": {},
       "output_type": "pyout",
       "prompt_number": 216,
       "text": [
        "1.4535548652209527"
       ]
      }
     ],
     "prompt_number": 216
    },
    {
     "cell_type": "code",
     "collapsed": false,
     "input": [
      "# compute MAPE\n",
      "MAPE = np.absolute((y-results)/y).mean()\n",
      "print MAPE"
     ],
     "language": "python",
     "metadata": {},
     "outputs": [
      {
       "output_type": "stream",
       "stream": "stdout",
       "text": [
        "0.681333534258\n"
       ]
      }
     ],
     "prompt_number": 227
    },
    {
     "cell_type": "code",
     "collapsed": false,
     "input": [
      "A"
     ],
     "language": "python",
     "metadata": {},
     "outputs": [
      {
       "metadata": {},
       "output_type": "pyout",
       "prompt_number": 339,
       "text": [
        "array([[  0.,   0.,   0.,   0.,   0.,   0.,   0.,   0.,   0.,   0.,   0.,\n",
        "          0.,   0.,   0.,   0.,   0.,   0.,   0.,   0.,   0.,   0.,   0.,\n",
        "          0.,   0.,   0.,   0.,   0.,   0.,   5.,   5.,   5.,   5.,   5.,\n",
        "          5.,   5.,   5.,   5.,   5.,   5.,   5.,   5.,   5.,   5.,   5.,\n",
        "          5.,   5.,   5.,   5.,   5.,   5.,   5.,   5.,   5.,   5.,   5.,\n",
        "          5.,  10.,  10.,  10.,  10.,  10.,  10.,  10.,  10.,  10.,  10.,\n",
        "         10.,  10.,  10.,  10.,  10.,  10.,  10.,  10.,  10.,  10.,  10.,\n",
        "         10.,  10.,  10.,  10.,  10.,  10.,  10.,  15.,  15.,  15.,  15.,\n",
        "         15.,  15.,  15.,  15.,  15.,  15.,  15.,  15.,  15.,  15.,  15.,\n",
        "         15.,  15.,  15.,  15.,  15.,  15.,  15.,  15.,  15.,  15.,  15.,\n",
        "         15.,  15.],\n",
        "       [  3.,   3.,   3.,   3.,   3.,   3.,   3.,   7.,   7.,   7.,   7.,\n",
        "          7.,   7.,   7.,  14.,  14.,  14.,  14.,  14.,  14.,  14.,  21.,\n",
        "         21.,  21.,  21.,  21.,  21.,  21.,   3.,   3.,   3.,   3.,   3.,\n",
        "          3.,   3.,   7.,   7.,   7.,   7.,   7.,   7.,   7.,  14.,  14.,\n",
        "         14.,  14.,  14.,  14.,  14.,  21.,  21.,  21.,  21.,  21.,  21.,\n",
        "         21.,   3.,   3.,   3.,   3.,   3.,   3.,   3.,   7.,   7.,   7.,\n",
        "          7.,   7.,   7.,   7.,  14.,  14.,  14.,  14.,  14.,  14.,  14.,\n",
        "         21.,  21.,  21.,  21.,  21.,  21.,  21.,   3.,   3.,   3.,   3.,\n",
        "          3.,   3.,   3.,   7.,   7.,   7.,   7.,   7.,   7.,   7.,  14.,\n",
        "         14.,  14.,  14.,  14.,  14.,  14.,  21.,  21.,  21.,  21.,  21.,\n",
        "         21.,  21.],\n",
        "       [  5.,  20.,  35.,  50.,  65.,  80.,  95.,   5.,  20.,  35.,  50.,\n",
        "         65.,  80.,  95.,   5.,  20.,  35.,  50.,  65.,  80.,  95.,   5.,\n",
        "         20.,  35.,  50.,  65.,  80.,  95.,   5.,  20.,  35.,  50.,  65.,\n",
        "         80.,  95.,   5.,  20.,  35.,  50.,  65.,  80.,  95.,   5.,  20.,\n",
        "         35.,  50.,  65.,  80.,  95.,   5.,  20.,  35.,  50.,  65.,  80.,\n",
        "         95.,   5.,  20.,  35.,  50.,  65.,  80.,  95.,   5.,  20.,  35.,\n",
        "         50.,  65.,  80.,  95.,   5.,  20.,  35.,  50.,  65.,  80.,  95.,\n",
        "          5.,  20.,  35.,  50.,  65.,  80.,  95.,   5.,  20.,  35.,  50.,\n",
        "         65.,  80.,  95.,   5.,  20.,  35.,  50.,  65.,  80.,  95.,   5.,\n",
        "         20.,  35.,  50.,  65.,  80.,  95.,   5.,  20.,  35.,  50.,  65.,\n",
        "         80.,  95.]])"
       ]
      }
     ],
     "prompt_number": 339
    },
    {
     "cell_type": "code",
     "collapsed": false,
     "input": [
      "RP = A[0,:]\n",
      "m = A[1,:]\n",
      "P_f = A[2,:]"
     ],
     "language": "python",
     "metadata": {},
     "outputs": [],
     "prompt_number": 338
    },
    {
     "cell_type": "code",
     "collapsed": false,
     "input": [
      "ma_m_ind"
     ],
     "language": "python",
     "metadata": {},
     "outputs": [
      {
       "metadata": {},
       "output_type": "pyout",
       "prompt_number": 359,
       "text": [
        "masked_array(data = [3.0 3.0 3.0 3.0 3.0 3.0 3.0 7.0 7.0 7.0 7.0 7.0 7.0 7.0 14.0 14.0 14.0\n",
        " 14.0 14.0 14.0 14.0 21.0 21.0 21.0 21.0 21.0 21.0 21.0 3.0 3.0 3.0 3.0 3.0\n",
        " 3.0 3.0 7.0 7.0 7.0 7.0 7.0 7.0 7.0 14.0 14.0 14.0 14.0 14.0 14.0 14.0\n",
        " 21.0 21.0 21.0 21.0 21.0 21.0 21.0 3.0 3.0 3.0 3.0 3.0 3.0 3.0 -- -- -- --\n",
        " -- -- -- -- -- -- -- -- -- -- -- -- -- -- -- -- -- 3.0 3.0 3.0 3.0 3.0 3.0\n",
        " 3.0 7.0 7.0 7.0 7.0 7.0 7.0 7.0 14.0 14.0 14.0 14.0 14.0 14.0 14.0 21.0\n",
        " 21.0 21.0 21.0 21.0 21.0 21.0],\n",
        "             mask = [False False False False False False False False False False False False\n",
        " False False False False False False False False False False False False\n",
        " False False False False False False False False False False False False\n",
        " False False False False False False False False False False False False\n",
        " False False False False False False False False False False False False\n",
        " False False False  True  True  True  True  True  True  True  True  True\n",
        "  True  True  True  True  True  True  True  True  True  True  True  True\n",
        " False False False False False False False False False False False False\n",
        " False False False False False False False False False False False False\n",
        " False False False False],\n",
        "       fill_value = 1e+20)\n"
       ]
      }
     ],
     "prompt_number": 359
    },
    {
     "cell_type": "code",
     "collapsed": false,
     "input": [
      "np.linspace(0.05, 0.95, 7)"
     ],
     "language": "python",
     "metadata": {},
     "outputs": [
      {
       "metadata": {},
       "output_type": "pyout",
       "prompt_number": 424,
       "text": [
        "array([ 0.05,  0.2 ,  0.35,  0.5 ,  0.65,  0.8 ,  0.95])"
       ]
      }
     ],
     "prompt_number": 424
    },
    {
     "cell_type": "code",
     "collapsed": false,
     "input": [
      "for rx in [0,5,10,15]:\n",
      "    ma_m_ind = np.ma.array(RP, mask=[RP != rx])\n",
      "    ma_m_ind.mask[m != 3] = True\n",
      "    \n",
      "    inds = np.logical_not(ma_m_ind.mask)\n",
      "    \n",
      "    plot(P_f[inds], y[inds], label=str(rx))\n",
      "title('RP')\n",
      "legend(loc='upper left')"
     ],
     "language": "python",
     "metadata": {},
     "outputs": [
      {
       "metadata": {},
       "output_type": "pyout",
       "prompt_number": 440,
       "text": [
        "<matplotlib.legend.Legend at 0x102bb950>"
       ]
      },
      {
       "metadata": {},
       "output_type": "display_data",
       "png": "[encoded data removed]",
       "text": [
        "<matplotlib.figure.Figure at 0x1009fb10>"
       ]
      }
     ],
     "prompt_number": 440
    },
    {
     "cell_type": "code",
     "collapsed": false,
     "input": [],
     "language": "python",
     "metadata": {},
     "outputs": [
      {
       "metadata": {},
       "output_type": "pyout",
       "prompt_number": 343,
       "text": [
        "[<matplotlib.lines.Line2D at 0xaa07310>]"
       ]
      },
      {
       "metadata": {},
       "output_type": "display_data",
       "png": "[encoded data removed]",
       "text": [
        "<matplotlib.figure.Figure at 0xa806490>"
       ]
      }
     ],
     "prompt_number": 343
    },
    {
     "cell_type": "heading",
     "level": 3,
     "metadata": {},
     "source": [
      "The data"
     ]
    },
    {
     "cell_type": "code",
     "collapsed": false,
     "input": [
      "Ay = array([[  0.00000000e+00,   0.00000000e+00,   0.00000000e+00,\n",
      "          0.00000000e+00,   0.00000000e+00,   0.00000000e+00,\n",
      "          0.00000000e+00,   0.00000000e+00,   0.00000000e+00,\n",
      "          0.00000000e+00,   0.00000000e+00,   0.00000000e+00,\n",
      "          0.00000000e+00,   0.00000000e+00,   0.00000000e+00,\n",
      "          0.00000000e+00,   0.00000000e+00,   0.00000000e+00,\n",
      "          0.00000000e+00,   0.00000000e+00,   0.00000000e+00,\n",
      "          0.00000000e+00,   0.00000000e+00,   0.00000000e+00,\n",
      "          0.00000000e+00,   0.00000000e+00,   0.00000000e+00,\n",
      "          0.00000000e+00,   5.00000000e+00,   5.00000000e+00,\n",
      "          5.00000000e+00,   5.00000000e+00,   5.00000000e+00,\n",
      "          5.00000000e+00,   5.00000000e+00,   5.00000000e+00,\n",
      "          5.00000000e+00,   5.00000000e+00,   5.00000000e+00,\n",
      "          5.00000000e+00,   5.00000000e+00,   5.00000000e+00,\n",
      "          5.00000000e+00,   5.00000000e+00,   5.00000000e+00,\n",
      "          5.00000000e+00,   5.00000000e+00,   5.00000000e+00,\n",
      "          5.00000000e+00,   5.00000000e+00,   5.00000000e+00,\n",
      "          5.00000000e+00,   5.00000000e+00,   5.00000000e+00,\n",
      "          5.00000000e+00,   5.00000000e+00,   1.00000000e+01,\n",
      "          1.00000000e+01,   1.00000000e+01,   1.00000000e+01,\n",
      "          1.00000000e+01,   1.00000000e+01,   1.00000000e+01,\n",
      "          1.00000000e+01,   1.00000000e+01,   1.00000000e+01,\n",
      "          1.00000000e+01,   1.00000000e+01,   1.00000000e+01,\n",
      "          1.00000000e+01,   1.00000000e+01,   1.00000000e+01,\n",
      "          1.00000000e+01,   1.00000000e+01,   1.00000000e+01,\n",
      "          1.00000000e+01,   1.00000000e+01,   1.00000000e+01,\n",
      "          1.00000000e+01,   1.00000000e+01,   1.00000000e+01,\n",
      "          1.00000000e+01,   1.00000000e+01,   1.00000000e+01,\n",
      "          1.50000000e+01,   1.50000000e+01,   1.50000000e+01,\n",
      "          1.50000000e+01,   1.50000000e+01,   1.50000000e+01,\n",
      "          1.50000000e+01,   1.50000000e+01,   1.50000000e+01,\n",
      "          1.50000000e+01,   1.50000000e+01,   1.50000000e+01,\n",
      "          1.50000000e+01,   1.50000000e+01,   1.50000000e+01,\n",
      "          1.50000000e+01,   1.50000000e+01,   1.50000000e+01,\n",
      "          1.50000000e+01,   1.50000000e+01,   1.50000000e+01,\n",
      "          1.50000000e+01,   1.50000000e+01,   1.50000000e+01,\n",
      "          1.50000000e+01,   1.50000000e+01,   1.50000000e+01,\n",
      "          1.50000000e+01],\n",
      "       [  3.00000000e+00,   3.00000000e+00,   3.00000000e+00,\n",
      "          3.00000000e+00,   3.00000000e+00,   3.00000000e+00,\n",
      "          3.00000000e+00,   7.00000000e+00,   7.00000000e+00,\n",
      "          7.00000000e+00,   7.00000000e+00,   7.00000000e+00,\n",
      "          7.00000000e+00,   7.00000000e+00,   1.40000000e+01,\n",
      "          1.40000000e+01,   1.40000000e+01,   1.40000000e+01,\n",
      "          1.40000000e+01,   1.40000000e+01,   1.40000000e+01,\n",
      "          2.10000000e+01,   2.10000000e+01,   2.10000000e+01,\n",
      "          2.10000000e+01,   2.10000000e+01,   2.10000000e+01,\n",
      "          2.10000000e+01,   3.00000000e+00,   3.00000000e+00,\n",
      "          3.00000000e+00,   3.00000000e+00,   3.00000000e+00,\n",
      "          3.00000000e+00,   3.00000000e+00,   7.00000000e+00,\n",
      "          7.00000000e+00,   7.00000000e+00,   7.00000000e+00,\n",
      "          7.00000000e+00,   7.00000000e+00,   7.00000000e+00,\n",
      "          1.40000000e+01,   1.40000000e+01,   1.40000000e+01,\n",
      "          1.40000000e+01,   1.40000000e+01,   1.40000000e+01,\n",
      "          1.40000000e+01,   2.10000000e+01,   2.10000000e+01,\n",
      "          2.10000000e+01,   2.10000000e+01,   2.10000000e+01,\n",
      "          2.10000000e+01,   2.10000000e+01,   3.00000000e+00,\n",
      "          3.00000000e+00,   3.00000000e+00,   3.00000000e+00,\n",
      "          3.00000000e+00,   3.00000000e+00,   3.00000000e+00,\n",
      "          7.00000000e+00,   7.00000000e+00,   7.00000000e+00,\n",
      "          7.00000000e+00,   7.00000000e+00,   7.00000000e+00,\n",
      "          7.00000000e+00,   1.40000000e+01,   1.40000000e+01,\n",
      "          1.40000000e+01,   1.40000000e+01,   1.40000000e+01,\n",
      "          1.40000000e+01,   1.40000000e+01,   2.10000000e+01,\n",
      "          2.10000000e+01,   2.10000000e+01,   2.10000000e+01,\n",
      "          2.10000000e+01,   2.10000000e+01,   2.10000000e+01,\n",
      "          3.00000000e+00,   3.00000000e+00,   3.00000000e+00,\n",
      "          3.00000000e+00,   3.00000000e+00,   3.00000000e+00,\n",
      "          3.00000000e+00,   7.00000000e+00,   7.00000000e+00,\n",
      "          7.00000000e+00,   7.00000000e+00,   7.00000000e+00,\n",
      "          7.00000000e+00,   7.00000000e+00,   1.40000000e+01,\n",
      "          1.40000000e+01,   1.40000000e+01,   1.40000000e+01,\n",
      "          1.40000000e+01,   1.40000000e+01,   1.40000000e+01,\n",
      "          2.10000000e+01,   2.10000000e+01,   2.10000000e+01,\n",
      "          2.10000000e+01,   2.10000000e+01,   2.10000000e+01,\n",
      "          2.10000000e+01],\n",
      "       [  5.00000000e-02,   2.00000000e-01,   3.50000000e-01,\n",
      "          5.00000000e-01,   6.50000000e-01,   8.00000000e-01,\n",
      "          9.50000000e-01,   5.00000000e-02,   2.00000000e-01,\n",
      "          3.50000000e-01,   5.00000000e-01,   6.50000000e-01,\n",
      "          8.00000000e-01,   9.50000000e-01,   5.00000000e-02,\n",
      "          2.00000000e-01,   3.50000000e-01,   5.00000000e-01,\n",
      "          6.50000000e-01,   8.00000000e-01,   9.50000000e-01,\n",
      "          5.00000000e-02,   2.00000000e-01,   3.50000000e-01,\n",
      "          5.00000000e-01,   6.50000000e-01,   8.00000000e-01,\n",
      "          9.50000000e-01,   5.00000000e-02,   2.00000000e-01,\n",
      "          3.50000000e-01,   5.00000000e-01,   6.50000000e-01,\n",
      "          8.00000000e-01,   9.50000000e-01,   5.00000000e-02,\n",
      "          2.00000000e-01,   3.50000000e-01,   5.00000000e-01,\n",
      "          6.50000000e-01,   8.00000000e-01,   9.50000000e-01,\n",
      "          5.00000000e-02,   2.00000000e-01,   3.50000000e-01,\n",
      "          5.00000000e-01,   6.50000000e-01,   8.00000000e-01,\n",
      "          9.50000000e-01,   5.00000000e-02,   2.00000000e-01,\n",
      "          3.50000000e-01,   5.00000000e-01,   6.50000000e-01,\n",
      "          8.00000000e-01,   9.50000000e-01,   5.00000000e-02,\n",
      "          2.00000000e-01,   3.50000000e-01,   5.00000000e-01,\n",
      "          6.50000000e-01,   8.00000000e-01,   9.50000000e-01,\n",
      "          5.00000000e-02,   2.00000000e-01,   3.50000000e-01,\n",
      "          5.00000000e-01,   6.50000000e-01,   8.00000000e-01,\n",
      "          9.50000000e-01,   5.00000000e-02,   2.00000000e-01,\n",
      "          3.50000000e-01,   5.00000000e-01,   6.50000000e-01,\n",
      "          8.00000000e-01,   9.50000000e-01,   5.00000000e-02,\n",
      "          2.00000000e-01,   3.50000000e-01,   5.00000000e-01,\n",
      "          6.50000000e-01,   8.00000000e-01,   9.50000000e-01,\n",
      "          5.00000000e-02,   2.00000000e-01,   3.50000000e-01,\n",
      "          5.00000000e-01,   6.50000000e-01,   8.00000000e-01,\n",
      "          9.50000000e-01,   5.00000000e-02,   2.00000000e-01,\n",
      "          3.50000000e-01,   5.00000000e-01,   6.50000000e-01,\n",
      "          8.00000000e-01,   9.50000000e-01,   5.00000000e-02,\n",
      "          2.00000000e-01,   3.50000000e-01,   5.00000000e-01,\n",
      "          6.50000000e-01,   8.00000000e-01,   9.50000000e-01,\n",
      "          5.00000000e-02,   2.00000000e-01,   3.50000000e-01,\n",
      "          5.00000000e-01,   6.50000000e-01,   8.00000000e-01,\n",
      "          9.50000000e-01],\n",
      "       [  2.25724808e-02,   7.55818594e-02,   1.12101298e-01,\n",
      "          1.37005871e-01,   1.47804082e-01,   1.50056232e-01,\n",
      "          7.13665022e-02,   5.05250712e-02,   1.63167777e-01,\n",
      "          2.25517402e-01,   2.33703075e-01,   2.19705938e-01,\n",
      "          1.88505843e-01,   6.25507291e-02,   9.72402695e-02,\n",
      "          2.95854441e-01,   3.29391759e-01,   2.99348284e-01,\n",
      "          2.51026934e-01,   2.00472246e-01,   3.79237998e-02,\n",
      "          1.44920262e-01,   4.00053671e-01,   4.13767397e-01,\n",
      "          3.43885396e-01,   2.67274058e-01,   1.85786056e-01,\n",
      "          1.78831025e-02,   3.07064746e-02,   1.03634520e-01,\n",
      "          1.56430351e-01,   1.83660200e-01,   1.91869063e-01,\n",
      "          1.91909766e-01,   8.37816702e-02,   6.93058623e-02,\n",
      "          2.24283898e-01,   2.73745431e-01,   2.77540973e-01,\n",
      "          2.54209894e-01,   2.24073639e-01,   6.90788584e-02,\n",
      "          1.39043894e-01,   3.60010802e-01,   3.86854665e-01,\n",
      "          3.49533809e-01,   2.98329223e-01,   2.35502197e-01,\n",
      "          3.79240599e-02,   2.12209526e-01,   4.83561741e-01,\n",
      "          4.70485547e-01,   3.94531152e-01,   2.93938972e-01,\n",
      "          1.98418652e-01,   1.78911479e-02,   6.92732671e-02,\n",
      "          2.16972043e-01,   2.68404017e-01,   2.78699081e-01,\n",
      "          2.78254151e-01,   2.67027400e-01,   1.01313329e-01,\n",
      "          1.58326450e-01,   3.39942016e-01,   3.77341122e-01,\n",
      "          3.62862973e-01,   3.34050339e-01,   2.90816221e-01,\n",
      "          7.38471457e-02,   3.14549496e-01,   5.16328251e-01,\n",
      "          5.13645416e-01,   4.46112428e-01,   3.69158748e-01,\n",
      "          2.92648824e-01,   3.79216850e-02,   4.52871428e-01,\n",
      "          6.58491500e-01,   5.68996916e-01,   4.29287384e-01,\n",
      "          3.03966939e-01,   1.99799098e-01,   1.78844299e-02,\n",
      "          2.41162267e-01,   3.94384963e-01,   3.99387159e-01,\n",
      "          3.91741225e-01,   3.83037584e-01,   3.68706988e-01,\n",
      "          1.22973402e-01,   3.88115520e-01,   5.42957640e-01,\n",
      "          5.31683923e-01,   4.88113320e-01,   4.40225831e-01,\n",
      "          3.90241330e-01,   7.52180768e-02,   5.47509067e-01,\n",
      "          7.34463072e-01,   6.45526102e-01,   5.16859450e-01,\n",
      "          4.02148235e-01,   3.01350621e-01,   3.79260002e-02,\n",
      "          7.20829915e-01,   7.43582273e-01,   5.75819829e-01,\n",
      "          4.29334491e-01,   3.03977695e-01,   1.99827688e-01,\n",
      "          1.78881046e-02]])"
     ],
     "language": "python",
     "metadata": {},
     "outputs": [],
     "prompt_number": 335
    }
   ],
   "metadata": {}
  }
 ]
}