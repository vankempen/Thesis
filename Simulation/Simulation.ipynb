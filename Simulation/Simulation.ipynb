{
 "metadata": {
  "name": ""
 },
 "nbformat": 3,
 "nbformat_minor": 0,
 "worksheets": [
  {
   "cells": [
    {
     "cell_type": "heading",
     "level": 2,
     "metadata": {},
     "source": [
      "Imports"
     ]
    },
    {
     "cell_type": "code",
     "collapsed": false,
     "input": [
      "from __future__ import division\n",
      "\n",
      "import h5py\n",
      "import numpy as np\n",
      "import pandas as pd\n",
      "import scipy.stats as ss\n",
      "from scipy.optimize import curve_fit\n",
      "pd.set_option('display.max_rows', 500)\n",
      "pd.set_option('display.max_columns', 30)\n",
      "\n",
      "# for thousands-seperator of numbers\n",
      "import locale\n",
      "_ = locale.setlocale(locale.LC_ALL, 'en_US.UTF-8')"
     ],
     "language": "python",
     "metadata": {},
     "outputs": [],
     "prompt_number": 2
    },
    {
     "cell_type": "heading",
     "level": 2,
     "metadata": {},
     "source": [
      "Empirical data"
     ]
    },
    {
     "cell_type": "code",
     "collapsed": false,
     "input": [
      "storage = h5py.File('storage/flightsTest.h5', 'r')\n",
      "historical = h5py.File('storage/flightsTrain.h5', 'r')"
     ],
     "language": "python",
     "metadata": {},
     "outputs": [],
     "prompt_number": 3
    },
    {
     "cell_type": "heading",
     "level": 2,
     "metadata": {},
     "source": [
      "Main functions"
     ]
    },
    {
     "cell_type": "code",
     "collapsed": false,
     "input": [
      "def get_ticketPrices_route(dataset, flyFrom, flyTo, days=-1):\n",
      "    ticketPrices = pd.DataFrame(dataset[flyFrom][flyTo][:,1:43], dtype=np.float64)\n",
      "    ticketPrices[ticketPrices == 0] = np.nan\n",
      "    ticketPrices = ticketPrices.dropna(thresh=int(42*2/3)).ffill(axis=1)  # drop everythings that has less than 2/3 avilable data\n",
      "    \n",
      "    meanAtZero = ticketPrices[0].mean()\n",
      "    \n",
      "    if days != -1:\n",
      "        ticketPrices = ticketPrices.ix[:,days:days+3]\n",
      "\n",
      "    meanTicketPrice = ticketPrices.mean().mean()\n",
      "    ticketPrices = ticketPrices.fillna(meanAtZero*3)\n",
      "\n",
      "    return ticketPrices, meanTicketPrice"
     ],
     "language": "python",
     "metadata": {},
     "outputs": [],
     "prompt_number": 4
    },
    {
     "cell_type": "code",
     "collapsed": false,
     "input": [
      "def get_ticketPrices(dataset, flyFrom, flyTo, days=-1):\n",
      "    \"\"\"\n",
      "    returns cleaned up ticketPrices AND meanTicketPrice in whole $'s (for sell-outs)\n",
      "    \n",
      "    dataset: data to get prices from (historical/current)\n",
      "    flyFrom: outbound airport\n",
      "    flyTo: inbound airport\n",
      "    \"\"\"\n",
      "    \n",
      "    # return stack of all prices of all routes\n",
      "    if flyFrom == 'all_prices':\n",
      "        cp = None\n",
      "        mtp = 0\n",
      "    \n",
      "        for ff in dataset.keys():\n",
      "            for ft in dataset[ff].keys():\n",
      "                if not cp:\n",
      "                    cp, mtp = get_ticketPrices_route(dataset, ff, ft, days)\n",
      "                    mtp *= cp.shape[0]\n",
      "                else:\n",
      "                    tmp_cp, tmp_mtp = get_ticketPrices_route(dataset, ff, ft, days)\n",
      "                    mtp += tmp_mtp * tmp_cp.shape[0]\n",
      "                    cp = cp.append(tmp_cp, ignore_index=True)\n",
      "                    \n",
      "        mtp /= cp.shape[0]\n",
      "        print days, mtp\n",
      "        return cp, mtp\n",
      "\n",
      "    else:\n",
      "        return get_ticketPrices_route(dataset, flyFrom, flyTo, days)"
     ],
     "language": "python",
     "metadata": {},
     "outputs": [],
     "prompt_number": 5
    },
    {
     "cell_type": "heading",
     "level": 4,
     "metadata": {},
     "source": [
      "Customer's WTP"
     ]
    },
    {
     "cell_type": "code",
     "collapsed": false,
     "input": [
      "# The parameter R for x=1 and markdown is between 1.00 and 1.49 => Rs[1+ (markup %/100)]\n",
      "Rs = [1000000000, 12.496666311036584, 6.243330486502654, 4.156657048524223, 3.111643834528778,\n",
      "      2.4832886546651745, 2.063255948942078, 1.7622577296977648, 1.5356488092930582, 1.3586252017993312,\n",
      "      1.21630347633149, 1.0992113649150326, 1.0010330590733996, 0.9173951312452584, 0.8451727678126469,\n",
      "      0.7820735007721652, 0.72637703142226, 0.6767668718147107, 0.632218095883475, 0.5919205269639431,\n",
      "      0.5552249575307869, 0.5216047221664799, 0.49062773690364747, 0.4619358176240307, 0.43522915239997745,\n",
      "      0.4102544824821221, 0.3867959911697954, 0.3646681962405325, 0.34371034293279795, 0.3237819336016499,\n",
      "      0.30475912803497585, 0.2865318186536202, 0.26900123654074615, 0.2520779837865172, 0.23568041961942612,\n",
      "      0.21973335580872078, 0.204167043719119, 0.1889164631635722, 0.17392095198121899, 0.15912424089741475,\n",
      "      0.14447496735003168, 0.12992770512360183, 0.11544441531556111, 0.10099595331805158, 0.08656290307799419,\n",
      "      0.07213485129383752, 0.057707804116745684, 0.043280851232438425, 0.028853900817779332, 0.014426950408889647]\n",
      "\n",
      "def get_customerWTP(hp, cp, r, m, p_f):\n",
      "    \"\"\"\n",
      "    Calculate the customer's Willingness To Pay\n",
      "\n",
      "    hp: historical price information\n",
      "    cp: current price information\n",
      "    r: used for risk utility curve: customer is willing to pay 1+(r/100) times more for security\n",
      "    m: option's number of days to maturity\n",
      "    p_f: probability of flying\n",
      "    \"\"\"\n",
      "    \n",
      "    R = Rs[r]  # at a markup of 1.(r/100)\n",
      "\n",
      "    # calculate customer's predictions combined with utility\n",
      "    hpMaturity = hp.T.shift(m).T  # shift along axis does not seem to work\n",
      "    retMaturity = hpMaturity/hp\n",
      "    V = np.log(np.exp(retMaturity/R).mean())*R  # Vector that incorperates utility function and expected inc/decr of fare\n",
      "\n",
      "    custBuy = (1 - p_f) * cp  # costs of buying the ticket now\n",
      "    custWait = p_f * (cp*V - cp)  # costs of waiting till maturity\n",
      "\n",
      "    custWTP = np.minimum(custBuy, custWait)  # maximum price customer is accepting\n",
      "\n",
      "    \n",
      "    # max option price = 15% of current ticket price\n",
      "    custWTP = np.minimum(custWTP, cp*0.15)\n",
      "\n",
      "    return custWTP"
     ],
     "language": "python",
     "metadata": {},
     "outputs": [],
     "prompt_number": 6
    },
    {
     "cell_type": "heading",
     "level": 4,
     "metadata": {},
     "source": [
      "Create LaTeX table"
     ]
    },
    {
     "cell_type": "code",
     "collapsed": false,
     "input": [
      "def get_priceTableSegment(data):\n",
      "    pricetable = \"\"\n",
      "    for d in data:\n",
      "        pricetable += \"{r:3.d}  &  {p_f:3.2f}  &  {mtp:6.0f}  &  {optionPrice:6.2f}  &  {optionPricePerc:5.2f}  &  {optionProfits:6.2f}  &  {optionProfitsPerc:6.2f}  &  {percSold:6.2f} \\\\\\\\\\n\".format(**d)\n",
      "    \n",
      "    return pricetable"
     ],
     "language": "python",
     "metadata": {},
     "outputs": [],
     "prompt_number": 17
    },
    {
     "cell_type": "heading",
     "level": 2,
     "metadata": {},
     "source": [
      "Simulation models"
     ]
    },
    {
     "cell_type": "heading",
     "level": 4,
     "metadata": {},
     "source": [
      "Option simulation"
     ]
    },
    {
     "cell_type": "code",
     "collapsed": false,
     "input": [
      "def run_optionSimulation(cp, custWTP, sellerWTA, m, p_f, trials=150, allKnowing=False):\n",
      "    \"\"\"\n",
      "    Run the simulation\n",
      "    \n",
      "    cp: current price information\n",
      "    mtp: mean ticket price\n",
      "    custWTP: customer's Willingness To Pay\n",
      "    sellerWTA: seller's Willingness To Accept\n",
      "    p_f: probability of flying\n",
      "    trials: number of times to run simulation\n",
      "    allKnowing: is the seller allKnowing (i.e., does he know whether customer is going to fly in advance)?\n",
      "    \n",
      "    returns: \n",
      "    \"\"\"\n",
      "\n",
      "    totalSold = 1  # set to one because of DivideByZero\n",
      "    sellerCosts = []\n",
      "    sellerProfits = []\n",
      "    optionProfits = []\n",
      "    \n",
      "    fareIncr = cp.T.shift(m).T - cp\n",
      "    \n",
      "    for t in xrange(trials):\n",
      "        custFly = np.random.binomial(1, p_f, custWTP.shape)  # generate binominal array: is the customer going to fly at maturity?\n",
      "\n",
      "        if allKnowing:\n",
      "            sellerWTA_tmp = sellerWTA * custFly  # all knowing seller accepts option prices > 0 for customer's how will not fly\n",
      "        else:\n",
      "            sellerWTA_tmp = sellerWTA * p_f  # if NOT all knowing, minimum WTA is times the probability of flying\n",
      "\n",
      "        offerOption = custWTP.gt(sellerWTA_tmp)  # seller offers option when WTP > WTA\n",
      "        \n",
      "        totalSold += offerOption.sum().sum()\n",
      "        \n",
      "        costs = np.maximum(0, (fareIncr * custFly) * offerOption)\n",
      "        profits = (custWTP * offerOption) - costs\n",
      "        \n",
      "        sellerCosts.append(costs.sum().sum())\n",
      "        sellerProfits.append(profits.sum().sum())\n",
      "        optionProfits.append((profits/cp).mean().mean())  # mean relative profits per option\n",
      "\n",
      "    return mean(sellerProfits), mean(sellerCosts), totalSold/trials, totalSold/(cp.shape[0]*(cp.shape[1]-m))/trials, mean(optionProfits)"
     ],
     "language": "python",
     "metadata": {},
     "outputs": [],
     "prompt_number": 8
    },
    {
     "cell_type": "code",
     "collapsed": false,
     "input": [
      "def run_allSimulation(sellerWTA_f, custWTP_f, p_fRange=None, r=10, allKnowing=False):\n",
      "    \"\"\"\n",
      "    return priceTable str for LaTeX with statistics on ALL airport combinations\n",
      "    \n",
      "    sellerWTA_f: function ref which returns seller's WTA\n",
      "        see run_singleSimulation\n",
      "    custWTP_f: function ref which returns customer's WTP\n",
      "        see run_singleSimulation\n",
      "    pf_Range: list with p_f's to consider\n",
      "    r: risk aversity = 1+(1/r)\n",
      "    allKnowing: is seller all knowing?\n",
      "    \"\"\"\n",
      "    \n",
      "    data = []\n",
      "    \n",
      "    # run simulation for every available airport combination\n",
      "    n = 1\n",
      "    for flyFrom in storage.keys():\n",
      "        for flyTo in storage[flyFrom].keys():\n",
      "            print('[%02d/%d] %s > %s...' % (n, 22, flyFrom, flyTo)),\n",
      "\n",
      "            data += run_singleSimulation(flyFrom, flyTo, sellerWTA_f, custWTP_f, p_fRange, r, allKnowing)\n",
      "            print('done')\n",
      "            n += 1\n",
      "    print\n",
      "\n",
      "    return data\n",
      "\n",
      "\n",
      "def run_singleSimulation(flyFrom, flyTo, sellerWTA_f, custWTP_f, p_fRange=None, r=10, allKnowing=False, days=-1):\n",
      "    \"\"\"\n",
      "    return priceTable row for specific route\n",
      "    \n",
      "    sellerWTA_f: function ref which returns seller's WTA\n",
      "        hp: historical prices\n",
      "        cp: current prices\n",
      "        m: maturity\n",
      "    custWTP_f: function ref which returns customer's WTP\n",
      "        hp: historical prices\n",
      "        cp: current prices\n",
      "        r: risk averion level\n",
      "        m: maturity\n",
      "        p_f: probability of flying0\n",
      "    pf_Range ([0.80, 0.85, 0.90, 0.95]): list with p_f's to consider\n",
      "    r: risk aversity = 1+(1/r)\n",
      "    allKnowing: is seller all knowing?\n",
      "    \"\"\"\n",
      "    \n",
      "    if p_fRange == None:\n",
      "        p_fRange = np.arange(0.1, 1.0, 0.05)\n",
      "    \n",
      "    priceTable = \"\"\n",
      "    \n",
      "    hp, _ = get_ticketPrices(historical, flyFrom, flyTo, days)\n",
      "    cp, mtp = get_ticketPrices(storage, flyFrom, flyTo, days)\n",
      "\n",
      "    # print flyFrom, flyTo\n",
      "    \n",
      "    data = []\n",
      "    \n",
      "    # *** DEBUG ***\n",
      "    for m in [3]: # range(1,22,3): #[3, 7, 14]:  # maturity in days\n",
      "        print m\n",
      "        for r in [10]:\n",
      "            print r\n",
      "            sellerWTA = sellerWTA_f(hp, cp, m)\n",
      "        \n",
      "            for p_f in p_fRange:\n",
      "                custWTP = custWTP_f(hp, cp, r=r, m=m, p_f=p_f)\n",
      "    \n",
      "                # *** DEBUG ***\n",
      "                totalProfits, totalCosts, totalSold, percSold, optionProfits = run_optionSimulation(cp, custWTP, sellerWTA, m=m, p_f=p_f, trials=100, allKnowing=allKnowing)\n",
      "                \n",
      "                #dict for storage of results\n",
      "                res = {'flyFrom': flyFrom, 'flyTo': flyTo, 'mtp': mtp/100, 'm': m, 'p_f': p_f, 'r': r}\n",
      "                \n",
      "                res['optionPrice'] = ((totalProfits+totalCosts)/totalSold/100)\n",
      "                res['optionPricePerc'] = res['optionPrice']/(mtp/100)*100\n",
      "                res['optionProfits'] = totalProfits\n",
      "                res['optionProfitsPerc'] = optionProfits*100\n",
      "                res['totalSold'] = totalSold\n",
      "                res['percSold'] = percSold*100\n",
      "                \n",
      "                data.append(res)\n",
      "    \n",
      "            #totalSold_a = np.array(totalSold_a)\n",
      "            #ps_a = np.array(ps_a)\n",
      "    \n",
      "            #v = zip(p_fRange, [mtp/100]*len(p_fRange), mp_a/100, mp_a/mtp*100, ps_a*100, [locale.format(\"%d\", x/100, grouping=True) for x in tsp_a])\n",
      "            #priceTable += get_priceTableSegment(flyFrom, flyTo, m, v)\n",
      "    return data"
     ],
     "language": "python",
     "metadata": {},
     "outputs": [],
     "prompt_number": 395
    },
    {
     "cell_type": "heading",
     "level": 3,
     "metadata": {},
     "source": [
      "Simulation for all knowing-seller"
     ]
    },
    {
     "cell_type": "code",
     "collapsed": false,
     "input": [
      "def get_sellerWTA_foreknowledge(hp, cp, m):\n",
      "    \"\"\"\n",
      "    Calculate  the seller's Willingness To Accept\n",
      "    \n",
      "    cp: current price information\n",
      "    m: option's number of days to maturity\n",
      "    \n",
      "    returns: \n",
      "    \"\"\"\n",
      "    cpMaturity = cp.T.shift(m).T\n",
      "    sellerWTA = np.maximum(0, cpMaturity - cp)  # minimum price seller is accepting\n",
      "    \n",
      "    return sellerWTA"
     ],
     "language": "python",
     "metadata": {},
     "outputs": [],
     "prompt_number": 10
    },
    {
     "cell_type": "code",
     "collapsed": false,
     "input": [
      "\n"
     ],
     "language": "python",
     "metadata": {},
     "outputs": [
      {
       "output_type": "stream",
       "stream": "stdout",
       "text": [
        "3.91006469727e-05\n"
       ]
      }
     ],
     "prompt_number": 74
    },
    {
     "cell_type": "code",
     "collapsed": false,
     "input": [
      "st = time.time()\n",
      "ak_results = run_singleSimulation('all_prices', '', get_sellerWTA_foreknowledge, get_customerWTP, allKnowing=True, p_fRange=None)#np.arange(0.1, 1, 0.05))\n",
      "#ak_results = run_allSimulation(get_sellerWTA_foreknowledge, get_customerWTP, allKnowing=True, p_fRange=[0.85]) #p_fRange=np.arange(0.1, 1, 0.05))\n",
      "print time.time() - st"
     ],
     "language": "python",
     "metadata": {},
     "outputs": [
      {
       "output_type": "stream",
       "stream": "stdout",
       "text": [
        "-1 51099.7176157\n",
        "-1"
       ]
      },
      {
       "output_type": "stream",
       "stream": "stdout",
       "text": [
        " 42030.7913206\n",
        "3\n",
        "10\n",
        "636.709224939"
       ]
      },
      {
       "output_type": "stream",
       "stream": "stdout",
       "text": [
        "\n"
       ]
      }
     ],
     "prompt_number": 396
    },
    {
     "cell_type": "code",
     "collapsed": false,
     "input": [
      "A = np.ndarray((1, len(ak_results)))\n",
      "y = np.ndarray(len(ak_results))\n",
      "\n",
      "for i in range(len(ak_results)):\n",
      "    s = ak_results[i]\n",
      "    A[:,i] = s['p_f']\n",
      "    y[i] = 100*((s['optionProfitsPerc']/100)/(s['percSold']/100))"
     ],
     "language": "python",
     "metadata": {},
     "outputs": [],
     "prompt_number": 397
    },
    {
     "cell_type": "code",
     "collapsed": false,
     "input": [
      "A"
     ],
     "language": "python",
     "metadata": {},
     "outputs": [
      {
       "metadata": {},
       "output_type": "pyout",
       "prompt_number": 399,
       "text": [
        "array([[ 0.1 ,  0.15,  0.2 ,  0.25,  0.3 ,  0.35,  0.4 ,  0.45,  0.5 ,\n",
        "         0.55,  0.6 ,  0.65,  0.7 ,  0.75,  0.8 ,  0.85,  0.9 ,  0.95]])"
       ]
      }
     ],
     "prompt_number": 399
    },
    {
     "cell_type": "code",
     "collapsed": false,
     "input": [
      "y"
     ],
     "language": "python",
     "metadata": {},
     "outputs": [
      {
       "metadata": {},
       "output_type": "pyout",
       "prompt_number": 398,
       "text": [
        "array([ 2.1746165 ,  3.19363836,  3.85254025,  4.44412284,  4.85948339,\n",
        "        5.19787551,  5.46544265,  5.68206487,  5.89143073,  6.09516363,\n",
        "        6.27375704,  6.38157698,  6.47186301,  6.55866073,  6.64149874,\n",
        "        6.70778766,  5.21006149,  3.48973721])"
       ]
      }
     ],
     "prompt_number": 398
    },
    {
     "cell_type": "code",
     "collapsed": false,
     "input": [
      "plot(A[0,:], y)"
     ],
     "language": "python",
     "metadata": {},
     "outputs": [
      {
       "metadata": {},
       "output_type": "pyout",
       "prompt_number": 402,
       "text": [
        "[<matplotlib.lines.Line2D at 0x75d97d0>]"
       ]
      },
      {
       "metadata": {},
       "output_type": "display_data",
       "png": "[encoded data removed]",
       "text": [
        "<matplotlib.figure.Figure at 0x75d8c90>"
       ]
      }
     ],
     "prompt_number": 402
    },
    {
     "cell_type": "code",
     "collapsed": false,
     "input": [
      "best = ak_results[:]"
     ],
     "language": "python",
     "metadata": {},
     "outputs": [],
     "prompt_number": 76
    },
    {
     "cell_type": "code",
     "collapsed": false,
     "input": [
      "best[0]"
     ],
     "language": "python",
     "metadata": {},
     "outputs": [
      {
       "metadata": {},
       "output_type": "pyout",
       "prompt_number": 88,
       "text": [
        "{'flyFrom': 'all_prices',\n",
        " 'flyTo': '',\n",
        " 'm': 3,\n",
        " 'mtp': 420.30791320570125,\n",
        " 'optionPrice': 3.311164649067726,\n",
        " 'optionPricePerc': 0.78779498197247178,\n",
        " 'optionProfits': 1204343401.8752418,\n",
        " 'optionProfitsPerc': 0.67351194842578022,\n",
        " 'p_f': 0.1,\n",
        " 'percSold': 94.645307181125446,\n",
        " 'r': 0,\n",
        " 'totalSold': 3651154.73}"
       ]
      }
     ],
     "prompt_number": 88
    },
    {
     "cell_type": "code",
     "collapsed": false,
     "input": [
      "x = []\n",
      "y = []\n",
      "\n",
      "for b in best:\n",
      "    x.append([b['m'], b['r'], b['p_f']*100])\n",
      "    y.append((b['optionProfitsPerc']/100)/(b['percSold']/100)*100)\n",
      "x = np.array(x)\n",
      "y = np.array(y)"
     ],
     "language": "python",
     "metadata": {},
     "outputs": [],
     "prompt_number": 341
    },
    {
     "cell_type": "code",
     "collapsed": false,
     "input": [
      "y"
     ],
     "language": "python",
     "metadata": {},
     "outputs": [
      {
       "metadata": {},
       "output_type": "pyout",
       "prompt_number": 346,
       "text": [
        "array([  0.71161684,   2.05021716,   3.23882978,   4.02335385,\n",
        "         3.7582149 ,   0.96662846,   2.77980829,   4.11973176,\n",
        "         4.88548392,   4.37327784,   2.17462959,   4.8596359 ,\n",
        "         5.89168335,   6.47198421,   5.21000325,   5.41973927,\n",
        "         7.24820133,   7.82947669,   8.32017359,   6.43222077,\n",
        "         1.61067749,   4.53213938,   6.18216984,   6.85813747,\n",
        "         5.50073834,   2.20587385,   5.60107414,   7.10872882,\n",
        "         7.63546684,   6.08958958,   4.70075379,   7.59611804,\n",
        "         8.76746439,   9.20512313,   7.12262536,   8.27120084,\n",
        "        10.42898759,  11.05829552,  11.25367901,   8.06191899,\n",
        "         3.13820012,   7.52195442,   9.09759686,   9.54548379,\n",
        "         7.36072619,   4.47447751,   8.75590563,  10.19285079,\n",
        "        10.65614608,   8.00523917,   7.20894781,  11.40410484,\n",
        "        12.21905129,  12.2851143 ,   8.18750207,  12.12560776,\n",
        "        14.28847613,  13.680787  ,  12.87329322,   8.18756864,\n",
        "         4.718413  ,  10.303729  ,  11.78459367,  11.98244823,\n",
        "         8.02606475,   6.70641397,  11.70115489,  12.90370081,\n",
        "        12.61137841,   8.02617647,  10.02632536,  14.02716368,\n",
        "        13.73427747,  12.82701399,   8.026097  ,  14.60980642,\n",
        "        14.35817077,  13.73369094,  12.82697047,   8.0261551 ])"
       ]
      }
     ],
     "prompt_number": 346
    },
    {
     "cell_type": "code",
     "collapsed": false,
     "input": [
      "from sklearn import linear_model\n",
      "clf = linear_model.LinearRegression()"
     ],
     "language": "python",
     "metadata": {},
     "outputs": [],
     "prompt_number": 347
    },
    {
     "cell_type": "code",
     "collapsed": false,
     "input": [
      "df.columns.names = [r'$m$', r'$RP$']\n",
      "\n",
      "df.index.names = [r'$P^f$']"
     ],
     "language": "python",
     "metadata": {},
     "outputs": [],
     "prompt_number": 322
    },
    {
     "cell_type": "code",
     "collapsed": false,
     "input": [
      "np.round(df/(10**9), 2)"
     ],
     "language": "python",
     "metadata": {},
     "outputs": [
      {
       "html": [
        "<div style=\"max-height:1000px;max-width:1500px;overflow:auto;\">\n",
        "<table border=\"1\" class=\"dataframe\">\n",
        "  <thead>\n",
        "    <tr>\n",
        "      <th>$m$</th>\n",
        "      <th colspan=\"4\" halign=\"left\">3 </th>\n",
        "      <th colspan=\"4\" halign=\"left\">7 </th>\n",
        "      <th colspan=\"4\" halign=\"left\">14</th>\n",
        "      <th colspan=\"4\" halign=\"left\">21</th>\n",
        "    </tr>\n",
        "    <tr>\n",
        "      <th>$RP$</th>\n",
        "      <th>0 </th>\n",
        "      <th>5 </th>\n",
        "      <th>10</th>\n",
        "      <th>15</th>\n",
        "      <th>0 </th>\n",
        "      <th>5 </th>\n",
        "      <th>10</th>\n",
        "      <th>15</th>\n",
        "      <th>0 </th>\n",
        "      <th>5 </th>\n",
        "      <th>10</th>\n",
        "      <th>15</th>\n",
        "      <th>0 </th>\n",
        "      <th>5 </th>\n",
        "      <th>10</th>\n",
        "      <th>15</th>\n",
        "    </tr>\n",
        "    <tr>\n",
        "      <th>$P^f$</th>\n",
        "      <th></th>\n",
        "      <th></th>\n",
        "      <th></th>\n",
        "      <th></th>\n",
        "      <th></th>\n",
        "      <th></th>\n",
        "      <th></th>\n",
        "      <th></th>\n",
        "      <th></th>\n",
        "      <th></th>\n",
        "      <th></th>\n",
        "      <th></th>\n",
        "      <th></th>\n",
        "      <th></th>\n",
        "      <th></th>\n",
        "      <th></th>\n",
        "    </tr>\n",
        "  </thead>\n",
        "  <tbody>\n",
        "    <tr>\n",
        "      <th>0.1</th>\n",
        "      <td> 1.20</td>\n",
        "      <td> 1.65</td>\n",
        "      <td> 3.79</td>\n",
        "      <td>  9.37</td>\n",
        "      <td> 2.25</td>\n",
        "      <td> 3.10</td>\n",
        "      <td>  6.73</td>\n",
        "      <td> 11.48</td>\n",
        "      <td> 3.20</td>\n",
        "      <td> 4.59</td>\n",
        "      <td>  7.39</td>\n",
        "      <td> 12.27</td>\n",
        "      <td> 3.40</td>\n",
        "      <td> 4.86</td>\n",
        "      <td> 7.26</td>\n",
        "      <td> 10.57</td>\n",
        "    </tr>\n",
        "    <tr>\n",
        "      <th>0.3</th>\n",
        "      <td> 3.25</td>\n",
        "      <td> 4.49</td>\n",
        "      <td> 8.02</td>\n",
        "      <td> 11.74</td>\n",
        "      <td> 5.88</td>\n",
        "      <td> 7.30</td>\n",
        "      <td>  9.87</td>\n",
        "      <td> 13.44</td>\n",
        "      <td> 6.93</td>\n",
        "      <td> 8.11</td>\n",
        "      <td> 10.65</td>\n",
        "      <td> 13.34</td>\n",
        "      <td> 6.61</td>\n",
        "      <td> 7.56</td>\n",
        "      <td> 9.18</td>\n",
        "      <td>  9.40</td>\n",
        "    </tr>\n",
        "    <tr>\n",
        "      <th>0.5</th>\n",
        "      <td> 4.92</td>\n",
        "      <td> 6.41</td>\n",
        "      <td> 9.22</td>\n",
        "      <td> 12.13</td>\n",
        "      <td> 7.48</td>\n",
        "      <td> 8.63</td>\n",
        "      <td> 10.71</td>\n",
        "      <td> 13.51</td>\n",
        "      <td> 7.69</td>\n",
        "      <td> 8.70</td>\n",
        "      <td> 10.56</td>\n",
        "      <td> 11.86</td>\n",
        "      <td> 6.80</td>\n",
        "      <td> 7.57</td>\n",
        "      <td> 8.09</td>\n",
        "      <td>  8.09</td>\n",
        "    </tr>\n",
        "    <tr>\n",
        "      <th>0.7</th>\n",
        "      <td> 5.92</td>\n",
        "      <td> 7.30</td>\n",
        "      <td> 9.72</td>\n",
        "      <td> 12.46</td>\n",
        "      <td> 7.84</td>\n",
        "      <td> 8.79</td>\n",
        "      <td> 10.72</td>\n",
        "      <td> 13.15</td>\n",
        "      <td> 7.51</td>\n",
        "      <td> 8.50</td>\n",
        "      <td>  9.88</td>\n",
        "      <td> 10.37</td>\n",
        "      <td> 6.29</td>\n",
        "      <td> 6.66</td>\n",
        "      <td> 6.78</td>\n",
        "      <td>  6.78</td>\n",
        "    </tr>\n",
        "    <tr>\n",
        "      <th>0.9</th>\n",
        "      <td> 5.16</td>\n",
        "      <td> 6.03</td>\n",
        "      <td> 7.19</td>\n",
        "      <td>  8.85</td>\n",
        "      <td> 5.66</td>\n",
        "      <td> 6.28</td>\n",
        "      <td>  7.34</td>\n",
        "      <td>  8.29</td>\n",
        "      <td> 4.88</td>\n",
        "      <td> 5.30</td>\n",
        "      <td>  5.42</td>\n",
        "      <td>  5.42</td>\n",
        "      <td> 3.28</td>\n",
        "      <td> 3.28</td>\n",
        "      <td> 3.28</td>\n",
        "      <td>  3.28</td>\n",
        "    </tr>\n",
        "  </tbody>\n",
        "</table>\n",
        "</div>"
       ],
       "metadata": {},
       "output_type": "pyout",
       "prompt_number": 327,
       "text": [
        "$m$      3                        7                         14               \\\n",
        "$RP$     0     5     10     15    0     5      10     15    0     5      10   \n",
        "$P^f$                                                                         \n",
        "0.1    1.20  1.65  3.79   9.37  2.25  3.10   6.73  11.48  3.20  4.59   7.39   \n",
        "0.3    3.25  4.49  8.02  11.74  5.88  7.30   9.87  13.44  6.93  8.11  10.65   \n",
        "0.5    4.92  6.41  9.22  12.13  7.48  8.63  10.71  13.51  7.69  8.70  10.56   \n",
        "0.7    5.92  7.30  9.72  12.46  7.84  8.79  10.72  13.15  7.51  8.50   9.88   \n",
        "0.9    5.16  6.03  7.19   8.85  5.66  6.28   7.34   8.29  4.88  5.30   5.42   \n",
        "\n",
        "$m$             21                     \n",
        "$RP$      15    0     5     10     15  \n",
        "$P^f$                                  \n",
        "0.1    12.27  3.40  4.86  7.26  10.57  \n",
        "0.3    13.34  6.61  7.56  9.18   9.40  \n",
        "0.5    11.86  6.80  7.57  8.09   8.09  \n",
        "0.7    10.37  6.29  6.66  6.78   6.78  \n",
        "0.9     5.42  3.28  3.28  3.28   3.28  "
       ]
      }
     ],
     "prompt_number": 327
    },
    {
     "cell_type": "code",
     "collapsed": false,
     "input": [
      "import statsmodels.api as sm\n",
      "\n",
      "x = []\n",
      "y = []\n",
      "\n",
      "for b in best:\n",
      "    x.append([b['m'], b['r'], b['p_f']*100])\n",
      "    y.append((b['optionProfitsPerc']/100)/(b['percSold']/100)*100)\n",
      "x = np.array(x).T\n",
      "y = np.array(y)\n",
      "\n",
      "\n",
      "\n",
      "g = reg_m(y, x)\n",
      "\n",
      "def reg_m(y, x):\n",
      "    ones = np.ones(len(x[0]))\n",
      "    X = sm.add_constant(np.column_stack((x[0], ones)))\n",
      "    for ele in x[1:]:\n",
      "        X = sm.add_constant(np.column_stack((ele, X)))\n",
      "    results = sm.OLS(y, X).fit()\n",
      "    return results"
     ],
     "language": "python",
     "metadata": {},
     "outputs": [],
     "prompt_number": 368
    },
    {
     "cell_type": "code",
     "collapsed": false,
     "input": [
      "xx = np.vstack([np.ones(x.shape[1]), x])"
     ],
     "language": "python",
     "metadata": {},
     "outputs": [],
     "prompt_number": 375
    },
    {
     "cell_type": "code",
     "collapsed": false,
     "input": [
      "V = g.params"
     ],
     "language": "python",
     "metadata": {},
     "outputs": [],
     "prompt_number": 370
    },
    {
     "cell_type": "code",
     "collapsed": false,
     "input": [
      "print xx.shape, V.shape"
     ],
     "language": "python",
     "metadata": {},
     "outputs": [
      {
       "output_type": "stream",
       "stream": "stdout",
       "text": [
        "(4, 80) (4,)\n"
       ]
      }
     ],
     "prompt_number": 376
    },
    {
     "cell_type": "code",
     "collapsed": false,
     "input": [
      "np.dot(xx.T,V)"
     ],
     "language": "python",
     "metadata": {},
     "outputs": [
      {
       "metadata": {},
       "output_type": "pyout",
       "prompt_number": 377,
       "text": [
        "array([ 10.0914953 ,  28.47684398,  46.86219267,  65.24754136,\n",
        "        83.63289005,  11.86270205,  30.24805073,  48.63339942,\n",
        "        67.01874811,  85.4040968 ,  13.6339088 ,  32.01925749,\n",
        "        50.40460617,  68.78995486,  87.17530355,  15.40511555,\n",
        "        33.79046424,  52.17581292,  70.56116161,  88.9465103 ,\n",
        "        11.26515072,  29.65049941,  48.0358481 ,  66.42119679,\n",
        "        84.80654548,  13.03635747,  31.42170616,  49.80705485,\n",
        "        68.19240354,  86.57775223,  14.80756422,  33.19291291,\n",
        "        51.5782616 ,  69.96361029,  88.34895898,  16.57877097,\n",
        "        34.96411966,  53.34946835,  71.73481704,  90.12016573,\n",
        "        13.31904772,  31.70439641,  50.08974509,  68.47509378,\n",
        "        86.86044247,  15.09025447,  33.47560316,  51.86095185,\n",
        "        70.24630053,  88.63164922,  16.86146122,  35.24680991,\n",
        "        53.6321586 ,  72.01750728,  90.40285597,  18.63266797,\n",
        "        37.01801666,  55.40336535,  73.78871403,  92.17406272,\n",
        "        15.37294471,  33.7582934 ,  52.14364209,  70.52899078,\n",
        "        88.91433947,  17.14415146,  35.52950015,  53.91484884,\n",
        "        72.30019753,  90.68554622,  18.91535821,  37.3007069 ,\n",
        "        55.68605559,  74.07140428,  92.45675297,  20.68656496,\n",
        "        39.07191365,  57.45726234,  75.84261103,  94.22795972])"
       ]
      }
     ],
     "prompt_number": 377
    },
    {
     "cell_type": "code",
     "collapsed": false,
     "input": [
      "y"
     ],
     "language": "python",
     "metadata": {},
     "outputs": [
      {
       "metadata": {},
       "output_type": "pyout",
       "prompt_number": 378,
       "text": [
        "array([  0.71161684,   2.05021716,   3.23882978,   4.02335385,\n",
        "         3.7582149 ,   0.96662846,   2.77980829,   4.11973176,\n",
        "         4.88548392,   4.37327784,   2.17462959,   4.8596359 ,\n",
        "         5.89168335,   6.47198421,   5.21000325,   5.41973927,\n",
        "         7.24820133,   7.82947669,   8.32017359,   6.43222077,\n",
        "         1.61067749,   4.53213938,   6.18216984,   6.85813747,\n",
        "         5.50073834,   2.20587385,   5.60107414,   7.10872882,\n",
        "         7.63546684,   6.08958958,   4.70075379,   7.59611804,\n",
        "         8.76746439,   9.20512313,   7.12262536,   8.27120084,\n",
        "        10.42898759,  11.05829552,  11.25367901,   8.06191899,\n",
        "         3.13820012,   7.52195442,   9.09759686,   9.54548379,\n",
        "         7.36072619,   4.47447751,   8.75590563,  10.19285079,\n",
        "        10.65614608,   8.00523917,   7.20894781,  11.40410484,\n",
        "        12.21905129,  12.2851143 ,   8.18750207,  12.12560776,\n",
        "        14.28847613,  13.680787  ,  12.87329322,   8.18756864,\n",
        "         4.718413  ,  10.303729  ,  11.78459367,  11.98244823,\n",
        "         8.02606475,   6.70641397,  11.70115489,  12.90370081,\n",
        "        12.61137841,   8.02617647,  10.02632536,  14.02716368,\n",
        "        13.73427747,  12.82701399,   8.026097  ,  14.60980642,\n",
        "        14.35817077,  13.73369094,  12.82697047,   8.0261551 ])"
       ]
      }
     ],
     "prompt_number": 378
    },
    {
     "cell_type": "code",
     "collapsed": false,
     "input": [
      "ss.pearsonr(np.dot(xx.T,V), y)"
     ],
     "language": "python",
     "metadata": {},
     "outputs": [
      {
       "metadata": {},
       "output_type": "pyout",
       "prompt_number": 379,
       "text": [
        "(0.2321675601328077, 0.038237955482689268)"
       ]
      }
     ],
     "prompt_number": 379
    },
    {
     "cell_type": "code",
     "collapsed": false,
     "input": [
      "scatter(x, y, label='Original data')\n",
      "#scatter(x, [0.00919267, 0.00354241,  0.00293414,  0.01857938]*x, 'r', label='Fitted line')"
     ],
     "language": "python",
     "metadata": {},
     "outputs": [
      {
       "ename": "ValueError",
       "evalue": "x and y must be the same size",
       "output_type": "pyerr",
       "traceback": [
        "\u001b[1;31m---------------------------------------------------------------------------\u001b[0m\n\u001b[1;31mValueError\u001b[0m                                Traceback (most recent call last)",
        "\u001b[1;32m<ipython-input-230-c941611a5a27>\u001b[0m in \u001b[0;36m<module>\u001b[1;34m()\u001b[0m\n\u001b[1;32m----> 1\u001b[1;33m \u001b[0mscatter\u001b[0m\u001b[1;33m(\u001b[0m\u001b[0mx\u001b[0m\u001b[1;33m,\u001b[0m \u001b[0my\u001b[0m\u001b[1;33m,\u001b[0m \u001b[0mlabel\u001b[0m\u001b[1;33m=\u001b[0m\u001b[1;34m'Original data'\u001b[0m\u001b[1;33m)\u001b[0m\u001b[1;33m\u001b[0m\u001b[0m\n\u001b[0m\u001b[0;32m      2\u001b[0m \u001b[1;31m#scatter(x, [0.00919267, 0.00354241,  0.00293414,  0.01857938]*x, 'r', label='Fitted line')\u001b[0m\u001b[1;33m\u001b[0m\u001b[1;33m\u001b[0m\u001b[0m\n",
        "\u001b[1;32m/usr/lib/python2.7/site-packages/matplotlib/pyplot.pyc\u001b[0m in \u001b[0;36mscatter\u001b[1;34m(x, y, s, c, marker, cmap, norm, vmin, vmax, alpha, linewidths, verts, hold, **kwargs)\u001b[0m\n\u001b[0;32m   3085\u001b[0m         ret = ax.scatter(x, y, s=s, c=c, marker=marker, cmap=cmap, norm=norm,\n\u001b[0;32m   3086\u001b[0m                          \u001b[0mvmin\u001b[0m\u001b[1;33m=\u001b[0m\u001b[0mvmin\u001b[0m\u001b[1;33m,\u001b[0m \u001b[0mvmax\u001b[0m\u001b[1;33m=\u001b[0m\u001b[0mvmax\u001b[0m\u001b[1;33m,\u001b[0m \u001b[0malpha\u001b[0m\u001b[1;33m=\u001b[0m\u001b[0malpha\u001b[0m\u001b[1;33m,\u001b[0m\u001b[1;33m\u001b[0m\u001b[0m\n\u001b[1;32m-> 3087\u001b[1;33m                          linewidths=linewidths, verts=verts, **kwargs)\n\u001b[0m\u001b[0;32m   3088\u001b[0m         \u001b[0mdraw_if_interactive\u001b[0m\u001b[1;33m(\u001b[0m\u001b[1;33m)\u001b[0m\u001b[1;33m\u001b[0m\u001b[0m\n\u001b[0;32m   3089\u001b[0m     \u001b[1;32mfinally\u001b[0m\u001b[1;33m:\u001b[0m\u001b[1;33m\u001b[0m\u001b[0m\n",
        "\u001b[1;32m/usr/lib/python2.7/site-packages/matplotlib/axes.pyc\u001b[0m in \u001b[0;36mscatter\u001b[1;34m(self, x, y, s, c, marker, cmap, norm, vmin, vmax, alpha, linewidths, verts, **kwargs)\u001b[0m\n\u001b[0;32m   6254\u001b[0m         \u001b[0my\u001b[0m \u001b[1;33m=\u001b[0m \u001b[0mnp\u001b[0m\u001b[1;33m.\u001b[0m\u001b[0mma\u001b[0m\u001b[1;33m.\u001b[0m\u001b[0mravel\u001b[0m\u001b[1;33m(\u001b[0m\u001b[0my\u001b[0m\u001b[1;33m)\u001b[0m\u001b[1;33m\u001b[0m\u001b[0m\n\u001b[0;32m   6255\u001b[0m         \u001b[1;32mif\u001b[0m \u001b[0mx\u001b[0m\u001b[1;33m.\u001b[0m\u001b[0msize\u001b[0m \u001b[1;33m!=\u001b[0m \u001b[0my\u001b[0m\u001b[1;33m.\u001b[0m\u001b[0msize\u001b[0m\u001b[1;33m:\u001b[0m\u001b[1;33m\u001b[0m\u001b[0m\n\u001b[1;32m-> 6256\u001b[1;33m             \u001b[1;32mraise\u001b[0m \u001b[0mValueError\u001b[0m\u001b[1;33m(\u001b[0m\u001b[1;34m\"x and y must be the same size\"\u001b[0m\u001b[1;33m)\u001b[0m\u001b[1;33m\u001b[0m\u001b[0m\n\u001b[0m\u001b[0;32m   6257\u001b[0m \u001b[1;33m\u001b[0m\u001b[0m\n\u001b[0;32m   6258\u001b[0m         \u001b[0ms\u001b[0m \u001b[1;33m=\u001b[0m \u001b[0mnp\u001b[0m\u001b[1;33m.\u001b[0m\u001b[0mma\u001b[0m\u001b[1;33m.\u001b[0m\u001b[0mravel\u001b[0m\u001b[1;33m(\u001b[0m\u001b[0ms\u001b[0m\u001b[1;33m)\u001b[0m  \u001b[1;31m# This doesn't have to match x, y in size.\u001b[0m\u001b[1;33m\u001b[0m\u001b[0m\n",
        "\u001b[1;31mValueError\u001b[0m: x and y must be the same size"
       ]
      },
      {
       "metadata": {},
       "output_type": "display_data",
       "png": "[encoded data removed]",
       "text": [
        "<matplotlib.figure.Figure at 0x10179210>"
       ]
      }
     ],
     "prompt_number": 230
    },
    {
     "cell_type": "code",
     "collapsed": false,
     "input": [
      "from collections import defaultdict\n",
      "\n",
      "d = defaultdict(lambda: defaultdict(dict))\n",
      "\n",
      "for b in best:\n",
      "    d[b['m']][b['r']][b['p_f']] = (b['optionProfitsPerc']/100)/(b['percSold']/100)\n"
     ],
     "language": "python",
     "metadata": {},
     "outputs": [],
     "prompt_number": 333
    },
    {
     "cell_type": "code",
     "collapsed": false,
     "input": [
      "d_collapsed = {(outer_k, inner_k): inner_v for outer_k in d \n",
      "               for inner_k, inner_v in d[outer_k].items()}\n",
      "df = pd.DataFrame.from_dict(d_collapsed)\n",
      "print df.columns\n",
      "df.columns = pd.MultiIndex.from_tuples(df.columns)"
     ],
     "language": "python",
     "metadata": {},
     "outputs": [
      {
       "output_type": "stream",
       "stream": "stdout",
       "text": [
        "Index([(3, 0), (3, 5), (3, 10), (3, 15), (7, 0), (7, 5), (7, 10), (7, 15), (14, 0), (14, 5), (14, 10), (14, 15), (21, 0), (21, 5), (21, 10), (21, 15)], dtype=object)\n"
       ]
      }
     ],
     "prompt_number": 334
    },
    {
     "cell_type": "code",
     "collapsed": false,
     "input": [
      "df"
     ],
     "language": "python",
     "metadata": {},
     "outputs": [
      {
       "html": [
        "<div style=\"max-height:1000px;max-width:1500px;overflow:auto;\">\n",
        "<table border=\"1\" class=\"dataframe\">\n",
        "  <thead>\n",
        "    <tr>\n",
        "      <th></th>\n",
        "      <th colspan=\"4\" halign=\"left\">3 </th>\n",
        "      <th colspan=\"4\" halign=\"left\">7 </th>\n",
        "      <th colspan=\"4\" halign=\"left\">14</th>\n",
        "      <th colspan=\"4\" halign=\"left\">21</th>\n",
        "    </tr>\n",
        "    <tr>\n",
        "      <th></th>\n",
        "      <th>0 </th>\n",
        "      <th>5 </th>\n",
        "      <th>10</th>\n",
        "      <th>15</th>\n",
        "      <th>0 </th>\n",
        "      <th>5 </th>\n",
        "      <th>10</th>\n",
        "      <th>15</th>\n",
        "      <th>0 </th>\n",
        "      <th>5 </th>\n",
        "      <th>10</th>\n",
        "      <th>15</th>\n",
        "      <th>0 </th>\n",
        "      <th>5 </th>\n",
        "      <th>10</th>\n",
        "      <th>15</th>\n",
        "    </tr>\n",
        "  </thead>\n",
        "  <tbody>\n",
        "    <tr>\n",
        "      <th>0.1</th>\n",
        "      <td> 0.007116</td>\n",
        "      <td> 0.009666</td>\n",
        "      <td> 0.021746</td>\n",
        "      <td> 0.054197</td>\n",
        "      <td> 0.016107</td>\n",
        "      <td> 0.022059</td>\n",
        "      <td> 0.047008</td>\n",
        "      <td> 0.082712</td>\n",
        "      <td> 0.031382</td>\n",
        "      <td> 0.044745</td>\n",
        "      <td> 0.072089</td>\n",
        "      <td> 0.121256</td>\n",
        "      <td> 0.047184</td>\n",
        "      <td> 0.067064</td>\n",
        "      <td> 0.100263</td>\n",
        "      <td> 0.146098</td>\n",
        "    </tr>\n",
        "    <tr>\n",
        "      <th>0.3</th>\n",
        "      <td> 0.020502</td>\n",
        "      <td> 0.027798</td>\n",
        "      <td> 0.048596</td>\n",
        "      <td> 0.072482</td>\n",
        "      <td> 0.045321</td>\n",
        "      <td> 0.056011</td>\n",
        "      <td> 0.075961</td>\n",
        "      <td> 0.104290</td>\n",
        "      <td> 0.075220</td>\n",
        "      <td> 0.087559</td>\n",
        "      <td> 0.114041</td>\n",
        "      <td> 0.142885</td>\n",
        "      <td> 0.103037</td>\n",
        "      <td> 0.117012</td>\n",
        "      <td> 0.140272</td>\n",
        "      <td> 0.143582</td>\n",
        "    </tr>\n",
        "    <tr>\n",
        "      <th>0.5</th>\n",
        "      <td> 0.032388</td>\n",
        "      <td> 0.041197</td>\n",
        "      <td> 0.058917</td>\n",
        "      <td> 0.078295</td>\n",
        "      <td> 0.061822</td>\n",
        "      <td> 0.071087</td>\n",
        "      <td> 0.087675</td>\n",
        "      <td> 0.110583</td>\n",
        "      <td> 0.090976</td>\n",
        "      <td> 0.101929</td>\n",
        "      <td> 0.122191</td>\n",
        "      <td> 0.136808</td>\n",
        "      <td> 0.117846</td>\n",
        "      <td> 0.129037</td>\n",
        "      <td> 0.137343</td>\n",
        "      <td> 0.137337</td>\n",
        "    </tr>\n",
        "    <tr>\n",
        "      <th>0.7</th>\n",
        "      <td> 0.040234</td>\n",
        "      <td> 0.048855</td>\n",
        "      <td> 0.064720</td>\n",
        "      <td> 0.083202</td>\n",
        "      <td> 0.068581</td>\n",
        "      <td> 0.076355</td>\n",
        "      <td> 0.092051</td>\n",
        "      <td> 0.112537</td>\n",
        "      <td> 0.095455</td>\n",
        "      <td> 0.106561</td>\n",
        "      <td> 0.122851</td>\n",
        "      <td> 0.128733</td>\n",
        "      <td> 0.119824</td>\n",
        "      <td> 0.126114</td>\n",
        "      <td> 0.128270</td>\n",
        "      <td> 0.128270</td>\n",
        "    </tr>\n",
        "    <tr>\n",
        "      <th>0.9</th>\n",
        "      <td> 0.037582</td>\n",
        "      <td> 0.043733</td>\n",
        "      <td> 0.052100</td>\n",
        "      <td> 0.064322</td>\n",
        "      <td> 0.055007</td>\n",
        "      <td> 0.060896</td>\n",
        "      <td> 0.071226</td>\n",
        "      <td> 0.080619</td>\n",
        "      <td> 0.073607</td>\n",
        "      <td> 0.080052</td>\n",
        "      <td> 0.081875</td>\n",
        "      <td> 0.081876</td>\n",
        "      <td> 0.080261</td>\n",
        "      <td> 0.080262</td>\n",
        "      <td> 0.080261</td>\n",
        "      <td> 0.080262</td>\n",
        "    </tr>\n",
        "  </tbody>\n",
        "</table>\n",
        "</div>"
       ],
       "metadata": {},
       "output_type": "pyout",
       "prompt_number": 335,
       "text": [
        "           3                                       7                       \\\n",
        "           0         5         10        15        0         5         10   \n",
        "0.1  0.007116  0.009666  0.021746  0.054197  0.016107  0.022059  0.047008   \n",
        "0.3  0.020502  0.027798  0.048596  0.072482  0.045321  0.056011  0.075961   \n",
        "0.5  0.032388  0.041197  0.058917  0.078295  0.061822  0.071087  0.087675   \n",
        "0.7  0.040234  0.048855  0.064720  0.083202  0.068581  0.076355  0.092051   \n",
        "0.9  0.037582  0.043733  0.052100  0.064322  0.055007  0.060896  0.071226   \n",
        "\n",
        "                     14                                      21            \\\n",
        "           15        0         5         10        15        0         5    \n",
        "0.1  0.082712  0.031382  0.044745  0.072089  0.121256  0.047184  0.067064   \n",
        "0.3  0.104290  0.075220  0.087559  0.114041  0.142885  0.103037  0.117012   \n",
        "0.5  0.110583  0.090976  0.101929  0.122191  0.136808  0.117846  0.129037   \n",
        "0.7  0.112537  0.095455  0.106561  0.122851  0.128733  0.119824  0.126114   \n",
        "0.9  0.080619  0.073607  0.080052  0.081875  0.081876  0.080261  0.080262   \n",
        "\n",
        "                         \n",
        "           10        15  \n",
        "0.1  0.100263  0.146098  \n",
        "0.3  0.140272  0.143582  \n",
        "0.5  0.137343  0.137337  \n",
        "0.7  0.128270  0.128270  \n",
        "0.9  0.080261  0.080262  "
       ]
      }
     ],
     "prompt_number": 335
    },
    {
     "cell_type": "code",
     "collapsed": false,
     "input": [
      "V"
     ],
     "language": "python",
     "metadata": {},
     "outputs": [
      {
       "metadata": {},
       "output_type": "pyout",
       "prompt_number": 336,
       "text": [
        "array([ 0.01857938,  0.00293414,  0.00354241,  0.00919267])"
       ]
      }
     ],
     "prompt_number": 336
    },
    {
     "cell_type": "code",
     "collapsed": false,
     "input": [
      "a = df[3]"
     ],
     "language": "python",
     "metadata": {},
     "outputs": [],
     "prompt_number": 171
    },
    {
     "cell_type": "code",
     "collapsed": false,
     "input": [
      "df.values"
     ],
     "language": "python",
     "metadata": {},
     "outputs": [
      {
       "metadata": {},
       "output_type": "pyout",
       "prompt_number": 207,
       "text": [
        "array([[  1.20434340e+09,   1.64955811e+09,   3.79221735e+09,\n",
        "          9.36842369e+09,   2.24974415e+09,   3.10338016e+09,\n",
        "          6.72601714e+09,   1.14842505e+10,   3.19796297e+09,\n",
        "          4.59223140e+09,   7.38522223e+09,   1.22690256e+10,\n",
        "          3.40476462e+09,   4.86077199e+09,   7.25968233e+09,\n",
        "          1.05717558e+10],\n",
        "       [  3.25351350e+09,   4.48539174e+09,   8.01914323e+09,\n",
        "          1.17445203e+10,   5.88002948e+09,   7.29917943e+09,\n",
        "          9.87297145e+09,   1.34364346e+10,   6.93033782e+09,\n",
        "          8.10735984e+09,   1.06493410e+10,   1.33374138e+10,\n",
        "          6.60605518e+09,   7.55876809e+09,   9.18341715e+09,\n",
        "          9.40375749e+09],\n",
        "       [  4.92121343e+09,   6.40510743e+09,   9.21907582e+09,\n",
        "          1.21323703e+10,   7.48064991e+09,   8.63080744e+09,\n",
        "          1.07123585e+10,   1.35057787e+10,   7.68558297e+09,\n",
        "          8.70188333e+09,   1.05631804e+10,   1.18569734e+10,\n",
        "          6.79671527e+09,   7.56510692e+09,   8.09204111e+09,\n",
        "          8.09127107e+09],\n",
        "       [  5.92490585e+09,   7.29711112e+09,   9.71897404e+09,\n",
        "          1.24560527e+10,   7.84010411e+09,   8.79223695e+09,\n",
        "          1.07177600e+10,   1.31480934e+10,   7.50786845e+09,\n",
        "          8.49657526e+09,   9.88403285e+09,   1.03650634e+10,\n",
        "          6.28744557e+09,   6.66179528e+09,   6.77813187e+09,\n",
        "          6.77830488e+09],\n",
        "       [  5.16421968e+09,   6.03282862e+09,   7.19483393e+09,\n",
        "          8.85350502e+09,   5.66339347e+09,   6.27635211e+09,\n",
        "          7.34350058e+09,   8.28917785e+09,   4.88235963e+09,\n",
        "          5.30285126e+09,   5.41961091e+09,   5.41934606e+09,\n",
        "          3.28325824e+09,   3.28336263e+09,   3.28348782e+09,\n",
        "          3.28342938e+09]])"
       ]
      }
     ],
     "prompt_number": 207
    },
    {
     "cell_type": "code",
     "collapsed": false,
     "input": [
      "for ind in a.T.columns:\n",
      "    a.T[ind].plot()"
     ],
     "language": "python",
     "metadata": {},
     "outputs": [
      {
       "metadata": {},
       "output_type": "display_data",
       "png": "[encoded data removed]",
       "text": [
        "<matplotlib.figure.Figure at 0x10044bd0>"
       ]
      }
     ],
     "prompt_number": 175
    },
    {
     "cell_type": "code",
     "collapsed": false,
     "input": [
      "X, Y = np.meshgrid(r, p_f)\n",
      "Z = np.empty((len(r),len(p_f)))\n",
      "\n",
      "for i in range(Z.shape[0]):\n",
      "    for j in range(Z.shape[1]):\n",
      "        Z[i,j] = d[X[i,j]][Y[i,j]]"
     ],
     "language": "python",
     "metadata": {},
     "outputs": [],
     "prompt_number": 62
    },
    {
     "cell_type": "code",
     "collapsed": false,
     "input": [
      "import matplotlib.pyplot as plt\n",
      "from mpl_toolkits.mplot3d import Axes3D\n",
      "fig = plt.figure()\n",
      "ax = fig.add_subplot(111, projection='3d')\n",
      "ax.plot_surface(X,Y,Z)"
     ],
     "language": "python",
     "metadata": {},
     "outputs": [
      {
       "metadata": {},
       "output_type": "pyout",
       "prompt_number": 68,
       "text": [
        "<mpl_toolkits.mplot3d.art3d.Poly3DCollection at 0x5e217d0>"
       ]
      },
      {
       "metadata": {},
       "output_type": "display_data",
       "png": "[encoded data removed]",
       "text": [
        "<matplotlib.figure.Figure at 0x5cb0e10>"
       ]
      }
     ],
     "prompt_number": 68
    },
    {
     "cell_type": "code",
     "collapsed": false,
     "input": [
      "contour(X, Y, Z)\n",
      "ylabel(r'$P^f$')\n",
      "xlabel(r'RP')"
     ],
     "language": "python",
     "metadata": {},
     "outputs": [
      {
       "metadata": {},
       "output_type": "pyout",
       "prompt_number": 63,
       "text": [
        "<matplotlib.text.Text at 0x8247850>"
       ]
      },
      {
       "metadata": {},
       "output_type": "display_data",
       "png": "[encoded data removed]",
       "text": [
        "<matplotlib.figure.Figure at 0x540e8d0>"
       ]
      }
     ],
     "prompt_number": 63
    },
    {
     "cell_type": "code",
     "collapsed": false,
     "input": [
      "pref = /ak_results[:]"
     ],
     "language": "python",
     "metadata": {},
     "outputs": [],
     "prompt_number": 131
    },
    {
     "cell_type": "code",
     "collapsed": false,
     "input": [
      "print get_priceTableSegment(ak_results)"
     ],
     "language": "python",
     "metadata": {},
     "outputs": [
      {
       "output_type": "stream",
       "stream": "stdout",
       "text": [
        "all_prices  &    &     420  &    1.20  &   0.28  &  462837418.19  &    0.23  &   95.61 \\\\\n",
        "all_prices  &    &     420  &    3.60  &   0.86  &  1270789413.73  &    0.62  &   88.63 \\\\\n",
        "all_prices  &    &     420  &    6.04  &   1.44  &  1948861649.89  &    0.93  &   83.00 \\\\\n",
        "all_prices  &    &     420  &    8.57  &   2.04  &  2522115362.34  &    1.18  &   78.30 \\\\\n",
        "all_prices  &    &     420  &   10.94  &   2.60  &  2936409337.36  &    1.34  &   74.29 \\\\\n",
        "all_prices  &    &     420  &    1.67  &   0.40  &  646593353.06  &    0.32  &   95.83 \\\\\n",
        "all_prices  &    &     420  &    5.02  &   1.19  &  1784739344.21  &    0.87  &   89.58 \\\\\n",
        "all_prices  &    &     420  &    8.41  &   2.00  &  2761345580.75  &    1.32  &   85.13 \\\\\n",
        "all_prices  &    &     420  &   11.95  &   2.84  &  3618393931.37  &    1.70  &   81.64 \\\\\n",
        "all_prices  &    &     420  &   13.31  &   3.17  &  3765251016.55  &    1.76  &   78.11 \\\\\n",
        "all_prices  &    &     420  &    3.94  &   0.94  &  1524973780.40  &    0.74  &   96.12 \\\\\n",
        "all_prices  &    &     420  &   11.63  &   2.77  &  4148476302.23  &    2.00  &   91.19 \\\\\n",
        "all_prices  &    &     420  &   16.76  &   3.99  &  5609054297.59  &    2.69  &   87.81 \\\\\n",
        "all_prices  &    &     420  &   20.56  &   4.89  &  6490332131.79  &    3.12  &   84.87 \\\\\n",
        "all_prices  &    &     420  &   18.25  &   4.34  &  5382687247.37  &    2.59  &   80.82 \\\\\n",
        "all_prices  &    &     420  &   14.28  &   3.40  &  5548401104.51  &    2.72  &   96.84 \\\\\n",
        "all_prices  &    &     420  &   22.19  &   5.28  &  8111032434.43  &    3.98  &   93.18 \\\\\n",
        "all_prices  &    &     420  &   27.96  &   6.65  &  9725698571.50  &    4.80  &   90.55 \\\\\n",
        "all_prices  &    &     420  &   31.78  &   7.56  &  10501068331.77  &    5.19  &   87.97 \\\\\n",
        "all_prices  &    &     420  &   24.38  &   5.80  &  7484424372.47  &    3.72  &   83.53 \\\\\n",
        "\n"
       ]
      }
     ],
     "prompt_number": 136
    },
    {
     "cell_type": "code",
     "collapsed": false,
     "input": [
      "var = 'optionProfits'\n",
      "ak_a = []\n",
      "b_a = []\n",
      "\n",
      "for b in bs_results:\n",
      "    b_a.append(b[var])\n",
      "for ak in ak_results:\n",
      "    ak_a.append(ak[var])\n",
      "ak_a = np.array(ak_a)\n",
      "b_a = np.array(b_a)"
     ],
     "language": "python",
     "metadata": {},
     "outputs": [],
     "prompt_number": 560
    },
    {
     "cell_type": "code",
     "collapsed": false,
     "input": [
      "b_a"
     ],
     "language": "python",
     "metadata": {},
     "outputs": [
      {
       "metadata": {},
       "output_type": "pyout",
       "prompt_number": 565,
       "text": [
        "array([  -1.73936783,   -9.80917529,  -41.15624361,   -0.55146054,\n",
        "         -4.55454469,    2.50291969,   -1.10568689,   -3.01632062,\n",
        "        -15.11613915,    1.13930378,  -31.37443138,  -38.54706023,\n",
        "        179.20150311,   47.34283035,   -2.46877825,   14.15648591,\n",
        "          0.27760326,   84.22914784,   99.6700479 ,   -6.28490682,\n",
        "        -12.35819505,   -0.98406304])"
       ]
      }
     ],
     "prompt_number": 565
    },
    {
     "cell_type": "code",
     "collapsed": false,
     "input": [
      "ak_a"
     ],
     "language": "python",
     "metadata": {},
     "outputs": [
      {
       "metadata": {},
       "output_type": "pyout",
       "prompt_number": 572,
       "text": [
        "array([  13.3009055 ,   25.61829474,   27.90511137,    9.84207307,\n",
        "         14.29286432,   14.79927602,   12.72271309,    7.24488389,\n",
        "          9.27138854,    8.75626116,   15.86265356,   26.84795157,\n",
        "        189.39218672,  100.80918756,   12.33738428,   21.91502959,\n",
        "          9.10869294,   84.92667834,  127.22038698,    7.33071026,\n",
        "         13.86021771,   15.5423059 ])"
       ]
      }
     ],
     "prompt_number": 572
    },
    {
     "cell_type": "code",
     "collapsed": false,
     "input": [
      "c = b_a/ak_a"
     ],
     "language": "python",
     "metadata": {},
     "outputs": [],
     "prompt_number": 581
    },
    {
     "cell_type": "code",
     "collapsed": false,
     "input": [
      "for i in c:\n",
      "    print \"%5.2f\" % (i*100)"
     ],
     "language": "python",
     "metadata": {},
     "outputs": [
      {
       "output_type": "stream",
       "stream": "stdout",
       "text": [
        "-13.08\n",
        "-38.29\n",
        "-147.49\n",
        "-5.60\n",
        "-31.87\n",
        "16.91\n",
        "-8.69\n",
        "-41.63\n",
        "-163.04\n",
        "13.01\n",
        "-197.79\n",
        "-143.58\n",
        "94.62\n",
        "46.96\n",
        "-20.01\n",
        "64.60\n",
        " 3.05\n",
        "99.18\n",
        "78.34\n",
        "-85.73\n",
        "-89.16\n",
        "-6.33\n"
       ]
      }
     ],
     "prompt_number": 586
    },
    {
     "cell_type": "heading",
     "level": 4,
     "metadata": {},
     "source": [
      "RP"
     ]
    },
    {
     "cell_type": "code",
     "collapsed": false,
     "input": [
      "fig, ax1 = plt.subplots()\n",
      "\n",
      "xi = array(range(0,15,2) + [15])\n",
      "ySold = [ 79.55571076,  80.50068201,  81.44565326,  82.39062451,  83.33559576, 84.28056701,  85.22553827,  86.17050952,  86.64299514]\n",
      "yPerc = [ 3.6241286,   4.36429234,  5.10445608,  5.84461982,  6.58478356,  7.3249473, 8.06511104,  8.80527478,  9.17535664]\n",
      "\n",
      "data = []\n",
      "for i in range(len(ak_results)):\n",
      "    data.append(ak_results[i]['optionPricePerc'])\n",
      "ax1.plot(range(0, 15, 2) + [15], data, 'ko', label='option price (%)')\n",
      "\n",
      "plot(xi, yPerc, 'k-', label=r'y = 3.62 + 0.37RP')\n",
      "legend(loc='upper left')\n",
      "ylabel('option price (%)')\n",
      "xlabel(r'risk parameter ($RP$)')\n",
      "\n",
      "data = []\n",
      "for i in range(len(ak_results)):\n",
      "    data.append(ak_results[i]['percSold'])\n",
      "ax2 = ax1.twinx()\n",
      "ax2.plot(range(0, 15, 2) + [15], data, 'k+', label='sold (%)')\n",
      "\n",
      "plot(xi, ySold, 'k--', label=r'y = 79.56 + 0.47RP')\n",
      "\n",
      "ylabel('sold (%)')\n",
      "legend(loc='lower right')\n",
      "savefig('/home/patrick/Thesis/ThesisTemplate/figures/OptionPrice_RP.png', dpi=200)"
     ],
     "language": "python",
     "metadata": {},
     "outputs": [
      {
       "metadata": {},
       "output_type": "display_data",
       "png": "[encoded data removed]",
       "text": [
        "<matplotlib.figure.Figure at 0x12afe6d0>"
       ]
      }
     ],
     "prompt_number": 404
    },
    {
     "cell_type": "heading",
     "level": 4,
     "metadata": {},
     "source": [
      "Likelihood of travelling"
     ]
    },
    {
     "cell_type": "code",
     "collapsed": false,
     "input": [
      "fig, ax1 = plt.subplots()\n",
      "\n",
      "data = []\n",
      "for i in range(len(ak_results)):\n",
      "    data.append(ak_results[i]['optionPricePerc'])\n",
      "ax1.plot(np.arange(0.1, 1, 0.05), data, 'k-', label='option price (%)')\n",
      "legend(loc='lower left')\n",
      "ylabel('option price (%)')\n",
      "xlabel(r'Likelihood of travelling ($P^f$)')\n",
      "ylim(1,11)\n",
      "\n",
      "data = []\n",
      "for i in range(len(ak_results)):\n",
      "    data.append(ak_results[i]['percSold'])\n",
      "ax2 = ax1.twinx()\n",
      "ax2.plot(np.arange(0.1, 1, 0.05), data, 'k--', label='sold (%)')\n",
      "\n",
      "ylabel('sold (%)')\n",
      "legend()\n",
      "xlim(0,1)\n",
      "#savefig('/home/patrick/Thesis/ThesisTemplate/figures/OptionPrice_Pf.png', dpi=400)"
     ],
     "language": "python",
     "metadata": {},
     "outputs": [
      {
       "metadata": {},
       "output_type": "display_data",
       "png": "[encoded data removed]",
       "text": [
        "<matplotlib.figure.Figure at 0xe7b4090>"
       ]
      }
     ],
     "prompt_number": 366
    },
    {
     "cell_type": "heading",
     "level": 4,
     "metadata": {},
     "source": [
      "Maturity"
     ]
    },
    {
     "cell_type": "code",
     "collapsed": false,
     "input": [
      "print popt"
     ],
     "language": "python",
     "metadata": {},
     "outputs": [
      {
       "output_type": "stream",
       "stream": "stdout",
       "text": [
        "[ 15.71378435  14.13549518]\n"
       ]
      }
     ],
     "prompt_number": 338
    },
    {
     "cell_type": "code",
     "collapsed": false,
     "input": [
      "fig, ax1 = plt.subplots()\n",
      "\n",
      "data = []\n",
      "for i in range(len(ak_results)):\n",
      "    data.append(ak_results[i]['optionPricePerc'])\n",
      "ax1.plot(range(1,22,2), data, 'ko', label='option price ($)')\n",
      "ax1.plot(range(0,22), [15]*22, 'k-')\n",
      "legend(loc='lower left')\n",
      "ylabel('option price ($)')\n",
      "xlabel(r'number of days till maturity ($m$)')\n",
      "yscale('linear')\n",
      "print data\n",
      "\n",
      "data = []\n",
      "for i in range(len(ak_results)):\n",
      "    data.append(ak_results[i]['percSold'])\n",
      "ax2 = ax1.twinx()\n",
      "ax2.plot(range(1,22,2), data, 'k--')\n",
      "\n",
      "xlim(1,21)\n",
      "ylabel('sold (%)')\n",
      "legend()\n",
      "#savefig('/home/patrick/Thesis/ThesisTemplate/figures/OptionPricesMaturity.png', dpi=400)"
     ],
     "language": "python",
     "metadata": {},
     "outputs": [
      {
       "output_type": "stream",
       "stream": "stdout",
       "text": [
        "[3.9874583666755461, 7.2488000779493609, 8.8366032122599147, 10.097117029462085, 11.340263953867323, 12.189019340263679, 12.959609950795286, 13.740351118568084, 14.308118185030901, 14.704834496518773, 14.857336755999395]\n"
       ]
      },
      {
       "metadata": {},
       "output_type": "display_data",
       "png": "[encoded data removed]",
       "text": [
        "<matplotlib.figure.Figure at 0x745a3d0>"
       ]
      }
     ],
     "prompt_number": 129
    },
    {
     "cell_type": "code",
     "collapsed": false,
     "input": [
      "def func(x, a, c):\n",
      "     return a * np.log(x) + c\n",
      "\n",
      "x = np.arange(1,22,2)\n",
      "y = np.array([16.75942529094479, 30.467217610951565, 37.140068927028075, 42.4394980335884, 47.663582789728501, 51.232684337181645, 54.471210787579814, 57.751404803577991, 60.136004289398151, 61.807973249915683, 62.447958251979252])\n",
      "\n",
      "popt, pcov = curve_fit(func, x, y, p0=(1,1))"
     ],
     "language": "python",
     "metadata": {},
     "outputs": [],
     "prompt_number": 320
    },
    {
     "cell_type": "code",
     "collapsed": false,
     "input": [
      "print popt\n",
      "print pcov"
     ],
     "language": "python",
     "metadata": {},
     "outputs": [
      {
       "output_type": "stream",
       "stream": "stdout",
       "text": [
        "[ 15.71378435  14.13549518]\n",
        "[[ 0.32681927 -0.69357747]\n",
        " [-0.69357747  1.72441552]]\n"
       ]
      }
     ],
     "prompt_number": 346
    },
    {
     "cell_type": "code",
     "collapsed": false,
     "input": [
      "ss.pearsonr(y, func(x, *popt))"
     ],
     "language": "python",
     "metadata": {},
     "outputs": [
      {
       "metadata": {},
       "output_type": "pyout",
       "prompt_number": 313,
       "text": [
        "(0.99409663560035078, 5.416113173189044e-10)"
       ]
      }
     ],
     "prompt_number": 313
    },
    {
     "cell_type": "code",
     "collapsed": false,
     "input": [
      "plt.figure()\n",
      "plt.plot(x, y, 'ko', label=\"Original Noised Data\")\n",
      "plt.plot(x, func(x, *popt), 'r-', label=\"Fitted Curve\")\n",
      "plt.legend(loc='lower right')\n",
      "plt.show()"
     ],
     "language": "python",
     "metadata": {},
     "outputs": [
      {
       "metadata": {},
       "output_type": "display_data",
       "png": "[encoded data removed]",
       "text": [
        "<matplotlib.figure.Figure at 0xcaead10>"
       ]
      }
     ],
     "prompt_number": 319
    },
    {
     "cell_type": "heading",
     "level": 4,
     "metadata": {},
     "source": [
      "Option prices relative to DBB (all knowing"
     ]
    },
    {
     "cell_type": "code",
     "collapsed": false,
     "input": [
      "fig, ax1 = plt.subplots()\n",
      "\n",
      "data = []\n",
      "for i in range(len(ak_results)):\n",
      "    data.append(ak_results[i]['optionPricePerc'])\n",
      "ax1.plot(range(4,43), data, 'k-', label='option price (%)')\n",
      "legend(loc='lower left')\n",
      "ylabel('option price (%)')\n",
      "xlabel('number of days before departure (dbb)')\n",
      "ylim(-5,50)\n",
      "\n",
      "data = []\n",
      "for i in range(len(ak_results)):\n",
      "    data.append(ak_results[i]['percSold'])\n",
      "ax2 = ax1.twinx()\n",
      "ax2.plot(range(4,43), data, 'k--', label='sold (%)')\n",
      "\n",
      "xlim(4,43)\n",
      "\n",
      "ylabel('sold (%)')\n",
      "legend()\n",
      "#savefig('/home/patrick/Thesis/ThesisTemplate/figures/OptionPricesDBB_nolimit.png', dpi=400)"
     ],
     "language": "python",
     "metadata": {},
     "outputs": [
      {
       "metadata": {},
       "output_type": "display_data",
       "png": "[encoded data removed]",
       "text": [
        "<matplotlib.figure.Figure at 0x82eae10>"
       ]
      }
     ],
     "prompt_number": 233
    },
    {
     "cell_type": "code",
     "collapsed": false,
     "input": [
      "ak_results[0]"
     ],
     "language": "python",
     "metadata": {},
     "outputs": []
    },
    {
     "cell_type": "code",
     "collapsed": false,
     "input": [
      "totalSold = totalSold.T"
     ],
     "language": "python",
     "metadata": {},
     "outputs": [],
     "prompt_number": 104
    },
    {
     "cell_type": "code",
     "collapsed": false,
     "input": [
      "res['optionPrice'] = ((totalProfits+totalCosts)/totalSold/100)\n",
      "res['optionPricePerc'] = res['optionPrice']/(mtp/100)*100\n",
      "res['optionProfits'] = (totalProfits/totalSold/100)\n",
      "res['optionProfitsPerc'] = res['optionProfits']/res['optionPrice']*100\n",
      "res['percSold'] = percSold*100"
     ],
     "language": "python",
     "metadata": {},
     "outputs": [],
     "prompt_number": 82
    },
    {
     "cell_type": "code",
     "collapsed": false,
     "input": [
      "fig, ax1 = plt.subplots()\n",
      "plot(res['optionPrice'][0])\n",
      "plot(res['optionPricePerc'][0])\n",
      "ax2 = ax1.twinx()\n",
      "ax2.plot(res['percSold'])"
     ],
     "language": "python",
     "metadata": {},
     "outputs": [
      {
       "metadata": {},
       "output_type": "pyout",
       "prompt_number": 100,
       "text": [
        "[<matplotlib.lines.Line2D at 0x57a9890>]"
       ]
      },
      {
       "metadata": {},
       "output_type": "display_data",
       "png": "[encoded data removed]",
       "text": [
        "<matplotlib.figure.Figure at 0x4d5dd90>"
       ]
      }
     ],
     "prompt_number": 100
    },
    {
     "cell_type": "code",
     "collapsed": false,
     "input": [
      "f = np.split(e, 22)"
     ],
     "language": "python",
     "metadata": {},
     "outputs": [],
     "prompt_number": 562
    },
    {
     "cell_type": "code",
     "collapsed": false,
     "input": [
      "d = []\n",
      "\n",
      "ind = [13,5,16,12, 15]\n",
      "\n",
      "for i in ind:\n",
      "    op = []\n",
      "    for j in f[i]:\n",
      "        d.append(j['optionPricePerc'])\n",
      "        op.append(j['optionPricePerc'])\n",
      "    plot(range(1, 22, 2), op, label=j['flyFrom']+ r' to ' + j['flyTo'])\n",
      "xlim(1,21)\n",
      "xlabel('number of days till maturity')\n",
      "ylabel('mean options price (%)')\n",
      "legend(loc='lower right')\n",
      "#savefig('/home/patrick/Thesis/ThesisTemplate/figures/Sensitivity_maturity.png', dpi=400)"
     ],
     "language": "python",
     "metadata": {},
     "outputs": [
      {
       "metadata": {},
       "output_type": "pyout",
       "prompt_number": 563,
       "text": [
        "<matplotlib.legend.Legend at 0x17b46450>"
       ]
      },
      {
       "metadata": {},
       "output_type": "display_data",
       "png": "[encoded data removed]",
       "text": [
        "<matplotlib.figure.Figure at 0x17dc1cd0>"
       ]
      }
     ],
     "prompt_number": 563
    },
    {
     "cell_type": "code",
     "collapsed": false,
     "input": [
      "for i in range(len(b)):\n",
      "    print i, b[i][0]['flyFrom'], b[i][0]['flyTo']"
     ],
     "language": "python",
     "metadata": {},
     "outputs": [
      {
       "output_type": "stream",
       "stream": "stdout",
       "text": [
        " 0 AMS CDG\n",
        "1 AMS DXB\n",
        "2 AMS JFK\n",
        "3 AMS LHR\n",
        "4 ATL LAX\n",
        "5 ATL MCO\n",
        "6 CDG AMS\n",
        "7 CDG LHR\n",
        "8 DEN FLL\n",
        "9 DEN PHX\n",
        "10 DFW LAX\n",
        "11 DFW SFO\n",
        "12 JFK CDG\n",
        "13 JFK LHR\n",
        "14 LAX LAS\n",
        "15 LAX SFO\n",
        "16 LHR AMS\n",
        "17 LHR JFK\n",
        "18 LHR LAX\n",
        "19 LHR MAD\n",
        "20 ORD BOS\n",
        "21 ORD LGA\n"
       ]
      }
     ],
     "prompt_number": 546
    },
    {
     "cell_type": "code",
     "collapsed": false,
     "input": [
      "plot(op)"
     ],
     "language": "python",
     "metadata": {},
     "outputs": [
      {
       "metadata": {},
       "output_type": "pyout",
       "prompt_number": 484,
       "text": [
        "[<matplotlib.lines.Line2D at 0x195ff390>]"
       ]
      },
      {
       "metadata": {},
       "output_type": "display_data",
       "png": "[encoded data removed]",
       "text": [
        "<matplotlib.figure.Figure at 0x136aaf50>"
       ]
      }
     ],
     "prompt_number": 484
    },
    {
     "cell_type": "code",
     "collapsed": false,
     "input": [
      "print get_priceTableSegment(ak_results)"
     ],
     "language": "python",
     "metadata": {},
     "outputs": [
      {
       "output_type": "stream",
       "stream": "stdout",
       "text": [
        "AMS  &  JFK  &     852  &    7.63  &   0.90  &    7.49  &   98.16  &   65.54 \\\\\n",
        "AMS  &  JFK  &     852  &   11.92  &   1.40  &   11.61  &   97.46  &   73.76 \\\\\n",
        "AMS  &  JFK  &     852  &   18.14  &   2.13  &   17.45  &   96.18  &   72.49 \\\\\n",
        "AMS  &  JFK  &     852  &   24.03  &   2.82  &   22.91  &   95.30  &   71.44 \\\\\n",
        "AMS  &  JFK  &     852  &   31.30  &   3.68  &   29.72  &   94.96  &   68.49 \\\\\n",
        "AMS  &  JFK  &     852  &   36.30  &   4.26  &   34.16  &   94.10  &   70.14 \\\\\n",
        "AMS  &  JFK  &     852  &   40.26  &   4.73  &   37.79  &   93.86  &   71.93 \\\\\n",
        "AMS  &  JFK  &     852  &   44.70  &   5.25  &   42.04  &   94.04  &   71.63 \\\\\n",
        "AMS  &  JFK  &     852  &   47.67  &   5.60  &   44.79  &   93.96  &   73.51 \\\\\n",
        "AMS  &  JFK  &     852  &   50.65  &   5.95  &   47.37  &   93.52  &   75.72 \\\\\n",
        "AMS  &  JFK  &     852  &   53.95  &   6.34  &   50.30  &   93.24  &   75.73 \\\\\n",
        "AMS  &  JFK  &     852  &   56.90  &   6.68  &   53.29  &   93.65  &   75.56 \\\\\n",
        "AMS  &  JFK  &     852  &   59.87  &   7.03  &   55.68  &   93.00  &   75.59 \\\\\n",
        "AMS  &  JFK  &     852  &   62.63  &   7.35  &   58.40  &   93.25  &   75.61 \\\\\n",
        "AMS  &  JFK  &     852  &   65.95  &   7.74  &   61.38  &   93.08  &   75.80 \\\\\n",
        "AMS  &  JFK  &     852  &   69.51  &   8.16  &   64.50  &   92.80  &   76.06 \\\\\n",
        "AMS  &  JFK  &     852  &   72.60  &   8.53  &   67.32  &   92.73  &   76.23 \\\\\n",
        "AMS  &  JFK  &     852  &   75.38  &   8.85  &   70.11  &   93.00  &   75.90 \\\\\n",
        "AMS  &  JFK  &     852  &   78.24  &   9.19  &   72.78  &   93.02  &   76.02 \\\\\n",
        "AMS  &  JFK  &     852  &   81.65  &   9.59  &   75.38  &   92.32  &   76.65 \\\\\n",
        "AMS  &  JFK  &     852  &   84.83  &   9.96  &   78.81  &   92.91  &   76.51 \\\\\n",
        "\n"
       ]
      }
     ],
     "prompt_number": 475
    },
    {
     "cell_type": "heading",
     "level": 3,
     "metadata": {},
     "source": [
      "Black-Scholes"
     ]
    },
    {
     "cell_type": "code",
     "collapsed": false,
     "input": [
      "def d1(S0, K, r, sigma, T):\n",
      "    return (np.log(S0/K) + (r + sigma**2 / 2) * T)/(sigma * np.sqrt(T))\n",
      " \n",
      "def d2(S0, K, r, sigma, T):\n",
      "    return (np.log(S0/K) + (r - sigma**2 / 2) * T)/(sigma * np.sqrt(T))\n",
      " \n",
      "def BlackScholes(hp, S0, m, r=0.0275, call=True):\n",
      "    \"\"\"\n",
      "    hp: historical prices\n",
      "    S0: airfare at time 0\n",
      "    m: maturity in days\n",
      "    r: risk-free interest rate\n",
      "    call: call (True) or put (False)\n",
      "    \"\"\"\n",
      "    \n",
      "    # convert volatility to days\n",
      "    T = m/365\n",
      "\n",
      "    # volatility\n",
      "    hpLN = np.log(hp)\n",
      "    dRet = (hpLN.T.shift(1).T - hpLN)\n",
      "    dRetMean = dRet.mean()\n",
      "    sigmaDaily = np.sqrt(((dRet - dRetMean)**2).mean().mean())\n",
      "    sigma = sigmaDaily*np.sqrt(365)\n",
      "    \n",
      "    K = S0  # strike price == S0\n",
      "    if call:\n",
      "        return S0 * ss.norm.cdf(d1(S0, K, r, sigma, T)) - K * np.exp(-r * T) * ss.norm.cdf(d2(S0, K, r, sigma, T))\n",
      "    return K * np.exp(-r * T) * ss.norm.cdf(-d2(S0, K, r, sigma, T)) - S0 * ss.norm.cdf(-d1(S0, K, r, sigma, T))"
     ],
     "language": "python",
     "metadata": {},
     "outputs": [],
     "prompt_number": 493
    },
    {
     "cell_type": "code",
     "collapsed": false,
     "input": [
      "#bs = run_singleSimulation('AMS', 'CDG', BlackScholes, get_customerWTP, allKnowing=False, p_fRange=np.arange(0.1, 1, 0.05))\n",
      "bs_results =run_allSimulation(BlackScholes, get_customerWTP, allKnowing=False, p_fRange=[0.85]) # p_fRange=np.arange(0.1, 1, 0.05))"
     ],
     "language": "python",
     "metadata": {},
     "outputs": [
      {
       "output_type": "stream",
       "stream": "stdout",
       "text": [
        "[01/22] AMS > CDG... "
       ]
      },
      {
       "output_type": "stream",
       "stream": "stdout",
       "text": [
        "done\n",
        "[02/22] AMS > DXB... "
       ]
      },
      {
       "output_type": "stream",
       "stream": "stdout",
       "text": [
        "done\n",
        "[03/22] AMS > JFK... "
       ]
      },
      {
       "output_type": "stream",
       "stream": "stdout",
       "text": [
        "done\n",
        "[04/22] AMS > LHR... "
       ]
      },
      {
       "output_type": "stream",
       "stream": "stdout",
       "text": [
        "done\n",
        "[05/22] ATL > LAX... "
       ]
      },
      {
       "output_type": "stream",
       "stream": "stdout",
       "text": [
        "done\n",
        "[06/22] ATL > MCO... "
       ]
      },
      {
       "output_type": "stream",
       "stream": "stdout",
       "text": [
        "done\n",
        "[07/22] CDG > AMS... "
       ]
      },
      {
       "output_type": "stream",
       "stream": "stdout",
       "text": [
        "done\n",
        "[08/22] CDG > LHR... "
       ]
      },
      {
       "output_type": "stream",
       "stream": "stdout",
       "text": [
        "done\n",
        "[09/22] DEN > FLL... "
       ]
      },
      {
       "output_type": "stream",
       "stream": "stdout",
       "text": [
        "done\n",
        "[10/22] DEN > PHX... "
       ]
      },
      {
       "output_type": "stream",
       "stream": "stdout",
       "text": [
        "done\n",
        "[11/22] DFW > LAX... "
       ]
      },
      {
       "output_type": "stream",
       "stream": "stdout",
       "text": [
        "done\n",
        "[12/22] DFW > SFO... "
       ]
      },
      {
       "output_type": "stream",
       "stream": "stdout",
       "text": [
        "done\n",
        "[13/22] JFK > CDG... "
       ]
      },
      {
       "output_type": "stream",
       "stream": "stdout",
       "text": [
        "done\n",
        "[14/22] JFK > LHR... "
       ]
      },
      {
       "output_type": "stream",
       "stream": "stdout",
       "text": [
        "done\n",
        "[15/22] LAX > LAS... "
       ]
      },
      {
       "output_type": "stream",
       "stream": "stdout",
       "text": [
        "done\n",
        "[16/22] LAX > SFO... "
       ]
      },
      {
       "output_type": "stream",
       "stream": "stdout",
       "text": [
        "done\n",
        "[17/22] LHR > AMS... "
       ]
      },
      {
       "output_type": "stream",
       "stream": "stdout",
       "text": [
        "done\n",
        "[18/22] LHR > JFK... "
       ]
      },
      {
       "output_type": "stream",
       "stream": "stdout",
       "text": [
        "done\n",
        "[19/22] LHR > LAX... "
       ]
      },
      {
       "output_type": "stream",
       "stream": "stdout",
       "text": [
        "done\n",
        "[20/22] LHR > MAD... "
       ]
      },
      {
       "output_type": "stream",
       "stream": "stdout",
       "text": [
        "done\n",
        "[21/22] ORD > BOS... "
       ]
      },
      {
       "output_type": "stream",
       "stream": "stdout",
       "text": [
        "done\n",
        "[22/22] ORD > LGA... "
       ]
      },
      {
       "output_type": "stream",
       "stream": "stdout",
       "text": [
        "done\n",
        "\n"
       ]
      }
     ],
     "prompt_number": 494
    },
    {
     "cell_type": "code",
     "collapsed": false,
     "input": [
      "bs_results"
     ],
     "language": "python",
     "metadata": {},
     "outputs": [
      {
       "metadata": {},
       "output_type": "pyout",
       "prompt_number": 537,
       "text": [
        "[{'flyFrom': u'AMS',\n",
        "  'flyTo': u'CDG',\n",
        "  'm': 3,\n",
        "  'mtp': 225.99437583104037,\n",
        "  'optionPrice': 23.316779975663575,\n",
        "  'optionPricePerc': 10.31741603742203,\n",
        "  'optionProfits': -1.7393678303015161,\n",
        "  'optionProfitsPerc': -7.4597257087683051,\n",
        "  'p_f': 0.85,\n",
        "  'percSold': 53.846158189145996,\n",
        "  'r': 10,\n",
        "  'totalSold': 82656.006666666668},\n",
        " {'flyFrom': u'AMS',\n",
        "  'flyTo': u'DXB',\n",
        "  'm': 3,\n",
        "  'mtp': 590.68862244897969,\n",
        "  'optionPrice': 89.970969461953032,\n",
        "  'optionPricePerc': 15.231539264957522,\n",
        "  'optionProfits': -9.8091752861662229,\n",
        "  'optionProfitsPerc': -10.902600410807324,\n",
        "  'p_f': 0.85,\n",
        "  'percSold': 12.821733821733822,\n",
        "  'r': 10,\n",
        "  'totalSold': 70.006666666666661},\n",
        " {'flyFrom': u'AMS',\n",
        "  'flyTo': u'JFK',\n",
        "  'm': 3,\n",
        "  'mtp': 851.56972756853418,\n",
        "  'optionPrice': 78.927651761936474,\n",
        "  'optionPricePerc': 9.2684896147373195,\n",
        "  'optionProfits': -41.156243608452598,\n",
        "  'optionProfitsPerc': -52.144264639456239,\n",
        "  'p_f': 0.85,\n",
        "  'percSold': 25.641093474426807,\n",
        "  'r': 10,\n",
        "  'totalSold': 2520.0066666666667},\n",
        " {'flyFrom': u'AMS',\n",
        "  'flyTo': u'LHR',\n",
        "  'm': 3,\n",
        "  'mtp': 258.67328238978092,\n",
        "  'optionPrice': 17.998356212422912,\n",
        "  'optionPricePerc': 6.9579494434613283,\n",
        "  'optionProfits': -0.55146053873729572,\n",
        "  'optionProfitsPerc': -3.0639494642108702,\n",
        "  'p_f': 0.85,\n",
        "  'percSold': 48.717955400519905,\n",
        "  'r': 10,\n",
        "  'totalSold': 48602.006666666668},\n",
        " {'flyFrom': u'ATL',\n",
        "  'flyTo': u'LAX',\n",
        "  'm': 3,\n",
        "  'mtp': 393.87568111189103,\n",
        "  'optionPrice': 39.802136808888115,\n",
        "  'optionPricePerc': 10.105253692365242,\n",
        "  'optionProfits': -4.5545446874821431,\n",
        "  'optionProfitsPerc': -11.442965259254823,\n",
        "  'p_f': 0.85,\n",
        "  'percSold': 35.897447927004578,\n",
        "  'r': 10,\n",
        "  'totalSold': 19894.006666666668},\n",
        " {'flyFrom': u'ATL',\n",
        "  'flyTo': u'MCO',\n",
        "  'm': 3,\n",
        "  'mtp': 251.91892028534221,\n",
        "  'optionPrice': 25.805989509678739,\n",
        "  'optionPricePerc': 10.243767907725607,\n",
        "  'optionProfits': 2.502919687181961,\n",
        "  'optionProfitsPerc': 9.6989874627486046,\n",
        "  'p_f': 0.85,\n",
        "  'percSold': 61.538466088372921,\n",
        "  'r': 10,\n",
        "  'totalSold': 90168.006666666668},\n",
        " {'flyFrom': u'CDG',\n",
        "  'flyTo': u'AMS',\n",
        "  'm': 3,\n",
        "  'mtp': 239.72549845204296,\n",
        "  'optionPrice': 23.860493323114039,\n",
        "  'optionPricePerc': 9.9532563190758463,\n",
        "  'optionProfits': -1.1056868938209696,\n",
        "  'optionProfitsPerc': -4.6339649346221741,\n",
        "  'p_f': 0.85,\n",
        "  'percSold': 51.282055625043419,\n",
        "  'r': 10,\n",
        "  'totalSold': 78720.006666666668},\n",
        " {'flyFrom': u'CDG',\n",
        "  'flyTo': u'LHR',\n",
        "  'm': 3,\n",
        "  'mtp': 221.23996914470644,\n",
        "  'optionPrice': 14.328055166565688,\n",
        "  'optionPricePerc': 6.4762507525003929,\n",
        "  'optionProfits': -3.0163206231005568,\n",
        "  'optionProfitsPerc': -21.05184959183503,\n",
        "  'p_f': 0.85,\n",
        "  'percSold': 25.641039316239318,\n",
        "  'r': 10,\n",
        "  'totalSold': 12500.006666666666},\n",
        " {'flyFrom': u'DEN',\n",
        "  'flyTo': u'FLL',\n",
        "  'm': 3,\n",
        "  'mtp': 182.25453258671894,\n",
        "  'optionPrice': 23.417280744714894,\n",
        "  'optionPricePerc': 12.848668514497803,\n",
        "  'optionProfits': -15.116139146717126,\n",
        "  'optionProfitsPerc': -64.551214598769008,\n",
        "  'p_f': 0.85,\n",
        "  'percSold': 25.641839641839642,\n",
        "  'r': 10,\n",
        "  'totalSold': 210.00666666666666},\n",
        " {'flyFrom': u'DEN',\n",
        "  'flyTo': u'PHX',\n",
        "  'm': 3,\n",
        "  'mtp': 188.92133453963578,\n",
        "  'optionPrice': 23.462645962286999,\n",
        "  'optionPricePerc': 12.41926753241547,\n",
        "  'optionProfits': 1.1393037842668747,\n",
        "  'optionProfitsPerc': 4.8558196978215928,\n",
        "  'p_f': 0.85,\n",
        "  'percSold': 33.33334509797001,\n",
        "  'r': 10,\n",
        "  'totalSold': 18889.006666666668},\n",
        " {'flyFrom': u'DFW',\n",
        "  'flyTo': u'LAX',\n",
        "  'm': 3,\n",
        "  'mtp': 313.07675555119312,\n",
        "  'optionPrice': 47.612271141677311,\n",
        "  'optionPricePerc': 15.207858870855054,\n",
        "  'optionProfits': -31.37443137744469,\n",
        "  'optionProfitsPerc': -65.895683245366428,\n",
        "  'p_f': 0.85,\n",
        "  'percSold': 33.33333526007106,\n",
        "  'r': 10,\n",
        "  'totalSold': 115336.00666666667},\n",
        " {'flyFrom': u'DFW',\n",
        "  'flyTo': u'SFO',\n",
        "  'm': 3,\n",
        "  'mtp': 387.86037300873869,\n",
        "  'optionPrice': 67.07579030243113,\n",
        "  'optionPricePerc': 17.293798224888491,\n",
        "  'optionProfits': -38.547060225561658,\n",
        "  'optionProfitsPerc': -57.467918084544046,\n",
        "  'p_f': 0.85,\n",
        "  'percSold': 30.769234565370475,\n",
        "  'r': 10,\n",
        "  'totalSold': 54036.006666666668},\n",
        " {'flyFrom': u'JFK',\n",
        "  'flyTo': u'CDG',\n",
        "  'm': 3,\n",
        "  'mtp': 2637.4500417448553,\n",
        "  'optionPrice': 336.52009735012945,\n",
        "  'optionPricePerc': 12.759297504171801,\n",
        "  'optionProfits': 179.20150311093352,\n",
        "  'optionProfitsPerc': 53.251352451763033,\n",
        "  'p_f': 0.85,\n",
        "  'percSold': 35.897445490038081,\n",
        "  'r': 10,\n",
        "  'totalSold': 24948.006666666668},\n",
        " {'flyFrom': u'JFK',\n",
        "  'flyTo': u'LHR',\n",
        "  'm': 3,\n",
        "  'mtp': 999.74155738030527,\n",
        "  'optionPrice': 142.9654471253111,\n",
        "  'optionPricePerc': 14.300240504149267,\n",
        "  'optionProfits': 47.342830346545085,\n",
        "  'optionProfitsPerc': 33.114875865808656,\n",
        "  'p_f': 0.85,\n",
        "  'percSold': 69.230771389649888,\n",
        "  'r': 10,\n",
        "  'totalSold': 213786.00666666665},\n",
        " {'flyFrom': u'LAX',\n",
        "  'flyTo': u'LAS',\n",
        "  'm': 3,\n",
        "  'mtp': 212.12028702483391,\n",
        "  'optionPrice': 32.132377892900344,\n",
        "  'optionPricePerc': 15.148187070451424,\n",
        "  'optionProfits': -2.4687782519303476,\n",
        "  'optionProfitsPerc': -7.6831483189914325,\n",
        "  'p_f': 0.85,\n",
        "  'percSold': 35.897439102163517,\n",
        "  'r': 10,\n",
        "  'totalSold': 74676.006666666668},\n",
        " {'flyFrom': u'LAX',\n",
        "  'flyTo': u'SFO',\n",
        "  'm': 3,\n",
        "  'mtp': 221.56220674432271,\n",
        "  'optionPrice': 38.838322391880851,\n",
        "  'optionPricePerc': 17.529308343051174,\n",
        "  'optionProfits': 14.156485906094135,\n",
        "  'optionProfitsPerc': 36.449787308664874,\n",
        "  'p_f': 0.85,\n",
        "  'percSold': 48.717949775681348,\n",
        "  'r': 10,\n",
        "  'totalSold': 307059.00666666665},\n",
        " {'flyFrom': u'LHR',\n",
        "  'flyTo': u'AMS',\n",
        "  'm': 3,\n",
        "  'mtp': 241.75346218152109,\n",
        "  'optionPrice': 18.368017866453997,\n",
        "  'optionPricePerc': 7.5978303271050294,\n",
        "  'optionProfits': 0.27760325734304325,\n",
        "  'optionProfitsPerc': 1.5113403055320276,\n",
        "  'p_f': 0.85,\n",
        "  'percSold': 43.589750248885423,\n",
        "  'r': 10,\n",
        "  'totalSold': 43639.006666666668},\n",
        " {'flyFrom': u'LHR',\n",
        "  'flyTo': u'JFK',\n",
        "  'm': 3,\n",
        "  'mtp': 863.77604344591509,\n",
        "  'optionPrice': 127.12109060712102,\n",
        "  'optionPricePerc': 14.716903944220194,\n",
        "  'optionProfits': 84.229147839630926,\n",
        "  'optionProfitsPerc': 66.258987739452749,\n",
        "  'p_f': 0.85,\n",
        "  'percSold': 58.974361197248058,\n",
        "  'r': 10,\n",
        "  'totalSold': 176870.00666666665},\n",
        " {'flyFrom': u'LHR',\n",
        "  'flyTo': u'LAX',\n",
        "  'm': 3,\n",
        "  'mtp': 1286.4436485828808,\n",
        "  'optionPrice': 198.47195993878387,\n",
        "  'optionPricePerc': 15.427955989943005,\n",
        "  'optionProfits': 99.670047899956757,\n",
        "  'optionProfitsPerc': 50.218704914638167,\n",
        "  'p_f': 0.85,\n",
        "  'percSold': 53.846174269113334,\n",
        "  'r': 10,\n",
        "  'totalSold': 17577.006666666668},\n",
        " {'flyFrom': u'LHR',\n",
        "  'flyTo': u'MAD',\n",
        "  'm': 3,\n",
        "  'mtp': 282.37269021158505,\n",
        "  'optionPrice': 22.486608618529267,\n",
        "  'optionPricePerc': 7.9634502195236365,\n",
        "  'optionProfits': -6.2849068246249784,\n",
        "  'optionProfitsPerc': -27.949554026773654,\n",
        "  'p_f': 0.85,\n",
        "  'percSold': 20.512824125250159,\n",
        "  'r': 10,\n",
        "  'totalSold': 37856.006666666668},\n",
        " {'flyFrom': u'ORD',\n",
        "  'flyTo': u'BOS',\n",
        "  'm': 3,\n",
        "  'mtp': 249.20766199164714,\n",
        "  'optionPrice': 40.867759138371341,\n",
        "  'optionPricePerc': 16.399078106892688,\n",
        "  'optionProfits': -12.35819505019904,\n",
        "  'optionProfitsPerc': -30.239473146438677,\n",
        "  'p_f': 0.85,\n",
        "  'percSold': 33.333335706184123,\n",
        "  'r': 10,\n",
        "  'totalSold': 93652.006666666668},\n",
        " {'flyFrom': u'ORD',\n",
        "  'flyTo': u'LGA',\n",
        "  'm': 3,\n",
        "  'mtp': 273.08584759525354,\n",
        "  'optionPrice': 38.28289799510857,\n",
        "  'optionPricePerc': 14.018631259078823,\n",
        "  'optionProfits': -0.984063043948739,\n",
        "  'optionProfitsPerc': -2.5705030065238881,\n",
        "  'p_f': 0.85,\n",
        "  'percSold': 38.461539805619068,\n",
        "  'r': 10,\n",
        "  'totalSold': 190770.00666666665}]"
       ]
      }
     ],
     "prompt_number": 537
    },
    {
     "cell_type": "code",
     "collapsed": false,
     "input": [
      "ak_results = []\n",
      "for d in range(0,39):\n",
      "    ak_results += run_singleSimulation('DFW', 'LAX', BlackScholes, get_customerWTP, allKnowing=False, p_fRange=[0.2], days=d)"
     ],
     "language": "python",
     "metadata": {},
     "outputs": [],
     "prompt_number": 505
    },
    {
     "cell_type": "code",
     "collapsed": false,
     "input": [
      "fig, ax1 = plt.subplots()\n",
      "\n",
      "data = []\n",
      "for i in range(len(ak_results)):\n",
      "    data.append(ak_results[i]['optionPrice'])\n",
      "ax1.plot(range(4,43), data, 'k-', label='option price (%)')\n",
      "legend(loc='lower left')\n",
      "ylabel('option price (%)')\n",
      "xlabel('number of days before departure (dbb)')\n",
      "\n",
      "print np.mean(data)\n",
      "\n",
      "data = []\n",
      "for i in range(len(ak_results)):\n",
      "    data.append(ak_results[i]['percSold'])\n",
      "ax2 = ax1.twinx()\n",
      "ax2.plot(range(4,43), data, 'k--', label='sold (%)')\n",
      "\n",
      "xlim(4,42)\n",
      "\n",
      "ylabel('sold (%)')\n",
      "legend()\n",
      "#savefig('/home/patrick/Thesis/ThesisTemplate/figures/OptionPricesDBB_nolimit.png', dpi=400)"
     ],
     "language": "python",
     "metadata": {},
     "outputs": [
      {
       "output_type": "stream",
       "stream": "stdout",
       "text": [
        "7.24894448494\n"
       ]
      },
      {
       "metadata": {},
       "output_type": "pyout",
       "prompt_number": 508,
       "text": [
        "<matplotlib.legend.Legend at 0x1a46fa10>"
       ]
      },
      {
       "metadata": {},
       "output_type": "display_data",
       "png": "[encoded data removed]",
       "text": [
        "<matplotlib.figure.Figure at 0x1ab3d550>"
       ]
      }
     ],
     "prompt_number": 508
    },
    {
     "cell_type": "code",
     "collapsed": false,
     "input": [
      "print mean([3.7887618318498362, 8.8894488527590365, 7.5458010892535823, 9.18740731503242, 4.9615673602183659, 13.900322062269646, 14.22948704944949, 3.915767380131832, 1.2635894284679301, 2.3709666081116483, 1.8206045581020702, 1.4120825008200739, 1.0480698910881339, 0.73228585676831104, 0.87093858078955511])"
     ],
     "language": "python",
     "metadata": {},
     "outputs": [
      {
       "output_type": "stream",
       "stream": "stdout",
       "text": [
        "5.06247335767\n"
       ]
      }
     ],
     "prompt_number": 501
    },
    {
     "cell_type": "code",
     "collapsed": false,
     "input": [],
     "language": "python",
     "metadata": {},
     "outputs": []
    },
    {
     "cell_type": "code",
     "collapsed": false,
     "input": [
      "print get_priceTableSegment(bs_results)"
     ],
     "language": "python",
     "metadata": {},
     "outputs": [
      {
       "output_type": "stream",
       "stream": "stdout",
       "text": [
        "AMS  &  CDG  &     226  &   23.32  &  10.32  &   -1.74  &   -7.46  &   53.85 \\\\\n",
        "AMS  &  DXB  &     591  &   89.97  &  15.23  &   -9.81  &  -10.90  &   12.82 \\\\\n",
        "AMS  &  JFK  &     852  &   78.93  &   9.27  &  -41.16  &  -52.14  &   25.64 \\\\\n",
        "AMS  &  LHR  &     259  &   18.00  &   6.96  &   -0.55  &   -3.06  &   48.72 \\\\\n",
        "ATL  &  LAX  &     394  &   39.80  &  10.11  &   -4.55  &  -11.44  &   35.90 \\\\\n",
        "ATL  &  MCO  &     252  &   25.81  &  10.24  &    2.50  &    9.70  &   61.54 \\\\\n",
        "CDG  &  AMS  &     240  &   23.86  &   9.95  &   -1.11  &   -4.63  &   51.28 \\\\\n",
        "CDG  &  LHR  &     221  &   14.33  &   6.48  &   -3.02  &  -21.05  &   25.64 \\\\\n",
        "DEN  &  FLL  &     182  &   23.42  &  12.85  &  -15.12  &  -64.55  &   25.64 \\\\\n",
        "DEN  &  PHX  &     189  &   23.46  &  12.42  &    1.14  &    4.86  &   33.33 \\\\\n",
        "DFW  &  LAX  &     313  &   47.61  &  15.21  &  -31.37  &  -65.90  &   33.33 \\\\\n",
        "DFW  &  SFO  &     388  &   67.08  &  17.29  &  -38.55  &  -57.47  &   30.77 \\\\\n",
        "JFK  &  CDG  &    2637  &  336.52  &  12.76  &  179.20  &   53.25  &   35.90 \\\\\n",
        "JFK  &  LHR  &    1000  &  142.97  &  14.30  &   47.34  &   33.11  &   69.23 \\\\\n",
        "LAX  &  LAS  &     212  &   32.13  &  15.15  &   -2.47  &   -7.68  &   35.90 \\\\\n",
        "LAX  &  SFO  &     222  &   38.84  &  17.53  &   14.16  &   36.45  &   48.72 \\\\\n",
        "LHR  &  AMS  &     242  &   18.37  &   7.60  &    0.28  &    1.51  &   43.59 \\\\\n",
        "LHR  &  JFK  &     864  &  127.12  &  14.72  &   84.23  &   66.26  &   58.97 \\\\\n",
        "LHR  &  LAX  &    1286  &  198.47  &  15.43  &   99.67  &   50.22  &   53.85 \\\\\n",
        "LHR  &  MAD  &     282  &   22.49  &   7.96  &   -6.28  &  -27.95  &   20.51 \\\\\n",
        "ORD  &  BOS  &     249  &   40.87  &  16.40  &  -12.36  &  -30.24  &   33.33 \\\\\n",
        "ORD  &  LGA  &     273  &   38.28  &  14.02  &   -0.98  &   -2.57  &   38.46 \\\\\n",
        "\n"
       ]
      }
     ],
     "prompt_number": 495
    },
    {
     "cell_type": "code",
     "collapsed": false,
     "input": [
      "print get_priceTableSegment(bs_results)"
     ],
     "language": "python",
     "metadata": {},
     "outputs": [
      {
       "output_type": "stream",
       "stream": "stdout",
       "text": [
        "AMS  &  CDG  &     226  &   13.92  &   6.16  &   -0.81  &   -5.80  &   53.85 \\\\\n",
        "AMS  &  DXB  &     591  &   68.54  &  11.60  &   10.41  &   15.19  &   12.82 \\\\\n",
        "AMS  &  JFK  &     852  &   46.43  &   5.45  &  -23.87  &  -51.42  &   25.64 \\\\\n",
        "AMS  &  LHR  &     259  &   10.79  &   4.17  &   -0.11  &   -1.05  &   48.72 \\\\\n",
        "ATL  &  LAX  &     394  &   32.31  &   8.20  &    0.81  &    2.49  &   28.21 \\\\\n",
        "ATL  &  MCO  &     252  &   17.78  &   7.06  &    3.31  &   18.62  &   56.41 \\\\\n",
        "CDG  &  AMS  &     240  &   14.04  &   5.85  &   -0.64  &   -4.55  &   51.28 \\\\\n",
        "CDG  &  LHR  &     221  &    8.43  &   3.81  &   -1.76  &  -20.88  &   25.64 \\\\\n",
        "DEN  &  FLL  &     182  &   22.31  &  12.24  &   -2.16  &   -9.69  &   23.08 \\\\\n",
        "DEN  &  PHX  &     189  &   18.12  &   9.59  &    4.36  &   24.06  &   30.77 \\\\\n",
        "DFW  &  LAX  &     313  &   40.15  &  12.82  &   -6.32  &  -15.75  &   33.33 \\\\\n",
        "DFW  &  SFO  &     388  &   59.22  &  15.27  &   -2.91  &   -4.91  &   30.77 \\\\\n",
        "JFK  &  CDG  &    2637  &  290.63  &  11.02  &  197.89  &   68.09  &   35.90 \\\\\n",
        "JFK  &  LHR  &    1000  &  122.85  &  12.29  &   66.58  &   54.19  &   69.23 \\\\\n",
        "LAX  &  LAS  &     212  &   26.18  &  12.34  &    5.85  &   22.33  &   35.90 \\\\\n",
        "LAX  &  SFO  &     222  &   34.92  &  15.76  &   20.41  &   58.43  &   48.72 \\\\\n",
        "LHR  &  AMS  &     242  &   11.95  &   4.94  &    0.75  &    6.31  &   38.46 \\\\\n",
        "LHR  &  JFK  &     864  &  106.87  &  12.37  &   81.66  &   76.41  &   58.97 \\\\\n",
        "LHR  &  LAX  &    1286  &  191.16  &  14.86  &  133.14  &   69.65  &   53.85 \\\\\n",
        "LHR  &  MAD  &     282  &   13.23  &   4.68  &   -3.68  &  -27.79  &   20.51 \\\\\n",
        "ORD  &  BOS  &     249  &   37.01  &  14.85  &    3.90  &   10.54  &   30.77 \\\\\n",
        "ORD  &  LGA  &     273  &   28.77  &  10.53  &    5.68  &   19.75  &   38.46 \\\\\n",
        "\n"
       ]
      }
     ],
     "prompt_number": 410
    },
    {
     "cell_type": "code",
     "collapsed": false,
     "input": [
      "print get_priceTableSegment(bs_results)"
     ],
     "language": "python",
     "metadata": {},
     "outputs": [
      {
       "output_type": "stream",
       "stream": "stdout",
       "text": [
        "AMS  &  CDG  &     226  &    5.57  &   2.46  &   -0.32  &   -5.78  &   53.85 \\\\\n",
        "AMS  &  DXB  &     591  &   36.51  &   6.18  &   14.66  &   40.16  &   12.82 \\\\\n",
        "AMS  &  JFK  &     852  &   18.57  &   2.18  &   -9.69  &  -52.18  &   25.64 \\\\\n",
        "AMS  &  LHR  &     259  &    4.31  &   1.67  &   -0.04  &   -0.84  &   48.72 \\\\\n",
        "ATL  &  LAX  &     394  &   13.43  &   3.41  &    0.81  &    6.03  &   28.21 \\\\\n",
        "ATL  &  MCO  &     252  &    7.12  &   2.83  &    1.32  &   18.60  &   56.41 \\\\\n",
        "CDG  &  AMS  &     240  &    5.61  &   2.34  &   -0.26  &   -4.71  &   51.28 \\\\\n",
        "CDG  &  LHR  &     221  &    3.37  &   1.52  &   -0.71  &  -21.02  &   25.64 \\\\\n",
        "DEN  &  FLL  &     182  &   14.78  &   8.11  &    4.90  &   33.12  &   23.08 \\\\\n",
        "DEN  &  PHX  &     189  &    7.44  &   3.94  &    1.93  &   25.91  &   30.77 \\\\\n",
        "DFW  &  LAX  &     313  &   21.75  &   6.95  &    3.18  &   14.61  &   33.33 \\\\\n",
        "DFW  &  SFO  &     388  &   29.90  &   7.71  &    5.01  &   16.74  &   30.77 \\\\\n",
        "JFK  &  CDG  &    2637  &  188.80  &   7.16  &  151.68  &   80.34  &   35.90 \\\\\n",
        "JFK  &  LHR  &    1000  &   84.38  &   8.44  &   61.87  &   73.32  &   69.23 \\\\\n",
        "LAX  &  LAS  &     212  &   13.12  &   6.18  &    4.99  &   38.03  &   35.90 \\\\\n",
        "LAX  &  SFO  &     222  &   24.60  &  11.10  &   18.79  &   76.37  &   48.72 \\\\\n",
        "LHR  &  AMS  &     242  &    4.78  &   1.98  &    0.31  &    6.51  &   38.46 \\\\\n",
        "LHR  &  JFK  &     864  &   56.70  &   6.56  &   46.59  &   82.18  &   58.97 \\\\\n",
        "LHR  &  LAX  &    1286  &  151.41  &  11.77  &  128.03  &   84.56  &   53.85 \\\\\n",
        "LHR  &  MAD  &     282  &    5.29  &   1.87  &   -1.49  &  -28.11  &   20.51 \\\\\n",
        "ORD  &  BOS  &     249  &   22.65  &   9.09  &    9.41  &   41.54  &   30.77 \\\\\n",
        "ORD  &  LGA  &     273  &   15.05  &   5.51  &    5.83  &   38.72  &   38.46 \\\\\n",
        "\n"
       ]
      }
     ],
     "prompt_number": 417
    },
    {
     "cell_type": "code",
     "collapsed": false,
     "input": [
      "print get_priceTableSegment(bs_results)"
     ],
     "language": "python",
     "metadata": {},
     "outputs": [
      {
       "output_type": "stream",
       "stream": "stdout",
       "text": [
        "AMS  &  CDG  &     226  &    5.38  &   2.38  &   -0.33  &   -6.14  &   56.41 \\\\\n",
        "AMS  &  DXB  &     591  &   30.55  &   5.17  &   11.91  &   38.99  &   15.39 \\\\\n",
        "AMS  &  JFK  &     852  &   13.50  &   1.58  &   -7.04  &  -52.19  &   38.46 \\\\\n",
        "AMS  &  LHR  &     259  &    3.84  &   1.48  &   -0.07  &   -1.86  &   58.97 \\\\\n",
        "ATL  &  LAX  &     394  &   10.08  &   2.56  &    0.84  &    8.29  &   43.59 \\\\\n",
        "ATL  &  MCO  &     252  &    6.77  &   2.69  &    1.28  &   18.94  &   61.54 \\\\\n",
        "CDG  &  AMS  &     240  &    5.16  &   2.15  &   -0.26  &   -4.98  &   58.97 \\\\\n",
        "CDG  &  LHR  &     221  &    3.43  &   1.55  &   -0.66  &  -19.25  &   20.51 \\\\\n",
        "DEN  &  FLL  &     182  &    9.56  &   5.25  &    3.12  &   32.58  &   38.46 \\\\\n",
        "DEN  &  PHX  &     189  &    5.27  &   2.79  &    1.07  &   20.34  &   48.72 \\\\\n",
        "DFW  &  LAX  &     313  &   21.75  &   6.95  &    3.16  &   14.51  &   33.33 \\\\\n",
        "DFW  &  SFO  &     388  &   26.34  &   6.79  &    3.42  &   12.99  &   35.90 \\\\\n",
        "JFK  &  CDG  &    2637  &  168.95  &   6.41  &  134.93  &   79.86  &   41.03 \\\\\n",
        "JFK  &  LHR  &    1000  &   71.78  &   7.18  &   52.72  &   73.45  &   84.62 \\\\\n",
        "LAX  &  LAS  &     212  &   13.12  &   6.18  &    4.98  &   37.94  &   35.90 \\\\\n",
        "LAX  &  SFO  &     222  &   24.60  &  11.10  &   18.78  &   76.36  &   48.72 \\\\\n",
        "LHR  &  AMS  &     242  &    3.70  &   1.53  &    0.07  &    2.00  &   58.97 \\\\\n",
        "LHR  &  JFK  &     864  &   43.19  &   5.00  &   35.44  &   82.05  &   84.62 \\\\\n",
        "LHR  &  LAX  &    1286  &  132.11  &  10.27  &  111.19  &   84.17  &   64.10 \\\\\n",
        "LHR  &  MAD  &     282  &    4.31  &   1.53  &   -1.10  &  -25.58  &   28.21 \\\\\n",
        "ORD  &  BOS  &     249  &   19.78  &   7.94  &    8.03  &   40.57  &   35.90 \\\\\n",
        "ORD  &  LGA  &     273  &   13.48  &   4.94  &    5.17  &   38.35  &   43.59 \\\\\n",
        "\n"
       ]
      }
     ],
     "prompt_number": 486
    },
    {
     "cell_type": "heading",
     "level": 3,
     "metadata": {},
     "source": [
      "Monte Carlo"
     ]
    },
    {
     "cell_type": "code",
     "collapsed": false,
     "input": [
      "def MonteCarlo(hp, cp, m, N=100000):\n",
      "    \"\"\"\n",
      "    return Monte Carlo estimation\n",
      "    \n",
      "    hp: historical prices\n",
      "    cp: current prices (not used)\n",
      "    m: maturity\n",
      "    N: number of trials\n",
      "    \"\"\"\n",
      "\n",
      "    dRet = hp.T.shift(1).T/hp\n",
      "    \n",
      "    expIncr = np.zeros(hp.shape[1])\n",
      "    \n",
      "    for dbb in xrange(m, hp.shape[1]):\n",
      "        simRet = np.ones(N)\n",
      "        for i in range(m):\n",
      "            simRet *= np.random.choice(dRet[dRet.columns[dbb - i]], N)\n",
      "        expIncr[dbb] = np.maximum(1, simRet.mean())\n",
      "\n",
      "    return np.vstack([expIncr-1]*cp.shape[0])*cp"
     ],
     "language": "python",
     "metadata": {},
     "outputs": [],
     "prompt_number": 91
    },
    {
     "cell_type": "code",
     "collapsed": false,
     "input": [
      "a = get_ticketPrices(historical, 'AMS', 'JFK', days=3)[0]"
     ],
     "language": "python",
     "metadata": {},
     "outputs": [],
     "prompt_number": 64
    },
    {
     "cell_type": "code",
     "collapsed": false,
     "input": [
      "a.columns"
     ],
     "language": "python",
     "metadata": {},
     "outputs": [
      {
       "metadata": {},
       "output_type": "pyout",
       "prompt_number": 68,
       "text": [
        "Int64Index([3, 4, 5, 6], dtype=int64)"
       ]
      }
     ],
     "prompt_number": 68
    },
    {
     "cell_type": "code",
     "collapsed": false,
     "input": [
      "mc_results = []\n",
      "for d in range(0, 39):\n",
      "    mc_results += run_singleSimulation('all_prices', '', MonteCarlo, get_customerWTP, allKnowing=False, p_fRange=[0.85], days=d)"
     ],
     "language": "python",
     "metadata": {},
     "outputs": [
      {
       "output_type": "stream",
       "stream": "stdout",
       "text": [
        "0 75670.6149143\n",
        "0"
       ]
      },
      {
       "output_type": "stream",
       "stream": "stdout",
       "text": [
        " 60780.6205068\n",
        "1"
       ]
      },
      {
       "output_type": "stream",
       "stream": "stdout",
       "text": [
        " 73407.6524137\n",
        "1"
       ]
      },
      {
       "output_type": "stream",
       "stream": "stdout",
       "text": [
        " 57860.8672066\n",
        "2"
       ]
      },
      {
       "output_type": "stream",
       "stream": "stdout",
       "text": [
        " 71351.318863\n",
        "2"
       ]
      },
      {
       "output_type": "stream",
       "stream": "stdout",
       "text": [
        " 55169.5623759\n",
        "3"
       ]
      },
      {
       "output_type": "stream",
       "stream": "stdout",
       "text": [
        " 69217.3883189\n",
        "3"
       ]
      },
      {
       "output_type": "stream",
       "stream": "stdout",
       "text": [
        " 52993.8773227\n",
        "4"
       ]
      },
      {
       "output_type": "stream",
       "stream": "stdout",
       "text": [
        " 66703.8664128\n",
        "4"
       ]
      },
      {
       "output_type": "stream",
       "stream": "stdout",
       "text": [
        " 50727.4653706\n",
        "5"
       ]
      },
      {
       "output_type": "stream",
       "stream": "stdout",
       "text": [
        " 64017.8626168\n",
        "5"
       ]
      },
      {
       "output_type": "stream",
       "stream": "stdout",
       "text": [
        " 48439.3245569\n",
        "6"
       ]
      },
      {
       "output_type": "stream",
       "stream": "stdout",
       "text": [
        " 62242.962996\n",
        "6"
       ]
      },
      {
       "output_type": "stream",
       "stream": "stdout",
       "text": [
        " 47113.9664266\n",
        "7"
       ]
      },
      {
       "output_type": "stream",
       "stream": "stdout",
       "text": [
        " 61142.3824421\n",
        "7"
       ]
      },
      {
       "output_type": "stream",
       "stream": "stdout",
       "text": [
        " 46418.7471286\n",
        "8"
       ]
      },
      {
       "output_type": "stream",
       "stream": "stdout",
       "text": [
        " 60206.6887378\n",
        "8"
       ]
      },
      {
       "output_type": "stream",
       "stream": "stdout",
       "text": [
        " 45898.4627887\n",
        "9"
       ]
      },
      {
       "output_type": "stream",
       "stream": "stdout",
       "text": [
        " 58784.7589153\n",
        "9"
       ]
      },
      {
       "output_type": "stream",
       "stream": "stdout",
       "text": [
        " 45016.6192155\n",
        "10"
       ]
      },
      {
       "output_type": "stream",
       "stream": "stdout",
       "text": [
        " 57003.9027937\n",
        "10"
       ]
      },
      {
       "output_type": "stream",
       "stream": "stdout",
       "text": [
        " 44007.7986048\n",
        "11"
       ]
      },
      {
       "output_type": "stream",
       "stream": "stdout",
       "text": [
        " 55142.2417206\n",
        "11"
       ]
      },
      {
       "output_type": "stream",
       "stream": "stdout",
       "text": [
        " 43050.8443351\n",
        "12"
       ]
      },
      {
       "output_type": "stream",
       "stream": "stdout",
       "text": [
        " 53380.1974445\n",
        "12"
       ]
      },
      {
       "output_type": "stream",
       "stream": "stdout",
       "text": [
        " 42089.7072964\n",
        "13"
       ]
      },
      {
       "output_type": "stream",
       "stream": "stdout",
       "text": [
        " 52183.0486019\n",
        "13"
       ]
      },
      {
       "output_type": "stream",
       "stream": "stdout",
       "text": [
        " 41573.2411962\n",
        "14"
       ]
      },
      {
       "output_type": "stream",
       "stream": "stdout",
       "text": [
        " 51211.9489029\n",
        "14"
       ]
      },
      {
       "output_type": "stream",
       "stream": "stdout",
       "text": [
        " 41254.107705\n",
        "15"
       ]
      },
      {
       "output_type": "stream",
       "stream": "stdout",
       "text": [
        " 50341.4237264\n",
        "15"
       ]
      },
      {
       "output_type": "stream",
       "stream": "stdout",
       "text": [
        " 40904.5915297\n",
        "16"
       ]
      },
      {
       "output_type": "stream",
       "stream": "stdout",
       "text": [
        " 49309.8984133\n",
        "16"
       ]
      },
      {
       "output_type": "stream",
       "stream": "stdout",
       "text": [
        " 40432.1720905\n",
        "17"
       ]
      },
      {
       "output_type": "stream",
       "stream": "stdout",
       "text": [
        " 48247.0692487\n",
        "17"
       ]
      },
      {
       "output_type": "stream",
       "stream": "stdout",
       "text": [
        " 39912.6681048\n",
        "18"
       ]
      },
      {
       "output_type": "stream",
       "stream": "stdout",
       "text": [
        " 47334.3695864\n",
        "18"
       ]
      },
      {
       "output_type": "stream",
       "stream": "stdout",
       "text": [
        " 39417.9133179\n",
        "19"
       ]
      },
      {
       "output_type": "stream",
       "stream": "stdout",
       "text": [
        " 46363.1870238\n",
        "19"
       ]
      },
      {
       "output_type": "stream",
       "stream": "stdout",
       "text": [
        " 38941.0149622\n",
        "20"
       ]
      },
      {
       "output_type": "stream",
       "stream": "stdout",
       "text": [
        " 45627.2758188\n",
        "20"
       ]
      },
      {
       "output_type": "stream",
       "stream": "stdout",
       "text": [
        " 38613.0948608\n",
        "21"
       ]
      },
      {
       "output_type": "stream",
       "stream": "stdout",
       "text": [
        " 45020.6934371\n",
        "21"
       ]
      },
      {
       "output_type": "stream",
       "stream": "stdout",
       "text": [
        " 38351.0400163\n",
        "22"
       ]
      },
      {
       "output_type": "stream",
       "stream": "stdout",
       "text": [
        " 44358.9803478\n",
        "22"
       ]
      },
      {
       "output_type": "stream",
       "stream": "stdout",
       "text": [
        " 38076.1032871\n",
        "23"
       ]
      },
      {
       "output_type": "stream",
       "stream": "stdout",
       "text": [
        " 43857.7138194\n",
        "23"
       ]
      },
      {
       "output_type": "stream",
       "stream": "stdout",
       "text": [
        " 37817.2033721\n",
        "24"
       ]
      },
      {
       "output_type": "stream",
       "stream": "stdout",
       "text": [
        " 43379.4860421\n",
        "24"
       ]
      },
      {
       "output_type": "stream",
       "stream": "stdout",
       "text": [
        " 37537.7264649\n",
        "25"
       ]
      },
      {
       "output_type": "stream",
       "stream": "stdout",
       "text": [
        " 42859.4096418\n",
        "25"
       ]
      },
      {
       "output_type": "stream",
       "stream": "stdout",
       "text": [
        " 37239.8297798\n",
        "26"
       ]
      },
      {
       "output_type": "stream",
       "stream": "stdout",
       "text": [
        " 42411.2767022\n",
        "26"
       ]
      },
      {
       "output_type": "stream",
       "stream": "stdout",
       "text": [
        " 36974.4500359\n",
        "27"
       ]
      },
      {
       "output_type": "stream",
       "stream": "stdout",
       "text": [
        " 41991.6079539\n",
        "27"
       ]
      },
      {
       "output_type": "stream",
       "stream": "stdout",
       "text": [
        " 36732.4030642\n",
        "28"
       ]
      },
      {
       "output_type": "stream",
       "stream": "stdout",
       "text": [
        " 41608.9159951\n",
        "28"
       ]
      },
      {
       "output_type": "stream",
       "stream": "stdout",
       "text": [
        " 36492.2582798\n",
        "29"
       ]
      },
      {
       "output_type": "stream",
       "stream": "stdout",
       "text": [
        " 41322.4393938\n",
        "29"
       ]
      },
      {
       "output_type": "stream",
       "stream": "stdout",
       "text": [
        " 36284.6787906\n",
        "30"
       ]
      },
      {
       "output_type": "stream",
       "stream": "stdout",
       "text": [
        " 41066.312625\n",
        "30"
       ]
      },
      {
       "output_type": "stream",
       "stream": "stdout",
       "text": [
        " 36095.3515483\n",
        "31"
       ]
      },
      {
       "output_type": "stream",
       "stream": "stdout",
       "text": [
        " 40827.3801656\n",
        "31"
       ]
      },
      {
       "output_type": "stream",
       "stream": "stdout",
       "text": [
        " 35896.4313104\n",
        "32"
       ]
      },
      {
       "output_type": "stream",
       "stream": "stdout",
       "text": [
        " 40603.835217\n",
        "32"
       ]
      },
      {
       "output_type": "stream",
       "stream": "stdout",
       "text": [
        " 35757.9836199\n",
        "33"
       ]
      },
      {
       "output_type": "stream",
       "stream": "stdout",
       "text": [
        " 40423.5163696\n",
        "33"
       ]
      },
      {
       "output_type": "stream",
       "stream": "stdout",
       "text": [
        " 35650.8683529\n",
        "34"
       ]
      },
      {
       "output_type": "stream",
       "stream": "stdout",
       "text": [
        " 40293.4447245\n",
        "34"
       ]
      },
      {
       "output_type": "stream",
       "stream": "stdout",
       "text": [
        " 35569.4517924\n",
        "35"
       ]
      },
      {
       "output_type": "stream",
       "stream": "stdout",
       "text": [
        " 40184.809075\n",
        "35"
       ]
      },
      {
       "output_type": "stream",
       "stream": "stdout",
       "text": [
        " 35514.3351809\n",
        "36"
       ]
      },
      {
       "output_type": "stream",
       "stream": "stdout",
       "text": [
        " 40111.2949444\n",
        "36"
       ]
      },
      {
       "output_type": "stream",
       "stream": "stdout",
       "text": [
        " 35435.1650213\n",
        "37"
       ]
      },
      {
       "output_type": "stream",
       "stream": "stdout",
       "text": [
        " 40025.6358265\n",
        "37"
       ]
      },
      {
       "output_type": "stream",
       "stream": "stdout",
       "text": [
        " 35337.9171797\n",
        "38"
       ]
      },
      {
       "output_type": "stream",
       "stream": "stdout",
       "text": [
        " 39954.788715\n",
        "38"
       ]
      },
      {
       "output_type": "stream",
       "stream": "stdout",
       "text": [
        " 35221.3554481\n"
       ]
      }
     ],
     "prompt_number": 100
    },
    {
     "cell_type": "code",
     "collapsed": false,
     "input": [
      "fig, ax1 = plt.subplots()\n",
      "\n",
      "data = []\n",
      "for i in range(len(mc_results)):\n",
      "    data.append(mc_results[i]['optionProfits']/mc_results[i]['totalSold']/100)\n",
      "\n",
      "ax1.plot(range(3,42), data, 'k-', label='option price (%)')\n",
      "legend()\n",
      "ylabel('option price (%)')\n",
      "xlabel('number of days before departure (dbb)')\n",
      "\n",
      "plot(range(0,42), [0]*42)\n",
      "xlim(3,42)"
     ],
     "language": "python",
     "metadata": {},
     "outputs": [
      {
       "metadata": {},
       "output_type": "pyout",
       "prompt_number": 108,
       "text": [
        "(3, 42)"
       ]
      },
      {
       "metadata": {},
       "output_type": "display_data",
       "png": "[encoded data removed]",
       "text": [
        "<matplotlib.figure.Figure at 0xa5f8c50>"
       ]
      }
     ],
     "prompt_number": 108
    },
    {
     "cell_type": "code",
     "collapsed": false,
     "input": [
      "mc_resultsAll = run_singleSimulation('all_prices', '', MonteCarlo, get_customerWTP, allKnowing=False, p_fRange=np.arange(0.1, 1, 0.05))\n",
      "#mc_results = run_allSimulation(MonteCarlo, get_customerWTP, allKnowing=False, p_fRange=[.2]) #np.arange(0.1, 1, 0.05))"
     ],
     "language": "python",
     "metadata": {},
     "outputs": [
      {
       "output_type": "stream",
       "stream": "stdout",
       "text": [
        "-1 51099.7176157\n",
        "-1"
       ]
      },
      {
       "output_type": "stream",
       "stream": "stdout",
       "text": [
        " 42030.7913206\n"
       ]
      }
     ],
     "prompt_number": 112
    },
    {
     "cell_type": "code",
     "collapsed": false,
     "input": [
      "fig, ax1 = plt.subplots()\n",
      "\n",
      "data = []\n",
      "for i in range(len(mc_resultsAll)):\n",
      "    data.append(mc_resultsAll[i]['optionProfits'])\n",
      "ax1.plot(np.arange(0.1, 1, 0.05), data, 'k-')\n",
      "ylabel('profits per option (%)')\n",
      "xlabel(r'$P^f$')"
     ],
     "language": "python",
     "metadata": {},
     "outputs": [
      {
       "metadata": {},
       "output_type": "pyout",
       "prompt_number": 119,
       "text": [
        "<matplotlib.text.Text at 0x7dded50>"
       ]
      },
      {
       "metadata": {},
       "output_type": "display_data",
       "png": "[encoded data removed]",
       "text": [
        "<matplotlib.figure.Figure at 0xa6982d0>"
       ]
      }
     ],
     "prompt_number": 119
    },
    {
     "cell_type": "code",
     "collapsed": false,
     "input": [
      "print get_priceTableSegment(mc_results)"
     ],
     "language": "python",
     "metadata": {},
     "outputs": [
      {
       "output_type": "stream",
       "stream": "stdout",
       "text": [
        "AMS  &  CDG  &     226  &   13.64  &   6.03  &   -1.86  &  -13.62  &   97.44 \\\\\n",
        "AMS  &  DXB  &     591  &    2.87  &   0.49  &  -13.71  &  -478.17  &   87.18 \\\\\n",
        "AMS  &  JFK  &     852  &   28.26  &   3.32  &  -24.32  &  -86.05  &   92.31 \\\\\n",
        "AMS  &  LHR  &     259  &   10.77  &   4.16  &   -0.59  &   -5.44  &  100.00 \\\\\n",
        "ATL  &  LAX  &     394  &   15.74  &   4.00  &   -0.80  &   -5.10  &   94.87 \\\\\n",
        "ATL  &  MCO  &     252  &   14.45  &   5.74  &    0.20  &    1.38  &   89.74 \\\\\n",
        "CDG  &  AMS  &     240  &   14.10  &   5.88  &   -1.27  &   -8.97  &  100.00 \\\\\n",
        "CDG  &  LHR  &     221  &    7.59  &   3.43  &   -4.00  &  -52.70  &  100.00 \\\\\n",
        "DEN  &  FLL  &     182  &    3.57  &   1.96  &   -2.05  &  -57.46  &   87.18 \\\\\n",
        "DEN  &  PHX  &     189  &    7.45  &   3.94  &   -0.58  &   -7.77  &   92.31 \\\\\n",
        "DFW  &  LAX  &     313  &    9.10  &   2.91  &   -2.87  &  -31.50  &   76.92 \\\\\n",
        "DFW  &  SFO  &     388  &   12.18  &   3.14  &  -12.29  &  -100.84  &   82.05 \\\\\n",
        "JFK  &  CDG  &    2637  &  127.06  &   4.82  &   65.10  &   51.24  &   92.31 \\\\\n",
        "JFK  &  LHR  &    1000  &   99.64  &   9.97  &   79.21  &   79.50  &   82.05 \\\\\n",
        "LAX  &  LAS  &     212  &    9.86  &   4.65  &   -2.97  &  -30.12  &   92.31 \\\\\n",
        "LAX  &  SFO  &     222  &   12.90  &   5.82  &   -1.41  &  -10.92  &   76.92 \\\\\n",
        "LHR  &  AMS  &     242  &   10.48  &   4.33  &   -0.04  &   -0.40  &  100.00 \\\\\n",
        "LHR  &  JFK  &     864  &   89.44  &  10.35  &   64.70  &   72.34  &   97.44 \\\\\n",
        "LHR  &  LAX  &    1286  &  100.91  &   7.84  &   70.24  &   69.61  &   71.79 \\\\\n",
        "LHR  &  MAD  &     282  &    8.41  &   2.98  &   -4.16  &  -49.45  &  100.00 \\\\\n",
        "ORD  &  BOS  &     249  &    9.02  &   3.62  &   -1.84  &  -20.44  &   84.62 \\\\\n",
        "ORD  &  LGA  &     273  &   13.18  &   4.83  &    1.70  &   12.92  &   92.31 \\\\\n",
        "\n"
       ]
      }
     ],
     "prompt_number": 415
    },
    {
     "cell_type": "code",
     "collapsed": false,
     "input": [
      "print get_priceTableSegment(mc_results)"
     ],
     "language": "python",
     "metadata": {},
     "outputs": [
      {
       "output_type": "stream",
       "stream": "stdout",
       "text": [
        "AMS  &  CDG  &     226  &    3.64  &   1.61  &   -0.47  &  -13.00  &  100.00 \\\\\n",
        "AMS  &  DXB  &     591  &    4.04  &   0.68  &   -1.25  &  -31.03  &   89.74 \\\\\n",
        "AMS  &  JFK  &     852  &    7.26  &   0.85  &   -6.11  &  -84.07  &   89.74 \\\\\n",
        "AMS  &  LHR  &     259  &    2.70  &   1.04  &   -0.14  &   -5.06  &  100.00 \\\\\n",
        "ATL  &  LAX  &     394  &    5.24  &   1.33  &   -0.07  &   -1.39  &  100.00 \\\\\n",
        "ATL  &  MCO  &     252  &    4.70  &   1.87  &    0.43  &    9.06  &  100.00 \\\\\n",
        "CDG  &  AMS  &     240  &    3.53  &   1.47  &   -0.32  &   -8.96  &  100.00 \\\\\n",
        "CDG  &  LHR  &     221  &    1.90  &   0.86  &   -1.00  &  -52.55  &  100.00 \\\\\n",
        "DEN  &  FLL  &     182  &    3.85  &   2.11  &    0.63  &   16.35  &  100.00 \\\\\n",
        "DEN  &  PHX  &     189  &    2.84  &   1.50  &    0.26  &    9.34  &  100.00 \\\\\n",
        "DFW  &  LAX  &     313  &    7.69  &   2.46  &    0.44  &    5.68  &  100.00 \\\\\n",
        "DFW  &  SFO  &     388  &   10.10  &   2.61  &   -0.64  &   -6.31  &  100.00 \\\\\n",
        "JFK  &  CDG  &    2637  &   75.62  &   2.87  &   55.22  &   73.01  &  100.00 \\\\\n",
        "JFK  &  LHR  &    1000  &   61.88  &   6.19  &   45.42  &   73.40  &  100.00 \\\\\n",
        "LAX  &  LAS  &     212  &    4.94  &   2.33  &    0.92  &   18.73  &  100.00 \\\\\n",
        "LAX  &  SFO  &     222  &   12.30  &   5.55  &    7.69  &   62.55  &  100.00 \\\\\n",
        "LHR  &  AMS  &     242  &    2.65  &   1.10  &    0.02  &    0.62  &  100.00 \\\\\n",
        "LHR  &  JFK  &     864  &   37.61  &   4.35  &   30.76  &   81.79  &  100.00 \\\\\n",
        "LHR  &  LAX  &    1286  &   87.81  &   6.83  &   72.86  &   82.98  &  100.00 \\\\\n",
        "LHR  &  MAD  &     282  &    2.10  &   0.74  &   -1.04  &  -49.57  &  100.00 \\\\\n",
        "ORD  &  BOS  &     249  &    7.62  &   3.06  &    2.38  &   31.18  &  100.00 \\\\\n",
        "ORD  &  LGA  &     273  &    6.23  &   2.28  &    1.75  &   28.06  &  100.00 \\\\\n",
        "\n"
       ]
      }
     ],
     "prompt_number": 419
    },
    {
     "cell_type": "heading",
     "level": 2,
     "metadata": {},
     "source": [
      "Descriptives"
     ]
    },
    {
     "cell_type": "code",
     "collapsed": false,
     "input": [
      "storage = h5py.File('storage/flightsTest.h5', 'r')\n",
      "\n",
      "total = 0\n",
      "totalSO = 0\n",
      "totalNA = 0\n",
      "\n",
      "for flyFrom in historical.keys():\n",
      "    for flyTo in historical[flyFrom].keys():\n",
      "        flights = historical[flyFrom][flyTo][:,1:43]\n",
      "        total += flights.shape[0]\n",
      "        totalSO += len(flights[:,0].nonzero()[0])\n",
      "        totalNA += len(flights.nonzero()[0])\n",
      "        #print flyFrom, flyTo, flights.shape[0]\n",
      "\n",
      "print total\n",
      "print totalSO\n",
      "print totalNA"
     ],
     "language": "python",
     "metadata": {},
     "outputs": [
      {
       "output_type": "stream",
       "stream": "stdout",
       "text": [
        "321545\n",
        "199142\n",
        "8465033\n"
       ]
      }
     ],
     "prompt_number": 12
    },
    {
     "cell_type": "raw",
     "metadata": {},
     "source": [
      "test = 141117 flights\n",
      "test = 103920 NOT sold-out\n",
      "test = 4400920 datapoints\n",
      "\n",
      "train = 321545 flights\n",
      "train = 199142 NOT sold-out\n",
      "train = 8465033 datapoints"
     ]
    },
    {
     "cell_type": "code",
     "collapsed": false,
     "input": [
      "amsjfk = get_ticketPrices(storage, 'AMS', 'JFK')[0]\n",
      "\n",
      "print np.array(amsjfk.values[1,:5], dtype=np.uint32)\n",
      "print np.array(amsjfk.values[2,:5], dtype=np.uint32)\n",
      "print np.array(amsjfk.values[3,:5], dtype=np.uint32)\n",
      "print np.array(amsjfk.values[21,:5], dtype=np.uint32)\n",
      "print np.array(amsjfk.values[251,:5], dtype=np.uint32)"
     ],
     "language": "python",
     "metadata": {},
     "outputs": [
      {
       "output_type": "stream",
       "stream": "stdout",
       "text": [
        "[ 57469  68619 122469 222469 109644]\n",
        "[87119 87369 93019 84469 79469]\n",
        "[87494 86694 94744 74569 70244]\n",
        "[410951 134430 242480 108934 126369]\n",
        "[147405 141980 155569 220569 273369]\n"
       ]
      }
     ],
     "prompt_number": 8
    },
    {
     "cell_type": "heading",
     "level": 4,
     "metadata": {},
     "source": [
      "Forecasting accuracy customer (MAPE)"
     ]
    },
    {
     "cell_type": "code",
     "collapsed": false,
     "input": [
      "m = 3\n",
      "MAPE = []\n",
      "for flyFrom in storage.keys():\n",
      "    for flyTo in storage[flyFrom].keys():\n",
      "        hp = get_ticketPrices(historical, flyFrom, flyTo)[0]\n",
      "        cp = get_ticketPrices(storage, flyFrom, flyTo)[0]\n",
      "        hpM = hp.T.shift(m).T\n",
      "        retM = hpM/hpX\n",
      "        V = retM.mean()\n",
      "        MAPE.append((np.absolute((cp*V)-cp.T.shift(m).T)/cp).mean().mean())\n",
      "        print flyFrom, flyTo, (np.absolute((cp*V)-cp.T.shift(m).T)/cp).mean().mean()"
     ],
     "language": "python",
     "metadata": {},
     "outputs": [
      {
       "output_type": "stream",
       "stream": "stdout",
       "text": [
        "AMS CDG 0.105585396235\n",
        "AMS DXB 0.0860761076545\n",
        "AMS JFK 0.0940508817508\n",
        "AMS"
       ]
      },
      {
       "output_type": "stream",
       "stream": "stdout",
       "text": [
        " LHR 0.067431572788\n",
        "ATL LAX 0.0660724103959\n",
        "ATL"
       ]
      },
      {
       "output_type": "stream",
       "stream": "stdout",
       "text": [
        " MCO 0.106779406894\n",
        "CDG"
       ]
      },
      {
       "output_type": "stream",
       "stream": "stdout",
       "text": [
        " AMS 0.0940928360659\n",
        "CDG LHR 0.0939240991791\n",
        "DEN FLL 0.112094773743\n",
        "DEN PHX 0.0795151049525\n",
        "DFW"
       ]
      },
      {
       "output_type": "stream",
       "stream": "stdout",
       "text": [
        " LAX 0.087286842316\n",
        "DFW"
       ]
      },
      {
       "output_type": "stream",
       "stream": "stdout",
       "text": [
        " SFO 0.126311072115\n",
        "JFK CDG 0.0908545658214\n",
        "JFK"
       ]
      },
      {
       "output_type": "stream",
       "stream": "stdout",
       "text": [
        " LHR 0.119052537768\n",
        "LAX"
       ]
      },
      {
       "output_type": "stream",
       "stream": "stdout",
       "text": [
        " LAS 0.13018980921\n",
        "LAX"
       ]
      },
      {
       "output_type": "stream",
       "stream": "stdout",
       "text": [
        " SFO 0.168880965097\n",
        "LHR"
       ]
      },
      {
       "output_type": "stream",
       "stream": "stdout",
       "text": [
        " AMS 0.0659172380937\n",
        "LHR"
       ]
      },
      {
       "output_type": "stream",
       "stream": "stdout",
       "text": [
        " JFK 0.0979917375416\n",
        "LHR LAX 0.143606027496\n",
        "LHR"
       ]
      },
      {
       "output_type": "stream",
       "stream": "stdout",
       "text": [
        " MAD 0.0670783785222\n",
        "ORD"
       ]
      },
      {
       "output_type": "stream",
       "stream": "stdout",
       "text": [
        " BOS 0.113351962667\n",
        "ORD"
       ]
      },
      {
       "output_type": "stream",
       "stream": "stdout",
       "text": [
        " LGA 0.0902622813497\n"
       ]
      }
     ],
     "prompt_number": 449
    },
    {
     "cell_type": "code",
     "collapsed": false,
     "input": [
      "print MAPE"
     ],
     "language": "python",
     "metadata": {},
     "outputs": [
      {
       "output_type": "stream",
       "stream": "stdout",
       "text": [
        "[0.10558539623540956, 0.086076107654477776, 0.094050881750843973, 0.067431572787993846, 0.066072410395871792, 0.10677940689440486, 0.094092836065937435, 0.093924099179085424, 0.11209477374347618, 0.079515104952515819, 0.087286842315967825, 0.12631107211457476, 0.090854565821371844, 0.11905253776796848, 0.13018980920975146, 0.1688809650971918, 0.065917238093670491, 0.097991737541627932, 0.14360602749648238, 0.067078378522190688, 0.11335196266665025, 0.09026228134970625]\n"
       ]
      }
     ],
     "prompt_number": 452
    },
    {
     "cell_type": "code",
     "collapsed": false,
     "input": [
      "op = []\n",
      "\n",
      "for i in range(len(ak_results)):\n",
      "    op.append(ak_results[i]['optionPrice']/100)\n",
      "plot(op)"
     ],
     "language": "python",
     "metadata": {},
     "outputs": [
      {
       "output_type": "stream",
       "stream": "stdout",
       "text": [
        "[0.042334752578955782, 0.081077545052953462, 0.12236956666144422, 0.15951883250425536, 0.19178796837586798, 0.20821848262420786, 0.23115699341333976, 0.25092755671754197, 0.26850274607019942, 0.28809499747225525, 0.30933849448271949, 0.32779587801239674, 0.34875735884751996, 0.36474509140198591, 0.38011401030304187, 0.39462109307388177, 0.40941663050963717, 0.42011960697959078, 0.42846192358720786, 0.43834873045341771, 0.45121416110590523]\n"
       ]
      }
     ],
     "prompt_number": 482
    },
    {
     "cell_type": "code",
     "collapsed": false,
     "input": [],
     "language": "python",
     "metadata": {},
     "outputs": [
      {
       "metadata": {},
       "output_type": "pyout",
       "prompt_number": 483,
       "text": [
        "[<matplotlib.lines.Line2D at 0x136bbad0>]"
       ]
      },
      {
       "metadata": {},
       "output_type": "display_data",
       "png": "[encoded data removed]",
       "text": [
        "<matplotlib.figure.Figure at 0x13b4dc50>"
       ]
      }
     ],
     "prompt_number": 483
    },
    {
     "cell_type": "code",
     "collapsed": false,
     "input": [
      "stats.pearsonr(op, MAPE)"
     ],
     "language": "python",
     "metadata": {},
     "outputs": [
      {
       "metadata": {},
       "output_type": "pyout",
       "prompt_number": 457,
       "text": [
        "(0.76267177096915573, 3.6778785258352171e-05)"
       ]
      }
     ],
     "prompt_number": 457
    },
    {
     "cell_type": "code",
     "collapsed": false,
     "input": [
      "scatter(op, MAPE)"
     ],
     "language": "python",
     "metadata": {},
     "outputs": [
      {
       "metadata": {},
       "output_type": "pyout",
       "prompt_number": 453,
       "text": [
        "<matplotlib.collections.PathCollection at 0x10702210>"
       ]
      },
      {
       "metadata": {},
       "output_type": "display_data",
       "png": "[encoded data removed]",
       "text": [
        "<matplotlib.figure.Figure at 0x4915b50>"
       ]
      }
     ],
     "prompt_number": 453
    },
    {
     "cell_type": "heading",
     "level": 4,
     "metadata": {},
     "source": [
      "Forecastin accuracy seller (BS)"
     ]
    },
    {
     "cell_type": "code",
     "collapsed": false,
     "input": [
      "m = 3\n",
      "MAPE_bs = []\n",
      "\n",
      "\n",
      "for flyFrom in storage.keys():\n",
      "    for flyTo in storage[flyFrom].keys():\n",
      "        hp = get_ticketPrices(historical, flyFrom, flyTo)[0]\n",
      "        cp = get_ticketPrices(storage, flyFrom, flyTo)[0]\n",
      "        bs = BlackScholes(hp, cp, 3)\n",
      "        bs.ix[:,:2] = np.nan\n",
      "        MAPE_bs.append((np.absolute((cp+bs)-cp.T.shift(m).T)/cp).mean().mean())\n",
      "        print flyFrom, flyTo, (np.absolute((cp+bs)-cp.T.shift(m).T)/cp).mean().mean()"
     ],
     "language": "python",
     "metadata": {},
     "outputs": [
      {
       "output_type": "stream",
       "stream": "stdout",
       "text": [
        "AMS CDG 0.111662089924\n",
        "AMS DXB 0.104047835606\n",
        "AMS JFK 0.106152407463\n",
        "AMS"
       ]
      },
      {
       "output_type": "stream",
       "stream": "stdout",
       "text": [
        " LHR 0.0716011168073\n",
        "ATL LAX 0.0871742179179\n",
        "ATL"
       ]
      },
      {
       "output_type": "stream",
       "stream": "stdout",
       "text": [
        " MCO 0.11344066833\n",
        "CDG"
       ]
      },
      {
       "output_type": "stream",
       "stream": "stdout",
       "text": [
        " AMS 0.100578764058\n",
        "CDG LHR 0.102115700021\n",
        "DEN FLL 0.130107805576\n",
        "DEN"
       ]
      },
      {
       "output_type": "stream",
       "stream": "stdout",
       "text": [
        " PHX 0.0872964352024\n",
        "DFW"
       ]
      },
      {
       "output_type": "stream",
       "stream": "stdout",
       "text": [
        " LAX 0.131705418041\n",
        "DFW"
       ]
      },
      {
       "output_type": "stream",
       "stream": "stdout",
       "text": [
        " SFO 0.153148852029\n",
        "JFK"
       ]
      },
      {
       "output_type": "stream",
       "stream": "stdout",
       "text": [
        " CDG 0.109081513534\n",
        "JFK"
       ]
      },
      {
       "output_type": "stream",
       "stream": "stdout",
       "text": [
        " LHR 0.155097526435\n",
        "LAX"
       ]
      },
      {
       "output_type": "stream",
       "stream": "stdout",
       "text": [
        " LAS 0.148800174781\n",
        "LAX"
       ]
      },
      {
       "output_type": "stream",
       "stream": "stdout",
       "text": [
        " SFO 0.166121817693\n",
        "LHR"
       ]
      },
      {
       "output_type": "stream",
       "stream": "stdout",
       "text": [
        " AMS 0.0712862458783\n",
        "LHR"
       ]
      },
      {
       "output_type": "stream",
       "stream": "stdout",
       "text": [
        " JFK 0.117916895476\n",
        "LHR LAX 0.169264514271\n",
        "LHR"
       ]
      },
      {
       "output_type": "stream",
       "stream": "stdout",
       "text": [
        " MAD 0.0745519905795\n",
        "ORD"
       ]
      },
      {
       "output_type": "stream",
       "stream": "stdout",
       "text": [
        " BOS 0.124925729846\n",
        "ORD"
       ]
      },
      {
       "output_type": "stream",
       "stream": "stdout",
       "text": [
        " LGA 0.110174341487\n"
       ]
      }
     ],
     "prompt_number": 515
    },
    {
     "cell_type": "code",
     "collapsed": false,
     "input": [
      "bs_results"
     ],
     "language": "python",
     "metadata": {},
     "outputs": [
      {
       "metadata": {},
       "output_type": "pyout",
       "prompt_number": 523,
       "text": [
        "[{'flyFrom': u'AMS',\n",
        "  'flyTo': u'CDG',\n",
        "  'm': 3,\n",
        "  'mtp': 225.99437583104037,\n",
        "  'optionPrice': 23.316779975663575,\n",
        "  'optionPricePerc': 10.31741603742203,\n",
        "  'optionProfits': -1.7393678303015161,\n",
        "  'optionProfitsPerc': -7.4597257087683051,\n",
        "  'p_f': 0.85,\n",
        "  'percSold': 53.846158189145996,\n",
        "  'r': 10,\n",
        "  'totalSold': 82656.006666666668},\n",
        " {'flyFrom': u'AMS',\n",
        "  'flyTo': u'DXB',\n",
        "  'm': 3,\n",
        "  'mtp': 590.68862244897969,\n",
        "  'optionPrice': 89.970969461953032,\n",
        "  'optionPricePerc': 15.231539264957522,\n",
        "  'optionProfits': -9.8091752861662229,\n",
        "  'optionProfitsPerc': -10.902600410807324,\n",
        "  'p_f': 0.85,\n",
        "  'percSold': 12.821733821733822,\n",
        "  'r': 10,\n",
        "  'totalSold': 70.006666666666661},\n",
        " {'flyFrom': u'AMS',\n",
        "  'flyTo': u'JFK',\n",
        "  'm': 3,\n",
        "  'mtp': 851.56972756853418,\n",
        "  'optionPrice': 78.927651761936474,\n",
        "  'optionPricePerc': 9.2684896147373195,\n",
        "  'optionProfits': -41.156243608452598,\n",
        "  'optionProfitsPerc': -52.144264639456239,\n",
        "  'p_f': 0.85,\n",
        "  'percSold': 25.641093474426807,\n",
        "  'r': 10,\n",
        "  'totalSold': 2520.0066666666667},\n",
        " {'flyFrom': u'AMS',\n",
        "  'flyTo': u'LHR',\n",
        "  'm': 3,\n",
        "  'mtp': 258.67328238978092,\n",
        "  'optionPrice': 17.998356212422912,\n",
        "  'optionPricePerc': 6.9579494434613283,\n",
        "  'optionProfits': -0.55146053873729572,\n",
        "  'optionProfitsPerc': -3.0639494642108702,\n",
        "  'p_f': 0.85,\n",
        "  'percSold': 48.717955400519905,\n",
        "  'r': 10,\n",
        "  'totalSold': 48602.006666666668},\n",
        " {'flyFrom': u'ATL',\n",
        "  'flyTo': u'LAX',\n",
        "  'm': 3,\n",
        "  'mtp': 393.87568111189103,\n",
        "  'optionPrice': 39.802136808888115,\n",
        "  'optionPricePerc': 10.105253692365242,\n",
        "  'optionProfits': -4.5545446874821431,\n",
        "  'optionProfitsPerc': -11.442965259254823,\n",
        "  'p_f': 0.85,\n",
        "  'percSold': 35.897447927004578,\n",
        "  'r': 10,\n",
        "  'totalSold': 19894.006666666668},\n",
        " {'flyFrom': u'ATL',\n",
        "  'flyTo': u'MCO',\n",
        "  'm': 3,\n",
        "  'mtp': 251.91892028534221,\n",
        "  'optionPrice': 25.805989509678739,\n",
        "  'optionPricePerc': 10.243767907725607,\n",
        "  'optionProfits': 2.502919687181961,\n",
        "  'optionProfitsPerc': 9.6989874627486046,\n",
        "  'p_f': 0.85,\n",
        "  'percSold': 61.538466088372921,\n",
        "  'r': 10,\n",
        "  'totalSold': 90168.006666666668},\n",
        " {'flyFrom': u'CDG',\n",
        "  'flyTo': u'AMS',\n",
        "  'm': 3,\n",
        "  'mtp': 239.72549845204296,\n",
        "  'optionPrice': 23.860493323114039,\n",
        "  'optionPricePerc': 9.9532563190758463,\n",
        "  'optionProfits': -1.1056868938209696,\n",
        "  'optionProfitsPerc': -4.6339649346221741,\n",
        "  'p_f': 0.85,\n",
        "  'percSold': 51.282055625043419,\n",
        "  'r': 10,\n",
        "  'totalSold': 78720.006666666668},\n",
        " {'flyFrom': u'CDG',\n",
        "  'flyTo': u'LHR',\n",
        "  'm': 3,\n",
        "  'mtp': 221.23996914470644,\n",
        "  'optionPrice': 14.328055166565688,\n",
        "  'optionPricePerc': 6.4762507525003929,\n",
        "  'optionProfits': -3.0163206231005568,\n",
        "  'optionProfitsPerc': -21.05184959183503,\n",
        "  'p_f': 0.85,\n",
        "  'percSold': 25.641039316239318,\n",
        "  'r': 10,\n",
        "  'totalSold': 12500.006666666666},\n",
        " {'flyFrom': u'DEN',\n",
        "  'flyTo': u'FLL',\n",
        "  'm': 3,\n",
        "  'mtp': 182.25453258671894,\n",
        "  'optionPrice': 23.417280744714894,\n",
        "  'optionPricePerc': 12.848668514497803,\n",
        "  'optionProfits': -15.116139146717126,\n",
        "  'optionProfitsPerc': -64.551214598769008,\n",
        "  'p_f': 0.85,\n",
        "  'percSold': 25.641839641839642,\n",
        "  'r': 10,\n",
        "  'totalSold': 210.00666666666666},\n",
        " {'flyFrom': u'DEN',\n",
        "  'flyTo': u'PHX',\n",
        "  'm': 3,\n",
        "  'mtp': 188.92133453963578,\n",
        "  'optionPrice': 23.462645962286999,\n",
        "  'optionPricePerc': 12.41926753241547,\n",
        "  'optionProfits': 1.1393037842668747,\n",
        "  'optionProfitsPerc': 4.8558196978215928,\n",
        "  'p_f': 0.85,\n",
        "  'percSold': 33.33334509797001,\n",
        "  'r': 10,\n",
        "  'totalSold': 18889.006666666668},\n",
        " {'flyFrom': u'DFW',\n",
        "  'flyTo': u'LAX',\n",
        "  'm': 3,\n",
        "  'mtp': 313.07675555119312,\n",
        "  'optionPrice': 47.612271141677311,\n",
        "  'optionPricePerc': 15.207858870855054,\n",
        "  'optionProfits': -31.37443137744469,\n",
        "  'optionProfitsPerc': -65.895683245366428,\n",
        "  'p_f': 0.85,\n",
        "  'percSold': 33.33333526007106,\n",
        "  'r': 10,\n",
        "  'totalSold': 115336.00666666667},\n",
        " {'flyFrom': u'DFW',\n",
        "  'flyTo': u'SFO',\n",
        "  'm': 3,\n",
        "  'mtp': 387.86037300873869,\n",
        "  'optionPrice': 67.07579030243113,\n",
        "  'optionPricePerc': 17.293798224888491,\n",
        "  'optionProfits': -38.547060225561658,\n",
        "  'optionProfitsPerc': -57.467918084544046,\n",
        "  'p_f': 0.85,\n",
        "  'percSold': 30.769234565370475,\n",
        "  'r': 10,\n",
        "  'totalSold': 54036.006666666668},\n",
        " {'flyFrom': u'JFK',\n",
        "  'flyTo': u'CDG',\n",
        "  'm': 3,\n",
        "  'mtp': 2637.4500417448553,\n",
        "  'optionPrice': 336.52009735012945,\n",
        "  'optionPricePerc': 12.759297504171801,\n",
        "  'optionProfits': 179.20150311093352,\n",
        "  'optionProfitsPerc': 53.251352451763033,\n",
        "  'p_f': 0.85,\n",
        "  'percSold': 35.897445490038081,\n",
        "  'r': 10,\n",
        "  'totalSold': 24948.006666666668},\n",
        " {'flyFrom': u'JFK',\n",
        "  'flyTo': u'LHR',\n",
        "  'm': 3,\n",
        "  'mtp': 999.74155738030527,\n",
        "  'optionPrice': 142.9654471253111,\n",
        "  'optionPricePerc': 14.300240504149267,\n",
        "  'optionProfits': 47.342830346545085,\n",
        "  'optionProfitsPerc': 33.114875865808656,\n",
        "  'p_f': 0.85,\n",
        "  'percSold': 69.230771389649888,\n",
        "  'r': 10,\n",
        "  'totalSold': 213786.00666666665},\n",
        " {'flyFrom': u'LAX',\n",
        "  'flyTo': u'LAS',\n",
        "  'm': 3,\n",
        "  'mtp': 212.12028702483391,\n",
        "  'optionPrice': 32.132377892900344,\n",
        "  'optionPricePerc': 15.148187070451424,\n",
        "  'optionProfits': -2.4687782519303476,\n",
        "  'optionProfitsPerc': -7.6831483189914325,\n",
        "  'p_f': 0.85,\n",
        "  'percSold': 35.897439102163517,\n",
        "  'r': 10,\n",
        "  'totalSold': 74676.006666666668},\n",
        " {'flyFrom': u'LAX',\n",
        "  'flyTo': u'SFO',\n",
        "  'm': 3,\n",
        "  'mtp': 221.56220674432271,\n",
        "  'optionPrice': 38.838322391880851,\n",
        "  'optionPricePerc': 17.529308343051174,\n",
        "  'optionProfits': 14.156485906094135,\n",
        "  'optionProfitsPerc': 36.449787308664874,\n",
        "  'p_f': 0.85,\n",
        "  'percSold': 48.717949775681348,\n",
        "  'r': 10,\n",
        "  'totalSold': 307059.00666666665},\n",
        " {'flyFrom': u'LHR',\n",
        "  'flyTo': u'AMS',\n",
        "  'm': 3,\n",
        "  'mtp': 241.75346218152109,\n",
        "  'optionPrice': 18.368017866453997,\n",
        "  'optionPricePerc': 7.5978303271050294,\n",
        "  'optionProfits': 0.27760325734304325,\n",
        "  'optionProfitsPerc': 1.5113403055320276,\n",
        "  'p_f': 0.85,\n",
        "  'percSold': 43.589750248885423,\n",
        "  'r': 10,\n",
        "  'totalSold': 43639.006666666668},\n",
        " {'flyFrom': u'LHR',\n",
        "  'flyTo': u'JFK',\n",
        "  'm': 3,\n",
        "  'mtp': 863.77604344591509,\n",
        "  'optionPrice': 127.12109060712102,\n",
        "  'optionPricePerc': 14.716903944220194,\n",
        "  'optionProfits': 84.229147839630926,\n",
        "  'optionProfitsPerc': 66.258987739452749,\n",
        "  'p_f': 0.85,\n",
        "  'percSold': 58.974361197248058,\n",
        "  'r': 10,\n",
        "  'totalSold': 176870.00666666665},\n",
        " {'flyFrom': u'LHR',\n",
        "  'flyTo': u'LAX',\n",
        "  'm': 3,\n",
        "  'mtp': 1286.4436485828808,\n",
        "  'optionPrice': 198.47195993878387,\n",
        "  'optionPricePerc': 15.427955989943005,\n",
        "  'optionProfits': 99.670047899956757,\n",
        "  'optionProfitsPerc': 50.218704914638167,\n",
        "  'p_f': 0.85,\n",
        "  'percSold': 53.846174269113334,\n",
        "  'r': 10,\n",
        "  'totalSold': 17577.006666666668},\n",
        " {'flyFrom': u'LHR',\n",
        "  'flyTo': u'MAD',\n",
        "  'm': 3,\n",
        "  'mtp': 282.37269021158505,\n",
        "  'optionPrice': 22.486608618529267,\n",
        "  'optionPricePerc': 7.9634502195236365,\n",
        "  'optionProfits': -6.2849068246249784,\n",
        "  'optionProfitsPerc': -27.949554026773654,\n",
        "  'p_f': 0.85,\n",
        "  'percSold': 20.512824125250159,\n",
        "  'r': 10,\n",
        "  'totalSold': 37856.006666666668},\n",
        " {'flyFrom': u'ORD',\n",
        "  'flyTo': u'BOS',\n",
        "  'm': 3,\n",
        "  'mtp': 249.20766199164714,\n",
        "  'optionPrice': 40.867759138371341,\n",
        "  'optionPricePerc': 16.399078106892688,\n",
        "  'optionProfits': -12.35819505019904,\n",
        "  'optionProfitsPerc': -30.239473146438677,\n",
        "  'p_f': 0.85,\n",
        "  'percSold': 33.333335706184123,\n",
        "  'r': 10,\n",
        "  'totalSold': 93652.006666666668},\n",
        " {'flyFrom': u'ORD',\n",
        "  'flyTo': u'LGA',\n",
        "  'm': 3,\n",
        "  'mtp': 273.08584759525354,\n",
        "  'optionPrice': 38.28289799510857,\n",
        "  'optionPricePerc': 14.018631259078823,\n",
        "  'optionProfits': -0.984063043948739,\n",
        "  'optionProfitsPerc': -2.5705030065238881,\n",
        "  'p_f': 0.85,\n",
        "  'percSold': 38.461539805619068,\n",
        "  'r': 10,\n",
        "  'totalSold': 190770.00666666665}]"
       ]
      }
     ],
     "prompt_number": 523
    },
    {
     "cell_type": "code",
     "collapsed": false,
     "input": [
      "op = []\n",
      "\n",
      "for i in range(len(bs_results)):\n",
      "    op.append(bs_results[i]['optionProfits'])\n",
      "scatter(stds_r, op)"
     ],
     "language": "python",
     "metadata": {},
     "outputs": [
      {
       "metadata": {},
       "output_type": "pyout",
       "prompt_number": 533,
       "text": [
        "<matplotlib.collections.PathCollection at 0x1e039d90>"
       ]
      },
      {
       "metadata": {},
       "output_type": "display_data",
       "png": "[encoded data removed]",
       "text": [
        "<matplotlib.figure.Figure at 0x1ab3c8d0>"
       ]
      }
     ],
     "prompt_number": 533
    },
    {
     "cell_type": "code",
     "collapsed": false,
     "input": [
      "prof = []\n",
      "\n",
      "for i in range(len(ak_results)):\n",
      "    prof.append(ak_results[i]['optionPrice']/100)\n",
      "scatter(prof, op)"
     ],
     "language": "python",
     "metadata": {},
     "outputs": [
      {
       "metadata": {},
       "output_type": "pyout",
       "prompt_number": 526,
       "text": [
        "<matplotlib.collections.PathCollection at 0x18dd2650>"
       ]
      },
      {
       "metadata": {},
       "output_type": "display_data",
       "png": "[encoded data removed]",
       "text": [
        "<matplotlib.figure.Figure at 0x1be7e610>"
       ]
      }
     ],
     "prompt_number": 526
    },
    {
     "cell_type": "code",
     "collapsed": false,
     "input": [
      "ss.pearsonr(stds_r, op)"
     ],
     "language": "python",
     "metadata": {},
     "outputs": [
      {
       "metadata": {},
       "output_type": "pyout",
       "prompt_number": 528,
       "text": [
        "(0.92594046270590191, 6.5830050227251707e-10)"
       ]
      }
     ],
     "prompt_number": 528
    },
    {
     "cell_type": "code",
     "collapsed": false,
     "input": [
      "print op"
     ],
     "language": "python",
     "metadata": {},
     "outputs": [
      {
       "output_type": "stream",
       "stream": "stdout",
       "text": [
        "[-1.7393678303015161, -9.8091752861662229, -41.156243608452598, -0.55146053873729572, -4.5545446874821431, 2.502919687181961, -1.1056868938209696, -3.0163206231005568, -15.116139146717126, 1.1393037842668747, -31.37443137744469, -38.547060225561658, 179.20150311093352, 47.342830346545085, -2.4687782519303476, 14.156485906094135, 0.27760325734304325, 84.229147839630926, 99.670047899956757, -6.2849068246249784, -12.35819505019904, -0.984063043948739]\n"
       ]
      }
     ],
     "prompt_number": 534
    },
    {
     "cell_type": "code",
     "collapsed": false,
     "input": [
      "print MAPE_bs"
     ],
     "language": "python",
     "metadata": {},
     "outputs": [
      {
       "output_type": "stream",
       "stream": "stdout",
       "text": [
        "[0.11166208992372333, 0.1040478356058209, 0.10615240746274249, 0.071601116807286841, 0.087174217917851154, 0.1134406683303409, 0.10057876405788135, 0.10211570002055852, 0.13010780557576004, 0.087296435202399811, 0.13170541804099672, 0.15314885202917394, 0.1090815135340238, 0.15509752643517863, 0.14880017478098212, 0.16612181769267073, 0.07128624587834316, 0.11791689547629186, 0.16926451427126418, 0.074551990579548019, 0.12492572984551534, 0.11017434148708059]\n"
       ]
      }
     ],
     "prompt_number": 516
    },
    {
     "cell_type": "heading",
     "level": 4,
     "metadata": {},
     "source": [
      "Forecasting accuracy seller (MC)"
     ]
    },
    {
     "cell_type": "code",
     "collapsed": false,
     "input": [
      "m = 3\n",
      "ma\n",
      "for flyFrom in storage.keys():\n",
      "    for flyTo in storage[flyFrom].keys():\n",
      "        hp = get_ticketPrices(historical, flyFrom, flyTo)[0]\n",
      "        cp = get_ticketPrices(storage, flyFrom, flyTo)[0]\n",
      "        mc = MonteCarlo(hp, cp, 3)\n",
      "        mc.ix[:,:2] = np.nan\n",
      "        print flyFrom, flyTo, (np.absolute((cp+mc)-cp.T.shift(m).T)/cp).mean().mean()"
     ],
     "language": "python",
     "metadata": {},
     "outputs": [
      {
       "output_type": "stream",
       "stream": "stdout",
       "text": [
        "AMS CDG 0.105988229447\n",
        "AMS"
       ]
      },
      {
       "output_type": "stream",
       "stream": "stdout",
       "text": [
        " DXB 0.086378873793\n",
        "AMS"
       ]
      },
      {
       "output_type": "stream",
       "stream": "stdout",
       "text": [
        " JFK 0.0940898052353\n",
        "AMS"
       ]
      },
      {
       "output_type": "stream",
       "stream": "stdout",
       "text": [
        " LHR 0.0675399636478\n",
        "ATL"
       ]
      },
      {
       "output_type": "stream",
       "stream": "stdout",
       "text": [
        " LAX 0.0665629943626\n",
        "ATL"
       ]
      },
      {
       "output_type": "stream",
       "stream": "stdout",
       "text": [
        " MCO 0.107058907897\n",
        "CDG"
       ]
      },
      {
       "output_type": "stream",
       "stream": "stdout",
       "text": [
        " AMS 0.0945247814592\n",
        "CDG"
       ]
      },
      {
       "output_type": "stream",
       "stream": "stdout",
       "text": [
        " LHR 0.0943601328421\n",
        "DEN"
       ]
      },
      {
       "output_type": "stream",
       "stream": "stdout",
       "text": [
        " FLL 0.113646946847\n",
        "DEN"
       ]
      },
      {
       "output_type": "stream",
       "stream": "stdout",
       "text": [
        " PHX 0.0797136510863\n",
        "DFW"
       ]
      },
      {
       "output_type": "stream",
       "stream": "stdout",
       "text": [
        " LAX 0.0880894022774\n",
        "DFW"
       ]
      },
      {
       "output_type": "stream",
       "stream": "stdout",
       "text": [
        " SFO 0.126788009585\n",
        "JFK"
       ]
      },
      {
       "output_type": "stream",
       "stream": "stdout",
       "text": [
        " CDG 0.0919325925277\n",
        "JFK"
       ]
      },
      {
       "output_type": "stream",
       "stream": "stdout",
       "text": [
        " LHR 0.123313332447\n",
        "LAX"
       ]
      },
      {
       "output_type": "stream",
       "stream": "stdout",
       "text": [
        " LAS 0.131047542195\n",
        "LAX"
       ]
      },
      {
       "output_type": "stream",
       "stream": "stdout",
       "text": [
        " SFO 0.170302254475\n",
        "LHR"
       ]
      },
      {
       "output_type": "stream",
       "stream": "stdout",
       "text": [
        " AMS 0.0660647420645\n",
        "LHR"
       ]
      },
      {
       "output_type": "stream",
       "stream": "stdout",
       "text": [
        " JFK 0.103877795489\n",
        "LHR"
       ]
      },
      {
       "output_type": "stream",
       "stream": "stdout",
       "text": [
        " LAX 0.158155408832\n",
        "LHR"
       ]
      },
      {
       "output_type": "stream",
       "stream": "stdout",
       "text": [
        " MAD 0.0671257650026\n",
        "ORD"
       ]
      },
      {
       "output_type": "stream",
       "stream": "stdout",
       "text": [
        " BOS 0.114427029976\n",
        "ORD"
       ]
      },
      {
       "output_type": "stream",
       "stream": "stdout",
       "text": [
        " LGA 0.0911148283851\n"
       ]
      }
     ],
     "prompt_number": 140
    },
    {
     "cell_type": "code",
     "collapsed": false,
     "input": [],
     "language": "python",
     "metadata": {},
     "outputs": [],
     "prompt_number": 395
    },
    {
     "cell_type": "heading",
     "level": 2,
     "metadata": {},
     "source": [
      "Convergence plot"
     ]
    },
    {
     "cell_type": "code",
     "collapsed": false,
     "input": [
      "a =  run_singleSimulation('ATL', 'LAX', get_sellerWTA_foreknowledge, get_customerWTP, allKnowing=True)"
     ],
     "language": "python",
     "metadata": {},
     "outputs": [],
     "prompt_number": 117
    },
    {
     "cell_type": "code",
     "collapsed": false,
     "input": [
      "conv = []\n",
      "for i in xrange(1, len(a)):\n",
      "    conv.append(int(mean(a[:i])))"
     ],
     "language": "python",
     "metadata": {},
     "outputs": [],
     "prompt_number": 118
    },
    {
     "cell_type": "code",
     "collapsed": false,
     "input": [
      "c2 = (np.array(conv)/np.mean(conv[-1]))*100"
     ],
     "language": "python",
     "metadata": {},
     "outputs": [],
     "prompt_number": 119
    },
    {
     "cell_type": "code",
     "collapsed": false,
     "input": [
      "c3 = (np.array(conv)/np.mean(conv[-1]))*100"
     ],
     "language": "python",
     "metadata": {},
     "outputs": [],
     "prompt_number": 112
    },
    {
     "cell_type": "code",
     "collapsed": false,
     "input": [
      "c4 = (np.array(conv)/np.mean(conv[-1]))*100"
     ],
     "language": "python",
     "metadata": {},
     "outputs": [],
     "prompt_number": 115
    },
    {
     "cell_type": "code",
     "collapsed": false,
     "input": [
      "plot(c2, label='ATL -> LAX')\n",
      "plot(c3, label='LHR -> JFK')\n",
      "plot(c4, label='AMS -> CDG')\n",
      "xlabel('number of trials (N)')\n",
      "ylabel('relative average (%)')\n",
      "ylim(99, 101)\n",
      "\n",
      "legend()\n",
      "savefig('/home/patrick/multiple.png', dpi=200)"
     ],
     "language": "python",
     "metadata": {},
     "outputs": [
      {
       "metadata": {},
       "output_type": "display_data",
       "png": "[encoded data removed]",
       "text": [
        "<matplotlib.figure.Figure at 0x831e810>"
       ]
      }
     ],
     "prompt_number": 122
    },
    {
     "cell_type": "heading",
     "level": 2,
     "metadata": {},
     "source": [
      "TMP"
     ]
    },
    {
     "cell_type": "code",
     "collapsed": false,
     "input": [
      "print 'All routes: \\n'\n",
      "for oa in storage.keys():\n",
      "    for ia in storage[oa].keys():\n",
      "        print oa + '  >  ' + ia"
     ],
     "language": "python",
     "metadata": {},
     "outputs": [
      {
       "output_type": "stream",
       "stream": "stdout",
       "text": [
        "All routes: \n",
        "\n",
        "AMS  >  CDG\n",
        "AMS  >  DXB\n",
        "AMS  >  JFK\n",
        "AMS  >  LHR\n",
        "ATL  >  LAX\n",
        "ATL  >  MCO\n",
        "CDG  >  AMS\n",
        "CDG  >  LHR\n",
        "DEN  >  FLL\n",
        "DEN  >  PHX\n",
        "DFW  >  LAX\n",
        "DFW  >  SFO\n",
        "JFK  >  CDG\n",
        "JFK  >  LHR\n",
        "LAX  >  LAS\n",
        "LAX  >  SFO\n",
        "LHR  >  AMS\n",
        "LHR  >  JFK\n",
        "LHR  >  LAX\n",
        "LHR  >  MAD\n",
        "ORD  >  BOS\n",
        "ORD  >  LGA\n"
       ]
      }
     ],
     "prompt_number": 25
    }
   ],
   "metadata": {}
  }
 ]
}