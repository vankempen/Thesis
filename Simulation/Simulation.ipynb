{
 "metadata": {
  "name": ""
 },
 "nbformat": 3,
 "nbformat_minor": 0,
 "worksheets": [
  {
   "cells": [
    {
     "cell_type": "heading",
     "level": 2,
     "metadata": {},
     "source": [
      "Imports"
     ]
    },
    {
     "cell_type": "code",
     "collapsed": false,
     "input": [
      "from __future__ import division\n",
      "\n",
      "import h5py\n",
      "import numpy as np\n",
      "import pandas as pd\n",
      "from scipy import stats"
     ],
     "language": "python",
     "metadata": {},
     "outputs": [],
     "prompt_number": 1
    },
    {
     "cell_type": "heading",
     "level": 2,
     "metadata": {},
     "source": [
      "Empirical data"
     ]
    },
    {
     "cell_type": "code",
     "collapsed": false,
     "input": [
      "storage = h5py.File('storage/flightsTest.h5', 'r')\n",
      "historical = h5py.File('storage/flightsTrain.h5', 'r')\n",
      "\n",
      "pairs = []\n",
      "for flyFrom in storage.keys():\n",
      "    for flyTo in storage[flyFrom].keys():\n",
      "        pairs.append((flyFrom, flyTo))"
     ],
     "language": "python",
     "metadata": {},
     "outputs": [],
     "prompt_number": 2
    },
    {
     "cell_type": "heading",
     "level": 2,
     "metadata": {},
     "source": [
      "Main functions"
     ]
    },
    {
     "cell_type": "code",
     "collapsed": false,
     "input": [
      "def get_ticketPrices_route(dataset, flyFrom, flyTo, days=-1):\n",
      "    ticketPrices = pd.DataFrame(dataset[flyFrom][flyTo][:,1:43], dtype=np.float64)\n",
      "    ticketPrices[ticketPrices == 0] = np.nan\n",
      "    ticketPrices = ticketPrices.dropna(thresh=int(42*2/3)).ffill(axis=1)  # drop everythings that has less than 2/3 avilable data\n",
      "    \n",
      "    meanAtZero = ticketPrices[0].mean()\n",
      "    \n",
      "    if days != -1:\n",
      "        ticketPrices = ticketPrices.ix[:,days:days+3]\n",
      "\n",
      "    meanTicketPrice = ticketPrices.mean().mean()\n",
      "    ticketPrices = ticketPrices.fillna(meanAtZero*3)\n",
      "\n",
      "    return ticketPrices, meanTicketPrice"
     ],
     "language": "python",
     "metadata": {},
     "outputs": [],
     "prompt_number": 3
    },
    {
     "cell_type": "code",
     "collapsed": false,
     "input": [
      "def get_ticketPrices(dataset, flyFrom, flyTo, days=-1):\n",
      "    \"\"\"\n",
      "    returns cleaned up ticketPrices AND meanTicketPrice in whole $'s (for sell-outs)\n",
      "\n",
      "    dataset: data to get prices from (historical/current)\n",
      "    flyFrom: outbound airport\n",
      "    flyTo: inbound airport\n",
      "    \"\"\"\n",
      "    \n",
      "    # return stack of all prices of all routes\n",
      "    if flyFrom == 'all_prices':\n",
      "        cp = None\n",
      "        mtp = 0\n",
      "    \n",
      "        for ff in dataset.keys():\n",
      "            for ft in dataset[ff].keys():\n",
      "                if not cp:\n",
      "                    cp, mtp = get_ticketPrices_route(dataset, ff, ft, days)\n",
      "                    mtp *= cp.shape[0]\n",
      "                else:\n",
      "                    tmp_cp, tmp_mtp = get_ticketPrices_route(dataset, ff, ft, days)\n",
      "                    mtp += tmp_mtp * tmp_cp.shape[0]\n",
      "                    cp = cp.append(tmp_cp, ignore_index=True)\n",
      "                    \n",
      "        mtp /= cp.shape[0]\n",
      "        print days, mtp\n",
      "        return cp, mtp\n",
      "\n",
      "    else:\n",
      "        return get_ticketPrices_route(dataset, flyFrom, flyTo, days)"
     ],
     "language": "python",
     "metadata": {},
     "outputs": [],
     "prompt_number": 4
    },
    {
     "cell_type": "heading",
     "level": 2,
     "metadata": {},
     "source": [
      "Simulation models"
     ]
    },
    {
     "cell_type": "code",
     "collapsed": false,
     "input": [
      "class OptionResults():\n",
      "    \"\"\"\n",
      "    holds the results of an option simulation\n",
      "    \"\"\"\n",
      "\n",
      "    def __init__(self, ctp, m=3):\n",
      "        \"\"\"\n",
      "        flyFrom: outbound airport\n",
      "        flyFrom: inbound airport\n",
      "        ctp: current ticket prices\n",
      "        m: number of days till maturity\n",
      "        \"\"\"\n",
      "        self.ctp = ctp.copy()\n",
      "        self.m = m\n",
      "\n",
      "        self.N = 0  # number of trials\n",
      "        self.totalRevenues = False\n",
      "        self.totalCosts = False\n",
      "        self.totalAccepted = False\n",
      "\n",
      "\n",
      "    def add_trialResults(self, revenues, costs, accepted):\n",
      "        \"\"\"\n",
      "        adds results of trial\n",
      "        \n",
      "        revenues: 2D-array with simulation revenues\n",
      "        costs: 2D-array with simulation costs\n",
      "        totalAccepted: 1D-array with number of options accepted by customer\n",
      "        \"\"\"\n",
      "        self.N += 1\n",
      "        self.add_totalRevenues(revenues)\n",
      "        self.add_totalCosts(costs)\n",
      "        self.add_totalAccepted(accepted)\n",
      "\n",
      "    def get_total(self, dset, dbb=False):\n",
      "        \"\"\"\n",
      "        returns total of dset\n",
      "        \n",
      "        dbb: return in dbb\n",
      "            False (def): return mean over all dbb\n",
      "            True: return 1D-array\n",
      "        \"\"\"\n",
      "        d = dset.sum()\n",
      "        if not dbb:\n",
      "            d = d.sum()\n",
      "        return d\n",
      "\n",
      "\n",
      "    # Revenues\n",
      "    def add_totalRevenues(self, tr):\n",
      "        \"\"\"adds the total revenues\n",
      "        \n",
      "        dbb: return in dbb\n",
      "            False (def): return mean over all dbb\n",
      "            True: return 1D-array\n",
      "        \"\"\"\n",
      "        if not self.totalRevenues:\n",
      "            self.totalRevenues = tr\n",
      "        else:\n",
      "            self.totalRevenues += tr\n",
      "\n",
      "    def get_totalRevenues(self, dbb=False):\n",
      "        \"\"\"\n",
      "        returns total revenues\n",
      "        \n",
      "        dbb: return in dbb\n",
      "            False (def): return mean over all dbb\n",
      "            True: return 1D-array\n",
      "        \"\"\"\n",
      "        tr = self.get_total(self.totalRevenues, dbb)\n",
      "        return tr/self.N\n",
      "\n",
      "    def get_percRevenues(self, dbb=False):\n",
      "        \"\"\"\n",
      "        returns percentage revenues\n",
      "        \n",
      "        dbb: return in dbb\n",
      "            False (def): return mean over all dbb\n",
      "            True: return 1D-array\n",
      "        \"\"\"\n",
      "        percRevenues = self.totalRevenues/(self.ctp*self.N)\n",
      "        \n",
      "        pr = self.get_total(percRevenues, dbb)\n",
      "        ta = self.get_totalAccepted(dbb)\n",
      "        return pr/ta\n",
      "\n",
      "\n",
      " \n",
      "\n",
      "    # Costs\n",
      "    def add_totalCosts(self, tc):\n",
      "        \"\"\"adds the total costs\"\"\"\n",
      "        if type(self.totalCosts) == bool:\n",
      "            self.totalCosts = tc\n",
      "        else:\n",
      "            self.totalCosts += tc\n",
      "\n",
      "    def get_totalCosts(self, dbb=False):\n",
      "        \"\"\"\n",
      "        returns total costs\n",
      "        \n",
      "        dbb: return in dbb\n",
      "            False (def): return mean over all dbb\n",
      "            True: return 1D-array\n",
      "        \"\"\"\n",
      "        tc = self.get_total(self.totalCosts, dbb)\n",
      "        return tc/self.N   \n",
      "\n",
      "\n",
      "    # Profits\n",
      "    def get_totalProfits(self, dbb=False):\n",
      "        \"\"\"\n",
      "        returns total profits\n",
      "        \n",
      "        dbb: return in dbb\n",
      "            False (def): return mean over all dbb\n",
      "            True: return 1D-array\n",
      "        \"\"\"\n",
      "        profits = self.get_totalRevenues(dbb) - self.get_totalCosts(dbb)\n",
      "        return profits\n",
      "\n",
      "    def get_percProfits(self, dbb=False):\n",
      "        \"\"\"\n",
      "        returns percentage profits\n",
      "        \n",
      "        dbb: return in dbb\n",
      "            False (def): return mean over all dbb\n",
      "            True: return 1D-array\n",
      "        \"\"\"\n",
      "        totalProfits = (self.totalRevenues - self.totalCosts)/self.N\n",
      "        percProfits = totalProfits/self.ctp\n",
      "        \n",
      "        pp = self.get_total(percProfits, dbb)\n",
      "        ta = self.get_totalAccepted(dbb)\n",
      "        return pp/ta\n",
      "\n",
      "    def get_profitRatio(self, dbb=False):\n",
      "        \"\"\"\n",
      "        returns the profit ratio (perfProfit*percAccepted)\n",
      "\n",
      "        dbb: return in dbb\n",
      "            False (def): return mean over all dbb\n",
      "            True: return 1D-array\n",
      "        \"\"\"\n",
      "        pp = self.get_percProfits(dbb)\n",
      "        pa = self.get_percAccepted(dbb)\n",
      "        \n",
      "        return pp*pa\n",
      "\n",
      "    # Accepted\n",
      "    def add_totalAccepted(self, ta):\n",
      "        \"\"\"adds the total number of options accepted\"\"\"\n",
      "        if type(self.totalAccepted) == bool:  # np.array\n",
      "            self.totalAccepted = ta\n",
      "        else:\n",
      "            self.totalAccepted += ta\n",
      "    \n",
      "    def get_totalAccepted(self, dbb=False):\n",
      "        \"\"\"\n",
      "        return total number of options accepted\n",
      "        \n",
      "        dbb: return in dbb\n",
      "            False (def): return mean over all dbb\n",
      "            True: return 1D-array\n",
      "        \"\"\"\n",
      "        ta = self.totalAccepted\n",
      "        if not dbb:\n",
      "            ta = ta[m:].sum()\n",
      "        return ta/self.N\n",
      "\n",
      "    def get_percAccepted(self, dbb=False):\n",
      "        \"\"\"\n",
      "        return percentage of option acceptances\n",
      "        \n",
      "        dbb: return in dbb\n",
      "            False (def): return mean over all dbb\n",
      "            True: return 1D-array\n",
      "        \"\"\"\n",
      "        ta = self.get_totalAccepted(dbb)\n",
      "        totalPossible = self.get_totalPossible(dbb)\n",
      "        return ta/totalPossible\n",
      "\n",
      "    def get_totalPossible(self, dbb=False):\n",
      "        \"\"\"\n",
      "        return total number of option offers made\n",
      "        \n",
      "        dbb: return in dbb\n",
      "            False (def): return mean over all dbb\n",
      "            True: return 1D-array\n",
      "        \"\"\"\n",
      "        r, c = self.ctp.shape\n",
      "        \n",
      "        total = np.array([1]*m+[r]*(c-self.m))  # inserted [1] due to DivideByZero\n",
      "        if not dbb:\n",
      "             total = total.sum()\n",
      "        return total"
     ],
     "language": "python",
     "metadata": {},
     "outputs": [],
     "prompt_number": 5
    },
    {
     "cell_type": "heading",
     "level": 3,
     "metadata": {},
     "source": [
      "MAPE"
     ]
    },
    {
     "cell_type": "code",
     "collapsed": false,
     "input": [
      "def calc_MAPE(ctp, Pchanges, m=3):\n",
      "    \"\"\"\n",
      "    calculate the MAPE\n",
      "    \n",
      "    ctp: current ticket prices\n",
      "    Pchange: predicted changes\n",
      "    \"\"\"\n",
      "    \n",
      "    P = ctp + Pchanges  # predicted observations\n",
      "    A = ctp.T.shift(m).T  # actual ovservations\n",
      "    \n",
      "    return np.absolute((A-P)/A).mean().mean()\n",
      "\n",
      "\"\"\"\n",
      "c = []\n",
      "for flyFrom, flyTo in pairs:\n",
      "    hp, _ = get_ticketPrices_route(historical, flyFrom, flyTo)\n",
      "    cp, _ = get_ticketPrices_route(storage, flyFrom, flyTo)\n",
      "\n",
      "    custWTP = customerWTP_simple(hp)\n",
      "    c.append(calc_MAPE(cp, custWTP))\n",
      "c = np.array(c)\n",
      "\"\"\""
     ],
     "language": "python",
     "metadata": {},
     "outputs": [
      {
       "metadata": {},
       "output_type": "pyout",
       "prompt_number": 6,
       "text": [
        "'\\nc = []\\nfor flyFrom, flyTo in pairs:\\n    hp, _ = get_ticketPrices_route(historical, flyFrom, flyTo)\\n    cp, _ = get_ticketPrices_route(storage, flyFrom, flyTo)\\n\\n    custWTP = customerWTP_simple(hp)\\n    c.append(calc_MAPE(cp, custWTP))\\nc = np.array(c)\\n'"
       ]
      }
     ],
     "prompt_number": 6
    },
    {
     "cell_type": "heading",
     "level": 3,
     "metadata": {},
     "source": [
      "Observed price changes"
     ]
    },
    {
     "cell_type": "code",
     "collapsed": false,
     "input": [
      "def obsPriceChanges(dset, m):\n",
      "    dx = dset.T.shift(m).T - dset  # observed increase in ticket price\n",
      "    dx = np.maximum(dx, 0)  # no negative revenues\n",
      "    return dx"
     ],
     "language": "python",
     "metadata": {},
     "outputs": [],
     "prompt_number": 7
    },
    {
     "cell_type": "heading",
     "level": 3,
     "metadata": {},
     "source": [
      "Customer's WTP (simple)"
     ]
    },
    {
     "cell_type": "code",
     "collapsed": false,
     "input": [
      "factor_by_maturity = {\n",
      "    3: .0655,\n",
      "    7: .1493,\n",
      "    14: .2939,\n",
      "    21: .4406,\n",
      "}\n",
      "\n",
      "def customerWTP_simple(ctp, m=3, OEF=1):\n",
      "    \"\"\"\n",
      "    caclulate the customer's Willingness To Pay using simple estimation\n",
      "\n",
      "    ctp: current ticket prices\n",
      "    m: the expected increase of the tickets. from mFactors\n",
      "        3 days = (6.55% expected increase,\n",
      "                     m = 3 days,\n",
      "                     entire historical dataset,\n",
      "                     no fill sold outs)\n",
      "    OEF: Over-Estimation Factor\n",
      "        def: 1 (no over/under-estimation)\n",
      "    \n",
      "    returns: expected prices * random P^f\n",
      "    \"\"\"\n",
      "    factor = factor_by_maturity[m]\n",
      "    return ctp * factor * OEF"
     ],
     "language": "python",
     "metadata": {},
     "outputs": [],
     "prompt_number": 8
    },
    {
     "cell_type": "heading",
     "level": 3,
     "metadata": {},
     "source": [
      "Customer's WTP (simpleDBB)"
     ]
    },
    {
     "cell_type": "code",
     "collapsed": false,
     "input": [
      "factors=    array([        nan,         nan,         nan,  0.16370257,  0.09318176,\n",
      "                    0.15220117,  0.23789067,  0.25832483,  0.16230096,  0.08539505,\n",
      "                    0.06681609,  0.05256505,  0.11786717,  0.1610839 ,  0.16909134,\n",
      "                    0.09157595,  0.05257094,  0.04539224,  0.03896525,  0.06483347,\n",
      "                    0.07745918,  0.07724006,  0.04113637,  0.01832194,  0.01587594,\n",
      "                    0.02051089,  0.02874957,  0.03405493,  0.03085502,  0.02469736,\n",
      "                    0.0197484 ,  0.01626227,  0.01781622,  0.02081542,  0.0215722 ,\n",
      "                    0.01997531,  0.01412168,  0.01083219,  0.00769129,  0.00680674,\n",
      "                    0.00879331,  0.00930649])\n",
      "def customerWTP_simpleDBB_3days(ctp, OEF=1):\n",
      "    return ctp * factors * OEF"
     ],
     "language": "python",
     "metadata": {},
     "outputs": [],
     "prompt_number": 9
    },
    {
     "cell_type": "heading",
     "level": 3,
     "metadata": {},
     "source": [
      "Seller's WTA (simple)"
     ]
    },
    {
     "cell_type": "code",
     "collapsed": false,
     "input": [
      "def sellerWTA_simple(htp, ctp, m, OEF, minPrice=1):\n",
      "    \"\"\"\n",
      "    calculate seller's Willingess To Accept using simple historical distribution\n",
      "    \n",
      "    htp: historical ticket prices\n",
      "    ctp: current ticket prices\n",
      "    m: number of days to maturity\n",
      "    OEF: Over-Estimation Factor\n",
      "    minPrice: minimal relative option price a seller should ask\n",
      "    \n",
      "    returns WTA of seller for tickets in ctp\n",
      "    \"\"\"\n",
      "    \n",
      "    histChanges = (htp.T.shift(m).T / htp).mean()\n",
      "    \n",
      "    return (histChanges - 1) * ctp * OEF"
     ],
     "language": "python",
     "metadata": {},
     "outputs": [],
     "prompt_number": 10
    },
    {
     "cell_type": "heading",
     "level": 3,
     "metadata": {},
     "source": [
      "Seller's WTA (Monte Carlo)"
     ]
    },
    {
     "cell_type": "code",
     "collapsed": false,
     "input": [
      "def sellerWTA_MC(htp, ctp, m, OEF, minPrice=1, N=100000):\n",
      "    \"\"\"\n",
      "    calculate seller's Willingess To Accept using Monte Carlo approximation\n",
      "    \n",
      "    htp: historical ticket prices\n",
      "    ctp: current ticket prices\n",
      "    m: number of days to maturity\n",
      "    OEF: Over-Estimation Factor\n",
      "    minPrice: minimal relative option price a seller should ask\n",
      "    N: number of trials to run\n",
      "    \n",
      "    returns WTA of seller for tickets in ctp\n",
      "    \"\"\"\n",
      "    totalDBB = htp.shape[1]\n",
      "    \n",
      "    dailyChanges = htp.T.shift(1).T/htp\n",
      "    expChangesDBB = np.empty(totalDBB, dtype=np.float64)  # array for results per DBB\n",
      "    expChangesDBB.fill(np.nan)\n",
      "    \n",
      "    for dbb in xrange(m, totalDBB):\n",
      "        mcReturns = np.ones(N)  # array for paths\n",
      "        for day in range(m):\n",
      "            indx = dailyChanges.columns[dbb - day]\n",
      "            mcReturns *= np.random.choice(dailyChanges[indx], N)\n",
      "        expChangesDBB[dbb] = mcReturns.mean()\n",
      "    \n",
      "    expChangesDBB = np.maximum(expChangesDBB, minPrice)  # option costs higher that minPrice\n",
      "    \n",
      "    return (expChangesDBB - 1) * ctp * OEF"
     ],
     "language": "python",
     "metadata": {},
     "outputs": [],
     "prompt_number": 11
    },
    {
     "cell_type": "heading",
     "level": 3,
     "metadata": {},
     "source": [
      "Option simulation"
     ]
    },
    {
     "cell_type": "code",
     "collapsed": false,
     "input": [
      "def run_optionSimulation(ctp, custWTP, sellerWTA, knowsWTP=False, knowsFlying=False, nakedSelling=False, m=3, trials=150):\n",
      "    \"\"\"\n",
      "    Run the simulation\n",
      "    \n",
      "    ctp: current ticket prices\n",
      "    custWTP: customer's Willingness To Pay\n",
      "    sellerWTA: seller's Willingness To Accept\n",
      "    knowsWTP: seller knows the level of customer's WTP\n",
      "    knowsFlying: seller knows whether the customer will fly on maturity\n",
      "    nakedSelling: seller buys flights beforehand (ONLY IN COMBINATION WITH knowsFLYING)\n",
      "    m: number of days till maturity\n",
      "    trials: number of times to run simulation\n",
      "\n",
      "    returns: OptionResults with results\n",
      "    \"\"\"\n",
      "    \n",
      "    if nakedSelling and not knowsFlying:\n",
      "        raise Exception('nakedSelling only allowed with knowsFlying')\n",
      "\n",
      "    results = OptionResults(ctp, m=m)\n",
      "    \n",
      "    obsChange = obsPriceChanges(ctp, m)  # get the observed price changes\n",
      "\n",
      "    for _ in xrange(trials):\n",
      "        custP_f = np.random.rand(*custWTP.shape)  # probabilities of flying\n",
      "        custFlying = np.random.rand(*custWTP.shape) <= custP_f  # is customer flying on maturity\n",
      "\n",
      "        sa = sellerWTA\n",
      "        if nakedSelling:\n",
      "            sa = np.zeros(sa.shape)\n",
      "            sa[:,:m] = np.nan  # days up till maturity can't be accepted\n",
      "        elif knowsFlying:\n",
      "            sa *= custFlying\n",
      "\n",
      "\n",
      "        WTP = custWTP * custP_f\n",
      "        \n",
      "        WTP = np.minimum(WTP, ctp*custP_f)  # minimum of option or immediately buying\n",
      "\n",
      "        accepted = np.array(WTP >= sa, dtype=np.float64)  # seller offers option when WTP >= WTA\n",
      "        accepted[:,:m] = np.nan\n",
      "        totalAccepted = accepted.sum(axis=0)\n",
      "        \n",
      "        if knowsWTP:\n",
      "            revenues = accepted * WTP\n",
      "        else:\n",
      "            revenues = accepted * sa\n",
      "        \n",
      "        if nakedSelling:\n",
      "            costs = np.zeros(revenues.shape)\n",
      "        else:\n",
      "            costs = accepted * obsChange * custFlying\n",
      "            costs = np.maximum(0, costs)  # prevent negative costs\n",
      "\n",
      "        results.add_trialResults(revenues, costs, totalAccepted)\n",
      "\n",
      "    return results"
     ],
     "language": "python",
     "metadata": {},
     "outputs": [],
     "prompt_number": 12
    },
    {
     "cell_type": "heading",
     "level": 3,
     "metadata": {},
     "source": [
      "Results"
     ]
    },
    {
     "cell_type": "code",
     "collapsed": false,
     "input": [
      "i = 13\n",
      "print pairs[i]\n",
      "flyFrom, flyTo = pairs[i]\n",
      "hp, _ = get_ticketPrices_route(historical, flyFrom, flyTo)\n",
      "cp, _ = get_ticketPrices_route(storage, flyFrom, flyTo)"
     ],
     "language": "python",
     "metadata": {},
     "outputs": [
      {
       "output_type": "stream",
       "stream": "stdout",
       "text": [
        "(u'JFK', u'LHR')\n"
       ]
      }
     ],
     "prompt_number": 13
    },
    {
     "cell_type": "code",
     "collapsed": false,
     "input": [
      "m = 7\n",
      "cOEF_rng = np.linspace(.9, 1.1, 10)\n",
      "\n",
      "res = []\n",
      "for cOEF in cOEF_rng:\n",
      "    custWTP = customerWTP_simple(cp, m=m, OEF=cOEF)\n",
      "    sellerWTA = sellerWTA_MC(hp, cp, m=m, OEF=1, minPrice=1.01)\n",
      "    #obs = obsPriceChanges(cp, m=m)\n",
      "    p = run_optionSimulation(cp, custWTP, sellerWTA, knowsWTP=False, knowsFlying=False, nakedSelling=False, m=m, trials=50)\n",
      "    res.append(p)"
     ],
     "language": "python",
     "metadata": {},
     "outputs": [],
     "prompt_number": 14
    },
    {
     "cell_type": "code",
     "collapsed": false,
     "input": [
      "m = 21\n",
      "rng = np.linspace(1.5, 5.5, 5)\n",
      "results = []\n",
      "for flyFrom in storage.keys():\n",
      "    print flyFrom, ':\\t',\n",
      "    for flyTo in storage[flyFrom].keys():\n",
      "        print flyTo, '\\t',\n",
      "        hp, _ = get_ticketPrices_route(historical, flyFrom, flyTo)\n",
      "        cp, _ = get_ticketPrices_route(storage, flyFrom, flyTo)\n",
      "        \n",
      "        custWTP = customerWTP_simple(cp, m=m, OEF=1)\n",
      "        r = []\n",
      "        for OEF in [1]:\n",
      "            #sellerWTA = sellerWTA_MC(hp, cp, m=m, OEF=OEF, minPrice=1.0322)\n",
      "            obs = obsPriceChanges(cp, m)\n",
      "            #obs = np.maximum(obs, 0.0322*cp)\n",
      "            p = run_optionSimulation(cp, custWTP, obs, knowsWTP=True, knowsFlying=True, nakedSelling=False, m=m, trials=50)\n",
      "            #r.append(p)\n",
      "        results.append(p)\n",
      "    print  # linebreak"
     ],
     "language": "python",
     "metadata": {},
     "outputs": [
      {
       "output_type": "stream",
       "stream": "stdout",
       "text": [
        "AMS :\tCDG \tDXB"
       ]
      },
      {
       "output_type": "stream",
       "stream": "stdout",
       "text": [
        " \tJFK"
       ]
      },
      {
       "output_type": "stream",
       "stream": "stdout",
       "text": [
        " \tLHR"
       ]
      },
      {
       "output_type": "stream",
       "stream": "stdout",
       "text": [
        " \t\n"
       ]
      },
      {
       "output_type": "stream",
       "stream": "stdout",
       "text": [
        "ATL :\tLAX \tMCO"
       ]
      },
      {
       "output_type": "stream",
       "stream": "stdout",
       "text": [
        " \t\n"
       ]
      },
      {
       "output_type": "stream",
       "stream": "stdout",
       "text": [
        "CDG :\tAMS \tLHR"
       ]
      },
      {
       "output_type": "stream",
       "stream": "stdout",
       "text": [
        " \t\n"
       ]
      },
      {
       "output_type": "stream",
       "stream": "stdout",
       "text": [
        "DEN :\tFLL \tPHX"
       ]
      },
      {
       "output_type": "stream",
       "stream": "stdout",
       "text": [
        " \t\n"
       ]
      },
      {
       "output_type": "stream",
       "stream": "stdout",
       "text": [
        "DFW :\tLAX \tSFO"
       ]
      },
      {
       "output_type": "stream",
       "stream": "stdout",
       "text": [
        " \t\n"
       ]
      },
      {
       "output_type": "stream",
       "stream": "stdout",
       "text": [
        "JFK :\tCDG \tLHR"
       ]
      },
      {
       "output_type": "stream",
       "stream": "stdout",
       "text": [
        " \t\n"
       ]
      },
      {
       "output_type": "stream",
       "stream": "stdout",
       "text": [
        "LAX :\tLAS \tSFO"
       ]
      },
      {
       "output_type": "stream",
       "stream": "stdout",
       "text": [
        " \t\n"
       ]
      },
      {
       "output_type": "stream",
       "stream": "stdout",
       "text": [
        "LHR :\tAMS \tJFK"
       ]
      },
      {
       "output_type": "stream",
       "stream": "stdout",
       "text": [
        " \tLAX"
       ]
      },
      {
       "output_type": "stream",
       "stream": "stdout",
       "text": [
        " \tMAD"
       ]
      },
      {
       "output_type": "stream",
       "stream": "stdout",
       "text": [
        " \t\n"
       ]
      },
      {
       "output_type": "stream",
       "stream": "stdout",
       "text": [
        "ORD :\tBOS \tLGA"
       ]
      },
      {
       "output_type": "stream",
       "stream": "stdout",
       "text": [
        " \t\n"
       ]
      }
     ],
     "prompt_number": 84
    },
    {
     "cell_type": "code",
     "collapsed": false,
     "input": [
      "for p in results:\n",
      "    print p.get_profitRatio()"
     ],
     "language": "python",
     "metadata": {},
     "outputs": [
      {
       "output_type": "stream",
       "stream": "stdout",
       "text": [
        "0.0970054671384\n",
        "0.17224697095\n",
        "0.157078375946\n",
        "0.127979068769\n",
        "0.126602332575\n",
        "0.0965662040505\n",
        "0.101390555898\n",
        "0.126828146026\n",
        "0.149316519287\n",
        "0.132348459041\n",
        "0.113686682235\n",
        "0.112167998617\n",
        "0.154256816493\n",
        "0.16038758475\n",
        "0.14870648396\n",
        "0.100528773265"
       ]
      },
      {
       "output_type": "stream",
       "stream": "stdout",
       "text": [
        "\n",
        "0.12459059203\n",
        "0.183920243006\n",
        "0.180120988008\n",
        "0.131773957289\n",
        "0.130980069963\n",
        "0.131609404522\n"
       ]
      }
     ],
     "prompt_number": 85
    },
    {
     "cell_type": "code",
     "collapsed": false,
     "input": [
      "a = []\n",
      "\n",
      "totals = [0]*6\n",
      "l = len(pairs)\n",
      "for i, p in enumerate(results):\n",
      "    vals = {'flyFrom': pairs[i][0], 'flyTo': pairs[i][1]}\n",
      "    \n",
      "    totalAccepted = p.get_totalAccepted()\n",
      "    \n",
      "    vals['meanOptionPrice'] = p.get_totalRevenues()/totalAccepted/100\n",
      "    totals[0] += vals['meanOptionPrice']/l\n",
      "    vals['percOptionPrice'] = p.get_percRevenues()*100\n",
      "    totals[1] += vals['percOptionPrice']/l\n",
      "\n",
      "    vals['meanOptionProfits'] = p.get_totalProfits()/totalAccepted/100\n",
      "    totals[2] += vals['meanOptionProfits']/l\n",
      "    vals['percOptionProfits'] = p.get_percProfits()*100\n",
      "    totals[3] += vals['percOptionProfits']/l\n",
      "\n",
      "    vals['percAccepted'] = p.get_percAccepted()*100\n",
      "    totals[4] += vals['percAccepted']/l\n",
      "    \n",
      "    vals['profitRatio'] =  p.get_profitRatio()*100\n",
      "    totals[5] += vals['profitRatio']/l\n",
      "\n",
      "    print '{flyFrom}  &  {flyTo}  &  {meanOptionPrice:6.2f}  &  {percOptionPrice:4.2f}  &  {meanOptionProfits:6.2f}  &  {percOptionProfits:4.2f}  &  {percAccepted:4.2f}  &  {profitRatio:4.2f} \\\\\\\\'.format(**vals)\n",
      "print 'Means &  ~   &  %6.2f  &  %4.2f  &  %6.2f  &  %4.2f  &  %4.2f  &  %4.2f \\\\\\\\' % tuple(totals)"
     ],
     "language": "python",
     "metadata": {},
     "outputs": [
      {
       "output_type": "stream",
       "stream": "stdout",
       "text": [
        "AMS  &  CDG  &   24.94  &  12.78  &   20.64  &  10.61  &  67.10  &  7.12 \\\\\n",
        "AMS  &  DXB  &   85.61  &  14.28  &   81.85  &  13.64  &  86.12  &  11.74 \\\\\n",
        "AMS  &  JFK  &  110.24  &  14.17  &   97.41  &  12.46  &  84.71  &  10.56 \\\\\n",
        "AMS  &  LHR  &   34.57  &  14.19  &   27.28  &  11.03  &  80.55  &  8.89 \\\\\n",
        "ATL  &  LAX  &   47.85  &  13.78  &   40.14  &  11.52  &  77.95  &  8.98 \\\\\n",
        "ATL  &  MCO  &   27.97  &  12.84  &   23.19  &  10.61  &  67.44  &  7.16 \\\\\n",
        "CDG  &  AMS  &   27.40  &  13.05  &   22.71  &  10.78  &  69.44  &  7.48 \\\\\n",
        "CDG  &  LHR  &   28.03  &  13.89  &   22.99  &  11.37  &  78.57  &  8.94 \\\\\n",
        "DEN  &  FLL  &   23.79  &  13.96  &   21.57  &  12.74  &  82.32  &  10.48 \\\\\n",
        "DEN  &  PHX  &   23.11  &  13.91  &   19.46  &  11.75  &  80.02  &  9.41 \\\\\n",
        "DFW  &  LAX  &   33.60  &  13.23  &   29.66  &  11.66  &  73.14  &  8.53 \\\\"
       ]
      },
      {
       "output_type": "stream",
       "stream": "stdout",
       "text": [
        "\n",
        "DFW  &  SFO  &   41.51  &  13.24  &   36.42  &  11.64  &  73.32  &  8.53 \\\\\n",
        "JFK  &  CDG  &  400.86  &  14.37  &  366.45  &  12.28  &  86.69  &  10.64 \\\\\n",
        "JFK  &  LHR  &  130.82  &  14.33  &  116.21  &  12.53  &  88.06  &  11.03 \\\\\n",
        "LAX  &  LAS  &   27.42  &  13.99  &   24.27  &  12.31  &  82.40  &  10.14 \\\\"
       ]
      },
      {
       "output_type": "stream",
       "stream": "stdout",
       "text": [
        "\n",
        "LAX  &  SFO  &   26.53  &  12.88  &   23.56  &  11.24  &  69.19  &  7.78 \\\\\n",
        "LHR  &  AMS  &   31.95  &  14.11  &   25.30  &  10.96  &  79.33  &  8.69 \\\\"
       ]
      },
      {
       "output_type": "stream",
       "stream": "stdout",
       "text": [
        "\n",
        "LHR  &  JFK  &  121.19  &  14.72  &  107.62  &  12.87  &  94.74  &  12.19 \\\\\n",
        "LHR  &  LAX  &  178.52  &  14.65  &  160.69  &  12.87  &  93.75  &  12.06 \\\\\n",
        "LHR  &  MAD  &   36.34  &  14.11  &   29.53  &  11.45  &  81.18  &  9.29 \\\\\n",
        "ORD  &  BOS  &   30.06  &  13.90  &   25.07  &  11.56  &  79.34  &  9.17 \\\\"
       ]
      },
      {
       "output_type": "stream",
       "stream": "stdout",
       "text": [
        "\n",
        "ORD  &  LGA  &   33.40  &  13.71  &   28.41  &  11.61  &  77.38  &  8.99 \\\\\n",
        "Means &  ~   &   69.35  &  13.82  &   61.38  &  11.79  &  79.67  &  9.45 \\\\\n"
       ]
      }
     ],
     "prompt_number": 83
    }
   ],
   "metadata": {}
  }
 ]
}