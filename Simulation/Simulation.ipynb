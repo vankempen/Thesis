{
 "metadata": {
  "name": ""
 },
 "nbformat": 3,
 "nbformat_minor": 0,
 "worksheets": [
  {
   "cells": [
    {
     "cell_type": "heading",
     "level": 2,
     "metadata": {},
     "source": [
      "Imports"
     ]
    },
    {
     "cell_type": "code",
     "collapsed": false,
     "input": [
      "from __future__ import division\n",
      "\n",
      "import h5py\n",
      "import numpy as np\n",
      "import pandas as pd\n",
      "import scipy.stats as ss\n",
      "pd.set_option('display.max_rows', 500)\n",
      "pd.set_option('display.max_columns', 30)"
     ],
     "language": "python",
     "metadata": {},
     "outputs": [],
     "prompt_number": 2
    },
    {
     "cell_type": "heading",
     "level": 2,
     "metadata": {},
     "source": [
      "Empirical data"
     ]
    },
    {
     "cell_type": "code",
     "collapsed": false,
     "input": [
      "storage = h5py.File('storage/flightsTest.h5', 'r')\n",
      "historical = h5py.File('storage/flightsTrain.h5', 'r')"
     ],
     "language": "python",
     "metadata": {},
     "outputs": [],
     "prompt_number": 3
    },
    {
     "cell_type": "heading",
     "level": 2,
     "metadata": {},
     "source": [
      "Main functions"
     ]
    },
    {
     "cell_type": "code",
     "collapsed": false,
     "input": [
      "def get_ticketPrices(dataset, flyFrom, flyTo):\n",
      "    \"\"\"\n",
      "    returns cleaned up ticketPrices AND meanTicketPrice in whole $'s (for sell-outs)\n",
      "    \n",
      "    dataset: data to get prices from (historical/current)\n",
      "    flyFrom: outbound airport\n",
      "    flyTo: inbound airport\n",
      "    \"\"\"\n",
      "    ticketPrices = pd.DataFrame(dataset[flyFrom][flyTo][:,1:43], dtype=np.float64)\n",
      "    ticketPrices[ticketPrices == 0] = np.nan\n",
      "    ticketPrices = ticketPrices.dropna(thresh=int(42*2/3)).ffill(axis=1)  # drop everythings that has less than 2/3 avilable data\n",
      "    meanTicketPrice = ticketPrices.mean().mean()\n",
      "    return ticketPrices.fillna(ticketPrices[0].mean()*3), meanTicketPrice"
     ],
     "language": "python",
     "metadata": {},
     "outputs": [],
     "prompt_number": 4
    },
    {
     "cell_type": "heading",
     "level": 4,
     "metadata": {},
     "source": [
      "Customer's WTP"
     ]
    },
    {
     "cell_type": "code",
     "collapsed": false,
     "input": [
      "# The parameter R for x=1 and markdown is between 1.00 and 1.49 => Rs[1+ (markup %/100)]\n",
      "Rs = [1000000000, 12.496666311036584, 6.243330486502654, 4.156657048524223, 3.111643834528778,\n",
      "      2.4832886546651745, 2.063255948942078, 1.7622577296977648, 1.5356488092930582, 1.3586252017993312,\n",
      "      1.21630347633149, 1.0992113649150326, 1.0010330590733996, 0.9173951312452584, 0.8451727678126469,\n",
      "      0.7820735007721652, 0.72637703142226, 0.6767668718147107, 0.632218095883475, 0.5919205269639431,\n",
      "      0.5552249575307869, 0.5216047221664799, 0.49062773690364747, 0.4619358176240307, 0.43522915239997745,\n",
      "      0.4102544824821221, 0.3867959911697954, 0.3646681962405325, 0.34371034293279795, 0.3237819336016499,\n",
      "      0.30475912803497585, 0.2865318186536202, 0.26900123654074615, 0.2520779837865172, 0.23568041961942612,\n",
      "      0.21973335580872078, 0.204167043719119, 0.1889164631635722, 0.17392095198121899, 0.15912424089741475,\n",
      "      0.14447496735003168, 0.12992770512360183, 0.11544441531556111, 0.10099595331805158, 0.08656290307799419,\n",
      "      0.07213485129383752, 0.057707804116745684, 0.043280851232438425, 0.028853900817779332, 0.014426950408889647]\n",
      "\n",
      "def get_customerWTP(hp, cp, r, m, p_f):\n",
      "    \"\"\"\n",
      "    Calculate the customer's Willingness To Pay\n",
      "\n",
      "    hp: historical price information\n",
      "    cp: current price information\n",
      "    r: used for risk utility curve: customer is willing to pay 1+(r/100) times more for security\n",
      "    m: option's number of days to maturity\n",
      "    p_f: probability of flying\n",
      "    \"\"\"\n",
      "    \n",
      "    R = Rs[r]  # at a markup of 1.(r/100)\n",
      "\n",
      "    # calculate customer's predictions combined with utility\n",
      "    hpMaturity = hp.T.shift(m).T  # shift along axis does not seem to work\n",
      "    retMaturity = hpMaturity/hp\n",
      "    V = np.log(np.exp(retMaturity/R).mean())*R  # Vector that incorperates utility function and expected inc/decr of fare\n",
      "\n",
      "    custBuy = (1 - p_f) * cp  # costs of buying the ticket now\n",
      "    custWait = p_f * (cp*V - cp)  # costs of waiting till maturity\n",
      "    custWTP = np.minimum(custBuy, custWait)  # maximum price customer is accepting\n",
      "\n",
      "    return custWTP"
     ],
     "language": "python",
     "metadata": {},
     "outputs": [],
     "prompt_number": 5
    },
    {
     "cell_type": "heading",
     "level": 4,
     "metadata": {},
     "source": [
      "Create LaTeX table"
     ]
    },
    {
     "cell_type": "code",
     "collapsed": false,
     "input": [
      "def get_priceTableSegment(flyFrom, flyTo, m, v):\n",
      "    priceTable = \"\"\"    \\\\hline\\n    \\\\multirow{4}{*}{\\\\parbox[c]{1cm}{\\\\centering \\\\textbf{  %s%s  $\\\\to$  %s  }}}\\n\"\"\" % (flyFrom, m, flyTo)\n",
      "    for i in range(len(v)):\n",
      "        priceTable += \"    ~  &  $P^f = %.2f$  &  \\\\$\\\\,%d  &  \\\\$\\\\,%d  & \\\\$\\\\,%.2f  & %.2f\\\\,\\\\%%     & %.2f\\\\,\\\\%% \\\\\\\\ \\n\" % v[i]\n",
      "    \n",
      "    return priceTable"
     ],
     "language": "python",
     "metadata": {},
     "outputs": [],
     "prompt_number": 95
    },
    {
     "cell_type": "heading",
     "level": 2,
     "metadata": {},
     "source": [
      "Simulation models"
     ]
    },
    {
     "cell_type": "heading",
     "level": 4,
     "metadata": {},
     "source": [
      "Option simulation"
     ]
    },
    {
     "cell_type": "code",
     "collapsed": false,
     "input": [
      "def run_optionSimulation(cp, custWTP, sellerWTA, m, p_f, trials=100, allKnowing=False):\n",
      "    \"\"\"\n",
      "    Run the simulation\n",
      "    \n",
      "    cp: current price information\n",
      "    mtp: mean ticket price\n",
      "    custWTP: customer's Willingness To Pay\n",
      "    sellerWTA: seller's Willingness To Accept\n",
      "    p_f: probability of flying\n",
      "    trials: number of times to run simulation\n",
      "    allKnowing: is the seller allKnowing (i.e., does he know whether customer is going to fly in advance)?\n",
      "    \n",
      "    returns: \n",
      "    \"\"\"\n",
      "\n",
      "    totalSold = 1  # set to one because of DivideByZero\n",
      "    sellerProfits = []\n",
      "    \n",
      "    fareIncr = cp.T.shift(m).T - cp\n",
      "    \n",
      "    for t in xrange(trials):\n",
      "        custFly = np.random.binomial(1, p_f, custWTP.shape)  # generate binominal array: is the customer going to fly at maturity?\n",
      "\n",
      "        if allKnowing:\n",
      "            sellerWTA_tmp = sellerWTA * custFly  # all knowing seller accepts option prices > 0 for customer's how will not fly\n",
      "        else:\n",
      "            sellerWTA_tmp = sellerWTA * p_f  # if NOT all knowing, minimum WTA is times the probability of flying\n",
      "\n",
      "        offerOption = custWTP.gt(sellerWTA_tmp)  # seller offers option when WTP > WTA\n",
      "        \n",
      "        totalSold += offerOption.sum().sum()\n",
      "        \n",
      "        profits = int(((custWTP - (fareIncr * custFly)) * offerOption).sum().sum())\n",
      "        sellerProfits.append(profits)\n",
      "        \n",
      "    return np.mean(sellerProfits), int(np.sum(sellerProfits)/totalSold), totalSold/(cp.shape[0]*(cp.shape[1]-m))/trials"
     ],
     "language": "python",
     "metadata": {},
     "outputs": [],
     "prompt_number": 206
    },
    {
     "cell_type": "code",
     "collapsed": false,
     "input": [
      "def run_allSimulation(sellerWTA_f, custWTP_f, p_fRange=None, r=10, allKnowing=False):\n",
      "    \"\"\"\n",
      "    return priceTable str for LaTeX with statistics on ALL airport combinations\n",
      "    \n",
      "    sellerWTA_f: function ref which returns seller's WTA\n",
      "        see run_singleSimulation\n",
      "    custWTP_f: function ref which returns customer's WTP\n",
      "        see run_singleSimulation\n",
      "    pf_Range: list with p_f's to consider\n",
      "    r: risk aversity = 1+(1/r)\n",
      "    allKnowing: is seller all knowing?\n",
      "    \"\"\"\n",
      "    \n",
      "    priceTable = \"\"\n",
      "    \n",
      "    # run simulation for every available airport combination\n",
      "    for flyFrom in storage.keys():\n",
      "        for flyTo in storage[flyFrom].keys():\n",
      "            priceTable += run_singleSimulation(flyFrom, flyTo, p_fRange, r)\n",
      "    return priceTable\n",
      "\n",
      "\n",
      "def run_singleSimulation(flyFrom, flyTo, sellerWTA_f, custWTP_f, p_fRange=None, r=10, allKnowing=False):\n",
      "    \"\"\"\n",
      "    return priceTable row for specific route\n",
      "    \n",
      "    sellerWTA_f: function ref which returns seller's WTA\n",
      "        hp: historical prices\n",
      "        cp: current prices\n",
      "        m: maturity\n",
      "    custWTP_f: function ref which returns customer's WTP\n",
      "        hp: historical prices\n",
      "        cp: current prices\n",
      "        r: risk averion level\n",
      "        m: maturity\n",
      "        p_f: probability of flying\n",
      "    pf_Range ([0.80, 0.85, 0.90, 0.95]): list with p_f's to consider\n",
      "    r: risk aversity = 1+(1/r)\n",
      "    allKnowing: is seller all knowing?\n",
      "    \"\"\"\n",
      "    \n",
      "    if p_fRange == None:\n",
      "        p_fRange = [0.80, 0.85, 0.90, 0.95]\n",
      "    \n",
      "    priceTable = \"\"\n",
      "    \n",
      "    hp, _ = get_ticketPrices(historical, flyFrom, flyTo)\n",
      "    cp, mtp = get_ticketPrices(storage, flyFrom, flyTo)\n",
      "    \n",
      "    # print flyFrom, flyTo\n",
      "    \n",
      "    for m in [3, 7, 14]:  # maturity in days\n",
      "        tsp_a = []\n",
      "        mp_a = []\n",
      "        ps_a = []\n",
      "        \n",
      "        sellerWTA = sellerWTA_f(hp, cp, m)\n",
      "    \n",
      "        for p_f in p_fRange:\n",
      "            custWTP = custWTP_f(hp, cp, r=10, m=m, p_f=p_f)\n",
      "    \n",
      "            tsp, mp, ps = run_optionSimulation(cp, custWTP, sellerWTA, m=m, p_f=p_f, trials=100, allKnowing=allKnowing)\n",
      "            \n",
      "            tsp_a.append(tsp)\n",
      "            mp_a.append(mp)\n",
      "            ps_a.append(ps)\n",
      "    \n",
      "        tsp_a = np.array(tsp_a)\n",
      "        mp_a = np.array(mp_a)\n",
      "        ps_a = np.array(ps_a)\n",
      "    \n",
      "        v = zip(p_fRange, tsp_a/100, [mtp/100]*4, mp_a/100, mp_a/mtp*100, ps_a*100)\n",
      "        priceTable += get_priceTableSegment(flyFrom, flyTo, m, v)    \n",
      "    \n",
      "    return priceTable"
     ],
     "language": "python",
     "metadata": {},
     "outputs": [],
     "prompt_number": 98
    },
    {
     "cell_type": "heading",
     "level": 3,
     "metadata": {},
     "source": [
      "Simulation for all knowing-seller"
     ]
    },
    {
     "cell_type": "code",
     "collapsed": false,
     "input": [
      "def get_sellerWTA_foreknowledge(hp, cp, m):\n",
      "    \"\"\"\n",
      "    Calculate  the seller's Willingness To Accept\n",
      "    \n",
      "    cp: current price information\n",
      "    m: option's number of days to maturity\n",
      "    \n",
      "    returns: \n",
      "    \"\"\"\n",
      "    cpMaturity = cp.T.shift(m).T\n",
      "    sellerWTA = np.maximum(0, cpMaturity - cp)  # minimum price seller is going accepting\n",
      "    \n",
      "    return sellerWTA"
     ],
     "language": "python",
     "metadata": {},
     "outputs": [],
     "prompt_number": 15
    },
    {
     "cell_type": "code",
     "collapsed": false,
     "input": [
      "print run_singleSimulation('AMS', 'JFK', get_sellerWTA_foreknowledge, get_customerWTP, allKnowing=True)\n",
      "#print run_allSimulation(get_sellerWTA_foreknowledge, get_customerWTP, allKnowing=True)"
     ],
     "language": "python",
     "metadata": {},
     "outputs": [
      {
       "output_type": "stream",
       "stream": "stdout",
       "text": [
        "    \\hline\n",
        "    \\multirow{4}{*}{\\parbox[c]{1cm}{\\centering \\textbf{  AMS3  $\\to$  JFK  }}}\n",
        "    ~  &  $P^f = 0.80$  &  \\$\\,350169  &  \\$\\,851  & \\$\\,56.34  & 6.62\\,\\%     & 63.23\\,\\% \\\\ \n",
        "    ~  &  $P^f = 0.85$  &  \\$\\,366739  &  \\$\\,851  & \\$\\,60.22  & 7.07\\,\\%     & 61.96\\,\\% \\\\ \n",
        "    ~  &  $P^f = 0.90$  &  \\$\\,368856  &  \\$\\,851  & \\$\\,62.27  & 7.31\\,\\%     & 60.27\\,\\% \\\\ \n",
        "    ~  &  $P^f = 0.95$  &  \\$\\,335304  &  \\$\\,851  & \\$\\,60.29  & 7.08\\,\\%     & 56.59\\,\\% \\\\ \n",
        "    \\hline\n",
        "    \\multirow{4}{*}{\\parbox[c]{1cm}{\\centering \\textbf{  AMS7  $\\to$  JFK  }}}\n",
        "    ~  &  $P^f = 0.80$  &  \\$\\,467129  &  \\$\\,851  & \\$\\,83.61  & 9.82\\,\\%     & 63.34\\,\\% \\\\ \n",
        "    ~  &  $P^f = 0.85$  &  \\$\\,446266  &  \\$\\,851  & \\$\\,83.03  & 9.75\\,\\%     & 60.93\\,\\% \\\\ \n",
        "    ~  &  $P^f = 0.90$  &  \\$\\,381291  &  \\$\\,851  & \\$\\,76.36  & 8.97\\,\\%     & 56.61\\,\\% \\\\ \n",
        "    ~  &  $P^f = 0.95$  &  \\$\\,308036  &  \\$\\,851  & \\$\\,68.84  & 8.08\\,\\%     & 50.73\\,\\% \\\\ \n",
        "    \\hline\n",
        "    \\multirow{4}{*}{\\parbox[c]{1cm}{\\centering \\textbf{  AMS14  $\\to$  JFK  }}}\n",
        "    ~  &  $P^f = 0.80$  &  \\$\\,530964  &  \\$\\,851  & \\$\\,112.47  & 13.21\\,\\%     & 66.90\\,\\% \\\\ \n",
        "    ~  &  $P^f = 0.85$  &  \\$\\,456452  &  \\$\\,851  & \\$\\,103.59  & 12.16\\,\\%     & 62.44\\,\\% \\\\ \n",
        "    ~  &  $P^f = 0.90$  &  \\$\\,389349  &  \\$\\,851  & \\$\\,95.55  & 11.22\\,\\%     & 57.75\\,\\% \\\\ \n",
        "    ~  &  $P^f = 0.95$  &  \\$\\,299673  &  \\$\\,851  & \\$\\,85.01  & 9.98\\,\\%     & 49.96\\,\\% \\\\ \n",
        "\n"
       ]
      }
     ],
     "prompt_number": 102
    },
    {
     "cell_type": "heading",
     "level": 3,
     "metadata": {},
     "source": [
      "Black-Scholes"
     ]
    },
    {
     "cell_type": "code",
     "collapsed": false,
     "input": [
      "def d1(S0, K, r, sigma, T):\n",
      "    return (np.log(S0/K) + (r + sigma**2 / 2) * T)/(sigma * np.sqrt(T))\n",
      " \n",
      "def d2(S0, K, r, sigma, T):\n",
      "    return (np.log(S0/K) + (r - sigma**2 / 2) * T)/(sigma * np.sqrt(T))\n",
      " \n",
      "def BlackScholes(hp, S0, m, r=0.03, call=True):\n",
      "    \"\"\"\n",
      "    hp: historical prices\n",
      "    S0: airfare at time 0\n",
      "    m: maturity in days\n",
      "    r: risk-free interest rate\n",
      "    call: call (True) or put (False)\n",
      "    \"\"\"\n",
      "    \n",
      "    # convert volatility to days\n",
      "    T = m/365\n",
      "    \n",
      "    # volatility\n",
      "    hpLN = np.log(hp)\n",
      "    dRet = (hpLN.T.shift(1).T - hpLN)\n",
      "    dRetMean = dRet.mean().mean()\n",
      "    sigmaDaily = np.sqrt(((dRet - dRetMean)**2).mean().mean())\n",
      "    sigma = sigmaDaily*np.sqrt(365)\n",
      "    \n",
      "    K = S0  # strike price == S0\n",
      "    if call:\n",
      "        return S0 * ss.norm.cdf(d1(S0, K, r, sigma, T)) - K * np.exp(-r * T) * ss.norm.cdf(d2(S0, K, r, sigma, T))\n",
      "    return K * np.exp(-r * T) * ss.norm.cdf(-d2(S0, K, r, sigma, T)) - S0 * ss.norm.cdf(-d1(S0, K, r, sigma, T))"
     ],
     "language": "python",
     "metadata": {},
     "outputs": [],
     "prompt_number": 104
    },
    {
     "cell_type": "code",
     "collapsed": false,
     "input": [
      "print run_singleSimulation('AMS', 'JFK', BlackScholes, get_customerWTP, allKnowing=True)\n",
      "#print run_allSimulation(BlackScholes, get_customerWTP, allKnowing=False)"
     ],
     "language": "python",
     "metadata": {},
     "outputs": [
      {
       "output_type": "stream",
       "stream": "stdout",
       "text": [
        "    \\hline\n",
        "    \\multirow{4}{*}{\\parbox[c]{1cm}{\\centering \\textbf{  AMS3  $\\to$  JFK  }}}\n",
        "    ~  &  $P^f = 0.80$  &  \\$\\,-5491  &  \\$\\,851  & \\$\\,-1.60  & -0.19\\,\\%     & 34.86\\,\\% \\\\ \n",
        "    ~  &  $P^f = 0.85$  &  \\$\\,-13077  &  \\$\\,851  & \\$\\,-3.97  & -0.47\\,\\%     & 33.48\\,\\% \\\\ \n",
        "    ~  &  $P^f = 0.90$  &  \\$\\,-43084  &  \\$\\,851  & \\$\\,-14.62  & -1.72\\,\\%     & 29.97\\,\\% \\\\ \n",
        "    ~  &  $P^f = 0.95$  &  \\$\\,10506  &  \\$\\,851  & \\$\\,23.28  & 2.73\\,\\%     & 4.59\\,\\% \\\\ \n",
        "    \\hline\n",
        "    \\multirow{4}{*}{\\parbox[c]{1cm}{\\centering \\textbf{  AMS7  $\\to$  JFK  }}}\n",
        "    ~  &  $P^f = 0.80$  &  \\$\\,-7599  &  \\$\\,851  & \\$\\,-1.77  & -0.21\\,\\%     & 48.57\\,\\% \\\\ \n",
        "    ~  &  $P^f = 0.85$  &  \\$\\,-69852  &  \\$\\,851  & \\$\\,-17.31  & -2.03\\,\\%     & 45.73\\,\\% \\\\ \n",
        "    ~  &  $P^f = 0.90$  &  \\$\\,-214131  &  \\$\\,851  & \\$\\,-56.62  & -6.65\\,\\%     & 42.88\\,\\% \\\\ \n",
        "    ~  &  $P^f = 0.95$  &  \\$\\,12933  &  \\$\\,851  & \\$\\,31.36  & 3.68\\,\\%     & 4.67\\,\\% \\\\ \n",
        "    \\hline\n",
        "    \\multirow{4}{*}{\\parbox[c]{1cm}{\\centering \\textbf{  AMS14  $\\to$  JFK  }}}\n",
        "    ~  &  $P^f = 0.80$  &  \\$\\,-58370  &  \\$\\,851  & \\$\\,-14.48  & -1.70\\,\\%     & 57.11\\,\\% \\\\ \n",
        "    ~  &  $P^f = 0.85$  &  \\$\\,-221398  &  \\$\\,851  & \\$\\,-57.64  & -6.77\\,\\%     & 54.43\\,\\% \\\\ \n",
        "    ~  &  $P^f = 0.90$  &  \\$\\,43127  &  \\$\\,851  & \\$\\,60.90  & 7.15\\,\\%     & 10.04\\,\\% \\\\ \n",
        "    ~  &  $P^f = 0.95$  &  \\$\\,12445  &  \\$\\,851  & \\$\\,35.39  & 4.16\\,\\%     & 4.98\\,\\% \\\\ \n",
        "\n"
       ]
      }
     ],
     "prompt_number": 106
    },
    {
     "cell_type": "heading",
     "level": 3,
     "metadata": {},
     "source": [
      "Monte Carlo"
     ]
    },
    {
     "cell_type": "code",
     "collapsed": false,
     "input": [
      "def MonteCarlo(hp, cp, m, N=100000):\n",
      "    \"\"\"\n",
      "    return Monte Carlo estimation\n",
      "    \n",
      "    hp: historical prices\n",
      "    cp: current prices (not used)\n",
      "    m: maturity\n",
      "    N: number of trials\n",
      "    \"\"\"\n",
      "    dRet = hp.T.shift(1).T/hp\n",
      "    \n",
      "    expIncr = np.zeros(hp.shape[1])\n",
      "    \n",
      "    for dbb in xrange(m, hp.shape[1]):\n",
      "        simRet = np.ones(N)\n",
      "        for i in range(m):\n",
      "            simRet *= np.random.choice(dRet.ix[:, dbb - i], N)\n",
      "        expIncr[dbb] = simRet.mean()\n",
      "\n",
      "    return np.vstack([expIncr-1]*cp.shape[0])*cp"
     ],
     "language": "python",
     "metadata": {},
     "outputs": [],
     "prompt_number": 202
    },
    {
     "cell_type": "code",
     "collapsed": false,
     "input": [
      "print run_singleSimulation('DFW', 'SFO', MonteCarlo, get_customerWTP, allKnowing=False)\n",
      "#print run_allSimulation(MonteCarlo, get_customerWTP, allKnowing=False)"
     ],
     "language": "python",
     "metadata": {},
     "outputs": [
      {
       "output_type": "stream",
       "stream": "stdout",
       "text": [
        "    \\hline\n",
        "    \\multirow{4}{*}{\\parbox[c]{1cm}{\\centering \\textbf{  DFW3  $\\to$  SFO  }}}\n",
        "    ~  &  $P^f = 0.80$  &  \\$\\,-816819  &  \\$\\,387  & \\$\\,-5.49  & -1.42\\,\\%     & 84.62\\,\\% \\\\ \n",
        "    ~  &  $P^f = 0.85$  &  \\$\\,-958410  &  \\$\\,387  & \\$\\,-6.65  & -1.71\\,\\%     & 82.05\\,\\% \\\\ \n",
        "    ~  &  $P^f = 0.90$  &  \\$\\,-833988  &  \\$\\,387  & \\$\\,-6.38  & -1.64\\,\\%     & 74.36\\,\\% \\\\ \n",
        "    ~  &  $P^f = 0.95$  &  \\$\\,-874148  &  \\$\\,387  & \\$\\,-7.46  & -1.92\\,\\%     & 66.67\\,\\% \\\\ \n",
        "    \\hline\n",
        "    \\multirow{4}{*}{\\parbox[c]{1cm}{\\centering \\textbf{  DFW7  $\\to$  SFO  }}}\n",
        "    ~  &  $P^f = 0.80$  &  \\$\\,-468471  &  \\$\\,387  & \\$\\,-4.72  & -1.22\\,\\%     & 62.86\\,\\% \\\\ \n",
        "    ~  &  $P^f = 0.85$  &  \\$\\,-471353  &  \\$\\,387  & \\$\\,-4.98  & -1.28\\,\\%     & 60.00\\,\\% \\\\ \n",
        "    ~  &  $P^f = 0.90$  &  \\$\\,-498438  &  \\$\\,387  & \\$\\,-5.27  & -1.36\\,\\%     & 60.00\\,\\% \\\\ \n",
        "    ~  &  $P^f = 0.95$  &  \\$\\,-451124  &  \\$\\,387  & \\$\\,-6.67  & -1.72\\,\\%     & 42.86\\,\\% \\\\ \n",
        "    \\hline\n",
        "    \\multirow{4}{*}{\\parbox[c]{1cm}{\\centering \\textbf{  DFW14  $\\to$  SFO  }}}\n",
        "    ~  &  $P^f = 0.80$  &  \\$\\,-15183  &  \\$\\,387  & \\$\\,-3.37  & -0.87\\,\\%     & 3.57\\,\\% \\\\ \n",
        "    ~  &  $P^f = 0.85$  &  \\$\\,-16519  &  \\$\\,387  & \\$\\,-3.66  & -0.94\\,\\%     & 3.57\\,\\% \\\\ \n",
        "    ~  &  $P^f = 0.90$  &  \\$\\,0  &  \\$\\,387  & \\$\\,0.00  & 0.00\\,\\%     & 0.00\\,\\% \\\\ \n",
        "    ~  &  $P^f = 0.95$  &  \\$\\,0  &  \\$\\,387  & \\$\\,0.00  & 0.00\\,\\%     & 0.00\\,\\% \\\\ \n",
        "\n"
       ]
      }
     ],
     "prompt_number": 209
    },
    {
     "cell_type": "heading",
     "level": 2,
     "metadata": {},
     "source": [
      "Descriptives"
     ]
    },
    {
     "cell_type": "code",
     "collapsed": false,
     "input": [
      "storage = h5py.File('storage/flightsTest.h5', 'r')\n",
      "\n",
      "total = 0\n",
      "totalSO = 0\n",
      "totalNA = 0\n",
      "\n",
      "for flyFrom in storage.keys():\n",
      "    for flyTo in storage[flyFrom].keys():\n",
      "        flights = storage[flyFrom][flyTo][:,1:43]\n",
      "        total += flights.shape[0]\n",
      "        totalSO += len(flights[:,0].nonzero()[0])\n",
      "        totalNA += len(flights.nonzero()[0])\n",
      "        #print flyFrom, flyTo, flights.shape[0]\n",
      "\n",
      "print total\n",
      "print totalSO\n",
      "print totalNA"
     ],
     "language": "python",
     "metadata": {},
     "outputs": [
      {
       "output_type": "stream",
       "stream": "stdout",
       "text": [
        "141117\n",
        "103920\n",
        "4400920\n"
       ]
      }
     ],
     "prompt_number": 8
    },
    {
     "cell_type": "raw",
     "metadata": {},
     "source": [
      "test = 141117 flights\n",
      "test = 103920 NOT sold-out\n",
      "test = 4400920 datapoints\n",
      "\n",
      "train = 321545 flights\n",
      "train = 199142 NOT sold-out\n",
      "train = 8465033 datapoints"
     ]
    },
    {
     "cell_type": "code",
     "collapsed": false,
     "input": [
      "amsjfk = get_ticketPrices('AMS', 'JFK')[0]\n",
      "\n",
      "print np.array(amsjfk.values[1,:5], dtype=np.uint32)\n",
      "print np.array(amsjfk.values[2,:5], dtype=np.uint32)\n",
      "print np.array(amsjfk.values[3,:5], dtype=np.uint32)\n",
      "print np.array(amsjfk.values[21,:5], dtype=np.uint32)\n",
      "print np.array(amsjfk.values[251,:5], dtype=np.uint32)"
     ],
     "language": "python",
     "metadata": {},
     "outputs": [
      {
       "output_type": "stream",
       "stream": "stdout",
       "text": [
        "[ 57469  68619 122469 222469 109644]\n",
        "[87119 87369 93019 84469 79469]\n",
        "[87494 86694 94744 74569 70244]\n",
        "[410951 134430 242480 108934 126369]\n",
        "[147405 141980 155569 220569 273369]\n"
       ]
      }
     ],
     "prompt_number": 10
    },
    {
     "cell_type": "heading",
     "level": 2,
     "metadata": {},
     "source": [
      "Convergence plot"
     ]
    },
    {
     "cell_type": "code",
     "collapsed": false,
     "input": [
      "#convergence to steady average (needed to determine N)\n",
      "\n",
      "flyFrom = 'ORD'\n",
      "flyTo = 'BOS'\n",
      "\n",
      "ticketPrices, meanTicketPrice = get_ticketPrices(storage, flyFrom, flyTo)\n",
      "historicalPrices, meanTicketPrice = get_ticketPrices(historical, flyFrom, flyTo)\n",
      "\n",
      "m = 3\n",
      "r = 10\n",
      "\n",
      "meansPercentage = []\n",
      "meansProfits = []\n",
      "totalSolds = []\n",
      "p_f = 0.8\n",
      "\n",
      "sellerProfits, totalSold = get_sellerProfits(ticketPrices, historicalPrices, m, p_f, r, 5000)\n",
      "\n",
      "conv = []\n",
      "for i in xrange(1, len(sellerProfits)):\n",
      "    conv.append(int(mean(sellerProfits[:i])/100))"
     ],
     "language": "python",
     "metadata": {},
     "outputs": [],
     "prompt_number": 113
    },
    {
     "cell_type": "code",
     "collapsed": false,
     "input": [
      "c2 = np.array(conv)/np.mean(conv[-1])"
     ],
     "language": "python",
     "metadata": {},
     "outputs": [],
     "prompt_number": 54
    },
    {
     "cell_type": "code",
     "collapsed": false,
     "input": [
      "plot(c2, label='ATL -> LAX')\n",
      "plot(c3, label='LHR -> JFK')\n",
      "plot(c4, label='AMS -> CDG')\n",
      "ylim((0.998, 1.002))\n",
      "xlabel('number of trials')\n",
      "ylabel('relative average')\n",
      "legend()\n",
      "savefig('/home/patrick/multiple.png', dpi=200)"
     ],
     "language": "python",
     "metadata": {},
     "outputs": [],
     "prompt_number": 113
    },
    {
     "cell_type": "heading",
     "level": 2,
     "metadata": {},
     "source": [
      "TMP"
     ]
    },
    {
     "cell_type": "code",
     "collapsed": false,
     "input": [
      "print 'All routes: \\n'\n",
      "for oa in storage.keys():\n",
      "    for ia in storage[oa].keys():\n",
      "        print oa + '  >  ' + ia"
     ],
     "language": "python",
     "metadata": {},
     "outputs": [
      {
       "output_type": "stream",
       "stream": "stdout",
       "text": [
        "All routes: \n",
        "\n",
        "AMS  >  CDG\n",
        "AMS  >  DXB\n",
        "AMS  >  JFK\n",
        "AMS  >  LHR\n",
        "ATL  >  LAX\n",
        "ATL  >  MCO\n",
        "CDG  >  AMS\n",
        "CDG  >  LHR\n",
        "DEN  >  FLL\n",
        "DEN  >  PHX\n",
        "DFW  >  LAX\n",
        "DFW  >  SFO\n",
        "JFK  >  CDG\n",
        "JFK  >  LHR\n",
        "LAX  >  LAS\n",
        "LAX  >  SFO\n",
        "LHR  >  AMS\n",
        "LHR  >  JFK\n",
        "LHR  >  LAX\n",
        "LHR  >  MAD\n",
        "ORD  >  BOS\n",
        "ORD  >  LGA\n"
       ]
      }
     ],
     "prompt_number": 25
    },
    {
     "cell_type": "code",
     "collapsed": false,
     "input": [
      "def f(maturity, p_f, r):\n",
      "    \"\"\"\n",
      "    TMP: function that analyzes ALL in/out combinations\n",
      "    \"\"\"\n",
      "    for flyFrom in storage.keys():\n",
      "        for flyTo in storage[flyFrom].keys():\n",
      "            ticketPrices, meanTicketPrice = get_ticketPrices(flyFrom, flyTo)\n",
      "            sellerProfits, totalSold = get_sellerProfits(ticketPrices, maturity, p_f, r)\n",
      "            meanProfit = int(np.mean(sellerProfits)/100)\n",
      "            totalCustomers = ticketPrices.shape[0] * (ticketPrices.shape[1] - maturity)\n",
      "            \n",
      "            print flyFrom, flyTo\n",
      "            print meanProfit\n",
      "            print\n",
      "    \n",
      "            profitPerTicket = meanProfit / totalCustomers\n",
      "            print profitPerTicket\n",
      "            print profitPerTicket/meanTicketPrice\n",
      "            print\n",
      "    \n",
      "            profitPerTicketSold = int(np.sum(sellerProfits)/100) / totalSold\n",
      "            print profitPerTicketSold\n",
      "            print profitPerTicketSold/meanTicketPrice\n",
      "            print"
     ],
     "language": "python",
     "metadata": {},
     "outputs": []
    },
    {
     "cell_type": "code",
     "collapsed": false,
     "input": [],
     "language": "python",
     "metadata": {},
     "outputs": []
    }
   ],
   "metadata": {}
  }
 ]
}