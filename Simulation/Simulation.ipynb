{
 "metadata": {
  "name": ""
 },
 "nbformat": 3,
 "nbformat_minor": 0,
 "worksheets": [
  {
   "cells": [
    {
     "cell_type": "heading",
     "level": 2,
     "metadata": {},
     "source": [
      "Imports"
     ]
    },
    {
     "cell_type": "code",
     "collapsed": false,
     "input": [
      "from __future__ import division\n",
      "\n",
      "import h5py\n",
      "import numpy as np\n",
      "import pandas as pd\n",
      "import scipy.stats as ss\n",
      "pd.set_option('display.max_rows', 500)\n",
      "pd.set_option('display.max_columns', 30)\n",
      "\n",
      "# for thousands-seperator of numbers\n",
      "import locale\n",
      "_ = locale.setlocale(locale.LC_ALL, 'en_US.UTF-8')"
     ],
     "language": "python",
     "metadata": {},
     "outputs": [],
     "prompt_number": 1
    },
    {
     "cell_type": "heading",
     "level": 2,
     "metadata": {},
     "source": [
      "Empirical data"
     ]
    },
    {
     "cell_type": "code",
     "collapsed": false,
     "input": [
      "storage = h5py.File('storage/flightsTest.h5', 'r')\n",
      "historical = h5py.File('storage/flightsTrain.h5', 'r')"
     ],
     "language": "python",
     "metadata": {},
     "outputs": [],
     "prompt_number": 2
    },
    {
     "cell_type": "heading",
     "level": 2,
     "metadata": {},
     "source": [
      "Main functions"
     ]
    },
    {
     "cell_type": "code",
     "collapsed": false,
     "input": [
      "def get_ticketPrices(dataset, flyFrom, flyTo):\n",
      "    \"\"\"\n",
      "    returns cleaned up ticketPrices AND meanTicketPrice in whole $'s (for sell-outs)\n",
      "    \n",
      "    dataset: data to get prices from (historical/current)\n",
      "    flyFrom: outbound airport\n",
      "    flyTo: inbound airport\n",
      "    \"\"\"\n",
      "    ticketPrices = pd.DataFrame(dataset[flyFrom][flyTo][:,1:43], dtype=np.float64)\n",
      "    ticketPrices[ticketPrices == 0] = np.nan\n",
      "    ticketPrices = ticketPrices.dropna(thresh=int(42*2/3)).ffill(axis=1)  # drop everythings that has less than 2/3 avilable data\n",
      "    meanTicketPrice = ticketPrices.mean().mean()\n",
      "    return ticketPrices.fillna(ticketPrices[0].mean()*3), meanTicketPrice"
     ],
     "language": "python",
     "metadata": {},
     "outputs": [],
     "prompt_number": 3
    },
    {
     "cell_type": "heading",
     "level": 4,
     "metadata": {},
     "source": [
      "Customer's WTP"
     ]
    },
    {
     "cell_type": "code",
     "collapsed": false,
     "input": [
      "# The parameter R for x=1 and markdown is between 1.00 and 1.49 => Rs[1+ (markup %/100)]\n",
      "Rs = [1000000000, 12.496666311036584, 6.243330486502654, 4.156657048524223, 3.111643834528778,\n",
      "      2.4832886546651745, 2.063255948942078, 1.7622577296977648, 1.5356488092930582, 1.3586252017993312,\n",
      "      1.21630347633149, 1.0992113649150326, 1.0010330590733996, 0.9173951312452584, 0.8451727678126469,\n",
      "      0.7820735007721652, 0.72637703142226, 0.6767668718147107, 0.632218095883475, 0.5919205269639431,\n",
      "      0.5552249575307869, 0.5216047221664799, 0.49062773690364747, 0.4619358176240307, 0.43522915239997745,\n",
      "      0.4102544824821221, 0.3867959911697954, 0.3646681962405325, 0.34371034293279795, 0.3237819336016499,\n",
      "      0.30475912803497585, 0.2865318186536202, 0.26900123654074615, 0.2520779837865172, 0.23568041961942612,\n",
      "      0.21973335580872078, 0.204167043719119, 0.1889164631635722, 0.17392095198121899, 0.15912424089741475,\n",
      "      0.14447496735003168, 0.12992770512360183, 0.11544441531556111, 0.10099595331805158, 0.08656290307799419,\n",
      "      0.07213485129383752, 0.057707804116745684, 0.043280851232438425, 0.028853900817779332, 0.014426950408889647]\n",
      "\n",
      "def get_customerWTP(hp, cp, r, m, p_f):\n",
      "    \"\"\"\n",
      "    Calculate the customer's Willingness To Pay\n",
      "\n",
      "    hp: historical price information\n",
      "    cp: current price information\n",
      "    r: used for risk utility curve: customer is willing to pay 1+(r/100) times more for security\n",
      "    m: option's number of days to maturity\n",
      "    p_f: probability of flying\n",
      "    \"\"\"\n",
      "    \n",
      "    R = Rs[r]  # at a markup of 1.(r/100)\n",
      "\n",
      "    # *** DEBUG ***\n",
      "    #hp = cp\n",
      "    \n",
      "    # calculate customer's predictions combined with utility\n",
      "    hpMaturity = hp.T.shift(m).T  # shift along axis does not seem to work\n",
      "    retMaturity = hpMaturity/hp\n",
      "    V = np.log(np.exp(retMaturity/R).mean())*R  # Vector that incorperates utility function and expected inc/decr of fare\n",
      "\n",
      "    custBuy = (1 - p_f) * cp  # costs of buying the ticket now\n",
      "    custWait = p_f * (cp*V - cp)  # costs of waiting till maturity\n",
      "\n",
      "    custWTP = np.minimum(custBuy, custWait)  # maximum price customer is accepting\n",
      "\n",
      "    # max option price = 15% of current ticket price\n",
      "    custWTP = np.minimum(custWTP, cp*0.15)\n",
      "\n",
      "    return custWTP"
     ],
     "language": "python",
     "metadata": {},
     "outputs": [],
     "prompt_number": 4
    },
    {
     "cell_type": "heading",
     "level": 4,
     "metadata": {},
     "source": [
      "Create LaTeX table"
     ]
    },
    {
     "cell_type": "code",
     "collapsed": false,
     "input": [
      "def get_priceTableSegment(flyFrom, flyTo, m, v):\n",
      "    priceTable = \"\"\"    \\\\hline\\n    \\\\multirow{4}{*}{\\\\parbox[c]{1cm}{\\\\centering \\\\textbf{  %s%s  $\\\\to$  %s  }}}\\n\"\"\" % (flyFrom, m, flyTo)\n",
      "    for i in range(len(v)):\n",
      "        priceTable += \"    ~  &  $P^f = %.2f$  &  \\\\$\\\\,%d  &  \\\\$\\\\,%.2f  &  %.2f\\\\,\\\\%%  &  %.2f\\\\,\\\\%%   &  \\\\$\\\\,%s  \\\\\\\\ \\n\" % v[i]\n",
      "    \n",
      "    return priceTable"
     ],
     "language": "python",
     "metadata": {},
     "outputs": [],
     "prompt_number": 5
    },
    {
     "cell_type": "heading",
     "level": 2,
     "metadata": {},
     "source": [
      "Simulation models"
     ]
    },
    {
     "cell_type": "heading",
     "level": 4,
     "metadata": {},
     "source": [
      "Option simulation"
     ]
    },
    {
     "cell_type": "code",
     "collapsed": false,
     "input": [
      "def run_optionSimulation(cp, custWTP, sellerWTA, m, p_f, trials=150, allKnowing=False):\n",
      "    \"\"\"\n",
      "    Run the simulation\n",
      "    \n",
      "    cp: current price information\n",
      "    mtp: mean ticket price\n",
      "    custWTP: customer's Willingness To Pay\n",
      "    sellerWTA: seller's Willingness To Accept\n",
      "    p_f: probability of flying\n",
      "    trials: number of times to run simulation\n",
      "    allKnowing: is the seller allKnowing (i.e., does he know whether customer is going to fly in advance)?\n",
      "    \n",
      "    returns: \n",
      "    \"\"\"\n",
      "\n",
      "    totalSold = 1  # set to one because of DivideByZero\n",
      "    sellerProfits = []\n",
      "    \n",
      "    fareIncr = cp.T.shift(m).T - cp\n",
      "    \n",
      "    for t in xrange(trials):\n",
      "        custFly = np.random.binomial(1, p_f, custWTP.shape)  # generate binominal array: is the customer going to fly at maturity?\n",
      "\n",
      "        if allKnowing:\n",
      "            sellerWTA_tmp = sellerWTA * custFly  # all knowing seller accepts option prices > 0 for customer's how will not fly\n",
      "        else:\n",
      "            sellerWTA_tmp = sellerWTA * p_f  # if NOT all knowing, minimum WTA is times the probability of flying\n",
      "\n",
      "        offerOption = custWTP.gt(sellerWTA_tmp)  # seller offers option when WTP > WTA\n",
      "        \n",
      "        totalSold += offerOption.sum().sum()\n",
      "        \n",
      "        profits = int(((custWTP - (fareIncr * custFly)) * offerOption).sum().sum())\n",
      "        sellerProfits.append(profits)\n",
      "    \n",
      "    return np.mean(sellerProfits), int(np.sum(sellerProfits)/totalSold), totalSold/(cp.shape[0]*(cp.shape[1]-m))/trials"
     ],
     "language": "python",
     "metadata": {},
     "outputs": [],
     "prompt_number": 6
    },
    {
     "cell_type": "code",
     "collapsed": false,
     "input": [
      "def run_allSimulation(sellerWTA_f, custWTP_f, p_fRange=None, r=10, allKnowing=False):\n",
      "    \"\"\"\n",
      "    return priceTable str for LaTeX with statistics on ALL airport combinations\n",
      "    \n",
      "    sellerWTA_f: function ref which returns seller's WTA\n",
      "        see run_singleSimulation\n",
      "    custWTP_f: function ref which returns customer's WTP\n",
      "        see run_singleSimulation\n",
      "    pf_Range: list with p_f's to consider\n",
      "    r: risk aversity = 1+(1/r)\n",
      "    allKnowing: is seller all knowing?\n",
      "    \"\"\"\n",
      "    \n",
      "    priceTable = \"\"\n",
      "    \n",
      "    # run simulation for every available airport combination\n",
      "    n = 1\n",
      "    for flyFrom in storage.keys():\n",
      "        for flyTo in storage[flyFrom].keys():\n",
      "            print('[%02d/%d] %s > %s...' % (n, 22, flyFrom, flyTo)),\n",
      "            priceTable += run_singleSimulation(flyFrom, flyTo, sellerWTA_f, custWTP_f, p_fRange, r, allKnowing)\n",
      "            print('done')\n",
      "            n += 1\n",
      "    print\n",
      "\n",
      "    return priceTable\n",
      "\n",
      "\n",
      "def run_singleSimulation(flyFrom, flyTo, sellerWTA_f, custWTP_f, p_fRange=None, r=10, allKnowing=False):\n",
      "    \"\"\"\n",
      "    return priceTable row for specific route\n",
      "    \n",
      "    sellerWTA_f: function ref which returns seller's WTA\n",
      "        hp: historical prices\n",
      "        cp: current prices\n",
      "        m: maturity\n",
      "    custWTP_f: function ref which returns customer's WTP\n",
      "        hp: historical prices\n",
      "        cp: current prices\n",
      "        r: risk averion level\n",
      "        m: maturity\n",
      "        p_f: probability of flying\n",
      "    pf_Range ([0.80, 0.85, 0.90, 0.95]): list with p_f's to consider\n",
      "    r: risk aversity = 1+(1/r)\n",
      "    allKnowing: is seller all knowing?\n",
      "    \"\"\"\n",
      "    \n",
      "    if p_fRange == None:\n",
      "        p_fRange = [0.80, 0.85, 0.90, 0.95]\n",
      "    \n",
      "    priceTable = \"\"\n",
      "    \n",
      "    hp, _ = get_ticketPrices(historical, flyFrom, flyTo)\n",
      "    cp, mtp = get_ticketPrices(storage, flyFrom, flyTo)\n",
      "    \n",
      "    # print flyFrom, flyTo\n",
      "    \n",
      "    # *** DEBUG ***\n",
      "    for m in [3]: #[3, 7, 14]:  # maturity in days\n",
      "        tsp_a = []\n",
      "        mp_a = []\n",
      "        ps_a = []\n",
      "        \n",
      "        sellerWTA = sellerWTA_f(hp, cp, m)\n",
      "    \n",
      "        for p_f in p_fRange:\n",
      "            custWTP = custWTP_f(hp, cp, r=10, m=m, p_f=p_f)\n",
      "\n",
      "            tsp, mp, ps = run_optionSimulation(cp, custWTP, sellerWTA, m=m, p_f=p_f, trials=150, allKnowing=allKnowing)\n",
      "            \n",
      "            tsp_a.append(tsp)\n",
      "            mp_a.append(mp)\n",
      "            ps_a.append(ps)\n",
      "\n",
      "        mp_a = np.array(mp_a)\n",
      "        ps_a = np.array(ps_a)\n",
      "\n",
      "        v = zip(p_fRange, [mtp/100]*4, mp_a/100, mp_a/mtp*100, ps_a*100, [locale.format(\"%d\", x/100, grouping=True) for x in tsp_a])\n",
      "        priceTable += get_priceTableSegment(flyFrom, flyTo, m, v)    \n",
      "    \n",
      "    return priceTable"
     ],
     "language": "python",
     "metadata": {},
     "outputs": [
      {
       "output_type": "stream",
       "stream": "stdout",
       "text": [
        "\n"
       ]
      }
     ],
     "prompt_number": 10
    },
    {
     "cell_type": "heading",
     "level": 3,
     "metadata": {},
     "source": [
      "Simulation for all knowing-seller"
     ]
    },
    {
     "cell_type": "code",
     "collapsed": false,
     "input": [
      "def get_sellerWTA_foreknowledge(hp, cp, m):\n",
      "    \"\"\"\n",
      "    Calculate  the seller's Willingness To Accept\n",
      "    \n",
      "    cp: current price information\n",
      "    m: option's number of days to maturity\n",
      "    \n",
      "    returns: \n",
      "    \"\"\"\n",
      "    cpMaturity = cp.T.shift(m).T\n",
      "    sellerWTA = np.maximum(0, cpMaturity - cp)  # minimum price seller is accepting\n",
      "    \n",
      "    return sellerWTA"
     ],
     "language": "python",
     "metadata": {},
     "outputs": [],
     "prompt_number": 11
    },
    {
     "cell_type": "code",
     "collapsed": false,
     "input": [
      "#print run_singleSimulation('AMS', 'JFK', get_sellerWTA_foreknowledge, get_customerWTP, allKnowing=True)\n",
      "print run_allSimulation(get_sellerWTA_foreknowledge, get_customerWTP, allKnowing=True, p_fRange=[0.5])"
     ],
     "language": "python",
     "metadata": {},
     "outputs": [
      {
       "output_type": "stream",
       "stream": "stdout",
       "text": [
        "[01/22] AMS > CDG... "
       ]
      },
      {
       "output_type": "stream",
       "stream": "stdout",
       "text": [
        "done\n",
        "[02/22] AMS > DXB... "
       ]
      },
      {
       "output_type": "stream",
       "stream": "stdout",
       "text": [
        "done\n",
        "[03/22] AMS > JFK... "
       ]
      },
      {
       "output_type": "stream",
       "stream": "stdout",
       "text": [
        "done\n",
        "[04/22] AMS > LHR... "
       ]
      },
      {
       "output_type": "stream",
       "stream": "stdout",
       "text": [
        "done\n",
        "[05/22] ATL > LAX... "
       ]
      },
      {
       "output_type": "stream",
       "stream": "stdout",
       "text": [
        "done\n",
        "[06/22] ATL > MCO... "
       ]
      },
      {
       "output_type": "stream",
       "stream": "stdout",
       "text": [
        "done\n",
        "[07/22] CDG > AMS... "
       ]
      },
      {
       "output_type": "stream",
       "stream": "stdout",
       "text": [
        "done\n",
        "[08/22] CDG > LHR... "
       ]
      },
      {
       "output_type": "stream",
       "stream": "stdout",
       "text": [
        "done\n",
        "[09/22] DEN > FLL... "
       ]
      },
      {
       "output_type": "stream",
       "stream": "stdout",
       "text": [
        "done\n",
        "[10/22] DEN > PHX... "
       ]
      },
      {
       "output_type": "stream",
       "stream": "stdout",
       "text": [
        "done\n",
        "[11/22] DFW > LAX... "
       ]
      },
      {
       "output_type": "stream",
       "stream": "stdout",
       "text": [
        "done\n",
        "[12/22] DFW > SFO... "
       ]
      },
      {
       "output_type": "stream",
       "stream": "stdout",
       "text": [
        "done\n",
        "[13/22] JFK > CDG... "
       ]
      },
      {
       "output_type": "stream",
       "stream": "stdout",
       "text": [
        "done\n",
        "[14/22] JFK > LHR... "
       ]
      },
      {
       "output_type": "stream",
       "stream": "stdout",
       "text": [
        "done\n",
        "[15/22] LAX > LAS... "
       ]
      },
      {
       "output_type": "stream",
       "stream": "stdout",
       "text": [
        "done\n",
        "[16/22] LAX > SFO... "
       ]
      },
      {
       "output_type": "stream",
       "stream": "stdout",
       "text": [
        "done\n",
        "[17/22] LHR > AMS... "
       ]
      },
      {
       "output_type": "stream",
       "stream": "stdout",
       "text": [
        "done\n",
        "[18/22] LHR > JFK... "
       ]
      },
      {
       "output_type": "stream",
       "stream": "stdout",
       "text": [
        "done\n",
        "[19/22] LHR > LAX... "
       ]
      },
      {
       "output_type": "stream",
       "stream": "stdout",
       "text": [
        "done\n",
        "[20/22] LHR > MAD... "
       ]
      },
      {
       "output_type": "stream",
       "stream": "stdout",
       "text": [
        "done\n",
        "[21/22] ORD > BOS... "
       ]
      },
      {
       "output_type": "stream",
       "stream": "stdout",
       "text": [
        "done\n",
        "[22/22] ORD > LGA... "
       ]
      },
      {
       "output_type": "stream",
       "stream": "stdout",
       "text": [
        "done\n",
        "\n",
        "    \\hline\n",
        "    \\multirow{4}{*}{\\parbox[c]{1cm}{\\centering \\textbf{  AMS3  $\\to$  CDG  }}}\n",
        "    ~  &  $P^f = 0.50$  &  \\$\\,225  &  \\$\\,11.35  &  5.02\\,\\%  &  75.95\\,\\%   &  \\$\\,1,324,351  \\\\ \n",
        "    \\hline\n",
        "    \\multirow{4}{*}{\\parbox[c]{1cm}{\\centering \\textbf{  AMS3  $\\to$  DXB  }}}\n",
        "    ~  &  $P^f = 0.50$  &  \\$\\,590  &  \\$\\,28.17  &  4.77\\,\\%  &  32.92\\,\\%   &  \\$\\,5,064  \\\\ \n",
        "    \\hline\n",
        "    \\multirow{4}{*}{\\parbox[c]{1cm}{\\centering \\textbf{  AMS3  $\\to$  JFK  }}}\n",
        "    ~  &  $P^f = 0.50$  &  \\$\\,851  &  \\$\\,33.77  &  3.97\\,\\%  &  72.47\\,\\%   &  \\$\\,240,551  \\\\ \n",
        "    \\hline\n",
        "    \\multirow{4}{*}{\\parbox[c]{1cm}{\\centering \\textbf{  AMS3  $\\to$  LHR  }}}\n",
        "    ~  &  $P^f = 0.50$  &  \\$\\,258  &  \\$\\,8.60  &  3.32\\,\\%  &  78.05\\,\\%   &  \\$\\,669,681  \\\\ \n",
        "    \\hline\n",
        "    \\multirow{4}{*}{\\parbox[c]{1cm}{\\centering \\textbf{  ATL3  $\\to$  LAX  }}}\n",
        "    ~  &  $P^f = 0.50$  &  \\$\\,393  &  \\$\\,15.79  &  4.01\\,\\%  &  70.26\\,\\%   &  \\$\\,615,074  \\\\ \n",
        "    \\hline\n",
        "    \\multirow{4}{*}{\\parbox[c]{1cm}{\\centering \\textbf{  ATL3  $\\to$  MCO  }}}\n",
        "    ~  &  $P^f = 0.50$  &  \\$\\,251  &  \\$\\,14.85  &  5.89\\,\\%  &  75.86\\,\\%   &  \\$\\,1,651,571  \\\\ \n",
        "    \\hline\n",
        "    \\multirow{4}{*}{\\parbox[c]{1cm}{\\centering \\textbf{  CDG3  $\\to$  AMS  }}}\n",
        "    ~  &  $P^f = 0.50$  &  \\$\\,239  &  \\$\\,10.84  &  4.52\\,\\%  &  76.83\\,\\%   &  \\$\\,1,278,908  \\\\ \n",
        "    \\hline\n",
        "    \\multirow{4}{*}{\\parbox[c]{1cm}{\\centering \\textbf{  CDG3  $\\to$  LHR  }}}\n",
        "    ~  &  $P^f = 0.50$  &  \\$\\,221  &  \\$\\,8.11  &  3.67\\,\\%  &  78.97\\,\\%   &  \\$\\,312,233  \\\\ \n",
        "    \\hline\n",
        "    \\multirow{4}{*}{\\parbox[c]{1cm}{\\centering \\textbf{  DEN3  $\\to$  FLL  }}}\n",
        "    ~  &  $P^f = 0.50$  &  \\$\\,182  &  \\$\\,10.62  &  5.83\\,\\%  &  60.35\\,\\%   &  \\$\\,5,249  \\\\ \n",
        "    \\hline\n",
        "    \\multirow{4}{*}{\\parbox[c]{1cm}{\\centering \\textbf{  DEN3  $\\to$  PHX  }}}\n",
        "    ~  &  $P^f = 0.50$  &  \\$\\,188  &  \\$\\,8.63  &  4.57\\,\\%  &  75.88\\,\\%   &  \\$\\,371,297  \\\\ \n",
        "    \\hline\n",
        "    \\multirow{4}{*}{\\parbox[c]{1cm}{\\centering \\textbf{  DFW3  $\\to$  LAX  }}}\n",
        "    ~  &  $P^f = 0.50$  &  \\$\\,313  &  \\$\\,19.57  &  6.25\\,\\%  &  56.92\\,\\%   &  \\$\\,3,854,575  \\\\ \n",
        "    \\hline\n",
        "    \\multirow{4}{*}{\\parbox[c]{1cm}{\\centering \\textbf{  DFW3  $\\to$  SFO  }}}\n",
        "    ~  &  $P^f = 0.50$  &  \\$\\,387  &  \\$\\,29.41  &  7.58\\,\\%  &  57.56\\,\\%   &  \\$\\,2,973,946  \\\\ \n",
        "    \\hline\n",
        "    \\multirow{4}{*}{\\parbox[c]{1cm}{\\centering \\textbf{  JFK3  $\\to$  CDG  }}}\n",
        "    ~  &  $P^f = 0.50$  &  \\$\\,2637  &  \\$\\,166.51  &  6.31\\,\\%  &  74.73\\,\\%   &  \\$\\,8,647,915  \\\\ \n",
        "    \\hline\n",
        "    \\multirow{4}{*}{\\parbox[c]{1cm}{\\centering \\textbf{  JFK3  $\\to$  LHR  }}}\n",
        "    ~  &  $P^f = 0.50$  &  \\$\\,999  &  \\$\\,94.69  &  9.47\\,\\%  &  92.03\\,\\%   &  \\$\\,26,912,978  \\\\ \n",
        "    \\hline\n",
        "    \\multirow{4}{*}{\\parbox[c]{1cm}{\\centering \\textbf{  LAX3  $\\to$  LAS  }}}\n",
        "    ~  &  $P^f = 0.50$  &  \\$\\,212  &  \\$\\,15.52  &  7.32\\,\\%  &  75.40\\,\\%   &  \\$\\,2,435,242  \\\\ \n",
        "    \\hline\n",
        "    \\multirow{4}{*}{\\parbox[c]{1cm}{\\centering \\textbf{  LAX3  $\\to$  SFO  }}}\n",
        "    ~  &  $P^f = 0.50$  &  \\$\\,221  &  \\$\\,21.74  &  9.81\\,\\%  &  75.80\\,\\%   &  \\$\\,10,391,120  \\\\ \n",
        "    \\hline\n",
        "    \\multirow{4}{*}{\\parbox[c]{1cm}{\\centering \\textbf{  LHR3  $\\to$  AMS  }}}\n",
        "    ~  &  $P^f = 0.50$  &  \\$\\,241  &  \\$\\,8.09  &  3.35\\,\\%  &  77.60\\,\\%   &  \\$\\,628,615  \\\\ \n",
        "    \\hline\n",
        "    \\multirow{4}{*}{\\parbox[c]{1cm}{\\centering \\textbf{  LHR3  $\\to$  JFK  }}}\n",
        "    ~  &  $P^f = 0.50$  &  \\$\\,863  &  \\$\\,78.43  &  9.08\\,\\%  &  94.88\\,\\%   &  \\$\\,22,319,217  \\\\ \n",
        "    \\hline\n",
        "    \\multirow{4}{*}{\\parbox[c]{1cm}{\\centering \\textbf{  LHR3  $\\to$  LAX  }}}\n",
        "    ~  &  $P^f = 0.50$  &  \\$\\,1286  &  \\$\\,136.45  &  10.61\\,\\%  &  91.97\\,\\%   &  \\$\\,4,096,706  \\\\ \n",
        "    \\hline\n",
        "    \\multirow{4}{*}{\\parbox[c]{1cm}{\\centering \\textbf{  LHR3  $\\to$  MAD  }}}\n",
        "    ~  &  $P^f = 0.50$  &  \\$\\,282  &  \\$\\,7.23  &  2.56\\,\\%  &  79.03\\,\\%   &  \\$\\,1,055,855  \\\\ \n",
        "    \\hline\n",
        "    \\multirow{4}{*}{\\parbox[c]{1cm}{\\centering \\textbf{  ORD3  $\\to$  BOS  }}}\n",
        "    ~  &  $P^f = 0.50$  &  \\$\\,249  &  \\$\\,16.02  &  6.43\\,\\%  &  76.96\\,\\%   &  \\$\\,3,465,713  \\\\ \n",
        "    \\hline\n",
        "    \\multirow{4}{*}{\\parbox[c]{1cm}{\\centering \\textbf{  ORD3  $\\to$  LGA  }}}\n",
        "    ~  &  $P^f = 0.50$  &  \\$\\,273  &  \\$\\,14.63  &  5.36\\,\\%  &  74.46\\,\\%   &  \\$\\,5,404,956  \\\\ \n",
        "\n"
       ]
      }
     ],
     "prompt_number": 12
    },
    {
     "cell_type": "heading",
     "level": 3,
     "metadata": {},
     "source": [
      "Black-Scholes"
     ]
    },
    {
     "cell_type": "code",
     "collapsed": false,
     "input": [
      "def d1(S0, K, r, sigma, T):\n",
      "    return (np.log(S0/K) + (r + sigma**2 / 2) * T)/(sigma * np.sqrt(T))\n",
      " \n",
      "def d2(S0, K, r, sigma, T):\n",
      "    return (np.log(S0/K) + (r - sigma**2 / 2) * T)/(sigma * np.sqrt(T))\n",
      " \n",
      "def BlackScholes(hp, S0, m, r=0.03, call=True):\n",
      "    \"\"\"\n",
      "    hp: historical prices\n",
      "    S0: airfare at time 0\n",
      "    m: maturity in days\n",
      "    r: risk-free interest rate\n",
      "    call: call (True) or put (False)\n",
      "    \"\"\"\n",
      "    \n",
      "    # convert volatility to days\n",
      "    T = m/365\n",
      "    \n",
      "    # volatility\n",
      "    hpLN = np.log(hp)\n",
      "    dRet = (hpLN.T.shift(1).T - hpLN)\n",
      "    dRetMean = dRet.mean().mean()\n",
      "    sigmaDaily = np.sqrt(((dRet - dRetMean)**2).mean().mean())\n",
      "    sigma = sigmaDaily*np.sqrt(365)\n",
      "    \n",
      "    K = S0  # strike price == S0\n",
      "    if call:\n",
      "        return S0 * ss.norm.cdf(d1(S0, K, r, sigma, T)) - K * np.exp(-r * T) * ss.norm.cdf(d2(S0, K, r, sigma, T))\n",
      "    return K * np.exp(-r * T) * ss.norm.cdf(-d2(S0, K, r, sigma, T)) - S0 * ss.norm.cdf(-d1(S0, K, r, sigma, T))"
     ],
     "language": "python",
     "metadata": {},
     "outputs": [],
     "prompt_number": 13
    },
    {
     "cell_type": "code",
     "collapsed": false,
     "input": [
      "#print run_singleSimulation('AMS', 'JFK', BlackScholes, get_customerWTP, allKnowing=False)\n",
      "print run_allSimulation(BlackScholes, get_customerWTP, allKnowing=False, p_fRange=[0.5])"
     ],
     "language": "python",
     "metadata": {},
     "outputs": [
      {
       "output_type": "stream",
       "stream": "stdout",
       "text": [
        "[01/22] AMS > CDG... "
       ]
      },
      {
       "output_type": "stream",
       "stream": "stdout",
       "text": [
        "done\n",
        "[02/22] AMS > DXB... "
       ]
      },
      {
       "output_type": "stream",
       "stream": "stdout",
       "text": [
        "done\n",
        "[03/22] AMS > JFK... "
       ]
      },
      {
       "output_type": "stream",
       "stream": "stdout",
       "text": [
        "done\n",
        "[04/22] AMS > LHR... "
       ]
      },
      {
       "output_type": "stream",
       "stream": "stdout",
       "text": [
        "done\n",
        "[05/22] ATL > LAX... "
       ]
      },
      {
       "output_type": "stream",
       "stream": "stdout",
       "text": [
        "done\n",
        "[06/22] ATL > MCO... "
       ]
      },
      {
       "output_type": "stream",
       "stream": "stdout",
       "text": [
        "done\n",
        "[07/22] CDG > AMS... "
       ]
      },
      {
       "output_type": "stream",
       "stream": "stdout",
       "text": [
        "done\n",
        "[08/22] CDG > LHR... "
       ]
      },
      {
       "output_type": "stream",
       "stream": "stdout",
       "text": [
        "done\n",
        "[09/22] DEN > FLL... "
       ]
      },
      {
       "output_type": "stream",
       "stream": "stdout",
       "text": [
        "done\n",
        "[10/22] DEN > PHX... "
       ]
      },
      {
       "output_type": "stream",
       "stream": "stdout",
       "text": [
        "done\n",
        "[11/22] DFW > LAX... "
       ]
      },
      {
       "output_type": "stream",
       "stream": "stdout",
       "text": [
        "done\n",
        "[12/22] DFW > SFO... "
       ]
      },
      {
       "output_type": "stream",
       "stream": "stdout",
       "text": [
        "done\n",
        "[13/22] JFK > CDG... "
       ]
      },
      {
       "output_type": "stream",
       "stream": "stdout",
       "text": [
        "done\n",
        "[14/22] JFK > LHR... "
       ]
      },
      {
       "output_type": "stream",
       "stream": "stdout",
       "text": [
        "done\n",
        "[15/22] LAX > LAS... "
       ]
      },
      {
       "output_type": "stream",
       "stream": "stdout",
       "text": [
        "done\n",
        "[16/22] LAX > SFO... "
       ]
      },
      {
       "output_type": "stream",
       "stream": "stdout",
       "text": [
        "done\n",
        "[17/22] LHR > AMS... "
       ]
      },
      {
       "output_type": "stream",
       "stream": "stdout",
       "text": [
        "done\n",
        "[18/22] LHR > JFK... "
       ]
      },
      {
       "output_type": "stream",
       "stream": "stdout",
       "text": [
        "done\n",
        "[19/22] LHR > LAX... "
       ]
      },
      {
       "output_type": "stream",
       "stream": "stdout",
       "text": [
        "done\n",
        "[20/22] LHR > MAD... "
       ]
      },
      {
       "output_type": "stream",
       "stream": "stdout",
       "text": [
        "done\n",
        "[21/22] ORD > BOS... "
       ]
      },
      {
       "output_type": "stream",
       "stream": "stdout",
       "text": [
        "done\n",
        "[22/22] ORD > LGA... "
       ]
      },
      {
       "output_type": "stream",
       "stream": "stdout",
       "text": [
        "done\n",
        "\n",
        "    \\hline\n",
        "    \\multirow{4}{*}{\\parbox[c]{1cm}{\\centering \\textbf{  AMS3  $\\to$  CDG  }}}\n",
        "    ~  &  $P^f = 0.50$  &  \\$\\,225  &  \\$\\,1.32  &  0.58\\,\\%  &  53.85\\,\\%   &  \\$\\,109,272  \\\\ \n",
        "    \\hline\n",
        "    \\multirow{4}{*}{\\parbox[c]{1cm}{\\centering \\textbf{  AMS3  $\\to$  DXB  }}}\n",
        "    ~  &  $P^f = 0.50$  &  \\$\\,590  &  \\$\\,11.97  &  2.03\\,\\%  &  12.82\\,\\%   &  \\$\\,838  \\\\ \n",
        "    \\hline\n",
        "    \\multirow{4}{*}{\\parbox[c]{1cm}{\\centering \\textbf{  AMS3  $\\to$  JFK  }}}\n",
        "    ~  &  $P^f = 0.50$  &  \\$\\,851  &  \\$\\,-5.07  &  -0.60\\,\\%  &  25.64\\,\\%   &  \\$\\,-12,778  \\\\ \n",
        "    \\hline\n",
        "    \\multirow{4}{*}{\\parbox[c]{1cm}{\\centering \\textbf{  AMS3  $\\to$  LHR  }}}\n",
        "    ~  &  $P^f = 0.50$  &  \\$\\,258  &  \\$\\,1.63  &  0.63\\,\\%  &  48.72\\,\\%   &  \\$\\,79,496  \\\\ \n",
        "    \\hline\n",
        "    \\multirow{4}{*}{\\parbox[c]{1cm}{\\centering \\textbf{  ATL3  $\\to$  LAX  }}}\n",
        "    ~  &  $P^f = 0.50$  &  \\$\\,393  &  \\$\\,2.68  &  0.68\\,\\%  &  28.21\\,\\%   &  \\$\\,42,011  \\\\ \n",
        "    \\hline\n",
        "    \\multirow{4}{*}{\\parbox[c]{1cm}{\\centering \\textbf{  ATL3  $\\to$  MCO  }}}\n",
        "    ~  &  $P^f = 0.50$  &  \\$\\,251  &  \\$\\,5.41  &  2.15\\,\\%  &  56.41\\,\\%   &  \\$\\,447,162  \\\\ \n",
        "    \\hline\n",
        "    \\multirow{4}{*}{\\parbox[c]{1cm}{\\centering \\textbf{  CDG3  $\\to$  AMS  }}}\n",
        "    ~  &  $P^f = 0.50$  &  \\$\\,239  &  \\$\\,1.48  &  0.62\\,\\%  &  51.28\\,\\%   &  \\$\\,117,068  \\\\ \n",
        "    \\hline\n",
        "    \\multirow{4}{*}{\\parbox[c]{1cm}{\\centering \\textbf{  CDG3  $\\to$  LHR  }}}\n",
        "    ~  &  $P^f = 0.50$  &  \\$\\,221  &  \\$\\,1.02  &  0.46\\,\\%  &  25.64\\,\\%   &  \\$\\,12,812  \\\\ \n",
        "    \\hline\n",
        "    \\multirow{4}{*}{\\parbox[c]{1cm}{\\centering \\textbf{  DEN3  $\\to$  FLL  }}}\n",
        "    ~  &  $P^f = 0.50$  &  \\$\\,182  &  \\$\\,-0.67  &  -0.37\\,\\%  &  23.08\\,\\%   &  \\$\\,-127  \\\\ \n",
        "    \\hline\n",
        "    \\multirow{4}{*}{\\parbox[c]{1cm}{\\centering \\textbf{  DEN3  $\\to$  PHX  }}}\n",
        "    ~  &  $P^f = 0.50$  &  \\$\\,188  &  \\$\\,6.31  &  3.34\\,\\%  &  30.77\\,\\%   &  \\$\\,110,049  \\\\ \n",
        "    \\hline\n",
        "    \\multirow{4}{*}{\\parbox[c]{1cm}{\\centering \\textbf{  DFW3  $\\to$  LAX  }}}\n",
        "    ~  &  $P^f = 0.50$  &  \\$\\,313  &  \\$\\,-4.49  &  -1.43\\,\\%  &  33.33\\,\\%   &  \\$\\,-518,093  \\\\ \n",
        "    \\hline\n",
        "    \\multirow{4}{*}{\\parbox[c]{1cm}{\\centering \\textbf{  DFW3  $\\to$  SFO  }}}\n",
        "    ~  &  $P^f = 0.50$  &  \\$\\,387  &  \\$\\,0.35  &  0.09\\,\\%  &  30.77\\,\\%   &  \\$\\,18,986  \\\\ \n",
        "    \\hline\n",
        "    \\multirow{4}{*}{\\parbox[c]{1cm}{\\centering \\textbf{  JFK3  $\\to$  CDG  }}}\n",
        "    ~  &  $P^f = 0.50$  &  \\$\\,2637  &  \\$\\,224.68  &  8.52\\,\\%  &  35.90\\,\\%   &  \\$\\,5,605,492  \\\\ \n",
        "    \\hline\n",
        "    \\multirow{4}{*}{\\parbox[c]{1cm}{\\centering \\textbf{  JFK3  $\\to$  LHR  }}}\n",
        "    ~  &  $P^f = 0.50$  &  \\$\\,999  &  \\$\\,75.31  &  7.53\\,\\%  &  69.23\\,\\%   &  \\$\\,16,101,503  \\\\ \n",
        "    \\hline\n",
        "    \\multirow{4}{*}{\\parbox[c]{1cm}{\\centering \\textbf{  LAX3  $\\to$  LAS  }}}\n",
        "    ~  &  $P^f = 0.50$  &  \\$\\,212  &  \\$\\,11.51  &  5.43\\,\\%  &  35.90\\,\\%   &  \\$\\,859,784  \\\\ \n",
        "    \\hline\n",
        "    \\multirow{4}{*}{\\parbox[c]{1cm}{\\centering \\textbf{  LAX3  $\\to$  SFO  }}}\n",
        "    ~  &  $P^f = 0.50$  &  \\$\\,221  &  \\$\\,22.58  &  10.19\\,\\%  &  48.72\\,\\%   &  \\$\\,6,934,374  \\\\ \n",
        "    \\hline\n",
        "    \\multirow{4}{*}{\\parbox[c]{1cm}{\\centering \\textbf{  LHR3  $\\to$  AMS  }}}\n",
        "    ~  &  $P^f = 0.50$  &  \\$\\,241  &  \\$\\,2.09  &  0.86\\,\\%  &  38.46\\,\\%   &  \\$\\,80,544  \\\\ \n",
        "    \\hline\n",
        "    \\multirow{4}{*}{\\parbox[c]{1cm}{\\centering \\textbf{  LHR3  $\\to$  JFK  }}}\n",
        "    ~  &  $P^f = 0.50$  &  \\$\\,863  &  \\$\\,92.51  &  10.71\\,\\%  &  58.97\\,\\%   &  \\$\\,16,363,409  \\\\ \n",
        "    \\hline\n",
        "    \\multirow{4}{*}{\\parbox[c]{1cm}{\\centering \\textbf{  LHR3  $\\to$  LAX  }}}\n",
        "    ~  &  $P^f = 0.50$  &  \\$\\,1286  &  \\$\\,159.98  &  12.44\\,\\%  &  53.85\\,\\%   &  \\$\\,2,812,032  \\\\ \n",
        "    \\hline\n",
        "    \\multirow{4}{*}{\\parbox[c]{1cm}{\\centering \\textbf{  LHR3  $\\to$  MAD  }}}\n",
        "    ~  &  $P^f = 0.50$  &  \\$\\,282  &  \\$\\,-2.13  &  -0.75\\,\\%  &  20.51\\,\\%   &  \\$\\,-80,957  \\\\ \n",
        "    \\hline\n",
        "    \\multirow{4}{*}{\\parbox[c]{1cm}{\\centering \\textbf{  ORD3  $\\to$  BOS  }}}\n",
        "    ~  &  $P^f = 0.50$  &  \\$\\,249  &  \\$\\,7.35  &  2.95\\,\\%  &  30.77\\,\\%   &  \\$\\,635,875  \\\\ \n",
        "    \\hline\n",
        "    \\multirow{4}{*}{\\parbox[c]{1cm}{\\centering \\textbf{  ORD3  $\\to$  LGA  }}}\n",
        "    ~  &  $P^f = 0.50$  &  \\$\\,273  &  \\$\\,7.39  &  2.71\\,\\%  &  38.46\\,\\%   &  \\$\\,1,411,207  \\\\ \n",
        "\n"
       ]
      }
     ],
     "prompt_number": 16
    },
    {
     "cell_type": "heading",
     "level": 3,
     "metadata": {},
     "source": [
      "Monte Carlo"
     ]
    },
    {
     "cell_type": "code",
     "collapsed": false,
     "input": [
      "def MonteCarlo(hp, cp, m, N=100000):\n",
      "    \"\"\"\n",
      "    return Monte Carlo estimation\n",
      "    \n",
      "    hp: historical prices\n",
      "    cp: current prices (not used)\n",
      "    m: maturity\n",
      "    N: number of trials\n",
      "    \"\"\"\n",
      "    dRet = hp.T.shift(1).T/hp\n",
      "    \n",
      "    expIncr = np.zeros(hp.shape[1])\n",
      "    \n",
      "    for dbb in xrange(m, hp.shape[1]):\n",
      "        simRet = np.ones(N)\n",
      "        for i in range(m):\n",
      "            simRet *= np.random.choice(dRet.ix[:, dbb - i], N)\n",
      "        expIncr[dbb] = simRet.mean()\n",
      "\n",
      "    return np.vstack([expIncr-1]*cp.shape[0])*cp"
     ],
     "language": "python",
     "metadata": {},
     "outputs": [],
     "prompt_number": 17
    },
    {
     "cell_type": "code",
     "collapsed": false,
     "input": [
      "#print run_singleSimulation('DFW', 'SFO', MonteCarlo, get_customerWTP, allKnowing=False)\n",
      "print run_allSimulation(MonteCarlo, get_customerWTP, allKnowing=False, p_fRange=[0.5])"
     ],
     "language": "python",
     "metadata": {},
     "outputs": [
      {
       "output_type": "stream",
       "stream": "stdout",
       "text": [
        "[01/22] AMS > CDG... "
       ]
      },
      {
       "output_type": "stream",
       "stream": "stdout",
       "text": [
        "done\n",
        "[02/22] AMS > DXB... "
       ]
      },
      {
       "output_type": "stream",
       "stream": "stdout",
       "text": [
        "done\n",
        "[03/22] AMS > JFK... "
       ]
      },
      {
       "output_type": "stream",
       "stream": "stdout",
       "text": [
        "done\n",
        "[04/22] AMS > LHR... "
       ]
      },
      {
       "output_type": "stream",
       "stream": "stdout",
       "text": [
        "done\n",
        "[05/22] ATL > LAX... "
       ]
      },
      {
       "output_type": "stream",
       "stream": "stdout",
       "text": [
        "done\n",
        "[06/22] ATL > MCO... "
       ]
      },
      {
       "output_type": "stream",
       "stream": "stdout",
       "text": [
        "done\n",
        "[07/22] CDG > AMS... "
       ]
      },
      {
       "output_type": "stream",
       "stream": "stdout",
       "text": [
        "done\n",
        "[08/22] CDG > LHR... "
       ]
      },
      {
       "output_type": "stream",
       "stream": "stdout",
       "text": [
        "done\n",
        "[09/22] DEN > FLL... "
       ]
      },
      {
       "output_type": "stream",
       "stream": "stdout",
       "text": [
        "done\n",
        "[10/22] DEN > PHX... "
       ]
      },
      {
       "output_type": "stream",
       "stream": "stdout",
       "text": [
        "done\n",
        "[11/22] DFW > LAX... "
       ]
      },
      {
       "output_type": "stream",
       "stream": "stdout",
       "text": [
        "done\n",
        "[12/22] DFW > SFO... "
       ]
      },
      {
       "output_type": "stream",
       "stream": "stdout",
       "text": [
        "done\n",
        "[13/22] JFK > CDG... "
       ]
      },
      {
       "output_type": "stream",
       "stream": "stdout",
       "text": [
        "done\n",
        "[14/22] JFK > LHR... "
       ]
      },
      {
       "output_type": "stream",
       "stream": "stdout",
       "text": [
        "done\n",
        "[15/22] LAX > LAS... "
       ]
      },
      {
       "output_type": "stream",
       "stream": "stdout",
       "text": [
        "done\n",
        "[16/22] LAX > SFO... "
       ]
      },
      {
       "output_type": "stream",
       "stream": "stdout",
       "text": [
        "done\n",
        "[17/22] LHR > AMS... "
       ]
      },
      {
       "output_type": "stream",
       "stream": "stdout",
       "text": [
        "done\n",
        "[18/22] LHR > JFK... "
       ]
      },
      {
       "output_type": "stream",
       "stream": "stdout",
       "text": [
        "done\n",
        "[19/22] LHR > LAX... "
       ]
      },
      {
       "output_type": "stream",
       "stream": "stdout",
       "text": [
        "done\n",
        "[20/22] LHR > MAD... "
       ]
      },
      {
       "output_type": "stream",
       "stream": "stdout",
       "text": [
        "done\n",
        "[21/22] ORD > BOS... "
       ]
      },
      {
       "output_type": "stream",
       "stream": "stdout",
       "text": [
        "done\n",
        "[22/22] ORD > LGA... "
       ]
      },
      {
       "output_type": "stream",
       "stream": "stdout",
       "text": [
        "done\n",
        "\n",
        "    \\hline\n",
        "    \\multirow{4}{*}{\\parbox[c]{1cm}{\\centering \\textbf{  AMS3  $\\to$  CDG  }}}\n",
        "    ~  &  $P^f = 0.50$  &  \\$\\,225  &  \\$\\,0.92  &  0.41\\,\\%  &  100.00\\,\\%   &  \\$\\,142,031  \\\\ \n",
        "    \\hline\n",
        "    \\multirow{4}{*}{\\parbox[c]{1cm}{\\centering \\textbf{  AMS3  $\\to$  DXB  }}}\n",
        "    ~  &  $P^f = 0.50$  &  \\$\\,590  &  \\$\\,2.35  &  0.40\\,\\%  &  92.31\\,\\%   &  \\$\\,1,188  \\\\ \n",
        "    \\hline\n",
        "    \\multirow{4}{*}{\\parbox[c]{1cm}{\\centering \\textbf{  AMS3  $\\to$  JFK  }}}\n",
        "    ~  &  $P^f = 0.50$  &  \\$\\,851  &  \\$\\,-3.12  &  -0.37\\,\\%  &  92.31\\,\\%   &  \\$\\,-28,365  \\\\ \n",
        "    \\hline\n",
        "    \\multirow{4}{*}{\\parbox[c]{1cm}{\\centering \\textbf{  AMS3  $\\to$  LHR  }}}\n",
        "    ~  &  $P^f = 0.50$  &  \\$\\,258  &  \\$\\,1.42  &  0.55\\,\\%  &  100.00\\,\\%   &  \\$\\,142,569  \\\\ \n",
        "    \\hline\n",
        "    \\multirow{4}{*}{\\parbox[c]{1cm}{\\centering \\textbf{  ATL3  $\\to$  LAX  }}}\n",
        "    ~  &  $P^f = 0.50$  &  \\$\\,393  &  \\$\\,2.77  &  0.70\\,\\%  &  94.87\\,\\%   &  \\$\\,145,927  \\\\ \n",
        "    \\hline\n",
        "    \\multirow{4}{*}{\\parbox[c]{1cm}{\\centering \\textbf{  ATL3  $\\to$  MCO  }}}\n",
        "    ~  &  $P^f = 0.50$  &  \\$\\,251  &  \\$\\,4.18  &  1.66\\,\\%  &  100.00\\,\\%   &  \\$\\,612,603  \\\\ \n",
        "    \\hline\n",
        "    \\multirow{4}{*}{\\parbox[c]{1cm}{\\centering \\textbf{  CDG3  $\\to$  AMS  }}}\n",
        "    ~  &  $P^f = 0.50$  &  \\$\\,239  &  \\$\\,1.19  &  0.50\\,\\%  &  100.00\\,\\%   &  \\$\\,182,893  \\\\ \n",
        "    \\hline\n",
        "    \\multirow{4}{*}{\\parbox[c]{1cm}{\\centering \\textbf{  CDG3  $\\to$  LHR  }}}\n",
        "    ~  &  $P^f = 0.50$  &  \\$\\,221  &  \\$\\,0.30  &  0.14\\,\\%  &  100.00\\,\\%   &  \\$\\,14,907  \\\\ \n",
        "    \\hline\n",
        "    \\multirow{4}{*}{\\parbox[c]{1cm}{\\centering \\textbf{  DEN3  $\\to$  FLL  }}}\n",
        "    ~  &  $P^f = 0.50$  &  \\$\\,182  &  \\$\\,0.20  &  0.11\\,\\%  &  94.87\\,\\%   &  \\$\\,158  \\\\ \n",
        "    \\hline\n",
        "    \\multirow{4}{*}{\\parbox[c]{1cm}{\\centering \\textbf{  DEN3  $\\to$  PHX  }}}\n",
        "    ~  &  $P^f = 0.50$  &  \\$\\,188  &  \\$\\,2.01  &  1.06\\,\\%  &  100.00\\,\\%   &  \\$\\,114,229  \\\\ \n",
        "    \\hline\n",
        "    \\multirow{4}{*}{\\parbox[c]{1cm}{\\centering \\textbf{  DFW3  $\\to$  LAX  }}}\n",
        "    ~  &  $P^f = 0.50$  &  \\$\\,313  &  \\$\\,0.96  &  0.31\\,\\%  &  89.74\\,\\%   &  \\$\\,298,744  \\\\ \n",
        "    \\hline\n",
        "    \\multirow{4}{*}{\\parbox[c]{1cm}{\\centering \\textbf{  DFW3  $\\to$  SFO  }}}\n",
        "    ~  &  $P^f = 0.50$  &  \\$\\,387  &  \\$\\,-2.70  &  -0.70\\,\\%  &  87.18\\,\\%   &  \\$\\,-414,340  \\\\ \n",
        "    \\hline\n",
        "    \\multirow{4}{*}{\\parbox[c]{1cm}{\\centering \\textbf{  JFK3  $\\to$  CDG  }}}\n",
        "    ~  &  $P^f = 0.50$  &  \\$\\,2637  &  \\$\\,86.66  &  3.29\\,\\%  &  100.00\\,\\%   &  \\$\\,6,023,126  \\\\ \n",
        "    \\hline\n",
        "    \\multirow{4}{*}{\\parbox[c]{1cm}{\\centering \\textbf{  JFK3  $\\to$  LHR  }}}\n",
        "    ~  &  $P^f = 0.50$  &  \\$\\,999  &  \\$\\,73.04  &  7.31\\,\\%  &  87.18\\,\\%   &  \\$\\,19,663,604  \\\\ \n",
        "    \\hline\n",
        "    \\multirow{4}{*}{\\parbox[c]{1cm}{\\centering \\textbf{  LAX3  $\\to$  LAS  }}}\n",
        "    ~  &  $P^f = 0.50$  &  \\$\\,212  &  \\$\\,3.91  &  1.84\\,\\%  &  97.44\\,\\%   &  \\$\\,792,952  \\\\ \n",
        "    \\hline\n",
        "    \\multirow{4}{*}{\\parbox[c]{1cm}{\\centering \\textbf{  LAX3  $\\to$  SFO  }}}\n",
        "    ~  &  $P^f = 0.50$  &  \\$\\,221  &  \\$\\,6.68  &  3.01\\,\\%  &  89.74\\,\\%   &  \\$\\,3,782,653  \\\\ \n",
        "    \\hline\n",
        "    \\multirow{4}{*}{\\parbox[c]{1cm}{\\centering \\textbf{  LHR3  $\\to$  AMS  }}}\n",
        "    ~  &  $P^f = 0.50$  &  \\$\\,241  &  \\$\\,1.63  &  0.67\\,\\%  &  100.00\\,\\%   &  \\$\\,163,653  \\\\ \n",
        "    \\hline\n",
        "    \\multirow{4}{*}{\\parbox[c]{1cm}{\\centering \\textbf{  LHR3  $\\to$  JFK  }}}\n",
        "    ~  &  $P^f = 0.50$  &  \\$\\,863  &  \\$\\,63.72  &  7.38\\,\\%  &  100.00\\,\\%   &  \\$\\,19,111,675  \\\\ \n",
        "    \\hline\n",
        "    \\multirow{4}{*}{\\parbox[c]{1cm}{\\centering \\textbf{  LHR3  $\\to$  LAX  }}}\n",
        "    ~  &  $P^f = 0.50$  &  \\$\\,1286  &  \\$\\,93.92  &  7.30\\,\\%  &  92.31\\,\\%   &  \\$\\,2,830,142  \\\\ \n",
        "    \\hline\n",
        "    \\multirow{4}{*}{\\parbox[c]{1cm}{\\centering \\textbf{  LHR3  $\\to$  MAD  }}}\n",
        "    ~  &  $P^f = 0.50$  &  \\$\\,282  &  \\$\\,-0.64  &  -0.23\\,\\%  &  100.00\\,\\%   &  \\$\\,-118,369  \\\\ \n",
        "    \\hline\n",
        "    \\multirow{4}{*}{\\parbox[c]{1cm}{\\centering \\textbf{  ORD3  $\\to$  BOS  }}}\n",
        "    ~  &  $P^f = 0.50$  &  \\$\\,249  &  \\$\\,2.68  &  1.08\\,\\%  &  97.44\\,\\%   &  \\$\\,735,973  \\\\ \n",
        "    \\hline\n",
        "    \\multirow{4}{*}{\\parbox[c]{1cm}{\\centering \\textbf{  ORD3  $\\to$  LGA  }}}\n",
        "    ~  &  $P^f = 0.50$  &  \\$\\,273  &  \\$\\,4.08  &  1.49\\,\\%  &  94.87\\,\\%   &  \\$\\,1,920,329  \\\\ \n",
        "\n"
       ]
      }
     ],
     "prompt_number": 18
    },
    {
     "cell_type": "heading",
     "level": 2,
     "metadata": {},
     "source": [
      "Descriptives"
     ]
    },
    {
     "cell_type": "code",
     "collapsed": false,
     "input": [
      "storage = h5py.File('storage/flightsTest.h5', 'r')\n",
      "\n",
      "total = 0\n",
      "totalSO = 0\n",
      "totalNA = 0\n",
      "\n",
      "for flyFrom in storage.keys():\n",
      "    for flyTo in storage[flyFrom].keys():\n",
      "        flights = storage[flyFrom][flyTo][:,1:43]\n",
      "        total += flights.shape[0]\n",
      "        totalSO += len(flights[:,0].nonzero()[0])\n",
      "        totalNA += len(flights.nonzero()[0])\n",
      "        #print flyFrom, flyTo, flights.shape[0]\n",
      "\n",
      "print total\n",
      "print totalSO\n",
      "print totalNA"
     ],
     "language": "python",
     "metadata": {},
     "outputs": [
      {
       "output_type": "stream",
       "stream": "stdout",
       "text": [
        "141117\n",
        "103920\n",
        "4400920\n"
       ]
      }
     ],
     "prompt_number": 8
    },
    {
     "cell_type": "raw",
     "metadata": {},
     "source": [
      "test = 141117 flights\n",
      "test = 103920 NOT sold-out\n",
      "test = 4400920 datapoints\n",
      "\n",
      "train = 321545 flights\n",
      "train = 199142 NOT sold-out\n",
      "train = 8465033 datapoints"
     ]
    },
    {
     "cell_type": "code",
     "collapsed": false,
     "input": [
      "amsjfk = get_ticketPrices('AMS', 'JFK')[0]\n",
      "\n",
      "print np.array(amsjfk.values[1,:5], dtype=np.uint32)\n",
      "print np.array(amsjfk.values[2,:5], dtype=np.uint32)\n",
      "print np.array(amsjfk.values[3,:5], dtype=np.uint32)\n",
      "print np.array(amsjfk.values[21,:5], dtype=np.uint32)\n",
      "print np.array(amsjfk.values[251,:5], dtype=np.uint32)"
     ],
     "language": "python",
     "metadata": {},
     "outputs": [
      {
       "output_type": "stream",
       "stream": "stdout",
       "text": [
        "[ 57469  68619 122469 222469 109644]\n",
        "[87119 87369 93019 84469 79469]\n",
        "[87494 86694 94744 74569 70244]\n",
        "[410951 134430 242480 108934 126369]\n",
        "[147405 141980 155569 220569 273369]\n"
       ]
      }
     ],
     "prompt_number": 10
    },
    {
     "cell_type": "heading",
     "level": 2,
     "metadata": {},
     "source": [
      "Convergence plot"
     ]
    },
    {
     "cell_type": "code",
     "collapsed": false,
     "input": [
      "a =  run_singleSimulation('ATL', 'LAX', get_sellerWTA_foreknowledge, get_customerWTP, allKnowing=True)"
     ],
     "language": "python",
     "metadata": {},
     "outputs": [],
     "prompt_number": 117
    },
    {
     "cell_type": "code",
     "collapsed": false,
     "input": [
      "conv = []\n",
      "for i in xrange(1, len(a)):\n",
      "    conv.append(int(mean(a[:i])))"
     ],
     "language": "python",
     "metadata": {},
     "outputs": [],
     "prompt_number": 118
    },
    {
     "cell_type": "code",
     "collapsed": false,
     "input": [
      "c2 = (np.array(conv)/np.mean(conv[-1]))*100"
     ],
     "language": "python",
     "metadata": {},
     "outputs": [],
     "prompt_number": 119
    },
    {
     "cell_type": "code",
     "collapsed": false,
     "input": [
      "c3 = (np.array(conv)/np.mean(conv[-1]))*100"
     ],
     "language": "python",
     "metadata": {},
     "outputs": [],
     "prompt_number": 112
    },
    {
     "cell_type": "code",
     "collapsed": false,
     "input": [
      "c4 = (np.array(conv)/np.mean(conv[-1]))*100"
     ],
     "language": "python",
     "metadata": {},
     "outputs": [],
     "prompt_number": 115
    },
    {
     "cell_type": "code",
     "collapsed": false,
     "input": [
      "plot(c2, label='ATL -> LAX')\n",
      "plot(c3, label='LHR -> JFK')\n",
      "plot(c4, label='AMS -> CDG')\n",
      "xlabel('number of trials (N)')\n",
      "ylabel('relative average (%)')\n",
      "ylim(99, 101)\n",
      "\n",
      "legend()\n",
      "savefig('/home/patrick/multiple.png', dpi=200)"
     ],
     "language": "python",
     "metadata": {},
     "outputs": [
      {
       "metadata": {},
       "output_type": "display_data",
       "png": "[encoded data removed]",
       "text": [
        "<matplotlib.figure.Figure at 0x831e810>"
       ]
      }
     ],
     "prompt_number": 122
    },
    {
     "cell_type": "heading",
     "level": 2,
     "metadata": {},
     "source": [
      "TMP"
     ]
    },
    {
     "cell_type": "code",
     "collapsed": false,
     "input": [
      "print 'All routes: \\n'\n",
      "for oa in storage.keys():\n",
      "    for ia in storage[oa].keys():\n",
      "        print oa + '  >  ' + ia"
     ],
     "language": "python",
     "metadata": {},
     "outputs": [
      {
       "output_type": "stream",
       "stream": "stdout",
       "text": [
        "All routes: \n",
        "\n",
        "AMS  >  CDG\n",
        "AMS  >  DXB\n",
        "AMS  >  JFK\n",
        "AMS  >  LHR\n",
        "ATL  >  LAX\n",
        "ATL  >  MCO\n",
        "CDG  >  AMS\n",
        "CDG  >  LHR\n",
        "DEN  >  FLL\n",
        "DEN  >  PHX\n",
        "DFW  >  LAX\n",
        "DFW  >  SFO\n",
        "JFK  >  CDG\n",
        "JFK  >  LHR\n",
        "LAX  >  LAS\n",
        "LAX  >  SFO\n",
        "LHR  >  AMS\n",
        "LHR  >  JFK\n",
        "LHR  >  LAX\n",
        "LHR  >  MAD\n",
        "ORD  >  BOS\n",
        "ORD  >  LGA\n"
       ]
      }
     ],
     "prompt_number": 25
    },
    {
     "cell_type": "code",
     "collapsed": false,
     "input": [
      "def f(maturity, p_f, r):\n",
      "    \"\"\"\n",
      "    TMP: function that analyzes ALL in/out combinations\n",
      "    \"\"\"\n",
      "    for flyFrom in storage.keys():\n",
      "        for flyTo in storage[flyFrom].keys():\n",
      "            ticketPrices, meanTicketPrice = get_ticketPrices(flyFrom, flyTo)\n",
      "            sellerProfits, totalSold = get_sellerProfits(ticketPrices, maturity, p_f, r)\n",
      "            meanProfit = int(np.mean(sellerProfits)/100)\n",
      "            totalCustomers = ticketPrices.shape[0] * (ticketPrices.shape[1] - maturity)\n",
      "            \n",
      "            print flyFrom, flyTo\n",
      "            print meanProfit\n",
      "            print\n",
      "    \n",
      "            profitPerTicket = meanProfit / totalCustomers\n",
      "            print profitPerTicket\n",
      "            print profitPerTicket/meanTicketPrice\n",
      "            print\n",
      "    \n",
      "            profitPerTicketSold = int(np.sum(sellerProfits)/100) / totalSold\n",
      "            print profitPerTicketSold\n",
      "            print profitPerTicketSold/meanTicketPrice\n",
      "            print"
     ],
     "language": "python",
     "metadata": {},
     "outputs": []
    }
   ],
   "metadata": {}
  }
 ]
}