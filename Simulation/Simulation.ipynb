{
 "metadata": {
  "name": ""
 },
 "nbformat": 3,
 "nbformat_minor": 0,
 "worksheets": [
  {
   "cells": [
    {
     "cell_type": "heading",
     "level": 2,
     "metadata": {},
     "source": [
      "Imports"
     ]
    },
    {
     "cell_type": "code",
     "collapsed": false,
     "input": [
      "from __future__ import division\n",
      "\n",
      "import h5py\n",
      "import numpy as np\n",
      "import sympy\n",
      "import pandas as pd\n",
      "pd.set_option('display.max_rows', 500)\n",
      "pd.set_option('display.max_columns', 30)"
     ],
     "language": "python",
     "metadata": {},
     "outputs": [],
     "prompt_number": 3
    },
    {
     "cell_type": "heading",
     "level": 2,
     "metadata": {},
     "source": [
      "Empirical data"
     ]
    },
    {
     "cell_type": "code",
     "collapsed": false,
     "input": [
      "storage = h5py.File('storage/flightsTest.h5', 'r')"
     ],
     "language": "python",
     "metadata": {},
     "outputs": [],
     "prompt_number": 4
    },
    {
     "cell_type": "heading",
     "level": 2,
     "metadata": {},
     "source": [
      "Main functions"
     ]
    },
    {
     "cell_type": "code",
     "collapsed": false,
     "input": [
      "def get_ticketPrices(flyFrom, flyTo):\n",
      "    \"\"\"\n",
      "    returns cleaned up ticketPrices AND meanTicketPrice in whole $'s (for sell-outs)\n",
      "    \n",
      "    flyFrom: outbound airport\n",
      "    flyTo: inbound airport\n",
      "    \"\"\"\n",
      "    ticketPrices = pd.DataFrame(storage[flyFrom][flyTo][:,1:43], dtype=np.float64)\n",
      "    ticketPrices[ticketPrices == 0] = np.nan\n",
      "    ticketPrices = ticketPrices.dropna(thresh=int(42*2/3)).ffill(axis=1)  # drop everythings that has less than 2/3 avilable data\n",
      "    meanTicketPrice = int(ticketPrices.mean().mean()/100)\n",
      "    return ticketPrices.fillna(ticketPrices[0].mean()*3), meanTicketPrice\n",
      "\n",
      "\n",
      "# The parameter R for x=1 and markdown is between 1.00 and 1.49 => Rs[1+ (markup %/100)]\n",
      "Rs = [1000000000, 12.496666311036584, 6.243330486502654, 4.156657048524223, 3.111643834528778, 2.4832886546651745, 2.063255948942078, 1.7622577296977648, 1.5356488092930582, 1.3586252017993312, 1.21630347633149, 1.0992113649150326, 1.0010330590733996, 0.9173951312452584, 0.8451727678126469, 0.7820735007721652, 0.72637703142226, 0.6767668718147107, 0.632218095883475, 0.5919205269639431, 0.5552249575307869, 0.5216047221664799, 0.49062773690364747, 0.4619358176240307, 0.43522915239997745, 0.4102544824821221, 0.3867959911697954, 0.3646681962405325, 0.34371034293279795, 0.3237819336016499, 0.30475912803497585, 0.2865318186536202, 0.26900123654074615, 0.2520779837865172, 0.23568041961942612, 0.21973335580872078, 0.204167043719119, 0.1889164631635722, 0.17392095198121899, 0.15912424089741475, 0.14447496735003168, 0.12992770512360183, 0.11544441531556111, 0.10099595331805158, 0.08656290307799419, 0.07213485129383752, 0.057707804116745684, 0.043280851232438425, 0.028853900817779332, 0.014426950408889647]\n",
      "\n",
      "def get_sellerProfits(ticketPrices, maturity, p_f, r, numberOfTrials=500):\n",
      "    \"\"\"\n",
      "    returns sellerProfits AND total number of tickets sold. Both are averages of <numberOfTrials> simulations\n",
      "    \n",
      "    ticketPrices: as gained from get_ticketPrices(...)\n",
      "    maturity: number of days to maturity\n",
      "    p_f: likelihood of flying\n",
      "    r: markup at 1 + (r/100)\n",
      "    numberOfTrials: how many times to run simulation\n",
      "    \"\"\"\n",
      "\n",
      "    R = Rs[r]  # at a markup of 1.(r/100)\n",
      "    \n",
      "    # calculate customer's predictions combined with utility\n",
      "    pricesAtMaturity = ticketPrices.T.shift(maturity).T\n",
      "    returnsAtMaturity = pricesAtMaturity/ticketPrices\n",
      "    V = np.log(np.exp(returnsAtMaturity/R).mean())*R\n",
      "    \n",
      "    custBuy = (1 - p_f) * ticketPrices  # costs of buying the ticket now\n",
      "    custWait = p_f * (ticketPrices*V - ticketPrices)  # costs of waiting till maturity\n",
      "    custWTP = np.minimum(custBuy, custWait)  # maximum price customer is accepting\n",
      "\n",
      "    sellerWTA = np.maximum(0, pricesAtMaturity - ticketPrices)  # minimum price seller is going accepting\n",
      "\n",
      "    sellerProfits = []\n",
      "    totalSold = 0\n",
      "    \n",
      "    for i in xrange(numberOfTrials):\n",
      "        custFlying = np.random.binomial(1, p_f, custWTP.shape)  # is the customer going to fly?\n",
      "    \n",
      "        sellerWTA_min = sellerWTA * custFlying  # this is for the ALLKNOWING seller\n",
      "        offerOption = custWTP.gt(sellerWTA_min)\n",
      "        #offerOption = custWTP.gt(sellerWTA*p_f) # seller who knows all, except whether realy going to fly\n",
      "        \n",
      "        totalSold += offerOption.sum().sum()\n",
      "        sellerProfits.append(((custWTP - (pricesAtMaturity - ticketPrices))* custFlying * offerOption).sum().sum())\n",
      "        #sellerProfits.append(((sellerWTA*p_f - (pricesAtMaturity - ticketPrices))* custFlying * offerOption).sum().sum())\n",
      "\n",
      "    return sellerProfits, totalSold/numberOfTrials"
     ],
     "language": "python",
     "metadata": {},
     "outputs": [],
     "prompt_number": 5
    },
    {
     "cell_type": "code",
     "collapsed": false,
     "input": [
      "plot(Rs[1:])"
     ],
     "language": "python",
     "metadata": {},
     "outputs": [
      {
       "metadata": {},
       "output_type": "pyout",
       "prompt_number": 32,
       "text": [
        "[<matplotlib.lines.Line2D at 0x61b2710>]"
       ]
      },
      {
       "metadata": {},
       "output_type": "display_data",
       "png": "[encoded data removed]",
       "text": [
        "<matplotlib.figure.Figure at 0x54a3190>"
       ]
      }
     ],
     "prompt_number": 32
    },
    {
     "cell_type": "heading",
     "level": 2,
     "metadata": {},
     "source": [
      "Simulation models"
     ]
    },
    {
     "cell_type": "heading",
     "level": 3,
     "metadata": {},
     "source": [
      "Simulation for allknowing-seller"
     ]
    },
    {
     "cell_type": "code",
     "collapsed": false,
     "input": [
      "ticketPrices, meanTicketPrice = get_ticketPrices('ORD', 'BOS')\n",
      "m = 3\n",
      "r = 10\n",
      "\n",
      "meansPercentage = []\n",
      "meansProfits = []\n",
      "totalSolds = []\n",
      "p_fRange = np.arange(0.05, 1.0001, 0.05)\n",
      "\n",
      "for p_f in p_fRange:\n",
      "    sellerProfits, totalSold = get_sellerProfits(ticketPrices, m, p_f, r, 500)\n",
      "    totalSolds.append(totalSold)\n",
      "    meansProfits.append(int(np.mean(sellerProfits)/100))\n",
      "    meansPercentage.append(meansProfits[-1]/totalSold)\n",
      "\n",
      "\n",
      "\n",
      "\n",
      "def f(maturity, p_f, r):\n",
      "    \"\"\"\n",
      "    TMP: function that analyzes ALL in/out combinations\n",
      "    \"\"\"\n",
      "    for flyFrom in storage.keys():\n",
      "        for flyTo in storage[flyFrom].keys():\n",
      "            ticketPrices, meanTicketPrice = get_ticketPrices(flyFrom, flyTo)\n",
      "            sellerProfits, totalSold = get_sellerProfits(ticketPrices, maturity, p_f, r)\n",
      "            meanProfit = int(np.mean(sellerProfits)/100)\n",
      "            totalCustomers = ticketPrices.shape[0] * (ticketPrices.shape[1] - maturity)\n",
      "            \n",
      "            print flyFrom, flyTo\n",
      "            print meanProfit\n",
      "            print\n",
      "    \n",
      "            profitPerTicket = meanProfit / totalCustomers\n",
      "            print profitPerTicket\n",
      "            print profitPerTicket/meanTicketPrice\n",
      "            print\n",
      "    \n",
      "            profitPerTicketSold = int(np.sum(sellerProfits)/100) / totalSold\n",
      "            print profitPerTicketSold\n",
      "            print profitPerTicketSold/meanTicketPrice\n",
      "            print"
     ],
     "language": "python",
     "metadata": {},
     "outputs": [],
     "prompt_number": 28
    },
    {
     "cell_type": "code",
     "collapsed": false,
     "input": [
      "plot(p_fRange, np.array(meansPercentage)/(meanTicketPrice))"
     ],
     "language": "python",
     "metadata": {},
     "outputs": [
      {
       "metadata": {},
       "output_type": "pyout",
       "prompt_number": 29,
       "text": [
        "[<matplotlib.lines.Line2D at 0x4d17750>]"
       ]
      },
      {
       "metadata": {},
       "output_type": "display_data",
       "png": "[encoded data removed]",
       "text": [
        "<matplotlib.figure.Figure at 0x5489dd0>"
       ]
      }
     ],
     "prompt_number": 29
    },
    {
     "cell_type": "code",
     "collapsed": false,
     "input": [
      "plot(p_fRange, np.array(meansPercentage)/(meanTicketPrice))"
     ],
     "language": "python",
     "metadata": {},
     "outputs": [
      {
       "metadata": {},
       "output_type": "pyout",
       "prompt_number": 27,
       "text": [
        "[<matplotlib.lines.Line2D at 0x549f8d0>]"
       ]
      },
      {
       "metadata": {},
       "output_type": "display_data",
       "png": "[encoded data removed]",
       "text": [
        "<matplotlib.figure.Figure at 0x543da50>"
       ]
      }
     ],
     "prompt_number": 27
    },
    {
     "cell_type": "code",
     "collapsed": false,
     "input": [
      "plot(p_fRange, np.array(meansPercentage)/(meanTicketPrice))"
     ],
     "language": "python",
     "metadata": {},
     "outputs": [
      {
       "metadata": {},
       "output_type": "pyout",
       "prompt_number": 20,
       "text": [
        "[<matplotlib.lines.Line2D at 0x4d1c690>]"
       ]
      },
      {
       "metadata": {},
       "output_type": "display_data",
       "png": "[encoded data removed]",
       "text": [
        "<matplotlib.figure.Figure at 0x4b64dd0>"
       ]
      }
     ],
     "prompt_number": 20
    },
    {
     "cell_type": "code",
     "collapsed": false,
     "input": [
      "plot(p_fRange, np.array(meansPercentage)/(meanTicketPrice))"
     ],
     "language": "python",
     "metadata": {},
     "outputs": [
      {
       "metadata": {},
       "output_type": "pyout",
       "prompt_number": 15,
       "text": [
        "[<matplotlib.lines.Line2D at 0x53e9890>]"
       ]
      },
      {
       "metadata": {},
       "output_type": "display_data",
       "png": "[encoded data removed]",
       "text": [
        "<matplotlib.figure.Figure at 0x54e0dd0>"
       ]
      }
     ],
     "prompt_number": 15
    },
    {
     "cell_type": "code",
     "collapsed": false,
     "input": [
      "plot(p_fRange, np.array(meansPercentage)/(meanTicketPrice))"
     ],
     "language": "python",
     "metadata": {},
     "outputs": [
      {
       "metadata": {},
       "output_type": "pyout",
       "prompt_number": 13,
       "text": [
        "[<matplotlib.lines.Line2D at 0x54d5210>]"
       ]
      },
      {
       "metadata": {},
       "output_type": "display_data",
       "png": "[encoded data removed]",
       "text": [
        "<matplotlib.figure.Figure at 0x54a5310>"
       ]
      }
     ],
     "prompt_number": 13
    },
    {
     "cell_type": "code",
     "collapsed": false,
     "input": [
      "plot(p_fRange, np.array(meansPercentage)/(meanTicketPrice))"
     ],
     "language": "python",
     "metadata": {},
     "outputs": [
      {
       "metadata": {},
       "output_type": "pyout",
       "prompt_number": 11,
       "text": [
        "[<matplotlib.lines.Line2D at 0x5243050>]"
       ]
      },
      {
       "metadata": {},
       "output_type": "display_data",
       "png": "[encoded data removed]",
       "text": [
        "<matplotlib.figure.Figure at 0x4d195d0>"
       ]
      }
     ],
     "prompt_number": 11
    },
    {
     "cell_type": "heading",
     "level": 2,
     "metadata": {},
     "source": [
      "Descriptives"
     ]
    },
    {
     "cell_type": "code",
     "collapsed": false,
     "input": [
      "storage = h5py.File('storage/flightsTest.h5', 'r')\n",
      "\n",
      "total = 0\n",
      "totalSO = 0\n",
      "totalNA = 0\n",
      "\n",
      "for flyFrom in storage.keys():\n",
      "    for flyTo in storage[flyFrom].keys():\n",
      "        flights = storage[flyFrom][flyTo][:,1:43]\n",
      "        total += flights.shape[0]\n",
      "        totalSO += len(flights[:,0].nonzero()[0])\n",
      "        totalNA += len(flights.nonzero()[0])\n",
      "        #print flyFrom, flyTo, flights.shape[0]\n",
      "\n",
      "print total\n",
      "print totalSO\n",
      "print totalNA"
     ],
     "language": "python",
     "metadata": {},
     "outputs": [
      {
       "output_type": "stream",
       "stream": "stdout",
       "text": [
        "141117\n",
        "103920\n",
        "4400920\n"
       ]
      }
     ],
     "prompt_number": 8
    },
    {
     "cell_type": "raw",
     "metadata": {},
     "source": [
      "test = 141117 flights\n",
      "test = 103920 NOT sold-out\n",
      "test = 4400920 datapoints\n",
      "\n",
      "train = 321545 flights\n",
      "train = 199142 NOT sold-out\n",
      "train = 8465033 datapoints"
     ]
    },
    {
     "cell_type": "code",
     "collapsed": false,
     "input": [
      "amsjfk = get_ticketPrices('AMS', 'JFK')[0]\n",
      "\n",
      "print np.array(amsjfk.values[1,:5], dtype=np.uint32)\n",
      "print np.array(amsjfk.values[2,:5], dtype=np.uint32)\n",
      "print np.array(amsjfk.values[3,:5], dtype=np.uint32)\n",
      "print np.array(amsjfk.values[21,:5], dtype=np.uint32)\n",
      "print np.array(amsjfk.values[251,:5], dtype=np.uint32)"
     ],
     "language": "python",
     "metadata": {},
     "outputs": [
      {
       "output_type": "stream",
       "stream": "stdout",
       "text": [
        "[ 57469  68619 122469 222469 109644]\n",
        "[87119 87369 93019 84469 79469]\n",
        "[87494 86694 94744 74569 70244]\n",
        "[410951 134430 242480 108934 126369]\n",
        "[147405 141980 155569 220569 273369]\n"
       ]
      }
     ],
     "prompt_number": 10
    },
    {
     "cell_type": "heading",
     "level": 2,
     "metadata": {},
     "source": [
      "Convergence plot"
     ]
    },
    {
     "cell_type": "code",
     "collapsed": false,
     "input": [
      "#convergence to steady average (needed to determine N)\n",
      "conv = []\n",
      "\n",
      "for i in xrange(1, len(sellerProfits)):\n",
      "    conv.append(int(mean(sellerProfits[:i])/100))\n",
      "\n",
      "_ = plot(conv)\n",
      "print conv[-1]"
     ],
     "language": "python",
     "metadata": {},
     "outputs": [],
     "prompt_number": 10
    },
    {
     "cell_type": "heading",
     "level": 2,
     "metadata": {},
     "source": [
      "TMP"
     ]
    },
    {
     "cell_type": "code",
     "collapsed": false,
     "input": [
      "print 'All routes: \\n'\n",
      "for oa in storage.keys():\n",
      "    for ia in storage[oa].keys():\n",
      "        print oa + '  >  ' + ia"
     ],
     "language": "python",
     "metadata": {},
     "outputs": [
      {
       "output_type": "stream",
       "stream": "stdout",
       "text": [
        "All routes: \n",
        "\n",
        "AMS  >  CDG\n",
        "AMS  >  DXB\n",
        "AMS  >  JFK\n",
        "AMS  >  LHR\n",
        "ATL  >  LAX\n",
        "ATL  >  MCO\n",
        "CDG  >  AMS\n",
        "CDG  >  LHR\n",
        "DEN  >  FLL\n",
        "DEN  >  PHX\n",
        "DFW  >  LAX\n",
        "DFW  >  SFO\n",
        "JFK  >  CDG\n",
        "JFK  >  LHR\n",
        "LAX  >  LAS\n",
        "LAX  >  SFO\n",
        "LHR  >  AMS\n",
        "LHR  >  JFK\n",
        "LHR  >  LAX\n",
        "LHR  >  MAD\n",
        "ORD  >  BOS\n",
        "ORD  >  LGA\n"
       ]
      }
     ],
     "prompt_number": 25
    }
   ],
   "metadata": {}
  }
 ]
}