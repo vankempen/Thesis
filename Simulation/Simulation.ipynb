{
 "metadata": {
  "name": ""
 },
 "nbformat": 3,
 "nbformat_minor": 0,
 "worksheets": [
  {
   "cells": [
    {
     "cell_type": "heading",
     "level": 2,
     "metadata": {},
     "source": [
      "Imports"
     ]
    },
    {
     "cell_type": "code",
     "collapsed": false,
     "input": [
      "from __future__ import division\n",
      "\n",
      "import h5py\n",
      "import numpy as np\n",
      "import pandas as pd\n",
      "from scipy import stats"
     ],
     "language": "python",
     "metadata": {},
     "outputs": [],
     "prompt_number": 1
    },
    {
     "cell_type": "heading",
     "level": 2,
     "metadata": {},
     "source": [
      "Empirical data"
     ]
    },
    {
     "cell_type": "code",
     "collapsed": false,
     "input": [
      "storage = h5py.File('storage/flightsTest.h5', 'r')\n",
      "historical = h5py.File('storage/flightsTrain.h5', 'r')\n",
      "\n",
      "pairs = []\n",
      "for flyFrom in storage.keys():\n",
      "    for flyTo in storage[flyFrom].keys():\n",
      "        pairs.append((flyFrom, flyTo))"
     ],
     "language": "python",
     "metadata": {},
     "outputs": [],
     "prompt_number": 2
    },
    {
     "cell_type": "heading",
     "level": 2,
     "metadata": {},
     "source": [
      "Main functions"
     ]
    },
    {
     "cell_type": "code",
     "collapsed": false,
     "input": [
      "def get_ticketPrices_route(dataset, flyFrom, flyTo, days=-1):\n",
      "    ticketPrices = pd.DataFrame(dataset[flyFrom][flyTo][:,1:43], dtype=np.float64)\n",
      "    ticketPrices[ticketPrices == 0] = np.nan\n",
      "    ticketPrices = ticketPrices.dropna(thresh=int(42*2/3)).ffill(axis=1)  # drop everythings that has less than 2/3 avilable data\n",
      "    \n",
      "    meanAtZero = ticketPrices[0].mean()\n",
      "    \n",
      "    if days != -1:\n",
      "        ticketPrices = ticketPrices.ix[:,days:days+3]\n",
      "\n",
      "    meanTicketPrice = ticketPrices.mean().mean()\n",
      "    ticketPrices = ticketPrices.fillna(meanAtZero*3)\n",
      "\n",
      "    return ticketPrices, meanTicketPrice"
     ],
     "language": "python",
     "metadata": {},
     "outputs": [],
     "prompt_number": 3
    },
    {
     "cell_type": "code",
     "collapsed": false,
     "input": [
      "def get_ticketPrices(dataset, flyFrom, flyTo, days=-1):\n",
      "    \"\"\"\n",
      "    returns cleaned up ticketPrices AND meanTicketPrice in whole $'s (for sell-outs)\n",
      "\n",
      "    dataset: data to get prices from (historical/current)\n",
      "    flyFrom: outbound airport\n",
      "    flyTo: inbound airport\n",
      "    \"\"\"\n",
      "    \n",
      "    # return stack of all prices of all routes\n",
      "    if flyFrom == 'all_prices':\n",
      "        cp = None\n",
      "        mtp = 0\n",
      "    \n",
      "        for ff in dataset.keys():\n",
      "            for ft in dataset[ff].keys():\n",
      "                if not cp:\n",
      "                    cp, mtp = get_ticketPrices_route(dataset, ff, ft, days)\n",
      "                    mtp *= cp.shape[0]\n",
      "                else:\n",
      "                    tmp_cp, tmp_mtp = get_ticketPrices_route(dataset, ff, ft, days)\n",
      "                    mtp += tmp_mtp * tmp_cp.shape[0]\n",
      "                    cp = cp.append(tmp_cp, ignore_index=True)\n",
      "                    \n",
      "        mtp /= cp.shape[0]\n",
      "        print days, mtp\n",
      "        return cp, mtp\n",
      "\n",
      "    else:\n",
      "        return get_ticketPrices_route(dataset, flyFrom, flyTo, days)"
     ],
     "language": "python",
     "metadata": {},
     "outputs": [],
     "prompt_number": 4
    },
    {
     "cell_type": "heading",
     "level": 2,
     "metadata": {},
     "source": [
      "Simulation models"
     ]
    },
    {
     "cell_type": "code",
     "collapsed": false,
     "input": [
      "class OptionResults():\n",
      "    \"\"\"\n",
      "    holds the results of an option simulation\n",
      "    \"\"\"\n",
      "\n",
      "    def __init__(self, ctp, m=3):\n",
      "        \"\"\"\n",
      "        flyFrom: outbound airport\n",
      "        flyFrom: inbound airport\n",
      "        ctp: current ticket prices\n",
      "        m: number of days till maturity\n",
      "        \"\"\"\n",
      "        self.ctp = ctp.copy()\n",
      "        self.m = m\n",
      "\n",
      "        self.N = 0  # number of trials\n",
      "        self.totalRevenues = False\n",
      "        self.totalCosts = False\n",
      "        self.totalAccepted = False\n",
      "\n",
      "\n",
      "    def add_trialResults(self, revenues, costs, accepted):\n",
      "        \"\"\"\n",
      "        adds results of trial\n",
      "        \n",
      "        revenues: 2D-array with simulation revenues\n",
      "        costs: 2D-array with simulation costs\n",
      "        totalAccepted: 1D-array with number of options accepted by customer\n",
      "        \"\"\"\n",
      "        self.N += 1\n",
      "        self.add_totalRevenues(revenues)\n",
      "        self.add_totalCosts(costs)\n",
      "        self.add_totalAccepted(accepted)\n",
      "\n",
      "    def get_total(self, dset, dbb=False):\n",
      "        \"\"\"\n",
      "        returns total of dset\n",
      "        \n",
      "        dbb: return in dbb\n",
      "            False (def): return mean over all dbb\n",
      "            True: return 1D-array\n",
      "        \"\"\"\n",
      "        d = dset.sum()\n",
      "        if not dbb:\n",
      "            d = d.sum()\n",
      "        return d\n",
      "\n",
      "\n",
      "    # Revenues\n",
      "    def add_totalRevenues(self, tr):\n",
      "        \"\"\"adds the total revenues\n",
      "        \n",
      "        dbb: return in dbb\n",
      "            False (def): return mean over all dbb\n",
      "            True: return 1D-array\n",
      "        \"\"\"\n",
      "        if not self.totalRevenues:\n",
      "            self.totalRevenues = tr\n",
      "        else:\n",
      "            self.totalRevenues += tr\n",
      "\n",
      "    def get_totalRevenues(self, dbb=False):\n",
      "        \"\"\"\n",
      "        returns total revenues\n",
      "        \n",
      "        dbb: return in dbb\n",
      "            False (def): return mean over all dbb\n",
      "            True: return 1D-array\n",
      "        \"\"\"\n",
      "        tr = self.get_total(self.totalRevenues, dbb)\n",
      "        return tr/self.N\n",
      "\n",
      "    def get_percRevenues(self, dbb=False):\n",
      "        \"\"\"\n",
      "        returns percentage revenues\n",
      "        \n",
      "        dbb: return in dbb\n",
      "            False (def): return mean over all dbb\n",
      "            True: return 1D-array\n",
      "        \"\"\"\n",
      "        percRevenues = self.totalRevenues/(self.ctp*self.N)\n",
      "        \n",
      "        pr = self.get_total(percRevenues, dbb)\n",
      "        ta = self.get_totalAccepted(dbb)\n",
      "        return pr/ta\n",
      "\n",
      "\n",
      " \n",
      "\n",
      "    # Costs\n",
      "    def add_totalCosts(self, tc):\n",
      "        \"\"\"adds the total costs\"\"\"\n",
      "        if type(self.totalCosts) == bool:\n",
      "            self.totalCosts = tc\n",
      "        else:\n",
      "            self.totalCosts += tc\n",
      "\n",
      "    def get_totalCosts(self, dbb=False):\n",
      "        \"\"\"\n",
      "        returns total costs\n",
      "        \n",
      "        dbb: return in dbb\n",
      "            False (def): return mean over all dbb\n",
      "            True: return 1D-array\n",
      "        \"\"\"\n",
      "        tc = self.get_total(self.totalCosts, dbb)\n",
      "        return tc/self.N   \n",
      "\n",
      "\n",
      "    # Profits\n",
      "    def get_totalProfits(self, dbb=False):\n",
      "        \"\"\"\n",
      "        returns total profits\n",
      "        \n",
      "        dbb: return in dbb\n",
      "            False (def): return mean over all dbb\n",
      "            True: return 1D-array\n",
      "        \"\"\"\n",
      "        profits = self.get_totalRevenues(dbb) - self.get_totalCosts(dbb)\n",
      "        return profits\n",
      "\n",
      "    def get_percProfits(self, dbb=False):\n",
      "        \"\"\"\n",
      "        returns percentage profits\n",
      "        \n",
      "        dbb: return in dbb\n",
      "            False (def): return mean over all dbb\n",
      "            True: return 1D-array\n",
      "        \"\"\"\n",
      "        totalProfits = (self.totalRevenues - self.totalCosts)/self.N\n",
      "        percProfits = totalProfits/self.ctp\n",
      "        \n",
      "        pp = self.get_total(percProfits, dbb)\n",
      "        ta = self.get_totalAccepted(dbb)\n",
      "        return pp/ta\n",
      "\n",
      "    def get_profitRatio(self, dbb=False):\n",
      "        \"\"\"\n",
      "        returns the profit ratio (perfProfit*percAccepted)\n",
      "\n",
      "        dbb: return in dbb\n",
      "            False (def): return mean over all dbb\n",
      "            True: return 1D-array\n",
      "        \"\"\"\n",
      "        pp = self.get_percProfits(dbb)\n",
      "        pa = self.get_percAccepted(dbb)\n",
      "        \n",
      "        return pp*pa\n",
      "\n",
      "    # Accepted\n",
      "    def add_totalAccepted(self, ta):\n",
      "        \"\"\"adds the total number of options accepted\"\"\"\n",
      "        if type(self.totalAccepted) == bool:  # np.array\n",
      "            self.totalAccepted = ta\n",
      "        else:\n",
      "            self.totalAccepted += ta\n",
      "    \n",
      "    def get_totalAccepted(self, dbb=False):\n",
      "        \"\"\"\n",
      "        return total number of options accepted\n",
      "        \n",
      "        dbb: return in dbb\n",
      "            False (def): return mean over all dbb\n",
      "            True: return 1D-array\n",
      "        \"\"\"\n",
      "        ta = self.totalAccepted\n",
      "        if not dbb:\n",
      "            ta = ta[m:].sum()\n",
      "        return ta/self.N\n",
      "\n",
      "    def get_percAccepted(self, dbb=False):\n",
      "        \"\"\"\n",
      "        return percentage of option acceptances\n",
      "        \n",
      "        dbb: return in dbb\n",
      "            False (def): return mean over all dbb\n",
      "            True: return 1D-array\n",
      "        \"\"\"\n",
      "        ta = self.get_totalAccepted(dbb)\n",
      "        totalPossible = self.get_totalPossible(dbb)\n",
      "        return ta/totalPossible\n",
      "\n",
      "    def get_totalPossible(self, dbb=False):\n",
      "        \"\"\"\n",
      "        return total number of option offers made\n",
      "        \n",
      "        dbb: return in dbb\n",
      "            False (def): return mean over all dbb\n",
      "            True: return 1D-array\n",
      "        \"\"\"\n",
      "        r, c = self.ctp.shape\n",
      "        \n",
      "        total = np.array([1]*m+[r]*(c-self.m))  # inserted [1] due to DivideByZero\n",
      "        if not dbb:\n",
      "             total = total.sum()\n",
      "        return total"
     ],
     "language": "python",
     "metadata": {},
     "outputs": [],
     "prompt_number": 501
    },
    {
     "cell_type": "heading",
     "level": 3,
     "metadata": {},
     "source": [
      "MAPE"
     ]
    },
    {
     "cell_type": "code",
     "collapsed": false,
     "input": [
      "def calc_MAPE(ctp, Pchanges, m=3):\n",
      "    \"\"\"\n",
      "    calculate the MAPE\n",
      "    \n",
      "    ctp: current ticket prices\n",
      "    Pchange: predicted changes\n",
      "    \"\"\"\n",
      "    \n",
      "    P = ctp + Pchanges  # predicted observations\n",
      "    A = ctp.T.shift(m).T  # actual ovservations\n",
      "    \n",
      "    return np.absolute((A-P)/A).mean().mean()\n",
      "\n",
      "\"\"\"\n",
      "c = []\n",
      "for flyFrom, flyTo in pairs:\n",
      "    hp, _ = get_ticketPrices_route(historical, flyFrom, flyTo)\n",
      "    cp, _ = get_ticketPrices_route(storage, flyFrom, flyTo)\n",
      "\n",
      "    custWTP = customerWTP_simple(hp)\n",
      "    c.append(calc_MAPE(cp, custWTP))\n",
      "c = np.array(c)\n",
      "\"\"\""
     ],
     "language": "python",
     "metadata": {},
     "outputs": [
      {
       "metadata": {},
       "output_type": "pyout",
       "prompt_number": 12,
       "text": [
        "'\\nc = []\\nfor flyFrom, flyTo in pairs:\\n    hp, _ = get_ticketPrices_route(historical, flyFrom, flyTo)\\n    cp, _ = get_ticketPrices_route(storage, flyFrom, flyTo)\\n\\n    custWTP = customerWTP_simple(hp)\\n    c.append(calc_MAPE(cp, custWTP))\\nc = np.array(c)\\n'"
       ]
      }
     ],
     "prompt_number": 12
    },
    {
     "cell_type": "heading",
     "level": 3,
     "metadata": {},
     "source": [
      "Observed price changes"
     ]
    },
    {
     "cell_type": "code",
     "collapsed": false,
     "input": [
      "def obsPriceChanges(dset, m):\n",
      "    dx = dset.T.shift(m).T - dset  # observed increase in ticket price\n",
      "    dx = np.maximum(dx, 0)  # no negative revenues\n",
      "    return dx"
     ],
     "language": "python",
     "metadata": {},
     "outputs": [],
     "prompt_number": 6
    },
    {
     "cell_type": "heading",
     "level": 3,
     "metadata": {},
     "source": [
      "Customer's WTP (simple)"
     ]
    },
    {
     "cell_type": "code",
     "collapsed": false,
     "input": [
      "factor_by_maturity = {\n",
      "    3: .0655,\n",
      "    7: .1493,\n",
      "    14: .2939,\n",
      "    21: .4406,\n",
      "}\n",
      "\n",
      "def customerWTP_simple(ctp, m=3, OEF=1):\n",
      "    \"\"\"\n",
      "    caclulate the customer's Willingness To Pay using simple estimation\n",
      "\n",
      "    ctp: current ticket prices\n",
      "    m: the expected increase of the tickets. from mFactors\n",
      "        3 days = (6.55% expected increase,\n",
      "                     m = 3 days,\n",
      "                     entire historical dataset,\n",
      "                     no fill sold outs)\n",
      "    OEF: Over-Estimation Factor\n",
      "        def: 1 (no over/under-estimation)\n",
      "    \n",
      "    returns: expected prices * random P^f\n",
      "    \"\"\"\n",
      "    factor = factor_by_maturity[m]\n",
      "    return ctp * factor * OEF"
     ],
     "language": "python",
     "metadata": {},
     "outputs": [],
     "prompt_number": 210
    },
    {
     "cell_type": "heading",
     "level": 3,
     "metadata": {},
     "source": [
      "Customer's WTP (simpleDBB)"
     ]
    },
    {
     "cell_type": "code",
     "collapsed": false,
     "input": [
      "factors=    array([        nan,         nan,         nan,  0.16370257,  0.09318176,\n",
      "                    0.15220117,  0.23789067,  0.25832483,  0.16230096,  0.08539505,\n",
      "                    0.06681609,  0.05256505,  0.11786717,  0.1610839 ,  0.16909134,\n",
      "                    0.09157595,  0.05257094,  0.04539224,  0.03896525,  0.06483347,\n",
      "                    0.07745918,  0.07724006,  0.04113637,  0.01832194,  0.01587594,\n",
      "                    0.02051089,  0.02874957,  0.03405493,  0.03085502,  0.02469736,\n",
      "                    0.0197484 ,  0.01626227,  0.01781622,  0.02081542,  0.0215722 ,\n",
      "                    0.01997531,  0.01412168,  0.01083219,  0.00769129,  0.00680674,\n",
      "                    0.00879331,  0.00930649])\n",
      "def customerWTP_simpleDBB_3days(ctp, OEF=1):\n",
      "    return ctp * factors * OEF"
     ],
     "language": "python",
     "metadata": {},
     "outputs": [],
     "prompt_number": 702
    },
    {
     "cell_type": "heading",
     "level": 3,
     "metadata": {},
     "source": [
      "Seller's WTA (simple)"
     ]
    },
    {
     "cell_type": "code",
     "collapsed": false,
     "input": [
      "def sellerWTA_simple(htp, ctp, m, OEF, minPrice=1):\n",
      "    \"\"\"\n",
      "    calculate seller's Willingess To Accept using simple historical distribution\n",
      "    \n",
      "    htp: historical ticket prices\n",
      "    ctp: current ticket prices\n",
      "    m: number of days to maturity\n",
      "    OEF: Over-Estimation Factor\n",
      "    minPrice: minimal relative option price a seller should ask\n",
      "    \n",
      "    returns WTA of seller for tickets in ctp\n",
      "    \"\"\"\n",
      "    \n",
      "    histChanges = (htp.T.shift(m).T / htp).mean()\n",
      "    \n",
      "    return (histChanges - 1) * ctp * OEF"
     ],
     "language": "python",
     "metadata": {},
     "outputs": [],
     "prompt_number": 9
    },
    {
     "cell_type": "heading",
     "level": 3,
     "metadata": {},
     "source": [
      "Seller's WTA (Monte Carlo)"
     ]
    },
    {
     "cell_type": "code",
     "collapsed": false,
     "input": [
      "def sellerWTA_MC(htp, ctp, m, OEF, minPrice=1, N=100000):\n",
      "    \"\"\"\n",
      "    calculate seller's Willingess To Accept using Monte Carlo approximation\n",
      "    \n",
      "    htp: historical ticket prices\n",
      "    ctp: current ticket prices\n",
      "    m: number of days to maturity\n",
      "    OEF: Over-Estimation Factor\n",
      "    minPrice: minimal relative option price a seller should ask\n",
      "    N: number of trials to run\n",
      "    \n",
      "    returns WTA of seller for tickets in ctp\n",
      "    \"\"\"\n",
      "    totalDBB = htp.shape[1]\n",
      "    \n",
      "    dailyChanges = htp.T.shift(1).T/htp\n",
      "    expChangesDBB = np.empty(totalDBB, dtype=np.float64)  # array for results per DBB\n",
      "    expChangesDBB.fill(np.nan)\n",
      "    \n",
      "    for dbb in xrange(m, totalDBB):\n",
      "        mcReturns = np.ones(N)  # array for paths\n",
      "        for day in range(m):\n",
      "            indx = dailyChanges.columns[dbb - day]\n",
      "            mcReturns *= np.random.choice(dailyChanges[indx], N)\n",
      "        expChangesDBB[dbb] = mcReturns.mean()\n",
      "    \n",
      "    expChangesDBB = np.maximum(expChangesDBB, minPrice)  # option costs higher that minPrice\n",
      "    \n",
      "    return (expChangesDBB - 1) * ctp * OEF"
     ],
     "language": "python",
     "metadata": {},
     "outputs": [],
     "prompt_number": 10
    },
    {
     "cell_type": "heading",
     "level": 3,
     "metadata": {},
     "source": [
      "Option simulation"
     ]
    },
    {
     "cell_type": "code",
     "collapsed": false,
     "input": [
      "def run_optionSimulation(ctp, custWTP, sellerWTA, knowsWTP=False, knowsFlying=False, nakedSelling=False, m=3, trials=150):\n",
      "    \"\"\"\n",
      "    Run the simulation\n",
      "    \n",
      "    ctp: current ticket prices\n",
      "    custWTP: customer's Willingness To Pay\n",
      "    sellerWTA: seller's Willingness To Accept\n",
      "    knowsWTP: seller knows the level of customer's WTP\n",
      "    knowsFlying: seller knows whether the customer will fly on maturity\n",
      "    nakedSelling: seller buys flights beforehand (ONLY IN COMBINATION WITH knowsFLYING)\n",
      "    m: number of days till maturity\n",
      "    trials: number of times to run simulation\n",
      "\n",
      "    returns: OptionResults with results\n",
      "    \"\"\"\n",
      "    \n",
      "    if nakedSelling and not knowsFlying:\n",
      "        raise Exception('nakedSelling only allowed with knowsFlying')\n",
      "\n",
      "    results = OptionResults(ctp, m=m)\n",
      "    \n",
      "    obsChange = obsPriceChanges(ctp, m)  # get the observed price changes\n",
      "\n",
      "    for _ in xrange(trials):\n",
      "        custP_f = np.random.rand(*custWTP.shape)  # probabilities of flying\n",
      "        custFlying = np.random.rand(*custWTP.shape) <= custP_f  # is customer flying on maturity\n",
      "\n",
      "        sa = sellerWTA\n",
      "        if nakedSelling:\n",
      "            sa = np.zeros(sa.shape)\n",
      "            sa[:,:m] = np.nan  # days up till maturity can't be accepted\n",
      "        elif knowsFlying:\n",
      "            sa *= custFlying\n",
      "\n",
      "\n",
      "        WTP = custWTP * custP_f\n",
      "        \n",
      "        WTP = np.minimum(WTP, ctp*custP_f)  # minimum of option or immediately buying\n",
      "\n",
      "        accepted = np.array(WTP >= sa, dtype=np.float64)  # seller offers option when WTP >= WTA\n",
      "        accepted[:,:m] = np.nan\n",
      "        totalAccepted = accepted.sum(axis=0)\n",
      "        \n",
      "        if knowsWTP:\n",
      "            revenues = accepted * WTP\n",
      "        else:\n",
      "            revenues = accepted * sa\n",
      "        \n",
      "        if nakedSelling:\n",
      "            costs = np.zeros(revenues.shape)\n",
      "        else:\n",
      "            costs = accepted * obsChange * custFlying\n",
      "            costs = np.maximum(0, costs)  # prevent negative costs\n",
      "\n",
      "        results.add_trialResults(revenues, costs, totalAccepted)\n",
      "\n",
      "    return results"
     ],
     "language": "python",
     "metadata": {},
     "outputs": [],
     "prompt_number": 428
    },
    {
     "cell_type": "heading",
     "level": 3,
     "metadata": {},
     "source": [
      "Results"
     ]
    },
    {
     "cell_type": "code",
     "collapsed": false,
     "input": [
      "m = 3\n",
      "custWTP = customerWTP_simple(cp, m=m)\n",
      "sellerWTA = sellerWTA_MC(hp, cp, m=m, OEF=1, minPrice=1.01)\n",
      "#obs = \n",
      "p = run_optionSimulation(cp, custWTP, sellerWTA, knowsWTP=True, knowsFlying=True, nakedSelling=True, m=m, trials=10)"
     ],
     "language": "python",
     "metadata": {},
     "outputs": [],
     "prompt_number": 471
    },
    {
     "cell_type": "code",
     "collapsed": false,
     "input": [
      "(p.totalRevenues).mean().mean()"
     ],
     "language": "python",
     "metadata": {},
     "outputs": [
      {
       "metadata": {},
       "output_type": "pyout",
       "prompt_number": 879,
       "text": [
        "1903.9544187289878"
       ]
      }
     ],
     "prompt_number": 879
    },
    {
     "cell_type": "code",
     "collapsed": false,
     "input": [
      "m = 3\n",
      "#OEF = 2.5\n",
      "rng = np.linspace(1.5, 5.5, 5)\n",
      "results = []\n",
      "OEF = 1\n",
      "for flyFrom in storage.keys():\n",
      "    print flyFrom, ':\\t',\n",
      "    for flyTo in storage[flyFrom].keys():\n",
      "        print flyTo, '\\t',\n",
      "        hp, _ = get_ticketPrices_route(historical, flyFrom, flyTo)\n",
      "        cp, _ = get_ticketPrices_route(storage, flyFrom, flyTo)\n",
      "        \n",
      "        custWTP = customerWTP_simple(cp, m=m)\n",
      "        r = []\n",
      "        for OEF in [1]:\n",
      "            sellerWTA = sellerWTA_MC(cp, cp, m=m, OEF=OEF, minPrice=1.0322)\n",
      "            #obs = obsPriceChanges(cp, m)\n",
      "            #obs = np.maximum(obs, 0.065*cp)\n",
      "            p = run_optionSimulation(cp, custWTP, sellerWTA, knowsWTP=False, knowsFlying=False, nakedSelling=False, m=m, trials=50)\n",
      "            #r.append(p)\n",
      "        results.append(p)\n",
      "    print  # linebreak"
     ],
     "language": "python",
     "metadata": {},
     "outputs": [
      {
       "output_type": "stream",
       "stream": "stdout",
       "text": [
        "AMS :\tCDG \tDXB"
       ]
      },
      {
       "output_type": "stream",
       "stream": "stdout",
       "text": [
        " \tJFK"
       ]
      },
      {
       "output_type": "stream",
       "stream": "stdout",
       "text": [
        " \tLHR"
       ]
      },
      {
       "output_type": "stream",
       "stream": "stdout",
       "text": [
        " \t\n"
       ]
      },
      {
       "output_type": "stream",
       "stream": "stdout",
       "text": [
        "ATL :\tLAX \tMCO"
       ]
      },
      {
       "output_type": "stream",
       "stream": "stdout",
       "text": [
        " \t\n"
       ]
      },
      {
       "output_type": "stream",
       "stream": "stdout",
       "text": [
        "CDG :\tAMS \tLHR"
       ]
      },
      {
       "output_type": "stream",
       "stream": "stdout",
       "text": [
        " \t\n"
       ]
      },
      {
       "output_type": "stream",
       "stream": "stdout",
       "text": [
        "DEN :\tFLL \tPHX"
       ]
      },
      {
       "output_type": "stream",
       "stream": "stdout",
       "text": [
        " \t\n"
       ]
      },
      {
       "output_type": "stream",
       "stream": "stdout",
       "text": [
        "DFW :\tLAX \tSFO"
       ]
      },
      {
       "output_type": "stream",
       "stream": "stdout",
       "text": [
        " \t\n"
       ]
      },
      {
       "output_type": "stream",
       "stream": "stdout",
       "text": [
        "JFK :\tCDG \tLHR"
       ]
      },
      {
       "output_type": "stream",
       "stream": "stdout",
       "text": [
        " \t\n"
       ]
      },
      {
       "output_type": "stream",
       "stream": "stdout",
       "text": [
        "LAX :\tLAS \tSFO"
       ]
      },
      {
       "output_type": "stream",
       "stream": "stdout",
       "text": [
        " \t\n"
       ]
      },
      {
       "output_type": "stream",
       "stream": "stdout",
       "text": [
        "LHR :\tAMS \tJFK"
       ]
      },
      {
       "output_type": "stream",
       "stream": "stdout",
       "text": [
        " \tLAX"
       ]
      },
      {
       "output_type": "stream",
       "stream": "stdout",
       "text": [
        " \tMAD"
       ]
      },
      {
       "output_type": "stream",
       "stream": "stdout",
       "text": [
        " \t\n"
       ]
      },
      {
       "output_type": "stream",
       "stream": "stdout",
       "text": [
        "ORD :\tBOS \tLGA"
       ]
      },
      {
       "output_type": "stream",
       "stream": "stdout",
       "text": [
        " \t\n"
       ]
      }
     ],
     "prompt_number": 928
    },
    {
     "cell_type": "code",
     "collapsed": false,
     "input": [
      "for r in results:\n",
      "    print r.get_profitRatio()"
     ],
     "language": "python",
     "metadata": {},
     "outputs": [
      {
       "output_type": "stream",
       "stream": "stdout",
       "text": [
        "-0.000726840827313\n",
        "0.00793027252572\n",
        "0.0026879661742\n",
        "0.00227353896298\n",
        "0.00251952370666\n",
        "-0.000518189834423\n",
        "-7.91387879656e-05\n",
        "7.30466403305e-05\n",
        "0.00279188420072\n",
        "0.00203799616325\n",
        "0.00386891839743\n",
        "0.000148088367635\n",
        "0.00283628366545\n",
        "0.00517516587547\n",
        "-0.00062709811882\n",
        "0.0005181279001"
       ]
      },
      {
       "output_type": "stream",
       "stream": "stdout",
       "text": [
        "\n",
        "0.00224036775207\n",
        "0.00621086465013\n",
        "0.00427585022654\n",
        "0.00217982962992\n",
        "0.00178454082361\n",
        "0.00292089993316\n"
       ]
      }
     ],
     "prompt_number": 929
    },
    {
     "cell_type": "code",
     "collapsed": false,
     "input": [
      "for i, p in enumerate(pairs):\n",
      "    plot(results[4][0].get_profitRatio(True))\n",
      "plot(rng, [0]*len(rng), linestyle='dotted')"
     ],
     "language": "python",
     "metadata": {},
     "outputs": [
      {
       "metadata": {},
       "output_type": "pyout",
       "prompt_number": 696,
       "text": [
        "[<matplotlib.lines.Line2D at 0x7f7aac53cdd0>]"
       ]
      },
      {
       "metadata": {},
       "output_type": "display_data",
       "png": "[encoded data removed]",
       "text": [
        "<matplotlib.figure.Figure at 0x7f7aac256e50>"
       ]
      }
     ],
     "prompt_number": 696
    },
    {
     "cell_type": "code",
     "collapsed": false,
     "input": [
      "(wtaCP - wtaHP).mean()*100"
     ],
     "language": "python",
     "metadata": {},
     "outputs": [
      {
       "metadata": {},
       "output_type": "pyout",
       "prompt_number": 764,
       "text": [
        "0.22644431701034709"
       ]
      }
     ],
     "prompt_number": 764
    },
    {
     "cell_type": "code",
     "collapsed": false,
     "input": [
      "wtaCP/baseCase"
     ],
     "language": "python",
     "metadata": {},
     "outputs": [
      {
       "metadata": {},
       "output_type": "pyout",
       "prompt_number": 766,
       "text": [
        "array([-0.04869204,  0.02283549, -0.06416993, -0.02964642, -0.0345569 ,\n",
        "       -0.13816916, -0.03497743, -0.06042607, -0.08294542, -0.03887905,\n",
        "       -0.06520833, -0.08054531,  0.00831425,  0.0187238 , -0.13206553,\n",
        "       -0.04198155, -0.0364848 ,  0.0229528 , -0.00859449, -0.05124392,\n",
        "       -0.08131704, -0.01812996])"
       ]
      }
     ],
     "prompt_number": 766
    },
    {
     "cell_type": "code",
     "collapsed": false,
     "input": [
      "wtaHP/baseCase"
     ],
     "language": "python",
     "metadata": {},
     "outputs": [
      {
       "metadata": {},
       "output_type": "pyout",
       "prompt_number": 765,
       "text": [
        "array([-0.08762394, -0.02735632, -0.18263106, -0.00966009, -0.02743095,\n",
        "       -0.08478892, -0.04905978, -0.2289591 , -0.08978658, -0.06868565,\n",
        "       -0.07586852, -0.32510791, -0.03153471,  0.07444022, -0.3891695 ,\n",
        "       -0.7291247 ,  0.00970276,  0.11003106,  0.09368539, -0.15313809,\n",
        "       -0.1258727 , -0.09878744])"
       ]
      }
     ],
     "prompt_number": 765
    },
    {
     "cell_type": "code",
     "collapsed": false,
     "input": [
      "noNakedSellingCase/baseCase"
     ],
     "language": "python",
     "metadata": {},
     "outputs": [
      {
       "metadata": {},
       "output_type": "pyout",
       "prompt_number": 593,
       "text": [
        "array([ 0.66320302,  0.87888662,  0.73984254,  0.70383667,  0.68042574,\n",
        "        0.64838642,  0.67757467,  0.72302768,  0.76601341,  0.7014263 ,\n",
        "        0.69278713,  0.67653066,  0.79558681,  0.77718353,  0.72734673,\n",
        "        0.68888862,  0.68705529,  0.82294128,  0.80256402,  0.7198572 ,\n",
        "        0.67646289,  0.74131643])"
       ]
      }
     ],
     "prompt_number": 593
    },
    {
     "cell_type": "code",
     "collapsed": false,
     "input": [
      "noKnowsFlyingCase/baseCase"
     ],
     "language": "python",
     "metadata": {},
     "outputs": [
      {
       "metadata": {},
       "output_type": "pyout",
       "prompt_number": 594,
       "text": [
        "array([ 0.49935936,  0.80263341,  0.61870439,  0.56580798,  0.53363437,\n",
        "        0.47968888,  0.52109388,  0.59466262,  0.65670667,  0.56402615,\n",
        "        0.5497464 ,  0.52493033,  0.70582199,  0.68238707,  0.60136851,\n",
        "        0.54228845,  0.54250389,  0.75444651,  0.72371906,  0.5908279 ,\n",
        "        0.52679633,  0.62355582])"
       ]
      }
     ],
     "prompt_number": 594
    },
    {
     "cell_type": "code",
     "collapsed": false,
     "input": [
      "foreSightCase/baseCase"
     ],
     "language": "python",
     "metadata": {},
     "outputs": [
      {
       "metadata": {},
       "output_type": "pyout",
       "prompt_number": 597,
       "text": [
        "array([ 0.00941559,  0.00290116,  0.02034279,  0.01898534,  0.02516295,\n",
        "        0.01354005,  0.00922057,  0.01785773,  0.01671898,  0.02394413,\n",
        "        0.02077595,  0.02003338,  0.02333494,  0.03345992,  0.02031745,\n",
        "        0.01857552,  0.02410477,  0.03986717,  0.0401844 ,  0.02295152,\n",
        "        0.02451065,  0.02314507])"
       ]
      }
     ],
     "prompt_number": 597
    },
    {
     "cell_type": "code",
     "collapsed": false,
     "input": [
      "mcWTPCase/baseCase"
     ],
     "language": "python",
     "metadata": {},
     "outputs": [
      {
       "metadata": {},
       "output_type": "pyout",
       "prompt_number": 629,
       "text": [
        "array([ 0.04080042,  0.57319257,  0.2479474 ,  0.24032782,  0.2761879 ,\n",
        "        0.08103721,  0.11201269,  0.0340225 ,  0.3205046 ,  0.26519244,\n",
        "        0.36478332,  0.06390691,  0.29522246,  0.16123383,  0.09715591,\n",
        "       -0.38076687,  0.23178693,  0.22274112,  0.23014742,  0.22944203,\n",
        "        0.24948836,  0.26984383])"
       ]
      }
     ],
     "prompt_number": 629
    },
    {
     "cell_type": "code",
     "collapsed": false,
     "input": [
      "mcWTPCase/foreSightCase"
     ],
     "language": "python",
     "metadata": {},
     "outputs": [
      {
       "metadata": {},
       "output_type": "pyout",
       "prompt_number": 630,
       "text": [
        "array([   4.33328171,  197.57340719,   12.18846604,   12.65859849,\n",
        "         10.97597471,    5.98500267,   12.14813653,    1.90519782,\n",
        "         19.17010255,   11.07546975,   17.55796318,    3.19002162,\n",
        "         12.65151908,    4.81871491,    4.78189509,  -20.49830984,\n",
        "          9.61581319,    5.58708153,    5.72728247,    9.99681062,\n",
        "         10.17877375,   11.65880316])"
       ]
      }
     ],
     "prompt_number": 630
    },
    {
     "cell_type": "code",
     "collapsed": false,
     "input": [
      "for i in foreSightCase:\n",
      "    print i"
     ],
     "language": "python",
     "metadata": {},
     "outputs": [
      {
       "output_type": "stream",
       "stream": "stdout",
       "text": [
        "0.000308400031385\n",
        "9.42977019503e-05\n",
        "0.000666027286468\n",
        "0.000621769079037\n",
        "0.000824564540475\n",
        "0.000443565678001\n",
        "0.000302049365662\n",
        "0.00058505463067\n",
        "0.000545592534528\n",
        "0.000783843036698\n",
        "0.000680500635873\n",
        "0.000655960076314\n",
        "0.00076429087321\n",
        "0.00109574171653\n",
        "0.000665463761766\n",
        "0.000608399514316\n",
        "0.000789528276133\n",
        "0.00130558138639\n",
        "0.00131609595608\n",
        "0.000751667117624\n",
        "0.000802710390915\n",
        "0.000757959389713\n"
       ]
      }
     ],
     "prompt_number": 894
    },
    {
     "cell_type": "code",
     "collapsed": false,
     "input": [
      "flyFrom, flyTo = 'DEN', 'FLL'\n",
      "hp, _ = get_ticketPrices(historical, flyFrom, flyTo)\n",
      "cp, _ = get_ticketPrices(storage, flyFrom, flyTo)"
     ],
     "language": "python",
     "metadata": {},
     "outputs": [],
     "prompt_number": 778
    },
    {
     "cell_type": "code",
     "collapsed": false,
     "input": [
      "m = 3\n",
      "OEF = 1\n",
      "results = []\n",
      "custWTP = customerWTP_simple(cp)\n",
      "\n",
      "#r = np.linspace(.5, 5, 11)\n",
      "#for OEF in r:\n",
      "sellerWTA = sellerWTA_MC(hp, cp, m, OEF, minPrice=1+.0654/1.5)\n",
      "p = run_optionSimulation(cp, custWTP, sellerWTA, knowsWTP=False, knowsFlying=False, nakedSelling=False, m=m, trials=10)\n",
      "#    results.append(p)"
     ],
     "language": "python",
     "metadata": {},
     "outputs": [],
     "prompt_number": 868
    },
    {
     "cell_type": "code",
     "collapsed": false,
     "input": [
      "(p.get_totalRevenues()/p.get_totalAccepted())/100"
     ],
     "language": "python",
     "metadata": {},
     "outputs": [
      {
       "metadata": {},
       "output_type": "pyout",
       "prompt_number": 874,
       "text": [
        "7.6065300923855625"
       ]
      }
     ],
     "prompt_number": 874
    },
    {
     "cell_type": "code",
     "collapsed": false,
     "input": [
      "plot(p.get_profitRatio(True))"
     ],
     "language": "python",
     "metadata": {},
     "outputs": [
      {
       "metadata": {},
       "output_type": "pyout",
       "prompt_number": 828,
       "text": [
        "[<matplotlib.lines.Line2D at 0x7f7ab63bf210>]"
       ]
      },
      {
       "metadata": {},
       "output_type": "display_data",
       "png": "[encoded data removed]",
       "text": [
        "<matplotlib.figure.Figure at 0x7f7ab6398a10>"
       ]
      }
     ],
     "prompt_number": 828
    },
    {
     "cell_type": "code",
     "collapsed": false,
     "input": [
      "plot(p.get_profitRatio(True))"
     ],
     "language": "python",
     "metadata": {},
     "outputs": [
      {
       "metadata": {},
       "output_type": "pyout",
       "prompt_number": 814,
       "text": [
        "[<matplotlib.lines.Line2D at 0x7f7a9dbf9c50>]"
       ]
      },
      {
       "metadata": {},
       "output_type": "display_data",
       "png": "[encoded data removed]",
       "text": [
        "<matplotlib.figure.Figure at 0x7f7a9db6c050>"
       ]
      }
     ],
     "prompt_number": 814
    },
    {
     "cell_type": "code",
     "collapsed": false,
     "input": [
      "simpleWTA = sellerWTA_simple(hp, cp, m, OEF, minPrice=1)\n",
      "mcWTA = sellerWTA_MC(hp, cp, m, OEF, minPrice=1.0)"
     ],
     "language": "python",
     "metadata": {},
     "outputs": [],
     "prompt_number": 734
    },
    {
     "cell_type": "code",
     "collapsed": false,
     "input": [
      "(simpleWTA/cp).mean()"
     ],
     "language": "python",
     "metadata": {},
     "outputs": [
      {
       "metadata": {},
       "output_type": "pyout",
       "prompt_number": 736,
       "text": [
        "0          NaN\n",
        "1          NaN\n",
        "2          NaN\n",
        "3     0.110705\n",
        "4     0.055683\n",
        "5     0.280526\n",
        "6     0.432232\n",
        "7     0.444920\n",
        "8     0.174855\n",
        "9     0.058643\n",
        "10    0.049180\n",
        "11    0.042980\n",
        "12    0.107091\n",
        "13    0.114686\n",
        "14    0.109750\n",
        "15    0.026741\n",
        "16    0.004181\n",
        "17    0.005318\n",
        "18    0.007548\n",
        "19    0.074233\n",
        "20    0.096322\n",
        "21    0.097804\n",
        "22    0.024236\n",
        "23    0.000120\n",
        "24    0.005278\n",
        "25    0.018413\n",
        "26    0.028027\n",
        "27    0.032928\n",
        "28    0.031822\n",
        "29    0.027483\n",
        "30    0.017601\n",
        "31    0.011089\n",
        "32    0.012478\n",
        "33    0.015885\n",
        "34    0.013958\n",
        "35    0.010866\n",
        "36    0.002547\n",
        "37   -0.002401\n",
        "38   -0.007882\n",
        "39   -0.009704\n",
        "40   -0.009069\n",
        "41   -0.007685\n",
        "dtype: float64"
       ]
      }
     ],
     "prompt_number": 736
    },
    {
     "cell_type": "code",
     "collapsed": false,
     "input": [
      "i = 38\n",
      "(cp[i]/cp[i+3]).mean()-1"
     ],
     "language": "python",
     "metadata": {},
     "outputs": [
      {
       "metadata": {},
       "output_type": "pyout",
       "prompt_number": 754,
       "text": [
        "0.035176338680822816"
       ]
      }
     ],
     "prompt_number": 754
    },
    {
     "cell_type": "code",
     "collapsed": false,
     "input": [
      "(hp[3]/hp[0]).mean()"
     ],
     "language": "python",
     "metadata": {},
     "outputs": [
      {
       "metadata": {},
       "output_type": "pyout",
       "prompt_number": 740,
       "text": [
        "0.96668232044762981"
       ]
      }
     ],
     "prompt_number": 740
    },
    {
     "cell_type": "code",
     "collapsed": false,
     "input": [
      "(sellerWTA-custWTP).mean().mean()"
     ],
     "language": "python",
     "metadata": {},
     "outputs": [
      {
       "metadata": {},
       "output_type": "pyout",
       "prompt_number": 731,
       "text": [
        "194.93987140998379"
       ]
      }
     ],
     "prompt_number": 731
    },
    {
     "cell_type": "code",
     "collapsed": false,
     "input": [
      "(p.totalRevenues.sum().sum())/p.get_totalAccepted()"
     ],
     "language": "python",
     "metadata": {},
     "outputs": [
      {
       "metadata": {},
       "output_type": "pyout",
       "prompt_number": 881,
       "text": [
        "7606.5300923855621"
       ]
      }
     ],
     "prompt_number": 881
    },
    {
     "cell_type": "code",
     "collapsed": false,
     "input": [
      "(sellerWTA/cp).mean()"
     ],
     "language": "python",
     "metadata": {},
     "outputs": [
      {
       "metadata": {},
       "output_type": "pyout",
       "prompt_number": 767,
       "text": [
        "0          NaN\n",
        "1          NaN\n",
        "2          NaN\n",
        "3     0.121114\n",
        "4     0.075526\n",
        "5     0.330885\n",
        "6     0.453430\n",
        "7     0.449019\n",
        "8     0.158229\n",
        "9     0.075742\n",
        "10    0.075763\n",
        "11    0.063060\n",
        "12    0.082987\n",
        "13    0.105964\n",
        "14    0.109321\n",
        "15    0.071565\n",
        "16    0.046364\n",
        "17    0.042425\n",
        "18    0.033365\n",
        "19    0.046629\n",
        "20    0.051625\n",
        "21    0.057359\n",
        "22    0.045908\n",
        "23    0.046273\n",
        "24    0.044231\n",
        "25    0.032487\n",
        "26    0.021655\n",
        "27    0.010000\n",
        "28    0.010000\n",
        "29    0.010000\n",
        "30    0.010000\n",
        "31    0.010000\n",
        "32    0.010000\n",
        "33    0.010000\n",
        "34    0.010000\n",
        "35    0.010000\n",
        "36    0.010000\n",
        "37    0.010000\n",
        "38    0.010000\n",
        "39    0.010537\n",
        "40    0.027903\n",
        "41    0.035133\n",
        "dtype: float64"
       ]
      }
     ],
     "prompt_number": 767
    },
    {
     "cell_type": "code",
     "collapsed": false,
     "input": [
      "(custWTP/cp).mean()"
     ],
     "language": "python",
     "metadata": {},
     "outputs": [
      {
       "metadata": {},
       "output_type": "pyout",
       "prompt_number": 768,
       "text": [
        "0     0.0655\n",
        "1     0.0655\n",
        "2     0.0655\n",
        "3     0.0655\n",
        "4     0.0655\n",
        "5     0.0655\n",
        "6     0.0655\n",
        "7     0.0655\n",
        "8     0.0655\n",
        "9     0.0655\n",
        "10    0.0655\n",
        "11    0.0655\n",
        "12    0.0655\n",
        "13    0.0655\n",
        "14    0.0655\n",
        "15    0.0655\n",
        "16    0.0655\n",
        "17    0.0655\n",
        "18    0.0655\n",
        "19    0.0655\n",
        "20    0.0655\n",
        "21    0.0655\n",
        "22    0.0655\n",
        "23    0.0655\n",
        "24    0.0655\n",
        "25    0.0655\n",
        "26    0.0655\n",
        "27    0.0655\n",
        "28    0.0655\n",
        "29    0.0655\n",
        "30    0.0655\n",
        "31    0.0655\n",
        "32    0.0655\n",
        "33    0.0655\n",
        "34    0.0655\n",
        "35    0.0655\n",
        "36    0.0655\n",
        "37    0.0655\n",
        "38    0.0655\n",
        "39    0.0655\n",
        "40    0.0655\n",
        "41    0.0655\n",
        "dtype: float64"
       ]
      }
     ],
     "prompt_number": 768
    },
    {
     "cell_type": "code",
     "collapsed": false,
     "input": [
      "results = []\n",
      "\n",
      "m = 3\n",
      "custWTP = customerWTP_simple(cp, m=m)\n",
      "sellerWTA = sellerWTA_MC(cp, cp, m, OEF, minPrice=1.0)\n",
      "\n",
      "r = np.linspace(0.5, 5.5, 6)\n",
      "for x in [1]:\n",
      "    #obs = obsPriceChanges(cp, m=m) * x\n",
      "    #obs = np.maximum(obs, cp*0.01)  #minimum option price = 1 percent\n",
      "    p = run_optionSimulation(cp, custWTP, sellerWTA, knowsWTP=False, knowsFlying=False, nakedSelling=False, m=m, trials=10)\n",
      "    results.append(p)"
     ],
     "language": "python",
     "metadata": {},
     "outputs": [],
     "prompt_number": 558
    }
   ],
   "metadata": {}
  }
 ]
}