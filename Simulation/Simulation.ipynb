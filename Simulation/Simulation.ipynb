{
 "metadata": {
  "name": ""
 },
 "nbformat": 3,
 "nbformat_minor": 0,
 "worksheets": [
  {
   "cells": [
    {
     "cell_type": "heading",
     "level": 2,
     "metadata": {},
     "source": [
      "Imports"
     ]
    },
    {
     "cell_type": "code",
     "collapsed": false,
     "input": [
      "from __future__ import division\n",
      "\n",
      "import h5py\n",
      "import numpy as np\n",
      "import pandas as pd\n",
      "import scipy.stats as ss\n",
      "pd.set_option('display.max_rows', 500)\n",
      "pd.set_option('display.max_columns', 30)\n",
      "\n",
      "# for thousands-seperator of numbers\n",
      "import locale\n",
      "_ = locale.setlocale(locale.LC_ALL, 'en_US.UTF-8')"
     ],
     "language": "python",
     "metadata": {},
     "outputs": [],
     "prompt_number": 1
    },
    {
     "cell_type": "heading",
     "level": 2,
     "metadata": {},
     "source": [
      "Empirical data"
     ]
    },
    {
     "cell_type": "code",
     "collapsed": false,
     "input": [
      "storage = h5py.File('storage/flightsTest.h5', 'r')\n",
      "historical = h5py.File('storage/flightsTrain.h5', 'r')"
     ],
     "language": "python",
     "metadata": {},
     "outputs": [],
     "prompt_number": 2
    },
    {
     "cell_type": "heading",
     "level": 2,
     "metadata": {},
     "source": [
      "Main functions"
     ]
    },
    {
     "cell_type": "code",
     "collapsed": false,
     "input": [
      "def get_ticketPrices(dataset, flyFrom, flyTo):\n",
      "    \"\"\"\n",
      "    returns cleaned up ticketPrices AND meanTicketPrice in whole $'s (for sell-outs)\n",
      "    \n",
      "    dataset: data to get prices from (historical/current)\n",
      "    flyFrom: outbound airport\n",
      "    flyTo: inbound airport\n",
      "    \"\"\"\n",
      "    ticketPrices = pd.DataFrame(dataset[flyFrom][flyTo][:,1:43], dtype=np.float64)\n",
      "    ticketPrices[ticketPrices == 0] = np.nan\n",
      "    ticketPrices = ticketPrices.dropna(thresh=int(42*2/3)).ffill(axis=1)  # drop everythings that has less than 2/3 avilable data\n",
      "    meanTicketPrice = ticketPrices.mean().mean()\n",
      "    return ticketPrices.fillna(ticketPrices[0].mean()*3), meanTicketPrice"
     ],
     "language": "python",
     "metadata": {},
     "outputs": [],
     "prompt_number": 3
    },
    {
     "cell_type": "heading",
     "level": 4,
     "metadata": {},
     "source": [
      "Customer's WTP"
     ]
    },
    {
     "cell_type": "code",
     "collapsed": false,
     "input": [
      "# The parameter R for x=1 and markdown is between 1.00 and 1.49 => Rs[1+ (markup %/100)]\n",
      "Rs = [1000000000, 12.496666311036584, 6.243330486502654, 4.156657048524223, 3.111643834528778,\n",
      "      2.4832886546651745, 2.063255948942078, 1.7622577296977648, 1.5356488092930582, 1.3586252017993312,\n",
      "      1.21630347633149, 1.0992113649150326, 1.0010330590733996, 0.9173951312452584, 0.8451727678126469,\n",
      "      0.7820735007721652, 0.72637703142226, 0.6767668718147107, 0.632218095883475, 0.5919205269639431,\n",
      "      0.5552249575307869, 0.5216047221664799, 0.49062773690364747, 0.4619358176240307, 0.43522915239997745,\n",
      "      0.4102544824821221, 0.3867959911697954, 0.3646681962405325, 0.34371034293279795, 0.3237819336016499,\n",
      "      0.30475912803497585, 0.2865318186536202, 0.26900123654074615, 0.2520779837865172, 0.23568041961942612,\n",
      "      0.21973335580872078, 0.204167043719119, 0.1889164631635722, 0.17392095198121899, 0.15912424089741475,\n",
      "      0.14447496735003168, 0.12992770512360183, 0.11544441531556111, 0.10099595331805158, 0.08656290307799419,\n",
      "      0.07213485129383752, 0.057707804116745684, 0.043280851232438425, 0.028853900817779332, 0.014426950408889647]\n",
      "\n",
      "def get_customerWTP(hp, cp, r, m, p_f):\n",
      "    \"\"\"\n",
      "    Calculate the customer's Willingness To Pay\n",
      "\n",
      "    hp: historical price information\n",
      "    cp: current price information\n",
      "    r: used for risk utility curve: customer is willing to pay 1+(r/100) times more for security\n",
      "    m: option's number of days to maturity\n",
      "    p_f: probability of flying\n",
      "    \"\"\"\n",
      "    \n",
      "    R = Rs[r]  # at a markup of 1.(r/100)\n",
      "\n",
      "    # *** DEBUG ***\n",
      "    #hp = cp\n",
      "    \n",
      "    # calculate customer's predictions combined with utility\n",
      "    hpMaturity = hp.T.shift(m).T  # shift along axis does not seem to work\n",
      "    retMaturity = hpMaturity/hp\n",
      "    V = np.log(np.exp(retMaturity/R).mean())*R  # Vector that incorperates utility function and expected inc/decr of fare\n",
      "\n",
      "    custBuy = (1 - p_f) * cp  # costs of buying the ticket now\n",
      "    custWait = p_f * (cp*V - cp)  # costs of waiting till maturity\n",
      "\n",
      "    custWTP = np.minimum(custBuy, custWait)  # maximum price customer is accepting\n",
      "\n",
      "    # max option price = 15% of current ticket price\n",
      "    \n",
      "    #  ***DEBUG***\n",
      "    #custWTP = np.minimum(custWTP, cp*0.15)\n",
      "\n",
      "    return custWTP"
     ],
     "language": "python",
     "metadata": {},
     "outputs": [],
     "prompt_number": 558
    },
    {
     "cell_type": "heading",
     "level": 4,
     "metadata": {},
     "source": [
      "Create LaTeX table"
     ]
    },
    {
     "cell_type": "code",
     "collapsed": false,
     "input": [
      "def get_priceTableSegment(data):\n",
      "    pricetable = \"\"\n",
      "    for d in data:\n",
      "        pricetable += \"{flyFrom}  &  {flyTo}  &  {mtp:6.0f}  &  {optionPrice:6.2f}  &  {optionPricePerc:5.2f}  &  {optionProfits:6.2f}  &  {optionProfitsPerc:6.2f}  &  {percSold:6.2f} \\\\\\\\\\n\".format(**d)\n",
      "    \n",
      "    return pricetable\n",
      "    \n",
      "    #  ***DEBUG***\n",
      "    priceTable = \"\"\"    \\\\hline\\n    \\\\multirow{%d}{*}{\\\\parbox[c]{1cm}{\\\\centering \\\\textbf{  %s  $\\\\to$  %s  }}}\\n\"\"\" % (len(v), flyFrom, flyTo)\n",
      "    for i in range(len(v)):\n",
      "        priceTable += \"    ~  &  $P^f = %.2f$  &  \\\\$\\\\,%d  &  \\\\$\\\\,%.2f  &  %.2f\\\\,\\\\%%  &  %.2f\\\\,\\\\%%   &  \\\\$\\\\,%s  \\\\\\\\ \\n\" % v[i]\n",
      "    \n",
      "    return priceTable"
     ],
     "language": "python",
     "metadata": {},
     "outputs": [],
     "prompt_number": 387
    },
    {
     "cell_type": "heading",
     "level": 2,
     "metadata": {},
     "source": [
      "Simulation models"
     ]
    },
    {
     "cell_type": "heading",
     "level": 4,
     "metadata": {},
     "source": [
      "Option simulation"
     ]
    },
    {
     "cell_type": "code",
     "collapsed": false,
     "input": [
      "def run_optionSimulation(cp, custWTP, sellerWTA, m, p_f, trials=150, allKnowing=False):\n",
      "    \"\"\"\n",
      "    Run the simulation\n",
      "    \n",
      "    cp: current price information\n",
      "    mtp: mean ticket price\n",
      "    custWTP: customer's Willingness To Pay\n",
      "    sellerWTA: seller's Willingness To Accept\n",
      "    p_f: probability of flying\n",
      "    trials: number of times to run simulation\n",
      "    allKnowing: is the seller allKnowing (i.e., does he know whether customer is going to fly in advance)?\n",
      "    \n",
      "    returns: \n",
      "    \"\"\"\n",
      "\n",
      "    totalSold = 1  # set to one because of DivideByZero\n",
      "    sellerCosts = []\n",
      "    sellerProfits = []\n",
      "    \n",
      "    fareIncr = cp.T.shift(m).T - cp\n",
      "    \n",
      "    for t in xrange(trials):\n",
      "        custFly = np.random.binomial(1, p_f, custWTP.shape)  # generate binominal array: is the customer going to fly at maturity?\n",
      "\n",
      "        if allKnowing:\n",
      "            sellerWTA_tmp = sellerWTA * custFly  # all knowing seller accepts option prices > 0 for customer's how will not fly\n",
      "        else:\n",
      "            sellerWTA_tmp = sellerWTA * p_f  # if NOT all knowing, minimum WTA is times the probability of flying\n",
      "\n",
      "        offerOption = custWTP.gt(sellerWTA_tmp)  # seller offers option when WTP > WTA\n",
      "        \n",
      "        totalSold += offerOption.sum().sum()\n",
      "        \n",
      "        costs = np.maximum(0, (fareIncr * custFly) * offerOption)\n",
      "        profits = (custWTP * offerOption) - costs\n",
      "        \n",
      "        sellerCosts.append(costs.sum().sum())\n",
      "        sellerProfits.append(profits.sum().sum())\n",
      "    \n",
      "    return mean(sellerProfits), mean(sellerCosts), totalSold/trials, totalSold/(cp.shape[0]*(cp.shape[1]-m))/trials"
     ],
     "language": "python",
     "metadata": {},
     "outputs": [],
     "prompt_number": 285
    },
    {
     "cell_type": "code",
     "collapsed": false,
     "input": [
      "def run_allSimulation(sellerWTA_f, custWTP_f, p_fRange=None, r=10, allKnowing=False):\n",
      "    \"\"\"\n",
      "    return priceTable str for LaTeX with statistics on ALL airport combinations\n",
      "    \n",
      "    sellerWTA_f: function ref which returns seller's WTA\n",
      "        see run_singleSimulation\n",
      "    custWTP_f: function ref which returns customer's WTP\n",
      "        see run_singleSimulation\n",
      "    pf_Range: list with p_f's to consider\n",
      "    r: risk aversity = 1+(1/r)\n",
      "    allKnowing: is seller all knowing?\n",
      "    \"\"\"\n",
      "    \n",
      "    data = []\n",
      "    \n",
      "    # run simulation for every available airport combination\n",
      "    n = 1\n",
      "    for flyFrom in storage.keys():\n",
      "        for flyTo in storage[flyFrom].keys():\n",
      "            print('[%02d/%d] %s > %s...' % (n, 22, flyFrom, flyTo)),\n",
      "            \n",
      "            # *** DEBUG ***\n",
      "            #return run_singleSimulation(flyFrom, flyTo, sellerWTA_f, custWTP_f, p_fRange, r, allKnowing)\n",
      "            data += run_singleSimulation(flyFrom, flyTo, sellerWTA_f, custWTP_f, p_fRange, r, allKnowing)\n",
      "            print('done')\n",
      "            n += 1\n",
      "    print\n",
      "\n",
      "    return data\n",
      "\n",
      "\n",
      "def run_singleSimulation(flyFrom, flyTo, sellerWTA_f, custWTP_f, p_fRange=None, r=10, allKnowing=False):\n",
      "    \"\"\"\n",
      "    return priceTable row for specific route\n",
      "    \n",
      "    sellerWTA_f: function ref which returns seller's WTA\n",
      "        hp: historical prices\n",
      "        cp: current prices\n",
      "        m: maturity\n",
      "    custWTP_f: function ref which returns customer's WTP\n",
      "        hp: historical prices\n",
      "        cp: current prices\n",
      "        r: risk averion level\n",
      "        m: maturity\n",
      "        p_f: probability of flying\n",
      "    pf_Range ([0.80, 0.85, 0.90, 0.95]): list with p_f's to consider\n",
      "    r: risk aversity = 1+(1/r)\n",
      "    allKnowing: is seller all knowing?\n",
      "    \"\"\"\n",
      "    \n",
      "    if p_fRange == None:\n",
      "        p_fRange = [0.80, 0.85, 0.90, 0.95]\n",
      "    \n",
      "    priceTable = \"\"\n",
      "    \n",
      "    hp, _ = get_ticketPrices(historical, flyFrom, flyTo)\n",
      "    cp, mtp = get_ticketPrices(storage, flyFrom, flyTo)\n",
      "    \n",
      "    # print flyFrom, flyTo\n",
      "    \n",
      "    # *** DEBUG ***\n",
      "    data = []\n",
      "    for m in range(1,22,2): #[3, 7, 14]:  # maturity in days\n",
      "        sellerWTA = sellerWTA_f(hp, cp, m)\n",
      "    \n",
      "        for p_f in p_fRange:\n",
      "            custWTP = custWTP_f(hp, cp, r=10, m=m, p_f=p_f)\n",
      "\n",
      "            totalProfits, totalCosts, totalSold, percSold = run_optionSimulation(cp, custWTP, sellerWTA, m=m, p_f=p_f, trials=150, allKnowing=allKnowing)\n",
      "            \n",
      "            #dict for storage of results\n",
      "            res = {'flyFrom': flyFrom, 'flyTo': flyTo, 'mtp': mtp/100, 'm': m, 'p_f': p_f}\n",
      "            \n",
      "            res['optionPrice'] = ((totalProfits+totalCosts)/totalSold/100)\n",
      "            res['optionPricePerc'] = res['optionPrice']/(mtp/100)*100\n",
      "            res['optionProfits'] = (totalProfits/totalSold/100)\n",
      "            res['optionProfitsPerc'] = res['optionProfits']/res['optionPrice']*100\n",
      "            res['percSold'] = percSold*100\n",
      "            \n",
      "            data.append(res)\n",
      "\n",
      "        #totalSold_a = np.array(totalSold_a)\n",
      "        #ps_a = np.array(ps_a)\n",
      "\n",
      "        #v = zip(p_fRange, [mtp/100]*len(p_fRange), mp_a/100, mp_a/mtp*100, ps_a*100, [locale.format(\"%d\", x/100, grouping=True) for x in tsp_a])\n",
      "        #priceTable += get_priceTableSegment(flyFrom, flyTo, m, v)\n",
      "    return data"
     ],
     "language": "python",
     "metadata": {},
     "outputs": [
      {
       "output_type": "stream",
       "stream": "stdout",
       "text": [
        "\n"
       ]
      }
     ],
     "prompt_number": 489
    },
    {
     "cell_type": "heading",
     "level": 3,
     "metadata": {},
     "source": [
      "Simulation for all knowing-seller"
     ]
    },
    {
     "cell_type": "code",
     "collapsed": false,
     "input": [
      "def get_sellerWTA_foreknowledge(hp, cp, m):\n",
      "    \"\"\"\n",
      "    Calculate  the seller's Willingness To Accept\n",
      "    \n",
      "    cp: current price information\n",
      "    m: option's number of days to maturity\n",
      "    \n",
      "    returns: \n",
      "    \"\"\"\n",
      "    cpMaturity = cp.T.shift(m).T\n",
      "    sellerWTA = np.maximum(0, cpMaturity - cp)  # minimum price seller is accepting\n",
      "    \n",
      "    return sellerWTA"
     ],
     "language": "python",
     "metadata": {},
     "outputs": [],
     "prompt_number": 11
    },
    {
     "cell_type": "code",
     "collapsed": false,
     "input": [
      "#ak_results = run_singleSimulation('AMS', 'JFK', get_sellerWTA_foreknowledge, get_customerWTP, allKnowing=True, p_fRange=[0.5]) #np.arange(0.1, 1, 0.05))\n",
      "ak_results = run_allSimulation(get_sellerWTA_foreknowledge, get_customerWTP, allKnowing=True, p_fRange=[0.5]) #p_fRange=np.arange(0.1, 1, 0.05))"
     ],
     "language": "python",
     "metadata": {},
     "outputs": [
      {
       "output_type": "stream",
       "stream": "stdout",
       "text": [
        " [01/22] AMS > CDG... "
       ]
      },
      {
       "output_type": "stream",
       "stream": "stdout",
       "text": [
        "done\n",
        "[02/22] AMS > DXB... "
       ]
      },
      {
       "output_type": "stream",
       "stream": "stdout",
       "text": [
        "done\n",
        "[03/22] AMS > JFK... "
       ]
      },
      {
       "output_type": "stream",
       "stream": "stdout",
       "text": [
        "done\n",
        "[04/22] AMS > LHR... "
       ]
      },
      {
       "output_type": "stream",
       "stream": "stdout",
       "text": [
        "done\n",
        "[05/22] ATL > LAX... "
       ]
      },
      {
       "output_type": "stream",
       "stream": "stdout",
       "text": [
        "done\n",
        "[06/22] ATL > MCO... "
       ]
      },
      {
       "output_type": "stream",
       "stream": "stdout",
       "text": [
        "done\n",
        "[07/22] CDG > AMS... "
       ]
      },
      {
       "output_type": "stream",
       "stream": "stdout",
       "text": [
        "done\n",
        "[08/22] CDG > LHR... "
       ]
      },
      {
       "output_type": "stream",
       "stream": "stdout",
       "text": [
        "done\n",
        "[09/22] DEN > FLL... "
       ]
      },
      {
       "output_type": "stream",
       "stream": "stdout",
       "text": [
        "done\n",
        "[10/22] DEN > PHX... "
       ]
      },
      {
       "output_type": "stream",
       "stream": "stdout",
       "text": [
        "done\n",
        "[11/22] DFW > LAX... "
       ]
      },
      {
       "output_type": "stream",
       "stream": "stdout",
       "text": [
        "done\n",
        "[12/22] DFW > SFO... "
       ]
      },
      {
       "output_type": "stream",
       "stream": "stdout",
       "text": [
        "done\n",
        "[13/22] JFK > CDG... "
       ]
      },
      {
       "output_type": "stream",
       "stream": "stdout",
       "text": [
        "done\n",
        "[14/22] JFK > LHR... "
       ]
      },
      {
       "output_type": "stream",
       "stream": "stdout",
       "text": [
        "done\n",
        "[15/22] LAX > LAS... "
       ]
      },
      {
       "output_type": "stream",
       "stream": "stdout",
       "text": [
        "done\n",
        "[16/22] LAX > SFO... "
       ]
      },
      {
       "output_type": "stream",
       "stream": "stdout",
       "text": [
        "done\n",
        "[17/22] LHR > AMS... "
       ]
      },
      {
       "output_type": "stream",
       "stream": "stdout",
       "text": [
        "done\n",
        "[18/22] LHR > JFK... "
       ]
      },
      {
       "output_type": "stream",
       "stream": "stdout",
       "text": [
        "done\n",
        "[19/22] LHR > LAX... "
       ]
      },
      {
       "output_type": "stream",
       "stream": "stdout",
       "text": [
        "done\n",
        "[20/22] LHR > MAD... "
       ]
      },
      {
       "output_type": "stream",
       "stream": "stdout",
       "text": [
        "done\n",
        "[21/22] ORD > BOS... "
       ]
      },
      {
       "output_type": "stream",
       "stream": "stdout",
       "text": [
        "done\n",
        "[22/22] ORD > LGA... "
       ]
      },
      {
       "output_type": "stream",
       "stream": "stdout",
       "text": [
        "done\n",
        "\n"
       ]
      }
     ],
     "prompt_number": 560
    },
    {
     "cell_type": "code",
     "collapsed": false,
     "input": [
      "e = np.array(ak_results)"
     ],
     "language": "python",
     "metadata": {},
     "outputs": [],
     "prompt_number": 561
    },
    {
     "cell_type": "code",
     "collapsed": false,
     "input": [
      "f = np.split(e, 22)"
     ],
     "language": "python",
     "metadata": {},
     "outputs": [],
     "prompt_number": 562
    },
    {
     "cell_type": "code",
     "collapsed": false,
     "input": [
      "d = []\n",
      "\n",
      "ind = [13,5,16,12, 15]\n",
      "\n",
      "for i in ind:\n",
      "    op = []\n",
      "    for j in f[i]:\n",
      "        d.append(j['optionPricePerc'])\n",
      "        op.append(j['optionPricePerc'])\n",
      "    plot(range(1, 22, 2), op, label=j['flyFrom']+ r' to ' + j['flyTo'])\n",
      "xlim(1,21)\n",
      "xlabel('number of days till maturity')\n",
      "ylabel('mean options price (%)')\n",
      "legend(loc='lower right')\n",
      "#savefig('/home/patrick/Thesis/ThesisTemplate/figures/Sensitivity_maturity.png', dpi=400)"
     ],
     "language": "python",
     "metadata": {},
     "outputs": [
      {
       "metadata": {},
       "output_type": "pyout",
       "prompt_number": 563,
       "text": [
        "<matplotlib.legend.Legend at 0x17b46450>"
       ]
      },
      {
       "metadata": {},
       "output_type": "display_data",
       "png": "[encoded data removed]",
       "text": [
        "<matplotlib.figure.Figure at 0x17dc1cd0>"
       ]
      }
     ],
     "prompt_number": 563
    },
    {
     "cell_type": "code",
     "collapsed": false,
     "input": [
      "for i in range(len(b)):\n",
      "    print i, b[i][0]['flyFrom'], b[i][0]['flyTo']"
     ],
     "language": "python",
     "metadata": {},
     "outputs": [
      {
       "output_type": "stream",
       "stream": "stdout",
       "text": [
        " 0 AMS CDG\n",
        "1 AMS DXB\n",
        "2 AMS JFK\n",
        "3 AMS LHR\n",
        "4 ATL LAX\n",
        "5 ATL MCO\n",
        "6 CDG AMS\n",
        "7 CDG LHR\n",
        "8 DEN FLL\n",
        "9 DEN PHX\n",
        "10 DFW LAX\n",
        "11 DFW SFO\n",
        "12 JFK CDG\n",
        "13 JFK LHR\n",
        "14 LAX LAS\n",
        "15 LAX SFO\n",
        "16 LHR AMS\n",
        "17 LHR JFK\n",
        "18 LHR LAX\n",
        "19 LHR MAD\n",
        "20 ORD BOS\n",
        "21 ORD LGA\n"
       ]
      }
     ],
     "prompt_number": 546
    },
    {
     "cell_type": "code",
     "collapsed": false,
     "input": [
      "plot(op)"
     ],
     "language": "python",
     "metadata": {},
     "outputs": [
      {
       "metadata": {},
       "output_type": "pyout",
       "prompt_number": 484,
       "text": [
        "[<matplotlib.lines.Line2D at 0x195ff390>]"
       ]
      },
      {
       "metadata": {},
       "output_type": "display_data",
       "png": "[encoded data removed]",
       "text": [
        "<matplotlib.figure.Figure at 0x136aaf50>"
       ]
      }
     ],
     "prompt_number": 484
    },
    {
     "cell_type": "code",
     "collapsed": false,
     "input": [
      "print get_priceTableSegment(ak_results)"
     ],
     "language": "python",
     "metadata": {},
     "outputs": [
      {
       "output_type": "stream",
       "stream": "stdout",
       "text": [
        "AMS  &  JFK  &     852  &    7.63  &   0.90  &    7.49  &   98.16  &   65.54 \\\\\n",
        "AMS  &  JFK  &     852  &   11.92  &   1.40  &   11.61  &   97.46  &   73.76 \\\\\n",
        "AMS  &  JFK  &     852  &   18.14  &   2.13  &   17.45  &   96.18  &   72.49 \\\\\n",
        "AMS  &  JFK  &     852  &   24.03  &   2.82  &   22.91  &   95.30  &   71.44 \\\\\n",
        "AMS  &  JFK  &     852  &   31.30  &   3.68  &   29.72  &   94.96  &   68.49 \\\\\n",
        "AMS  &  JFK  &     852  &   36.30  &   4.26  &   34.16  &   94.10  &   70.14 \\\\\n",
        "AMS  &  JFK  &     852  &   40.26  &   4.73  &   37.79  &   93.86  &   71.93 \\\\\n",
        "AMS  &  JFK  &     852  &   44.70  &   5.25  &   42.04  &   94.04  &   71.63 \\\\\n",
        "AMS  &  JFK  &     852  &   47.67  &   5.60  &   44.79  &   93.96  &   73.51 \\\\\n",
        "AMS  &  JFK  &     852  &   50.65  &   5.95  &   47.37  &   93.52  &   75.72 \\\\\n",
        "AMS  &  JFK  &     852  &   53.95  &   6.34  &   50.30  &   93.24  &   75.73 \\\\\n",
        "AMS  &  JFK  &     852  &   56.90  &   6.68  &   53.29  &   93.65  &   75.56 \\\\\n",
        "AMS  &  JFK  &     852  &   59.87  &   7.03  &   55.68  &   93.00  &   75.59 \\\\\n",
        "AMS  &  JFK  &     852  &   62.63  &   7.35  &   58.40  &   93.25  &   75.61 \\\\\n",
        "AMS  &  JFK  &     852  &   65.95  &   7.74  &   61.38  &   93.08  &   75.80 \\\\\n",
        "AMS  &  JFK  &     852  &   69.51  &   8.16  &   64.50  &   92.80  &   76.06 \\\\\n",
        "AMS  &  JFK  &     852  &   72.60  &   8.53  &   67.32  &   92.73  &   76.23 \\\\\n",
        "AMS  &  JFK  &     852  &   75.38  &   8.85  &   70.11  &   93.00  &   75.90 \\\\\n",
        "AMS  &  JFK  &     852  &   78.24  &   9.19  &   72.78  &   93.02  &   76.02 \\\\\n",
        "AMS  &  JFK  &     852  &   81.65  &   9.59  &   75.38  &   92.32  &   76.65 \\\\\n",
        "AMS  &  JFK  &     852  &   84.83  &   9.96  &   78.81  &   92.91  &   76.51 \\\\\n",
        "\n"
       ]
      }
     ],
     "prompt_number": 475
    },
    {
     "cell_type": "heading",
     "level": 3,
     "metadata": {},
     "source": [
      "Black-Scholes"
     ]
    },
    {
     "cell_type": "code",
     "collapsed": false,
     "input": [
      "def d1(S0, K, r, sigma, T):\n",
      "    return (np.log(S0/K) + (r + sigma**2 / 2) * T)/(sigma * np.sqrt(T))\n",
      " \n",
      "def d2(S0, K, r, sigma, T):\n",
      "    return (np.log(S0/K) + (r - sigma**2 / 2) * T)/(sigma * np.sqrt(T))\n",
      " \n",
      "def BlackScholes(hp, S0, m, r=0.0275, call=True):\n",
      "    \"\"\"\n",
      "    hp: historical prices\n",
      "    S0: airfare at time 0\n",
      "    m: maturity in days\n",
      "    r: risk-free interest rate\n",
      "    call: call (True) or put (False)\n",
      "    \"\"\"\n",
      "    \n",
      "    # convert volatility to days\n",
      "    T = m/365\n",
      "    \n",
      "    # volatility\n",
      "    hpLN = np.log(hp)\n",
      "    dRet = (hpLN.T.shift(1).T - hpLN)\n",
      "    dRetMean = dRet.mean().mean()\n",
      "    sigmaDaily = np.sqrt(((dRet - dRetMean)**2).mean().mean())\n",
      "    sigma = sigmaDaily*np.sqrt(365)\n",
      "    \n",
      "    K = S0  # strike price == S0\n",
      "    if call:\n",
      "        return S0 * ss.norm.cdf(d1(S0, K, r, sigma, T)) - K * np.exp(-r * T) * ss.norm.cdf(d2(S0, K, r, sigma, T))\n",
      "    return K * np.exp(-r * T) * ss.norm.cdf(-d2(S0, K, r, sigma, T)) - S0 * ss.norm.cdf(-d1(S0, K, r, sigma, T))"
     ],
     "language": "python",
     "metadata": {},
     "outputs": [],
     "prompt_number": 389
    },
    {
     "cell_type": "code",
     "collapsed": false,
     "input": [
      "#bs = run_singleSimulation('AMS', 'CDG', BlackScholes, get_customerWTP, allKnowing=False, p_fRange=np.arange(0.1, 1, 0.05))\n",
      "bs_results =run_allSimulation(BlackScholes, get_customerWTP, allKnowing=False, p_fRange=[0.2]) # p_fRange=np.arange(0.1, 1, 0.05))"
     ],
     "language": "python",
     "metadata": {},
     "outputs": [],
     "prompt_number": 477
    },
    {
     "cell_type": "code",
     "collapsed": false,
     "input": [
      "print get_priceTableSegment(bs_results)"
     ],
     "language": "python",
     "metadata": {},
     "outputs": [
      {
       "output_type": "stream",
       "stream": "stdout",
       "text": [
        "AMS  &  CDG  &     226  &   22.07  &  9.77  &   -1.51  &  -6.82  &  0.54 \\\\\n",
        "AMS  &  DXB  &     591  &   89.10  &  15.08  &   -4.15  &  -4.66  &  0.13 \\\\\n",
        "AMS  &  JFK  &     852  &   74.28  &  8.72  &  -38.14  &  -51.34  &  0.26 \\\\\n",
        "AMS  &  LHR  &     259  &   17.19  &  6.65  &   -0.26  &  -1.49  &  0.49 \\\\\n",
        "ATL  &  LAX  &     394  &   44.44  &  11.28  &   -6.05  &  -13.63  &  0.28 \\\\\n",
        "ATL  &  MCO  &     252  &   25.89  &  10.28  &    2.72  &  10.52  &  0.56 \\\\\n",
        "CDG  &  AMS  &     240  &   22.46  &  9.37  &   -1.05  &  -4.66  &  0.51 \\\\\n",
        "CDG  &  LHR  &     221  &   13.49  &  6.10  &   -2.81  &  -20.86  &  0.26 \\\\\n",
        "DEN  &  FLL  &     182  &   24.53  &  13.46  &  -15.26  &  -62.22  &  0.23 \\\\\n",
        "DEN  &  PHX  &     189  &   24.04  &  12.73  &    2.04  &  8.50  &  0.31 \\\\\n",
        "DFW  &  LAX  &     313  &   47.22  &  15.08  &  -27.13  &  -57.45  &  0.33 \\\\\n",
        "DFW  &  SFO  &     388  &   66.19  &  17.07  &  -33.16  &  -50.10  &  0.31 \\\\\n",
        "JFK  &  CDG  &    2637  &  330.96  &  12.55  &  182.72  &  55.21  &  0.36 \\\\\n",
        "JFK  &  LHR  &    1000  &  141.51  &  14.15  &   51.53  &  36.41  &  0.69 \\\\\n",
        "LAX  &  LAS  &     212  &   31.42  &  14.81  &   -1.13  &  -3.61  &  0.36 \\\\\n",
        "LAX  &  SFO  &     222  &   38.29  &  17.28  &   15.06  &  39.34  &  0.49 \\\\\n",
        "LHR  &  AMS  &     242  &   18.80  &  7.78  &    0.89  &  4.74  &  0.38 \\\\\n",
        "LHR  &  JFK  &     864  &  125.83  &  14.57  &   85.47  &  67.92  &  0.59 \\\\\n",
        "LHR  &  LAX  &    1286  &  197.54  &  15.36  &  104.23  &  52.76  &  0.54 \\\\\n",
        "LHR  &  MAD  &     282  &   21.16  &  7.50  &   -5.92  &  -27.98  &  0.21 \\\\\n",
        "ORD  &  BOS  &     249  &   42.50  &  17.05  &  -10.47  &  -24.64  &  0.31 \\\\\n",
        "ORD  &  LGA  &     273  &   37.07  &  13.57  &    0.11  &  0.29  &  0.38 \\\\\n",
        "\n"
       ]
      }
     ],
     "prompt_number": 376
    },
    {
     "cell_type": "code",
     "collapsed": false,
     "input": [
      "print get_priceTableSegment(bs_results)"
     ],
     "language": "python",
     "metadata": {},
     "outputs": [
      {
       "output_type": "stream",
       "stream": "stdout",
       "text": [
        "AMS  &  CDG  &     226  &   13.92  &  6.16  &   -0.81  &  -5.83  &  0.54 \\\\\n",
        "AMS  &  DXB  &     591  &   68.54  &  11.60  &    9.37  &  13.67  &  0.13 \\\\\n",
        "AMS  &  JFK  &     852  &   46.43  &  5.45  &  -24.21  &  -52.15  &  0.26 \\\\\n",
        "AMS  &  LHR  &     259  &   10.79  &  4.17  &   -0.12  &  -1.11  &  0.49 \\\\\n",
        "ATL  &  LAX  &     394  &   32.31  &  8.20  &    0.73  &  2.26  &  0.28 \\\\\n",
        "ATL  &  MCO  &     252  &   17.78  &  7.06  &    3.30  &  18.59  &  0.56 \\\\\n",
        "CDG  &  AMS  &     240  &   14.04  &  5.85  &   -0.65  &  -4.62  &  0.51 \\\\\n",
        "CDG  &  LHR  &     221  &    8.43  &  3.81  &   -1.74  &  -20.70  &  0.26 \\\\\n",
        "DEN  &  FLL  &     182  &   22.31  &  12.24  &   -2.78  &  -12.47  &  0.23 \\\\\n",
        "DEN  &  PHX  &     189  &   18.12  &  9.59  &    4.38  &  24.18  &  0.31 \\\\\n",
        "DFW  &  LAX  &     313  &   40.15  &  12.82  &   -6.34  &  -15.79  &  0.33 \\\\\n",
        "DFW  &  SFO  &     388  &   59.22  &  15.27  &   -2.94  &  -4.96  &  0.31 \\\\\n",
        "JFK  &  CDG  &    2637  &  290.63  &  11.02  &  197.85  &  68.08  &  0.36 \\\\\n",
        "JFK  &  LHR  &    1000  &  122.85  &  12.29  &   66.56  &  54.18  &  0.69 \\\\\n",
        "LAX  &  LAS  &     212  &   26.18  &  12.34  &    5.85  &  22.34  &  0.36 \\\\\n",
        "LAX  &  SFO  &     222  &   34.92  &  15.76  &   20.42  &  58.46  &  0.49 \\\\\n",
        "LHR  &  AMS  &     242  &   11.95  &  4.94  &    0.76  &  6.38  &  0.38 \\\\\n",
        "LHR  &  JFK  &     864  &  106.87  &  12.37  &   81.58  &  76.34  &  0.59 \\\\\n",
        "LHR  &  LAX  &    1286  &  191.16  &  14.86  &  132.92  &  69.53  &  0.54 \\\\\n",
        "LHR  &  MAD  &     282  &   13.23  &  4.68  &   -3.69  &  -27.92  &  0.21 \\\\\n",
        "ORD  &  BOS  &     249  &   37.01  &  14.85  &    3.87  &  10.44  &  0.31 \\\\\n",
        "ORD  &  LGA  &     273  &   28.77  &  10.53  &    5.67  &  19.70  &  0.38 \\\\\n",
        "\n"
       ]
      }
     ],
     "prompt_number": 374
    },
    {
     "cell_type": "code",
     "collapsed": false,
     "input": [
      "print get_priceTableSegment(bs_results)"
     ],
     "language": "python",
     "metadata": {},
     "outputs": [
      {
       "output_type": "stream",
       "stream": "stdout",
       "text": [
        "AMS  &  CDG  &     226  &    5.57  &  2.46  &   -0.33  &  -5.88  &  0.54 \\\\\n",
        "AMS  &  DXB  &     591  &   36.51  &  6.18  &   13.11  &  35.91  &  0.13 \\\\\n",
        "AMS  &  JFK  &     852  &   18.57  &  2.18  &   -9.94  &  -53.55  &  0.26 \\\\\n",
        "AMS  &  LHR  &     259  &    4.31  &  1.67  &   -0.06  &  -1.30  &  0.49 \\\\\n",
        "ATL  &  LAX  &     394  &   13.43  &  3.41  &    0.79  &  5.90  &  0.28 \\\\\n",
        "ATL  &  MCO  &     252  &    7.12  &  2.83  &    1.33  &  18.69  &  0.56 \\\\\n",
        "CDG  &  AMS  &     240  &    5.61  &  2.34  &   -0.27  &  -4.78  &  0.51 \\\\\n",
        "CDG  &  LHR  &     221  &    3.37  &  1.52  &   -0.70  &  -20.76  &  0.26 \\\\\n",
        "DEN  &  FLL  &     182  &   14.78  &  8.11  &    4.90  &  33.13  &  0.23 \\\\\n",
        "DEN  &  PHX  &     189  &    7.44  &  3.94  &    1.93  &  25.99  &  0.31 \\\\\n",
        "DFW  &  LAX  &     313  &   21.75  &  6.95  &    3.15  &  14.49  &  0.33 \\\\\n",
        "DFW  &  SFO  &     388  &   29.90  &  7.71  &    5.06  &  16.92  &  0.31 \\\\\n",
        "JFK  &  CDG  &    2637  &  188.80  &  7.16  &  151.81  &  80.41  &  0.36 \\\\\n",
        "JFK  &  LHR  &    1000  &   84.38  &  8.44  &   61.86  &  73.31  &  0.69 \\\\\n",
        "LAX  &  LAS  &     212  &   13.12  &  6.18  &    4.98  &  37.98  &  0.36 \\\\\n",
        "LAX  &  SFO  &     222  &   24.60  &  11.10  &   18.80  &  76.42  &  0.49 \\\\\n",
        "LHR  &  AMS  &     242  &    4.78  &  1.98  &    0.32  &  6.71  &  0.38 \\\\\n",
        "LHR  &  JFK  &     864  &   56.70  &  6.56  &   46.60  &  82.20  &  0.59 \\\\\n",
        "LHR  &  LAX  &    1286  &  151.41  &  11.77  &  128.02  &  84.55  &  0.54 \\\\\n",
        "LHR  &  MAD  &     282  &    5.29  &  1.87  &   -1.47  &  -27.83  &  0.21 \\\\\n",
        "ORD  &  BOS  &     249  &   22.65  &  9.09  &    9.42  &  41.59  &  0.31 \\\\\n",
        "ORD  &  LGA  &     273  &   15.05  &  5.51  &    5.82  &  38.68  &  0.38 \\\\\n",
        "\n"
       ]
      }
     ],
     "prompt_number": 378
    },
    {
     "cell_type": "heading",
     "level": 3,
     "metadata": {},
     "source": [
      "Monte Carlo"
     ]
    },
    {
     "cell_type": "code",
     "collapsed": false,
     "input": [
      "def MonteCarlo(hp, cp, m, N=100000):\n",
      "    \"\"\"\n",
      "    return Monte Carlo estimation\n",
      "    \n",
      "    hp: historical prices\n",
      "    cp: current prices (not used)\n",
      "    m: maturity\n",
      "    N: number of trials\n",
      "    \"\"\"\n",
      "    dRet = hp.T.shift(1).T/hp\n",
      "    \n",
      "    expIncr = np.zeros(hp.shape[1])\n",
      "    \n",
      "    for dbb in xrange(m, hp.shape[1]):\n",
      "        simRet = np.ones(N)\n",
      "        for i in range(m):\n",
      "            simRet *= np.random.choice(dRet.ix[:, dbb - i], N)\n",
      "        expIncr[dbb] = simRet.mean()\n",
      "\n",
      "    return np.vstack([expIncr-1]*cp.shape[0])*cp"
     ],
     "language": "python",
     "metadata": {},
     "outputs": [],
     "prompt_number": 379
    },
    {
     "cell_type": "code",
     "collapsed": false,
     "input": [
      "#print run_singleSimulation('DFW', 'SFO', MonteCarlo, get_customerWTP, allKnowing=False)\n",
      "mc_results = run_allSimulation(MonteCarlo, get_customerWTP, allKnowing=False, p_fRange=[.8]) #np.arange(0.1, 1, 0.05))"
     ],
     "language": "python",
     "metadata": {},
     "outputs": [
      {
       "output_type": "stream",
       "stream": "stdout",
       "text": [
        "[01/22] AMS > CDG... "
       ]
      },
      {
       "output_type": "stream",
       "stream": "stdout",
       "text": [
        "done\n",
        "[02/22] AMS > DXB... "
       ]
      },
      {
       "output_type": "stream",
       "stream": "stdout",
       "text": [
        "done\n",
        "[03/22] AMS > JFK... "
       ]
      },
      {
       "output_type": "stream",
       "stream": "stdout",
       "text": [
        "done\n",
        "[04/22] AMS > LHR... "
       ]
      },
      {
       "output_type": "stream",
       "stream": "stdout",
       "text": [
        "done\n",
        "[05/22] ATL > LAX... "
       ]
      },
      {
       "output_type": "stream",
       "stream": "stdout",
       "text": [
        "done\n",
        "[06/22] ATL > MCO... "
       ]
      },
      {
       "output_type": "stream",
       "stream": "stdout",
       "text": [
        "done\n",
        "[07/22] CDG > AMS... "
       ]
      },
      {
       "output_type": "stream",
       "stream": "stdout",
       "text": [
        "done\n",
        "[08/22] CDG > LHR... "
       ]
      },
      {
       "output_type": "stream",
       "stream": "stdout",
       "text": [
        "done\n",
        "[09/22] DEN > FLL... "
       ]
      },
      {
       "output_type": "stream",
       "stream": "stdout",
       "text": [
        "done\n",
        "[10/22] DEN > PHX... "
       ]
      },
      {
       "output_type": "stream",
       "stream": "stdout",
       "text": [
        "done\n",
        "[11/22] DFW > LAX... "
       ]
      },
      {
       "output_type": "stream",
       "stream": "stdout",
       "text": [
        "done\n",
        "[12/22] DFW > SFO... "
       ]
      },
      {
       "output_type": "stream",
       "stream": "stdout",
       "text": [
        "done\n",
        "[13/22] JFK > CDG... "
       ]
      },
      {
       "output_type": "stream",
       "stream": "stdout",
       "text": [
        "done\n",
        "[14/22] JFK > LHR... "
       ]
      },
      {
       "output_type": "stream",
       "stream": "stdout",
       "text": [
        "done\n",
        "[15/22] LAX > LAS... "
       ]
      },
      {
       "output_type": "stream",
       "stream": "stdout",
       "text": [
        "done\n",
        "[16/22] LAX > SFO... "
       ]
      },
      {
       "output_type": "stream",
       "stream": "stdout",
       "text": [
        "done\n",
        "[17/22] LHR > AMS... "
       ]
      },
      {
       "output_type": "stream",
       "stream": "stdout",
       "text": [
        "done\n",
        "[18/22] LHR > JFK... "
       ]
      },
      {
       "output_type": "stream",
       "stream": "stdout",
       "text": [
        "done\n",
        "[19/22] LHR > LAX... "
       ]
      },
      {
       "output_type": "stream",
       "stream": "stdout",
       "text": [
        "done\n",
        "[20/22] LHR > MAD... "
       ]
      },
      {
       "output_type": "stream",
       "stream": "stdout",
       "text": [
        "done\n",
        "[21/22] ORD > BOS... "
       ]
      },
      {
       "output_type": "stream",
       "stream": "stdout",
       "text": [
        "done\n",
        "[22/22] ORD > LGA... "
       ]
      },
      {
       "output_type": "stream",
       "stream": "stdout",
       "text": [
        "done\n",
        "\n"
       ]
      }
     ],
     "prompt_number": 385
    },
    {
     "cell_type": "code",
     "collapsed": false,
     "input": [
      "print get_priceTableSegment(mc_results)"
     ],
     "language": "python",
     "metadata": {},
     "outputs": [
      {
       "output_type": "stream",
       "stream": "stdout",
       "text": [
        "AMS  &  CDG  &     226  &   13.64  &   6.03  &   -1.86  &  -13.64  &  97.44 \\\\\n",
        "AMS  &  DXB  &     591  &    2.74  &   0.46  &  -13.73  &  -501.42  &  84.62 \\\\\n",
        "AMS  &  JFK  &     852  &   28.26  &   3.32  &  -24.26  &  -85.85  &  92.31 \\\\\n",
        "AMS  &  LHR  &     259  &   10.77  &   4.16  &   -0.58  &  -5.41  &  100.00 \\\\\n",
        "ATL  &  LAX  &     394  &   16.21  &   4.12  &   -0.49  &  -3.00  &  92.31 \\\\\n",
        "ATL  &  MCO  &     252  &   14.45  &   5.74  &    0.19  &   1.32  &  89.74 \\\\\n",
        "CDG  &  AMS  &     240  &   14.10  &   5.88  &   -1.28  &  -9.05  &  100.00 \\\\\n",
        "CDG  &  LHR  &     221  &    7.59  &   3.43  &   -4.00  &  -52.72  &  100.00 \\\\\n",
        "DEN  &  FLL  &     182  &    3.57  &   1.96  &   -2.12  &  -59.44  &  87.18 \\\\\n",
        "DEN  &  PHX  &     189  &    7.45  &   3.94  &   -0.58  &  -7.84  &  92.31 \\\\\n",
        "DFW  &  LAX  &     313  &    9.10  &   2.91  &   -2.87  &  -31.52  &  76.92 \\\\\n",
        "DFW  &  SFO  &     388  &   12.18  &   3.14  &  -12.31  &  -101.06  &  82.05 \\\\\n",
        "JFK  &  CDG  &    2637  &  127.06  &   4.82  &   65.12  &  51.25  &  92.31 \\\\\n",
        "JFK  &  LHR  &    1000  &   99.64  &   9.97  &   79.22  &  79.51  &  82.05 \\\\\n",
        "LAX  &  LAS  &     212  &    9.86  &   4.65  &   -2.96  &  -30.03  &  92.31 \\\\\n",
        "LAX  &  SFO  &     222  &   12.90  &   5.82  &   -1.41  &  -10.93  &  76.92 \\\\\n",
        "LHR  &  AMS  &     242  &   10.48  &   4.33  &   -0.04  &  -0.41  &  100.00 \\\\\n",
        "LHR  &  JFK  &     864  &   89.44  &  10.35  &   64.73  &  72.38  &  97.44 \\\\\n",
        "LHR  &  LAX  &    1286  &  100.91  &   7.84  &   70.21  &  69.58  &  71.79 \\\\\n",
        "LHR  &  MAD  &     282  &    8.41  &   2.98  &   -4.16  &  -49.48  &  100.00 \\\\\n",
        "ORD  &  BOS  &     249  &    9.02  &   3.62  &   -1.85  &  -20.51  &  84.62 \\\\\n",
        "ORD  &  LGA  &     273  &   13.18  &   4.83  &    1.70  &  12.92  &  92.31 \\\\\n",
        "\n"
       ]
      }
     ],
     "prompt_number": 386
    },
    {
     "cell_type": "code",
     "collapsed": false,
     "input": [
      "print get_priceTableSegment(mc_results)"
     ],
     "language": "python",
     "metadata": {},
     "outputs": [
      {
       "output_type": "stream",
       "stream": "stdout",
       "text": [
        "AMS  &  CDG  &     226  &   13.64  &   6.03  &   -1.86  &  -13.64  &   97.44 \\\\\n",
        "AMS  &  DXB  &     591  &    2.74  &   0.46  &  -13.73  &  -501.42  &   84.62 \\\\\n",
        "AMS  &  JFK  &     852  &   28.26  &   3.32  &  -24.26  &  -85.85  &   92.31 \\\\\n",
        "AMS  &  LHR  &     259  &   10.77  &   4.16  &   -0.58  &   -5.41  &  100.00 \\\\\n",
        "ATL  &  LAX  &     394  &   16.21  &   4.12  &   -0.49  &   -3.00  &   92.31 \\\\\n",
        "ATL  &  MCO  &     252  &   14.45  &   5.74  &    0.19  &    1.32  &   89.74 \\\\\n",
        "CDG  &  AMS  &     240  &   14.10  &   5.88  &   -1.28  &   -9.05  &  100.00 \\\\\n",
        "CDG  &  LHR  &     221  &    7.59  &   3.43  &   -4.00  &  -52.72  &  100.00 \\\\\n",
        "DEN  &  FLL  &     182  &    3.57  &   1.96  &   -2.12  &  -59.44  &   87.18 \\\\\n",
        "DEN  &  PHX  &     189  &    7.45  &   3.94  &   -0.58  &   -7.84  &   92.31 \\\\\n",
        "DFW  &  LAX  &     313  &    9.10  &   2.91  &   -2.87  &  -31.52  &   76.92 \\\\\n",
        "DFW  &  SFO  &     388  &   12.18  &   3.14  &  -12.31  &  -101.06  &   82.05 \\\\\n",
        "JFK  &  CDG  &    2637  &  127.06  &   4.82  &   65.12  &   51.25  &   92.31 \\\\\n",
        "JFK  &  LHR  &    1000  &   99.64  &   9.97  &   79.22  &   79.51  &   82.05 \\\\\n",
        "LAX  &  LAS  &     212  &    9.86  &   4.65  &   -2.96  &  -30.03  &   92.31 \\\\\n",
        "LAX  &  SFO  &     222  &   12.90  &   5.82  &   -1.41  &  -10.93  &   76.92 \\\\\n",
        "LHR  &  AMS  &     242  &   10.48  &   4.33  &   -0.04  &   -0.41  &  100.00 \\\\\n",
        "LHR  &  JFK  &     864  &   89.44  &  10.35  &   64.73  &   72.38  &   97.44 \\\\\n",
        "LHR  &  LAX  &    1286  &  100.91  &   7.84  &   70.21  &   69.58  &   71.79 \\\\\n",
        "LHR  &  MAD  &     282  &    8.41  &   2.98  &   -4.16  &  -49.48  &  100.00 \\\\\n",
        "ORD  &  BOS  &     249  &    9.02  &   3.62  &   -1.85  &  -20.51  &   84.62 \\\\\n",
        "ORD  &  LGA  &     273  &   13.18  &   4.83  &    1.70  &   12.92  &   92.31 \\\\\n",
        "\n"
       ]
      }
     ],
     "prompt_number": 388
    },
    {
     "cell_type": "heading",
     "level": 2,
     "metadata": {},
     "source": [
      "Descriptives"
     ]
    },
    {
     "cell_type": "code",
     "collapsed": false,
     "input": [
      "storage = h5py.File('storage/flightsTest.h5', 'r')\n",
      "\n",
      "total = 0\n",
      "totalSO = 0\n",
      "totalNA = 0\n",
      "\n",
      "for flyFrom in historical.keys():\n",
      "    for flyTo in historical[flyFrom].keys():\n",
      "        flights = historical[flyFrom][flyTo][:,1:43]\n",
      "        total += flights.shape[0]\n",
      "        totalSO += len(flights[:,0].nonzero()[0])\n",
      "        totalNA += len(flights.nonzero()[0])\n",
      "        #print flyFrom, flyTo, flights.shape[0]\n",
      "\n",
      "print total\n",
      "print totalSO\n",
      "print totalNA"
     ],
     "language": "python",
     "metadata": {},
     "outputs": [
      {
       "output_type": "stream",
       "stream": "stdout",
       "text": [
        "321545\n",
        "199142\n",
        "8465033\n"
       ]
      }
     ],
     "prompt_number": 12
    },
    {
     "cell_type": "raw",
     "metadata": {},
     "source": [
      "test = 141117 flights\n",
      "test = 103920 NOT sold-out\n",
      "test = 4400920 datapoints\n",
      "\n",
      "train = 321545 flights\n",
      "train = 199142 NOT sold-out\n",
      "train = 8465033 datapoints"
     ]
    },
    {
     "cell_type": "code",
     "collapsed": false,
     "input": [
      "amsjfk = get_ticketPrices(storage, 'AMS', 'JFK')[0]\n",
      "\n",
      "print np.array(amsjfk.values[1,:5], dtype=np.uint32)\n",
      "print np.array(amsjfk.values[2,:5], dtype=np.uint32)\n",
      "print np.array(amsjfk.values[3,:5], dtype=np.uint32)\n",
      "print np.array(amsjfk.values[21,:5], dtype=np.uint32)\n",
      "print np.array(amsjfk.values[251,:5], dtype=np.uint32)"
     ],
     "language": "python",
     "metadata": {},
     "outputs": [
      {
       "output_type": "stream",
       "stream": "stdout",
       "text": [
        "[ 57469  68619 122469 222469 109644]\n",
        "[87119 87369 93019 84469 79469]\n",
        "[87494 86694 94744 74569 70244]\n",
        "[410951 134430 242480 108934 126369]\n",
        "[147405 141980 155569 220569 273369]\n"
       ]
      }
     ],
     "prompt_number": 8
    },
    {
     "cell_type": "heading",
     "level": 4,
     "metadata": {},
     "source": [
      "Forecasting accuracy customer (MAPE)"
     ]
    },
    {
     "cell_type": "code",
     "collapsed": false,
     "input": [
      "m = 3\n",
      "MAPE = []\n",
      "for flyFrom in storage.keys():\n",
      "    for flyTo in storage[flyFrom].keys():\n",
      "        hp = get_ticketPrices(historical, flyFrom, flyTo)[0]\n",
      "        cp = get_ticketPrices(storage, flyFrom, flyTo)[0]\n",
      "        hpM = hp.T.shift(m).T\n",
      "        retM = hpM/hp\n",
      "        V = retM.mean()\n",
      "        MAPE.append((np.absolute((cp*V)-cp.T.shift(m).T)/cp).mean().mean())\n",
      "        print flyFrom, flyTo, (np.absolute((cp*V)-cp.T.shift(m).T)/cp).mean().mean()"
     ],
     "language": "python",
     "metadata": {},
     "outputs": [
      {
       "output_type": "stream",
       "stream": "stdout",
       "text": [
        "AMS CDG 0.105585396235\n",
        "AMS DXB 0.0860761076545\n",
        "AMS JFK 0.0940508817508\n",
        "AMS"
       ]
      },
      {
       "output_type": "stream",
       "stream": "stdout",
       "text": [
        " LHR 0.067431572788\n",
        "ATL LAX 0.0660724103959\n",
        "ATL"
       ]
      },
      {
       "output_type": "stream",
       "stream": "stdout",
       "text": [
        " MCO 0.106779406894\n",
        "CDG"
       ]
      },
      {
       "output_type": "stream",
       "stream": "stdout",
       "text": [
        " AMS 0.0940928360659\n",
        "CDG LHR 0.0939240991791\n",
        "DEN FLL 0.112094773743\n",
        "DEN PHX 0.0795151049525\n",
        "DFW"
       ]
      },
      {
       "output_type": "stream",
       "stream": "stdout",
       "text": [
        " LAX 0.087286842316\n",
        "DFW"
       ]
      },
      {
       "output_type": "stream",
       "stream": "stdout",
       "text": [
        " SFO 0.126311072115\n",
        "JFK CDG 0.0908545658214\n",
        "JFK"
       ]
      },
      {
       "output_type": "stream",
       "stream": "stdout",
       "text": [
        " LHR 0.119052537768\n",
        "LAX"
       ]
      },
      {
       "output_type": "stream",
       "stream": "stdout",
       "text": [
        " LAS 0.13018980921\n",
        "LAX"
       ]
      },
      {
       "output_type": "stream",
       "stream": "stdout",
       "text": [
        " SFO 0.168880965097\n",
        "LHR"
       ]
      },
      {
       "output_type": "stream",
       "stream": "stdout",
       "text": [
        " AMS 0.0659172380937\n",
        "LHR"
       ]
      },
      {
       "output_type": "stream",
       "stream": "stdout",
       "text": [
        " JFK 0.0979917375416\n",
        "LHR LAX 0.143606027496\n",
        "LHR"
       ]
      },
      {
       "output_type": "stream",
       "stream": "stdout",
       "text": [
        " MAD 0.0670783785222\n",
        "ORD"
       ]
      },
      {
       "output_type": "stream",
       "stream": "stdout",
       "text": [
        " BOS 0.113351962667\n",
        "ORD"
       ]
      },
      {
       "output_type": "stream",
       "stream": "stdout",
       "text": [
        " LGA 0.0902622813497\n"
       ]
      }
     ],
     "prompt_number": 449
    },
    {
     "cell_type": "code",
     "collapsed": false,
     "input": [
      "print MAPE"
     ],
     "language": "python",
     "metadata": {},
     "outputs": [
      {
       "output_type": "stream",
       "stream": "stdout",
       "text": [
        "[0.10558539623540956, 0.086076107654477776, 0.094050881750843973, 0.067431572787993846, 0.066072410395871792, 0.10677940689440486, 0.094092836065937435, 0.093924099179085424, 0.11209477374347618, 0.079515104952515819, 0.087286842315967825, 0.12631107211457476, 0.090854565821371844, 0.11905253776796848, 0.13018980920975146, 0.1688809650971918, 0.065917238093670491, 0.097991737541627932, 0.14360602749648238, 0.067078378522190688, 0.11335196266665025, 0.09026228134970625]\n"
       ]
      }
     ],
     "prompt_number": 452
    },
    {
     "cell_type": "code",
     "collapsed": false,
     "input": [
      "op = []\n",
      "\n",
      "for i in range(len(ak_results)):\n",
      "    op.append(ak_results[i]['optionPrice']/100)\n",
      "plot(op)"
     ],
     "language": "python",
     "metadata": {},
     "outputs": [
      {
       "output_type": "stream",
       "stream": "stdout",
       "text": [
        "[0.042334752578955782, 0.081077545052953462, 0.12236956666144422, 0.15951883250425536, 0.19178796837586798, 0.20821848262420786, 0.23115699341333976, 0.25092755671754197, 0.26850274607019942, 0.28809499747225525, 0.30933849448271949, 0.32779587801239674, 0.34875735884751996, 0.36474509140198591, 0.38011401030304187, 0.39462109307388177, 0.40941663050963717, 0.42011960697959078, 0.42846192358720786, 0.43834873045341771, 0.45121416110590523]\n"
       ]
      }
     ],
     "prompt_number": 482
    },
    {
     "cell_type": "code",
     "collapsed": false,
     "input": [],
     "language": "python",
     "metadata": {},
     "outputs": [
      {
       "metadata": {},
       "output_type": "pyout",
       "prompt_number": 483,
       "text": [
        "[<matplotlib.lines.Line2D at 0x136bbad0>]"
       ]
      },
      {
       "metadata": {},
       "output_type": "display_data",
       "png": "[encoded data removed]",
       "text": [
        "<matplotlib.figure.Figure at 0x13b4dc50>"
       ]
      }
     ],
     "prompt_number": 483
    },
    {
     "cell_type": "code",
     "collapsed": false,
     "input": [
      "stats.pearsonr(op, MAPE)"
     ],
     "language": "python",
     "metadata": {},
     "outputs": [
      {
       "metadata": {},
       "output_type": "pyout",
       "prompt_number": 457,
       "text": [
        "(0.76267177096915573, 3.6778785258352171e-05)"
       ]
      }
     ],
     "prompt_number": 457
    },
    {
     "cell_type": "code",
     "collapsed": false,
     "input": [
      "scatter(op, MAPE)"
     ],
     "language": "python",
     "metadata": {},
     "outputs": [
      {
       "metadata": {},
       "output_type": "pyout",
       "prompt_number": 453,
       "text": [
        "<matplotlib.collections.PathCollection at 0x10702210>"
       ]
      },
      {
       "metadata": {},
       "output_type": "display_data",
       "png": "[encoded data removed]",
       "text": [
        "<matplotlib.figure.Figure at 0x4915b50>"
       ]
      }
     ],
     "prompt_number": 453
    },
    {
     "cell_type": "heading",
     "level": 4,
     "metadata": {},
     "source": [
      "Forecastin accuracy seller (BS)"
     ]
    },
    {
     "cell_type": "code",
     "collapsed": false,
     "input": [
      "m = 3\n",
      "\n",
      "for flyFrom in storage.keys():\n",
      "    for flyTo in storage[flyFrom].keys():\n",
      "        hp = get_ticketPrices(historical, flyFrom, flyTo)[0]\n",
      "        cp = get_ticketPrices(storage, flyFrom, flyTo)[0]\n",
      "        bs = BlackScholes(hp, cp, 3)\n",
      "        bs.ix[:,:2] = np.nan\n",
      "        print flyFrom, flyTo, (np.absolute((cp+bs)-cp.T.shift(m).T)/cp).mean().mean()"
     ],
     "language": "python",
     "metadata": {},
     "outputs": [
      {
       "ename": "NameError",
       "evalue": "name 'BlackScholes' is not defined",
       "output_type": "pyerr",
       "traceback": [
        "\u001b[1;31m---------------------------------------------------------------------------\u001b[0m\n\u001b[1;31mNameError\u001b[0m                                 Traceback (most recent call last)",
        "\u001b[1;32m<ipython-input-10-33f2310982dd>\u001b[0m in \u001b[0;36m<module>\u001b[1;34m()\u001b[0m\n\u001b[0;32m      5\u001b[0m         \u001b[0mhp\u001b[0m \u001b[1;33m=\u001b[0m \u001b[0mget_ticketPrices\u001b[0m\u001b[1;33m(\u001b[0m\u001b[0mhistorical\u001b[0m\u001b[1;33m,\u001b[0m \u001b[0mflyFrom\u001b[0m\u001b[1;33m,\u001b[0m \u001b[0mflyTo\u001b[0m\u001b[1;33m)\u001b[0m\u001b[1;33m[\u001b[0m\u001b[1;36m0\u001b[0m\u001b[1;33m]\u001b[0m\u001b[1;33m\u001b[0m\u001b[0m\n\u001b[0;32m      6\u001b[0m         \u001b[0mcp\u001b[0m \u001b[1;33m=\u001b[0m \u001b[0mget_ticketPrices\u001b[0m\u001b[1;33m(\u001b[0m\u001b[0mstorage\u001b[0m\u001b[1;33m,\u001b[0m \u001b[0mflyFrom\u001b[0m\u001b[1;33m,\u001b[0m \u001b[0mflyTo\u001b[0m\u001b[1;33m)\u001b[0m\u001b[1;33m[\u001b[0m\u001b[1;36m0\u001b[0m\u001b[1;33m]\u001b[0m\u001b[1;33m\u001b[0m\u001b[0m\n\u001b[1;32m----> 7\u001b[1;33m         \u001b[0mbs\u001b[0m \u001b[1;33m=\u001b[0m \u001b[0mBlackScholes\u001b[0m\u001b[1;33m(\u001b[0m\u001b[0mhp\u001b[0m\u001b[1;33m,\u001b[0m \u001b[0mcp\u001b[0m\u001b[1;33m,\u001b[0m \u001b[1;36m3\u001b[0m\u001b[1;33m)\u001b[0m\u001b[1;33m\u001b[0m\u001b[0m\n\u001b[0m\u001b[0;32m      8\u001b[0m         \u001b[0mbs\u001b[0m\u001b[1;33m.\u001b[0m\u001b[0mix\u001b[0m\u001b[1;33m[\u001b[0m\u001b[1;33m:\u001b[0m\u001b[1;33m,\u001b[0m\u001b[1;33m:\u001b[0m\u001b[1;36m2\u001b[0m\u001b[1;33m]\u001b[0m \u001b[1;33m=\u001b[0m \u001b[0mnp\u001b[0m\u001b[1;33m.\u001b[0m\u001b[0mnan\u001b[0m\u001b[1;33m\u001b[0m\u001b[0m\n\u001b[0;32m      9\u001b[0m         \u001b[1;32mprint\u001b[0m \u001b[0mflyFrom\u001b[0m\u001b[1;33m,\u001b[0m \u001b[0mflyTo\u001b[0m\u001b[1;33m,\u001b[0m \u001b[1;33m(\u001b[0m\u001b[0mnp\u001b[0m\u001b[1;33m.\u001b[0m\u001b[0mabsolute\u001b[0m\u001b[1;33m(\u001b[0m\u001b[1;33m(\u001b[0m\u001b[0mcp\u001b[0m\u001b[1;33m+\u001b[0m\u001b[0mbs\u001b[0m\u001b[1;33m)\u001b[0m\u001b[1;33m-\u001b[0m\u001b[0mcp\u001b[0m\u001b[1;33m.\u001b[0m\u001b[0mT\u001b[0m\u001b[1;33m.\u001b[0m\u001b[0mshift\u001b[0m\u001b[1;33m(\u001b[0m\u001b[0mm\u001b[0m\u001b[1;33m)\u001b[0m\u001b[1;33m.\u001b[0m\u001b[0mT\u001b[0m\u001b[1;33m)\u001b[0m\u001b[1;33m/\u001b[0m\u001b[0mcp\u001b[0m\u001b[1;33m)\u001b[0m\u001b[1;33m.\u001b[0m\u001b[0mmean\u001b[0m\u001b[1;33m(\u001b[0m\u001b[1;33m)\u001b[0m\u001b[1;33m.\u001b[0m\u001b[0mmean\u001b[0m\u001b[1;33m(\u001b[0m\u001b[1;33m)\u001b[0m\u001b[1;33m\u001b[0m\u001b[0m\n",
        "\u001b[1;31mNameError\u001b[0m: name 'BlackScholes' is not defined"
       ]
      }
     ],
     "prompt_number": 10
    },
    {
     "cell_type": "heading",
     "level": 4,
     "metadata": {},
     "source": [
      "Forecasting accuracy seller (MC)"
     ]
    },
    {
     "cell_type": "code",
     "collapsed": false,
     "input": [
      "m = 3\n",
      "ma\n",
      "for flyFrom in storage.keys():\n",
      "    for flyTo in storage[flyFrom].keys():\n",
      "        hp = get_ticketPrices(historical, flyFrom, flyTo)[0]\n",
      "        cp = get_ticketPrices(storage, flyFrom, flyTo)[0]\n",
      "        mc = MonteCarlo(hp, cp, 3)\n",
      "        mc.ix[:,:2] = np.nan\n",
      "        print flyFrom, flyTo, (np.absolute((cp+mc)-cp.T.shift(m).T)/cp).mean().mean()"
     ],
     "language": "python",
     "metadata": {},
     "outputs": [
      {
       "output_type": "stream",
       "stream": "stdout",
       "text": [
        "AMS CDG 0.105988229447\n",
        "AMS"
       ]
      },
      {
       "output_type": "stream",
       "stream": "stdout",
       "text": [
        " DXB 0.086378873793\n",
        "AMS"
       ]
      },
      {
       "output_type": "stream",
       "stream": "stdout",
       "text": [
        " JFK 0.0940898052353\n",
        "AMS"
       ]
      },
      {
       "output_type": "stream",
       "stream": "stdout",
       "text": [
        " LHR 0.0675399636478\n",
        "ATL"
       ]
      },
      {
       "output_type": "stream",
       "stream": "stdout",
       "text": [
        " LAX 0.0665629943626\n",
        "ATL"
       ]
      },
      {
       "output_type": "stream",
       "stream": "stdout",
       "text": [
        " MCO 0.107058907897\n",
        "CDG"
       ]
      },
      {
       "output_type": "stream",
       "stream": "stdout",
       "text": [
        " AMS 0.0945247814592\n",
        "CDG"
       ]
      },
      {
       "output_type": "stream",
       "stream": "stdout",
       "text": [
        " LHR 0.0943601328421\n",
        "DEN"
       ]
      },
      {
       "output_type": "stream",
       "stream": "stdout",
       "text": [
        " FLL 0.113646946847\n",
        "DEN"
       ]
      },
      {
       "output_type": "stream",
       "stream": "stdout",
       "text": [
        " PHX 0.0797136510863\n",
        "DFW"
       ]
      },
      {
       "output_type": "stream",
       "stream": "stdout",
       "text": [
        " LAX 0.0880894022774\n",
        "DFW"
       ]
      },
      {
       "output_type": "stream",
       "stream": "stdout",
       "text": [
        " SFO 0.126788009585\n",
        "JFK"
       ]
      },
      {
       "output_type": "stream",
       "stream": "stdout",
       "text": [
        " CDG 0.0919325925277\n",
        "JFK"
       ]
      },
      {
       "output_type": "stream",
       "stream": "stdout",
       "text": [
        " LHR 0.123313332447\n",
        "LAX"
       ]
      },
      {
       "output_type": "stream",
       "stream": "stdout",
       "text": [
        " LAS 0.131047542195\n",
        "LAX"
       ]
      },
      {
       "output_type": "stream",
       "stream": "stdout",
       "text": [
        " SFO 0.170302254475\n",
        "LHR"
       ]
      },
      {
       "output_type": "stream",
       "stream": "stdout",
       "text": [
        " AMS 0.0660647420645\n",
        "LHR"
       ]
      },
      {
       "output_type": "stream",
       "stream": "stdout",
       "text": [
        " JFK 0.103877795489\n",
        "LHR"
       ]
      },
      {
       "output_type": "stream",
       "stream": "stdout",
       "text": [
        " LAX 0.158155408832\n",
        "LHR"
       ]
      },
      {
       "output_type": "stream",
       "stream": "stdout",
       "text": [
        " MAD 0.0671257650026\n",
        "ORD"
       ]
      },
      {
       "output_type": "stream",
       "stream": "stdout",
       "text": [
        " BOS 0.114427029976\n",
        "ORD"
       ]
      },
      {
       "output_type": "stream",
       "stream": "stdout",
       "text": [
        " LGA 0.0911148283851\n"
       ]
      }
     ],
     "prompt_number": 140
    },
    {
     "cell_type": "code",
     "collapsed": false,
     "input": [],
     "language": "python",
     "metadata": {},
     "outputs": [],
     "prompt_number": 395
    },
    {
     "cell_type": "heading",
     "level": 2,
     "metadata": {},
     "source": [
      "Convergence plot"
     ]
    },
    {
     "cell_type": "code",
     "collapsed": false,
     "input": [
      "a =  run_singleSimulation('ATL', 'LAX', get_sellerWTA_foreknowledge, get_customerWTP, allKnowing=True)"
     ],
     "language": "python",
     "metadata": {},
     "outputs": [],
     "prompt_number": 117
    },
    {
     "cell_type": "code",
     "collapsed": false,
     "input": [
      "conv = []\n",
      "for i in xrange(1, len(a)):\n",
      "    conv.append(int(mean(a[:i])))"
     ],
     "language": "python",
     "metadata": {},
     "outputs": [],
     "prompt_number": 118
    },
    {
     "cell_type": "code",
     "collapsed": false,
     "input": [
      "c2 = (np.array(conv)/np.mean(conv[-1]))*100"
     ],
     "language": "python",
     "metadata": {},
     "outputs": [],
     "prompt_number": 119
    },
    {
     "cell_type": "code",
     "collapsed": false,
     "input": [
      "c3 = (np.array(conv)/np.mean(conv[-1]))*100"
     ],
     "language": "python",
     "metadata": {},
     "outputs": [],
     "prompt_number": 112
    },
    {
     "cell_type": "code",
     "collapsed": false,
     "input": [
      "c4 = (np.array(conv)/np.mean(conv[-1]))*100"
     ],
     "language": "python",
     "metadata": {},
     "outputs": [],
     "prompt_number": 115
    },
    {
     "cell_type": "code",
     "collapsed": false,
     "input": [
      "plot(c2, label='ATL -> LAX')\n",
      "plot(c3, label='LHR -> JFK')\n",
      "plot(c4, label='AMS -> CDG')\n",
      "xlabel('number of trials (N)')\n",
      "ylabel('relative average (%)')\n",
      "ylim(99, 101)\n",
      "\n",
      "legend()\n",
      "savefig('/home/patrick/multiple.png', dpi=200)"
     ],
     "language": "python",
     "metadata": {},
     "outputs": [
      {
       "metadata": {},
       "output_type": "display_data",
       "png": "[encoded data removed]",
       "text": [
        "<matplotlib.figure.Figure at 0x831e810>"
       ]
      }
     ],
     "prompt_number": 122
    },
    {
     "cell_type": "heading",
     "level": 2,
     "metadata": {},
     "source": [
      "TMP"
     ]
    },
    {
     "cell_type": "code",
     "collapsed": false,
     "input": [
      "print 'All routes: \\n'\n",
      "for oa in storage.keys():\n",
      "    for ia in storage[oa].keys():\n",
      "        print oa + '  >  ' + ia"
     ],
     "language": "python",
     "metadata": {},
     "outputs": [
      {
       "output_type": "stream",
       "stream": "stdout",
       "text": [
        "All routes: \n",
        "\n",
        "AMS  >  CDG\n",
        "AMS  >  DXB\n",
        "AMS  >  JFK\n",
        "AMS  >  LHR\n",
        "ATL  >  LAX\n",
        "ATL  >  MCO\n",
        "CDG  >  AMS\n",
        "CDG  >  LHR\n",
        "DEN  >  FLL\n",
        "DEN  >  PHX\n",
        "DFW  >  LAX\n",
        "DFW  >  SFO\n",
        "JFK  >  CDG\n",
        "JFK  >  LHR\n",
        "LAX  >  LAS\n",
        "LAX  >  SFO\n",
        "LHR  >  AMS\n",
        "LHR  >  JFK\n",
        "LHR  >  LAX\n",
        "LHR  >  MAD\n",
        "ORD  >  BOS\n",
        "ORD  >  LGA\n"
       ]
      }
     ],
     "prompt_number": 25
    }
   ],
   "metadata": {}
  }
 ]
}