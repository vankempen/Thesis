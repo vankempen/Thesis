{
 "metadata": {
  "name": ""
 },
 "nbformat": 3,
 "nbformat_minor": 0,
 "worksheets": [
  {
   "cells": [
    {
     "cell_type": "heading",
     "level": 2,
     "metadata": {},
     "source": [
      "Imports"
     ]
    },
    {
     "cell_type": "code",
     "collapsed": false,
     "input": [
      "from __future__ import division\n",
      "\n",
      "import h5py\n",
      "import numpy as np\n",
      "import sympy\n",
      "import pandas as pd\n",
      "pd.set_option('display.max_rows', 500)\n",
      "pd.set_option('display.max_columns', 30)"
     ],
     "language": "python",
     "metadata": {},
     "outputs": [],
     "prompt_number": 2
    },
    {
     "cell_type": "code",
     "collapsed": false,
     "input": [
      "storage = h5py.File('storage/flightsTest.h5', 'r')\n",
      "\n",
      "total = 0\n",
      "totalSO = 0\n",
      "totalNA = 0\n",
      "\n",
      "for flyFrom in storage.keys():\n",
      "    for flyTo in storage[flyFrom].keys():\n",
      "        flights = storage[flyFrom][flyTo][:,1:43]\n",
      "        total += flights.shape[0]\n",
      "        totalSO += len(flights[:,0].nonzero()[0])\n",
      "        totalNA += len(flights.nonzero()[0])\n",
      "        #print flyFrom, flyTo, flights.shape[0]\n",
      "\n",
      "print total\n",
      "print totalSO\n",
      "print totalNA\n"
     ],
     "language": "python",
     "metadata": {},
     "outputs": [
      {
       "output_type": "stream",
       "stream": "stdout",
       "text": [
        "141117\n",
        "103920\n",
        "4400920\n"
       ]
      }
     ],
     "prompt_number": 42
    },
    {
     "cell_type": "raw",
     "metadata": {},
     "source": [
      "test = 141117 flights\n",
      "test = 103920 NOT sold-out\n",
      "test = 4400920 datapoints\n",
      "\n",
      "train = 321545 flights\n",
      "train = 199142 NOT sold-out\n",
      "train = 8465033 datapoints"
     ]
    },
    {
     "cell_type": "code",
     "collapsed": false,
     "input": [
      "storage = h5py.File('storage/flightsTest.h5', 'r')\n",
      "amsjfk, _ = get_ticketPrices('LHR', 'JFK')"
     ],
     "language": "python",
     "metadata": {},
     "outputs": [
      {
       "ename": "NameError",
       "evalue": "name 'get_ticketPrices' is not defined",
       "output_type": "pyerr",
       "traceback": [
        "\u001b[1;31m---------------------------------------------------------------------------\u001b[0m\n\u001b[1;31mNameError\u001b[0m                                 Traceback (most recent call last)",
        "\u001b[1;32m<ipython-input-3-5db94ed0b0b6>\u001b[0m in \u001b[0;36m<module>\u001b[1;34m()\u001b[0m\n\u001b[0;32m      1\u001b[0m \u001b[0mstorage\u001b[0m \u001b[1;33m=\u001b[0m \u001b[0mh5py\u001b[0m\u001b[1;33m.\u001b[0m\u001b[0mFile\u001b[0m\u001b[1;33m(\u001b[0m\u001b[1;34m'storage/flightsTest.h5'\u001b[0m\u001b[1;33m,\u001b[0m \u001b[1;34m'r'\u001b[0m\u001b[1;33m)\u001b[0m\u001b[1;33m\u001b[0m\u001b[0m\n\u001b[1;32m----> 2\u001b[1;33m \u001b[0mamsjfk\u001b[0m\u001b[1;33m,\u001b[0m \u001b[0m_\u001b[0m \u001b[1;33m=\u001b[0m \u001b[0mget_ticketPrices\u001b[0m\u001b[1;33m(\u001b[0m\u001b[1;34m'LHR'\u001b[0m\u001b[1;33m,\u001b[0m \u001b[1;34m'JFK'\u001b[0m\u001b[1;33m)\u001b[0m\u001b[1;33m\u001b[0m\u001b[0m\n\u001b[0m",
        "\u001b[1;31mNameError\u001b[0m: name 'get_ticketPrices' is not defined"
       ]
      }
     ],
     "prompt_number": 3
    },
    {
     "cell_type": "code",
     "collapsed": false,
     "input": [
      "amsjfk.shape"
     ],
     "language": "python",
     "metadata": {},
     "outputs": [
      {
       "metadata": {},
       "output_type": "pyout",
       "prompt_number": 23,
       "text": [
        "(7690, 42)"
       ]
      }
     ],
     "prompt_number": 23
    },
    {
     "cell_type": "code",
     "collapsed": false,
     "input": [
      "a = np.array(storage['AMS']['JFK'][:], dtype=float64)\n",
      "a[a == 0] = np.nan\n",
      "print a[:,0].mean()*3"
     ],
     "language": "python",
     "metadata": {},
     "outputs": [
      {
       "output_type": "stream",
       "stream": "stdout",
       "text": [
        "nan\n"
       ]
      }
     ],
     "prompt_number": 11
    },
    {
     "cell_type": "code",
     "collapsed": false,
     "input": [
      "print np.array(amsjfk.values[1:4,:5], dtype=np.uint32)\n",
      "print np.array(amsjfk.values[21,:5], dtype=np.uint32)\n",
      "print np.array(amsjfk.values[251,:5], dtype=np.uint32)"
     ],
     "language": "python",
     "metadata": {},
     "outputs": [
      {
       "output_type": "stream",
       "stream": "stdout",
       "text": [
        "[[ 57469  68619 122469 222469 109644]\n",
        " [ 87119  87369  93019  84469  79469]\n",
        " [ 87494  86694  94744  74569  70244]]\n",
        "[410951 134430 242480 108934 126369]\n",
        "[147405 141980 155569 220569 273369]\n"
       ]
      }
     ],
     "prompt_number": 21
    },
    {
     "cell_type": "code",
     "collapsed": false,
     "input": [
      "def get_ticketPrices(flyFrom, flyTo):\n",
      "    ticketPrices = pd.DataFrame(storage[flyFrom][flyTo][:,1:43], dtype=np.float64)\n",
      "    ticketPrices[ticketPrices == 0] = np.nan\n",
      "    ticketPrices = ticketPrices.dropna(thresh=int(42*2/3)).ffill(axis=1)\n",
      "    meanTicketPrice = int(ticketPrices.mean().mean()/100)\n",
      "    return ticketPrices.fillna(ticketPrices[0].mean()*3), meanTicketPrice\n",
      "\n",
      "\n",
      "# The parameter R for x=1 and markdown is between 1.00 and 1.49 => Rs[1+ (markup %/100)]\n",
      "Rs = [1000000000, 12.496666311036584, 6.243330486502654, 4.156657048524223, 3.111643834528778, 2.4832886546651745, 2.063255948942078, 1.7622577296977648, 1.5356488092930582, 1.3586252017993312, 1.21630347633149, 1.0992113649150326, 1.0010330590733996, 0.9173951312452584, 0.8451727678126469, 0.7820735007721652, 0.72637703142226, 0.6767668718147107, 0.632218095883475, 0.5919205269639431, 0.5552249575307869, 0.5216047221664799, 0.49062773690364747, 0.4619358176240307, 0.43522915239997745, 0.4102544824821221, 0.3867959911697954, 0.3646681962405325, 0.34371034293279795, 0.3237819336016499, 0.30475912803497585, 0.2865318186536202, 0.26900123654074615, 0.2520779837865172, 0.23568041961942612, 0.21973335580872078, 0.204167043719119, 0.1889164631635722, 0.17392095198121899, 0.15912424089741475, 0.14447496735003168, 0.12992770512360183, 0.11544441531556111, 0.10099595331805158, 0.08656290307799419, 0.07213485129383752, 0.057707804116745684, 0.043280851232438425, 0.028853900817779332, 0.014426950408889647]\n",
      "\n",
      "def get_sellerProfits(ticketPrices, maturity=3, p_f=0.5, r=10):\n",
      "    \"\"\"\n",
      "    maturity: days\n",
      "    p_f: likelihood of flying\n",
      "    \"\"\"\n",
      "\n",
      "    R = Rs[r]  # at a markup of 1.(r/100)\n",
      "    \n",
      "    # calculate customer's predictions combined with utility\n",
      "    pricesAtMaturity = ticketPrices.T.shift(maturity).T\n",
      "    returnsAtMaturity = pricesAtMaturity/ticketPrices\n",
      "    V = np.log(np.exp(returnsAtMaturity/R).mean())*R\n",
      "    \n",
      "    custBuy = (1 - p_f) * ticketPrices  # costs of buying the ticket now\n",
      "    custWait = p_f * (ticketPrices*V - ticketPrices)  # costs of waiting till maturity\n",
      "    custWTP = np.minimum(custBuy, custWait)  # maximum price customer is accepting\n",
      "    \n",
      "    sellerWTA = np.maximum(0, pricesAtMaturity - ticketPrices)  # minimum price seller is going accepting\n",
      "\n",
      "    sellerProfits = []\n",
      "    totalSold = 0\n",
      "    \n",
      "    for i in xrange(500):\n",
      "        custFlying = np.random.binomial(1, p_f, custWTP.shape)  # is the customer going to fly?\n",
      "    \n",
      "        #sellerWTA_min = sellerWTA * custFlying  # this is for the ALLKNOWING seller\n",
      "        #offerOption = custWTP.gt(sellerWTA_min)\n",
      "        offerOption = custWTP.gt(sellerWTA*p_f)\n",
      "        \n",
      "        totalSold += offerOption.sum().sum()\n",
      "        #sellerProfits.append(((custWTP - (pricesAtMaturity - ticketPrices))* custFlying * offerOption).sum().sum())\n",
      "        sellerProfits.append(((sellerWTA*p_f - (pricesAtMaturity - ticketPrices))* custFlying * offerOption).sum().sum())\n",
      "\n",
      "    return sellerProfits, totalSold"
     ],
     "language": "python",
     "metadata": {},
     "outputs": [],
     "prompt_number": 4
    },
    {
     "cell_type": "code",
     "collapsed": false,
     "input": [
      "# the emperical data\n",
      "storage = h5py.File('storage/flightsTest.h5', 'r')\n",
      "\n",
      "maturity = 3\n",
      "p_f = 0.5\n",
      "r = 10\n",
      "\n",
      "\n",
      "ticketPrices, meanTicketPrice = get_ticketPrices('AMS', 'JFK')\n",
      "\n",
      "means = []\n",
      "\n",
      "r = 10\n",
      "for maturity in [3]:\n",
      "    for p_f in np.arange(0.05, 1.05, 0.05):\n",
      "        sellerProfits, totalSold = get_sellerProfits(ticketPrices, maturity, p_f, r)\n",
      "        meanProfit = int(np.mean(sellerProfits)/100)\n",
      "        means.append(meanProfit/totalSold)\n",
      "plot(np.arange(0.05, 1.05, 0.05), means)\n",
      "\n",
      "def f():\n",
      "    for flyFrom in storage.keys():\n",
      "        for flyTo in storage[flyFrom].keys():\n",
      "            ticketPrices, meanTicketPrice = get_ticketPrices(flyFrom, flyTo)\n",
      "            sellerProfits, totalSold = get_sellerProfits(ticketPrices, maturity, p_f, r)\n",
      "            meanProfit = int(np.mean(sellerProfits)/100)\n",
      "            totalCustomers = ticketPrices.shape[0] * (ticketPrices.shape[1] - maturity)\n",
      "            \n",
      "            print flyFrom, flyTo\n",
      "            print meanProfit\n",
      "            print\n",
      "    \n",
      "            profitPerTicket = meanProfit / totalCustomers\n",
      "            print profitPerTicket\n",
      "            print profitPerTicket/meanTicketPrice\n",
      "            print\n",
      "    \n",
      "            profitPerTicketSold = int(np.sum(sellerProfits)/100) / totalSold\n",
      "            print profitPerTicketSold\n",
      "            print profitPerTicketSold/meanTicketPrice\n",
      "            print"
     ],
     "language": "python",
     "metadata": {},
     "outputs": [
      {
       "metadata": {},
       "output_type": "display_data",
       "png": "[encoded data removed]",
       "text": [
        "<matplotlib.figure.Figure at 0x44b7f90>"
       ]
      }
     ],
     "prompt_number": 8
    },
    {
     "cell_type": "code",
     "collapsed": false,
     "input": [
      "plot(np.arange(0.05, 1.05, 0.05), means)"
     ],
     "language": "python",
     "metadata": {},
     "outputs": [
      {
       "metadata": {},
       "output_type": "pyout",
       "prompt_number": 7,
       "text": [
        "[<matplotlib.lines.Line2D at 0x4547cd0>]"
       ]
      },
      {
       "metadata": {},
       "output_type": "display_data",
       "png": "[encoded data removed]",
       "text": [
        "<matplotlib.figure.Figure at 0x2b607d0>"
       ]
      }
     ],
     "prompt_number": 7
    },
    {
     "cell_type": "code",
     "collapsed": false,
     "input": [
      "xx = np.arange(0.05, 1, 0.05)\n",
      "plot(xx, means3, label='3')\n",
      "plot(xx, means7, label='7')\n",
      "plot(xx, means14, label='14')\n",
      "plot(xx, means3r20, label='3r20')\n",
      "plot(xx, means7r20, label='7r20')\n",
      "plot(xx, means14r20, label='14r20')\n",
      "legend(loc='upper left')"
     ],
     "language": "python",
     "metadata": {},
     "outputs": [
      {
       "ename": "NameError",
       "evalue": "name 'means3' is not defined",
       "output_type": "pyerr",
       "traceback": [
        "\u001b[1;31m---------------------------------------------------------------------------\u001b[0m\n\u001b[1;31mNameError\u001b[0m                                 Traceback (most recent call last)",
        "\u001b[1;32m<ipython-input-28-7c3d4ecbbd56>\u001b[0m in \u001b[0;36m<module>\u001b[1;34m()\u001b[0m\n\u001b[0;32m      1\u001b[0m \u001b[0mxx\u001b[0m \u001b[1;33m=\u001b[0m \u001b[0mnp\u001b[0m\u001b[1;33m.\u001b[0m\u001b[0marange\u001b[0m\u001b[1;33m(\u001b[0m\u001b[1;36m0.05\u001b[0m\u001b[1;33m,\u001b[0m \u001b[1;36m1\u001b[0m\u001b[1;33m,\u001b[0m \u001b[1;36m0.05\u001b[0m\u001b[1;33m)\u001b[0m\u001b[1;33m\u001b[0m\u001b[0m\n\u001b[1;32m----> 2\u001b[1;33m \u001b[0mplot\u001b[0m\u001b[1;33m(\u001b[0m\u001b[0mxx\u001b[0m\u001b[1;33m,\u001b[0m \u001b[0mmeans3\u001b[0m\u001b[1;33m,\u001b[0m \u001b[0mlabel\u001b[0m\u001b[1;33m=\u001b[0m\u001b[1;34m'3'\u001b[0m\u001b[1;33m)\u001b[0m\u001b[1;33m\u001b[0m\u001b[0m\n\u001b[0m\u001b[0;32m      3\u001b[0m \u001b[0mplot\u001b[0m\u001b[1;33m(\u001b[0m\u001b[0mxx\u001b[0m\u001b[1;33m,\u001b[0m \u001b[0mmeans7\u001b[0m\u001b[1;33m,\u001b[0m \u001b[0mlabel\u001b[0m\u001b[1;33m=\u001b[0m\u001b[1;34m'7'\u001b[0m\u001b[1;33m)\u001b[0m\u001b[1;33m\u001b[0m\u001b[0m\n\u001b[0;32m      4\u001b[0m \u001b[0mplot\u001b[0m\u001b[1;33m(\u001b[0m\u001b[0mxx\u001b[0m\u001b[1;33m,\u001b[0m \u001b[0mmeans14\u001b[0m\u001b[1;33m,\u001b[0m \u001b[0mlabel\u001b[0m\u001b[1;33m=\u001b[0m\u001b[1;34m'14'\u001b[0m\u001b[1;33m)\u001b[0m\u001b[1;33m\u001b[0m\u001b[0m\n\u001b[0;32m      5\u001b[0m \u001b[0mplot\u001b[0m\u001b[1;33m(\u001b[0m\u001b[0mxx\u001b[0m\u001b[1;33m,\u001b[0m \u001b[0mmeans3r20\u001b[0m\u001b[1;33m,\u001b[0m \u001b[0mlabel\u001b[0m\u001b[1;33m=\u001b[0m\u001b[1;34m'3r20'\u001b[0m\u001b[1;33m)\u001b[0m\u001b[1;33m\u001b[0m\u001b[0m\n",
        "\u001b[1;31mNameError\u001b[0m: name 'means3' is not defined"
       ]
      }
     ],
     "prompt_number": 28
    },
    {
     "cell_type": "code",
     "collapsed": false,
     "input": [
      "means3r20sp = means"
     ],
     "language": "python",
     "metadata": {},
     "outputs": [],
     "prompt_number": 29
    },
    {
     "cell_type": "code",
     "collapsed": false,
     "input": [
      "xx = np.arange(0.05, 1, 0.05)\n",
      "plot(xx, means3r20, label='3r20')\n",
      "plot(xx, means3r20nf, label='3r20nf')\n",
      "plot(xx, means3r20nfsp, label='3r20nfsp')\n",
      "plot(xx, means3r20sp, label='3r20sp')\n",
      "legend(loc='upper left')"
     ],
     "language": "python",
     "metadata": {},
     "outputs": [
      {
       "metadata": {},
       "output_type": "pyout",
       "prompt_number": 30,
       "text": [
        "<matplotlib.legend.Legend at 0x490ee10>"
       ]
      },
      {
       "metadata": {},
       "output_type": "display_data",
       "png": "[encoded data removed]",
       "text": [
        "<matplotlib.figure.Figure at 0x491f910>"
       ]
      }
     ],
     "prompt_number": 30
    },
    {
     "cell_type": "code",
     "collapsed": false,
     "input": [
      "#convergence to steady average (needed to determine N)\n",
      "conv = []\n",
      "\n",
      "for i in xrange(1, len(sellerProfits)):\n",
      "    conv.append(int(mean(sellerProfits[:i])/100))\n",
      "\n",
      "_ = plot(conv)\n",
      "print conv[-1]"
     ],
     "language": "python",
     "metadata": {},
     "outputs": [
      {
       "ename": "NameError",
       "evalue": "name 'sellerProfits' is not defined",
       "output_type": "pyerr",
       "traceback": [
        "\u001b[1;31m---------------------------------------------------------------------------\u001b[0m\n\u001b[1;31mNameError\u001b[0m                                 Traceback (most recent call last)",
        "\u001b[1;32m<ipython-input-11-4e9a7df8a2e7>\u001b[0m in \u001b[0;36m<module>\u001b[1;34m()\u001b[0m\n\u001b[0;32m      2\u001b[0m \u001b[0mconv\u001b[0m \u001b[1;33m=\u001b[0m \u001b[1;33m[\u001b[0m\u001b[1;33m]\u001b[0m\u001b[1;33m\u001b[0m\u001b[0m\n\u001b[0;32m      3\u001b[0m \u001b[1;33m\u001b[0m\u001b[0m\n\u001b[1;32m----> 4\u001b[1;33m \u001b[1;32mfor\u001b[0m \u001b[0mi\u001b[0m \u001b[1;32min\u001b[0m \u001b[0mxrange\u001b[0m\u001b[1;33m(\u001b[0m\u001b[1;36m1\u001b[0m\u001b[1;33m,\u001b[0m \u001b[0mlen\u001b[0m\u001b[1;33m(\u001b[0m\u001b[0msellerProfits\u001b[0m\u001b[1;33m)\u001b[0m\u001b[1;33m)\u001b[0m\u001b[1;33m:\u001b[0m\u001b[1;33m\u001b[0m\u001b[0m\n\u001b[0m\u001b[0;32m      5\u001b[0m     \u001b[0mconv\u001b[0m\u001b[1;33m.\u001b[0m\u001b[0mappend\u001b[0m\u001b[1;33m(\u001b[0m\u001b[0mint\u001b[0m\u001b[1;33m(\u001b[0m\u001b[0mmean\u001b[0m\u001b[1;33m(\u001b[0m\u001b[0msellerProfits\u001b[0m\u001b[1;33m[\u001b[0m\u001b[1;33m:\u001b[0m\u001b[0mi\u001b[0m\u001b[1;33m]\u001b[0m\u001b[1;33m)\u001b[0m\u001b[1;33m/\u001b[0m\u001b[1;36m100\u001b[0m\u001b[1;33m)\u001b[0m\u001b[1;33m)\u001b[0m\u001b[1;33m\u001b[0m\u001b[0m\n\u001b[0;32m      6\u001b[0m \u001b[1;33m\u001b[0m\u001b[0m\n",
        "\u001b[1;31mNameError\u001b[0m: name 'sellerProfits' is not defined"
       ]
      }
     ],
     "prompt_number": 11
    },
    {
     "cell_type": "heading",
     "level": 2,
     "metadata": {},
     "source": [
      "Flight"
     ]
    },
    {
     "cell_type": "code",
     "collapsed": false,
     "input": [
      "# the actual emperical data\n",
      "storage = h5py.File('storage/flightsTest.h5', 'r')\n",
      "\n",
      "flyFrom, flyTo = 'AMS', 'CDG'\n",
      "flightData = pd.DataFrame(storage[flyFrom][flyTo][:,:42], dtype=np.float64)\n",
      "flightData[flightData == 0] = np.nan\n",
      "flightData = flightData.dropna(thresh=int(42*2/3)).ffill(axis=1)\n",
      "\n",
      "\n",
      "class Flight():\n",
      "    def __init__(self, flightID, daysBeforeDeparture, m):\n",
      "        self.flightID = flightID\n",
      "        if daysBeforeDeparture < 1:\n",
      "            raise Exception('Days before departure < than 1!')\n",
      "        self.dbb = daysBeforeDeparture - 1 # days before departure when initial check of customer. -1 for datashift\n",
      "        self.maturity = m\n",
      "\n",
      "    def get_currentPrice(self):\n",
      "        \"\"\"\n",
      "        initial price at customer's first visit\n",
      "        \"\"\"\n",
      "        return flightData.irow(self.flightID)[self.dbb]\n",
      "\n",
      "    def get_priceAtMaturity(self):\n",
      "        \"\"\"\n",
      "        price at maturity (=days)\n",
      "        \"\"\"\n",
      "        if (self.dbb - self.maturity) < 0:  # cannot offer option\n",
      "            return None\n",
      "        return flightData.irow(self.flightID)[self.dbb-self.maturity]"
     ],
     "language": "python",
     "metadata": {},
     "outputs": [],
     "prompt_number": 29
    },
    {
     "cell_type": "heading",
     "level": 2,
     "metadata": {},
     "source": [
      "Passenger"
     ]
    },
    {
     "cell_type": "code",
     "collapsed": false,
     "input": [
      "class Passenger():\n",
      "    def __init__(self, flight, tl, fm, uf):\n",
      "        self.flight = flight # Flight of interest\n",
      "        \n",
      "        self.travelLikelihood = tl  # probability of flying\n",
      "        self.forecastMethod = fm  # forecasting method\n",
      "        self.utilityFunction = uf  # risk utility; e.g. U(c) = 1-e^-(x/riskUtility) or U(c) = x\n",
      "        \n",
      "        # whether the customer will actually buy the ticket at maturity. this is UNKOWN to the customer till actual maturity!\n",
      "        self.fly = self.willFly()\n",
      "        \n",
      "        \n",
      "    def willFly(self):\n",
      "        return (np.random.rand() < self.travelLikelihood)\n",
      "\n",
      "    def calc_buyOpp(self):\n",
      "        \"\"\"\n",
      "        calculate the price of buying the ticket immediately\n",
      "        \"\"\"\n",
      "        return (1-self.travelLikelihood) * self.flight.get_currentPrice()\n",
      "    \n",
      "    def calc_waitOpp(self):\n",
      "        \"\"\"\n",
      "        calculate the price of waiting to buy the ticket\n",
      "        \"\"\"\n",
      "        initPrice = self.flight.get_currentPrice()\n",
      "        expPrice = self.calc_expectedPrice()\n",
      "        return self.travelLikelihood * (expPrice - initPrice)\n",
      "\n",
      "    def calc_expectedPrice(self):\n",
      "        \"\"\"\n",
      "        calculate the expected price of ticket at maturity using forecasting method\n",
      "        \"\"\"\n",
      "        price = self.flight.get_currentPrice()\n",
      "        exps = self.forecastMethod.get_predictions(self.flight.dbb, price)\n",
      "        return self.utilityFunction.get_utility(price, exps)\n",
      "\n",
      "    def get_offer(self):\n",
      "        return min(self.calc_buyOpp(), self.calc_waitOpp())    "
     ],
     "language": "python",
     "metadata": {},
     "outputs": [],
     "prompt_number": 30
    },
    {
     "cell_type": "heading",
     "level": 4,
     "metadata": {},
     "source": [
      "Forecasting Method"
     ]
    },
    {
     "cell_type": "code",
     "collapsed": false,
     "input": [
      "class ForecastingMethod():\n",
      "    def __init__(self, data, maturitydate):\n",
      "        self.maturityReturns = data.T.shift(maturitydate).T/data  # data containing relative returns for maturity\n",
      "\n",
      "    def get_predictions(self, dbb, price):\n",
      "        \"\"\"\n",
      "        return a list of expectations [(percentageIncOrDescr, probability), ...]\n",
      "        dbb: days before departure\n",
      "        \"\"\"\n",
      "        prob = 1/self.maturityReturns.shape[0]\n",
      "        return [(x, prob) for x in self.maturityReturns[dbb]*price]"
     ],
     "language": "python",
     "metadata": {},
     "outputs": [],
     "prompt_number": 31
    },
    {
     "cell_type": "heading",
     "level": 4,
     "metadata": {},
     "source": [
      "Utility Function"
     ]
    },
    {
     "cell_type": "code",
     "collapsed": false,
     "input": [
      "class UtilityFunction():\n",
      "    def __init__(self, U, Ur, mu):\n",
      "        self.U = U  # the utility function U(c, R)\n",
      "        self.Ur = Ur  # the reverse of utility function U'(util, R)\n",
      "        self.markup = mu  # how much more (%) the passenger is willing to pay for steady fare\n",
      "\n",
      "    def get_utility(self, price, expectations):\n",
      "        \"\"\"\n",
      "        return utility of expectations (list of pairs: (price, probability)). First, R is calculated with current price and markdown\n",
      "        \"\"\"\n",
      "        R = self.calc_R(price)\n",
      "        util = 0\n",
      "        p = 0\n",
      "        for pair in expectations:\n",
      "            p += pair[1]\n",
      "            util += self.U(pair[0], R) * pair[1]\n",
      "        return self.Ur(util, R)\n",
      "\n",
      "    def calc_R(self, x):\n",
      "        \"\"\"\n",
      "        calculate R for utility function\n",
      "        markdown: markdown percentage of price\n",
      "        \"\"\"\n",
      "        R = sympy.Symbol('R')\n",
      "        solveR = -R*sympy.ln(0.5*sympy.exp(0.5*x/R) + 0.5*sympy.exp(1.5*x/R))+self.markup*x\n",
      "        sol = sympy.nsolve([solveR], [R], [1])\n",
      "        return float(sol[0])\n",
      "\n",
      "\n",
      "# example risk utility functions\n",
      "risk_expAverse = lambda x, R: np.exp(x/R)\n",
      "risk_expAverseInv = lambda x, R: np.log(x)*R\n",
      "\n",
      "risk_neutral = lambda x, R: x\n",
      "risk_neutralInv = lambda x, R: x"
     ],
     "language": "python",
     "metadata": {},
     "outputs": [],
     "prompt_number": 32
    },
    {
     "cell_type": "heading",
     "level": 2,
     "metadata": {},
     "source": [
      "Seller"
     ]
    },
    {
     "cell_type": "code",
     "collapsed": false,
     "input": [
      "class Seller(object):\n",
      "    def __init__(self):\n",
      "        self.revenues = 0\n",
      "        self.profitsExp = 0  # expected profit\n",
      "        self.profits = 0\n",
      "    \n",
      "    def add_revenues(self, rev):\n",
      "        self.revenues += rev\n",
      "    \n",
      "    def add_profitsExp(self, p):\n",
      "        self.profitsExp += p\n",
      "    \n",
      "    def add_profits(self, p):\n",
      "        self.profits += p\n",
      "\n",
      "class SellerAllKnowing(Seller):\n",
      "    def offer_option(self, person):\n",
      "        minPrice = max(person.flight.get_priceAtMaturity() - person.flight.get_currentPrice(), 0) * person.fly\n",
      "        maxPrice = person.get_offer()\n",
      "        \n",
      "        if maxPrice >= minPrice:\n",
      "            # passenger buys option\n",
      "            self.add_revenues(maxPrice)\n",
      "            self.add_profitsExp(maxPrice)\n",
      "            self.add_profits(maxPrice)"
     ],
     "language": "python",
     "metadata": {},
     "outputs": [],
     "prompt_number": 33
    },
    {
     "cell_type": "heading",
     "level": 2,
     "metadata": {},
     "source": [
      "Code"
     ]
    },
    {
     "cell_type": "code",
     "collapsed": false,
     "input": [
      "flightData[0][2]"
     ],
     "language": "python",
     "metadata": {},
     "outputs": [
      {
       "metadata": {},
       "output_type": "pyout",
       "prompt_number": 34,
       "text": [
        "41022.0"
       ]
      }
     ],
     "prompt_number": 34
    },
    {
     "cell_type": "code",
     "collapsed": false,
     "input": [
      "m = 3  # maturity\n",
      "tl = 0.5  # travel liklihood\n",
      "\n",
      "fm = ForecastingMethod(flightData, m)\n",
      "uf = UtilityFunction(risk_expAverse, risk_expAverseInv, 1.1)\n",
      "f = Flight(200, 25, m)\n",
      "p = Passenger(f, tl, fm, uf)"
     ],
     "language": "python",
     "metadata": {},
     "outputs": [],
     "prompt_number": 41
    },
    {
     "cell_type": "code",
     "collapsed": false,
     "input": [
      "print p.calc_waitOpp()\n",
      "print p.flight.get_currentPrice()\n",
      "\n",
      "print p.calc_waitOpp()/p.flight.get_currentPrice()"
     ],
     "language": "python",
     "metadata": {},
     "outputs": [
      {
       "output_type": "stream",
       "stream": "stdout",
       "text": [
        "813.978282779\n",
        "22022.0\n",
        "0.0369620508028\n"
       ]
      }
     ],
     "prompt_number": 42
    },
    {
     "cell_type": "code",
     "collapsed": false,
     "input": [
      "m = 3  # maturity\n",
      "tl = 0.5  # travel liklihood\n",
      "\n",
      "s = SellerAllKnowing()\n",
      "fm = ForecastingMethod(flightData, m)\n",
      "uf = UtilityFunction(risk_expAverse, risk_expAverseInv, 1.1)\n",
      "\n",
      "print flightData.shape[0]\n",
      "def f():\n",
      "    for i in xrange(flightData.shape[0]):\n",
      "        for dbb in xrange(m+1, 42):\n",
      "            f = Flight(i, dbb, m)\n",
      "            p = Passenger(f, tl, fm, uf)\n",
      "            s.offer_option(p)\n",
      "    print s.revenues\n",
      "\n",
      "%time f()"
     ],
     "language": "python",
     "metadata": {},
     "outputs": [
      {
       "output_type": "stream",
       "stream": "stdout",
       "text": [
        "3936\n",
        "0"
       ]
      },
      {
       "output_type": "stream",
       "stream": "stdout",
       "text": [
        "\n",
        "CPU times: user 2min 15s, sys: 13.3 ms, total: 2min 15s\n",
        "Wall time: 2min 15s\n"
       ]
      }
     ],
     "prompt_number": 90
    },
    {
     "cell_type": "heading",
     "level": 2,
     "metadata": {},
     "source": [
      "TMP"
     ]
    },
    {
     "cell_type": "code",
     "collapsed": false,
     "input": [
      "store = h5py.File('storage/flightsTest.h5', 'r')\n",
      "\n",
      "\n",
      "maturitDays = 7\n",
      "flyFrom = 'AMS'\n",
      "flyTo = 'DXB'\n",
      "\n",
      "vals = pd.DataFrame(store[flyFrom][flyTo][:,:42], dtype=np.float64)\n",
      "vals[vals == 0] = np.nan\n",
      "vals = vals.dropna(thresh=int(42*2/3)).ffill()\n",
      "dReturns = (vals.T.shift(maturitDays).T/vals)\n",
      "\n",
      "# plot\n",
      "title(\"%s -> %s\" % (flyFrom, flyTo), fontdict={'fontsize': 14, 'fontweight': 'bold'})\n",
      "xlim(maturitDays-1, 42)\n",
      "xlabel(\"days before departure\")\n",
      "ylim(0.8, 2.0)\n",
      "ylabel(\"price change (per %d days)\" % maturitDays)\n",
      "\n",
      "scatter(range(dReturns.shape[1]), dReturns.mean().values)\n",
      "\n",
      "print pd.concat([dReturns.mean(), (vals.mean()*(dReturns.mean()-1))/100], axis=1)[maturitDays:]\n",
      "\n",
      "store.close()"
     ],
     "language": "python",
     "metadata": {},
     "outputs": []
    },
    {
     "cell_type": "code",
     "collapsed": false,
     "input": [
      "x = 1\n",
      "c = []\n",
      "R = sympy.Symbol('R')\n",
      "\n",
      "for markup in np.arange(1.01, 1.51, 0.01):\n",
      "    solveR = -R*sympy.ln(0.5*sympy.exp(0.5*x/R) + 0.5*sympy.exp(1.5*x/R))+markup*x\n",
      "    sol = sympy.nsolve([solveR], [R], [1])\n",
      "    c.append(float(sol[0]))\n",
      "\n",
      "plot(np.arange(1.01, 1.51, 0.01), c)\n",
      "print c\n",
      "n = x\n",
      "\n",
      "#plot(range(n), [np.exp(x/float(sol[0])) for x in range(n)])\n",
      "\n",
      "a = risk_expAverse(0.5, float(sol[0]))\n",
      "b = risk_expAverse(1.5, float(sol[0]))\n",
      "print risk_expAverseInv((a+b)/2, float(sol[0]))\n",
      "print (a+b)/2"
     ],
     "language": "python",
     "metadata": {},
     "outputs": [
      {
       "output_type": "stream",
       "stream": "stdout",
       "text": [
        "[12.496666311036584, 6.243330486502654, 4.156657048524223, 3.111643834528778, 2.4832886546651745, 2.063255948942078, 1.7622577296977648, 1.5356488092930582, 1.3586252017993312, 1.21630347633149, 1.0992113649150326, 1.0010330590733996, 0.9173951312452584, 0.8451727678126469, 0.7820735007721652, 0.72637703142226, 0.6767668718147107, 0.632218095883475, 0.5919205269639431, 0.5552249575307869, 0.5216047221664799, 0.49062773690364747, 0.4619358176240307, 0.43522915239997745, 0.4102544824821221, 0.3867959911697954, 0.3646681962405325, 0.34371034293279795, 0.3237819336016499, 0.30475912803497585, 0.2865318186536202, 0.26900123654074615, 0.2520779837865172, 0.23568041961942612, 0.21973335580872078, 0.204167043719119, 0.1889164631635722, 0.17392095198121899, 0.15912424089741475, 0.14447496735003168, 0.12992770512360183, 0.11544441531556111, 0.10099595331805158, 0.08656290307799419, 0.07213485129383752, 0.057707804116745684, 0.043280851232438425, 0.028853900817779332, 0.014426950408889647, 1.2362472748546421e-23]\n",
        "inf\n",
        "inf\n"
       ]
      },
      {
       "metadata": {},
       "output_type": "display_data",
       "png": "[encoded data removed]",
       "text": [
        "<matplotlib.figure.Figure at 0x5e9ed90>"
       ]
      }
     ],
     "prompt_number": 153
    },
    {
     "cell_type": "code",
     "collapsed": false,
     "input": [
      "print c"
     ],
     "language": "python",
     "metadata": {},
     "outputs": [
      {
       "output_type": "stream",
       "stream": "stdout",
       "text": [
        "[12.496666311036584, 6.243330486502654, 4.156657048524223, 3.111643834528778, 2.4832886546651745, 2.063255948942078, 1.7622577296977648, 1.5356488092930582, 1.3586252017993312, 1.21630347633149, 1.0992113649150326, 1.0010330590733996, 0.9173951312452584, 0.8451727678126469, 0.7820735007721652, 0.72637703142226, 0.6767668718147107, 0.632218095883475, 0.5919205269639431, 0.5552249575307869, 0.5216047221664799, 0.49062773690364747, 0.4619358176240307, 0.43522915239997745, 0.4102544824821221, 0.3867959911697954, 0.3646681962405325, 0.34371034293279795, 0.3237819336016499, 0.30475912803497585, 0.2865318186536202, 0.26900123654074615, 0.2520779837865172, 0.23568041961942612, 0.21973335580872078, 0.204167043719119, 0.1889164631635722, 0.17392095198121899, 0.15912424089741475, 0.14447496735003168, 0.12992770512360183, 0.11544441531556111, 0.10099595331805158, 0.08656290307799419, 0.07213485129383752, 0.057707804116745684, 0.043280851232438425, 0.028853900817779332, 0.014426950408889647]\n"
       ]
      }
     ],
     "prompt_number": 145
    },
    {
     "cell_type": "code",
     "collapsed": false,
     "input": [
      "print float(sol[0])/40000"
     ],
     "language": "python",
     "metadata": {},
     "outputs": [
      {
       "output_type": "stream",
       "stream": "stdout",
       "text": [
        "1.21630347633\n"
       ]
      }
     ],
     "prompt_number": 126
    },
    {
     "cell_type": "code",
     "collapsed": false,
     "input": [
      "print float(sol[0])/123145123"
     ],
     "language": "python",
     "metadata": {},
     "outputs": [
      {
       "output_type": "stream",
       "stream": "stdout",
       "text": [
        "1.21630347633\n"
       ]
      }
     ],
     "prompt_number": 124
    },
    {
     "cell_type": "code",
     "collapsed": false,
     "input": [
      "print float(sol[0])/1"
     ],
     "language": "python",
     "metadata": {},
     "outputs": [
      {
       "output_type": "stream",
       "stream": "stdout",
       "text": [
        "1.21630347633\n"
       ]
      }
     ],
     "prompt_number": 128
    },
    {
     "cell_type": "code",
     "collapsed": false,
     "input": [
      "0.555224957530787*2"
     ],
     "language": "python",
     "metadata": {},
     "outputs": [
      {
       "metadata": {},
       "output_type": "pyout",
       "prompt_number": 130,
       "text": [
        "1.110449915061574"
       ]
      }
     ],
     "prompt_number": 130
    },
    {
     "cell_type": "code",
     "collapsed": false,
     "input": [
      "plot(np.mean(storage['AMS']['DXB'][:], axis=1))"
     ],
     "language": "python",
     "metadata": {},
     "outputs": [
      {
       "metadata": {},
       "output_type": "pyout",
       "prompt_number": 13,
       "text": [
        "[<matplotlib.lines.Line2D at 0x4d51590>]"
       ]
      },
      {
       "metadata": {},
       "output_type": "display_data",
       "png": "[encoded data removed]",
       "text": [
        "<matplotlib.figure.Figure at 0x4d30c50>"
       ]
      }
     ],
     "prompt_number": 13
    }
   ],
   "metadata": {}
  }
 ]
}