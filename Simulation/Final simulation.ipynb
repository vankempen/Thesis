{
 "metadata": {
  "name": ""
 },
 "nbformat": 3,
 "nbformat_minor": 0,
 "worksheets": [
  {
   "cells": [
    {
     "cell_type": "code",
     "collapsed": false,
     "input": [
      "import bottleneck\n",
      "import h5py\n",
      "import numpy as np\n",
      "import pandas as pd\n",
      "import pdb\n",
      "from scipy import stats"
     ],
     "language": "python",
     "metadata": {},
     "outputs": [],
     "prompt_number": 1
    },
    {
     "cell_type": "heading",
     "level": 3,
     "metadata": {},
     "source": [
      "Constants"
     ]
    },
    {
     "cell_type": "code",
     "collapsed": false,
     "input": [
      "TRAINING_SET = h5py.File('storage/flightsTrainBetter.h5', 'r')\n",
      "TEST_SET = h5py.File('storage/flightsTestBetter.h5', 'r')\n",
      "\n",
      "DAYS_TO_MATURITY = 3"
     ],
     "language": "python",
     "metadata": {},
     "outputs": [],
     "prompt_number": 2
    },
    {
     "cell_type": "heading",
     "level": 3,
     "metadata": {},
     "source": [
      "Route data"
     ]
    },
    {
     "cell_type": "code",
     "collapsed": false,
     "input": [
      "THRESH_OBS = 28       # drop ticket pricing row when available obs < this\n",
      "SOLDOUT_FILL_MUL = 3  # fill soldouts with mean * this\n",
      "\n",
      "class Route_Data():\n",
      "    def __init__(self, fly_from, fly_to, seller_RE='strong', customer_RE='strong'):\n",
      "        self.fly_from = fly_from\n",
      "        self.fly_to = fly_to\n",
      "        \n",
      "        # actual observed prices and changes\n",
      "        prices = self.get_prices(label='test')\n",
      "        changes = self.get_changes(label='test')\n",
      "\n",
      "        # ravel useful data\n",
      "        prices = Route_Data.ravel_useful(prices)\n",
      "        changes = Route_Data.ravel_useful(changes)\n",
      "        \n",
      "        \n",
      "        # predicted base changes according to seller\n",
      "        seller_base_changes = self.get_base_changes(seller_RE, prices.shape)\n",
      "        if seller_RE != 'weak':\n",
      "            seller_base_changes = Route_Data.ravel_useful(seller_base_changes)\n",
      "\n",
      "        # predicted base changes according to customer\n",
      "        customer_base_changes = self.get_base_changes(customer_RE, prices.shape)\n",
      "        if customer_RE != 'weak':\n",
      "            customer_base_changes = Route_Data.ravel_useful(customer_base_changes)\n",
      "        \n",
      "        # make large array with all data\n",
      "        labels = np.resize(np.arange(42-DAYS_TO_MATURITY), prices.shape)\n",
      "        self.data = np.vstack([labels, prices, changes, \n",
      "                              seller_base_changes, customer_base_changes])\n",
      "\n",
      "\n",
      "    @staticmethod\n",
      "    def ravel_useful(data):\n",
      "        return np.ravel(data.ix[:, DAYS_TO_MATURITY:])\n",
      "\n",
      "\n",
      "    #@memoize\n",
      "    def get_prices(self, label='test'):\n",
      "        \"\"\"\n",
      "        return ticket pricing data of route from cache or data set\n",
      "\n",
      "        label (test/training): data set to retrieve pricing information from\n",
      "        \"\"\"\n",
      "        # choose appropriate data set\n",
      "        if label == 'test':\n",
      "            dset = TEST_SET\n",
      "        elif label == 'training':\n",
      "            dset = TRAINING_SET\n",
      "        else:\n",
      "            raise Exception('Dataset with label \\'%s\\' is not available' % label)\n",
      "\n",
      "        # get data\n",
      "        data = dset[self.fly_from][self.fly_to][:]\n",
      "        prices = pd.DataFrame(data, dtype=np.float64)\n",
      "\n",
      "        # remove rows with too few observations\n",
      "        prices[prices == 0] = np.nan\n",
      "        prices = prices.dropna(thresh=THRESH_OBS).ffill(axis=1)\n",
      "\n",
      "        # fill soldout flights\n",
      "        mean_at_departure = prices[0].mean()\n",
      "        prices = prices.fillna(mean_at_departure * SOLDOUT_FILL_MUL)\n",
      "\n",
      "        return prices\n",
      "\n",
      "\n",
      "    #@memoize\n",
      "    def get_changes(self, label='test'):\n",
      "        \"\"\"\n",
      "        return absolute ticket price changes\n",
      "\n",
      "        label (test/training): daza set to retrieve info from\n",
      "        \"\"\"\n",
      "        prices = self.get_prices(label)\n",
      "\n",
      "        # calculate observed changes\n",
      "        obs_prices = prices.T.shift(DAYS_TO_MATURITY).T\n",
      "        changes = obs_prices/prices\n",
      "\n",
      "        # remove small 'changes' from results (probably transaction fees?)\n",
      "        changes[np.logical_and(changes > 0.995, changes < 1.005)] = 1\n",
      "\n",
      "        return changes\n",
      "\n",
      "\n",
      "    #@memoize\n",
      "    def get_base_changes(self, rational_expectation, sh):\n",
      "        \"\"\" return base changes for relevant rational_expectation \"\"\"\n",
      "        if rational_expectation == 'strong':\n",
      "            return self.get_changes(label='test')\n",
      "        elif rational_expectation == 'weak':\n",
      "            changes = self.get_changes(label='training')\n",
      "\n",
      "            up_changes = changes > 1\n",
      "            \n",
      "            changes_mean = (changes[up_changes].mean(axis=0) - 1) * up_changes.mean(axis=0) + 1\n",
      "\n",
      "            return np.resize(changes_mean, sh)\n",
      "        elif ration_expectation == 'montecarlo':\n",
      "            changes = self.get_changes(label='training')  # historical changes\n",
      "\n",
      "        ### fall through if rational_expectation is not listed\n",
      "        raise NotImplementedError(rational_expectation + ' is NOT implemented!')\n",
      "\n",
      "\n",
      "    def select_cases(self, cases):\n",
      "        \"\"\" select specified cases from data and return array \"\"\"\n",
      "        return np.repeat(self.data, cases, axis=1)"
     ],
     "language": "python",
     "metadata": {},
     "outputs": [],
     "prompt_number": 3
    },
    {
     "cell_type": "code",
     "collapsed": false,
     "input": [
      "# generate route keys\n",
      "pairs = [(fly_from, fly_to) for fly_from in TRAINING_SET.keys()\n",
      "                            for fly_to in TRAINING_SET[fly_from].keys()]"
     ],
     "language": "python",
     "metadata": {},
     "outputs": [],
     "prompt_number": 4
    },
    {
     "cell_type": "code",
     "collapsed": false,
     "input": [
      "MIN_PRICE = 1.0\n",
      "\n",
      "TRIALS = 20\n",
      "\n",
      "class Simulation():\n",
      "    def __init__(self, fly_from, fly_to, seller_accuracy, customer_accuracy, arrival_rate=1, customer_RE='strong', seller_RE='strong'):\n",
      "        # set seed\n",
      "        np.random.seed(850292409)\n",
      "        \n",
      "        self.seller_accuracy = seller_accuracy\n",
      "        self.customer_accuracy = customer_accuracy\n",
      "        self.arrival_rate = arrival_rate\n",
      "        self.route_data = Route_Data(fly_from, fly_to, seller_RE=seller_RE, customer_RE=customer_RE)\n",
      "\n",
      "        self.option_days = self.route_data.data.shape[1]\n",
      "\n",
      "        self.total_revenues = np.zeros((TRIALS, 42 - DAYS_TO_MATURITY))\n",
      "        self.total_costs    = np.zeros((TRIALS, 42 - DAYS_TO_MATURITY))\n",
      "        self.total_profits  = np.zeros((TRIALS, 42 - DAYS_TO_MATURITY))\n",
      "        self.total_accepted = np.zeros((TRIALS, 42 - DAYS_TO_MATURITY))\n",
      "        self.total_exercise = np.zeros((TRIALS, 42 - DAYS_TO_MATURITY))\n",
      "        self.total_decision = np.zeros((TRIALS, 4))\n",
      "        \n",
      "        self.total_revenues_perc = np.zeros((TRIALS, 42 - DAYS_TO_MATURITY))\n",
      "        self.total_profits_perc = np.zeros((TRIALS, 42 - DAYS_TO_MATURITY))\n",
      "        \n",
      "        self.total_p = []\n",
      "        \n",
      "        self.mean_accepted = 0\n",
      "        \n",
      "        self.totprof = 0\n",
      "\n",
      "\n",
      "    def generate_trial(self, trial_num, marg):\n",
      "        arrivals = np.random.poisson(self.arrival_rate, size=self.option_days)\n",
      "        cases = self.route_data.select_cases(arrivals)\n",
      "        labels = np.int_(cases[0, :])\n",
      "        prices = cases[1, :]/100\n",
      "        changes = cases[2, :]\n",
      "        seller_base = cases[3, :]\n",
      "        customer_base = cases[4, :]\n",
      "        \n",
      "        # customer's P^f's    \n",
      "        self.P_fs = np.random.uniform(size=cases.shape[1])  # generate likelihood of flying\n",
      "        \n",
      "        # get seller WTA\n",
      "        seller_prediction = seller_base\n",
      "        if self.seller_accuracy != 'perfect':  # add NO error when perfect forsight\n",
      "            seller_prediction = Simulation.add_error(seller_prediction, self.seller_accuracy)\n",
      "        \n",
      "        seller_WTA = np.maximum(seller_prediction, MIN_PRICE) # set minimum price\n",
      "        seller_WTA *= marg  # add margin\n",
      "\n",
      "        \n",
      "        ###\n",
      "        # DEBUG\n",
      "        ###\n",
      "        seller_WTA = (seller_WTA - 1) * self.P_fs\n",
      "\n",
      "        \n",
      "        # get customer WTP\n",
      "        customer_prediction = Simulation.add_error(customer_base, self.customer_accuracy)\n",
      "        customer_wait = customer_prediction * self.P_fs # DEBUG underestimation\n",
      "        customer_buy = 1\n",
      "\n",
      "        # determine whether customer would normally wait or fly\n",
      "        customer_decision = np.array(customer_wait < customer_buy, dtype=np.int8) # 0: buy, 1: wait\n",
      "\n",
      "        customer_WTP = np.maximum(np.minimum(customer_buy, customer_wait), 0)\n",
      "\n",
      "        accepted = customer_WTP >= (seller_WTA + self.P_fs)\n",
      "    \n",
      "\n",
      "        customer_decision += 2 * accepted  # add to decision matrix\n",
      "\n",
      "        seller_WTA[np.isnan(seller_WTA)] = 0\n",
      "        revenues = seller_WTA * accepted\n",
      "\n",
      "        # which customers do decide to accept offers?\n",
      "        exercise = np.random.binomial(1, self.P_fs)\n",
      "        costs = np.maximum(0, (changes - 1) * exercise * accepted)\n",
      "        \n",
      "        \n",
      "        self.total_revenues[trial_num, :] = np.bincount(labels, revenues * prices)\n",
      "        \n",
      "        self.total_costs[trial_num, :]    = np.bincount(labels, costs * prices)\n",
      "        self.total_profits[trial_num, :]  = np.bincount(labels, (revenues - costs) * prices)\n",
      "        self.total_accepted[trial_num, :] = np.bincount(labels, accepted)\n",
      "        self.total_exercise[trial_num, :] = np.bincount(labels[accepted], exercise[accepted], minlength=42-DAYS_TO_MATURITY)\n",
      "        self.total_decision[trial_num, :] = np.bincount(customer_decision, minlength=4)\n",
      "        \n",
      "        self.mean_accepted += accepted.mean()\n",
      "        \n",
      "        # relative\n",
      "        self.total_revenues_perc[trial_num, :] = np.bincount(labels, revenues)\n",
      "        #self.total_profits_perc[trial_num, :] = np.bincount(labels, (revenues - costs)/revenues)\n",
      "        \n",
      "        \n",
      "        c_d = customer_decision\n",
      "        \n",
      "        o_c = np.minimum(changes, 1) * exercise + seller_WTA\n",
      "        w_c = changes * exercise\n",
      "        \n",
      "        idx_b = (c_d == 0) | (c_d == 2)\n",
      "        idx_w = ~idx_b\n",
      "        normal_p = (w_c[idx_w].sum() + idx_b.sum())\n",
      "        mix_p = (c_d == 0).sum() + w_c[c_d == 1].sum() + o_c[c_d >= 2].sum()\n",
      "        option_p = o_c.sum()\n",
      "        \n",
      "        self.total_p.append([normal_p, mix_p, option_p])\n",
      "        \n",
      "        #should_wait = (seller_WTA + self.P_fs) < 1\n",
      "\n",
      "        #return option_c, wait_c, buy_c, customer_decision, should_wait\n",
      "        \n",
      "\n",
      "    @staticmethod\n",
      "    def add_error(data, err):\n",
      "        \"\"\" add random error term to data \"\"\"\n",
      "        return data * np.random.normal(1, err, data.shape)  # multiplication err term"
     ],
     "language": "python",
     "metadata": {},
     "outputs": [],
     "prompt_number": 163
    },
    {
     "cell_type": "code",
     "collapsed": false,
     "input": [
      "np.array(sim.total_p)"
     ],
     "language": "python",
     "metadata": {},
     "outputs": [
      {
       "metadata": {},
       "output_type": "pyout",
       "prompt_number": 165,
       "text": [
        "[[269152.95752140856, 271091.76090988383, 277766.04020958522],\n",
        " [269346.53731632349, 271336.2918749816, 278383.02864737669],\n",
        " [268717.79092986893, 270779.46793782205, 277833.83482497546],\n",
        " [268529.52794948674, 270555.4691643815, 277562.02050724532],\n",
        " [268422.70617677656, 270422.21501723857, 277350.5953310341],\n",
        " [269274.5921663288, 271228.97169798566, 278052.88546585804],\n",
        " [268920.1409165099, 270957.279536288, 277819.99328980263],\n",
        " [269209.76995313982, 271289.9489705236, 278423.40960784123],\n",
        " [268938.99226829025, 271006.47424762329, 277873.44008863781],\n",
        " [268452.22089356964, 270350.52551560005, 277620.32946533355],\n",
        " [269550.73411088146, 271577.50639237574, 278748.33014068904],\n",
        " [269093.01528898289, 271151.71877558157, 278054.4916382776],\n",
        " [270092.06507392757, 272144.09630828723, 278961.76606118545],\n",
        " [268801.23025075888, 270784.01557373971, 277797.35301487037],\n",
        " [269145.79469867225, 271219.7163850526, 278384.56843942247],\n",
        " [269490.96235948161, 271435.15067392815, 278494.77722900274],\n",
        " [269468.84954967629, 271391.76294794364, 278316.15011648921],\n",
        " [269250.62075512588, 271253.72280521574, 278172.71232203679],\n",
        " [269634.70909544732, 271646.1174797155, 278579.69290438876],\n",
        " [269494.87521156366, 271482.99319846457, 278599.27322308836]]"
       ]
      }
     ],
     "prompt_number": 165
    },
    {
     "cell_type": "code",
     "collapsed": false,
     "input": [
      "np.array(sim.total_p).mean(axis=0)"
     ],
     "language": "python",
     "metadata": {},
     "outputs": [
      {
       "metadata": {},
       "output_type": "pyout",
       "prompt_number": 182,
       "text": [
        "array([ 255385.53591123,  247375.38368231,  256361.92720839])"
       ]
      }
     ],
     "prompt_number": 182
    },
    {
     "cell_type": "code",
     "collapsed": false,
     "input": [
      "allRevs = []\n",
      "\n",
      "\n",
      "xs = np.linspace(0.00001, 0.5, 5)\n",
      "for i in xs:\n",
      "    revs = []\n",
      "    for pair in pairs:\n",
      "        print(pair, flush=True)\n",
      "        sim = Simulation(*pair, seller_accuracy='perfect', customer_accuracy=i, arrival_rate=1, customer_RE='strong', seller_RE='strong')\n",
      "        for n in range(TRIALS):\n",
      "            sim.generate_trial(n, 1)\n",
      "        revs.append(np.array(sim.total_p).mean(axis=0))\n",
      "        \"\"\"\n",
      "        ta = sim.total_accepted.sum()\n",
      "        revs.append([sim.total_revenues.sum()/ta, sim.total_revenues_perc.sum()/ta * 100,\n",
      "                     sim.total_profits.sum()/ta, sim.total_profits.sum()/sim.total_revenues.sum() * 100,\n",
      "                     sim.mean_accepted/TRIALS * 100])\n",
      "        \"\"\"\n",
      "    #revs = np.array(revs)\n",
      "    \n",
      "    allRevs.append(np.array(revs).mean(axis=0))\n",
      "    print(i)\n",
      "allRevs = np.array(allRevs)"
     ],
     "language": "python",
     "metadata": {},
     "outputs": [
      {
       "output_type": "stream",
       "stream": "stdout",
       "text": [
        "('AMS', 'CDG')\n"
       ]
      },
      {
       "output_type": "stream",
       "stream": "stdout",
       "text": [
        "('AMS', 'DXB')\n"
       ]
      },
      {
       "output_type": "stream",
       "stream": "stdout",
       "text": [
        "('AMS', 'JFK')\n"
       ]
      },
      {
       "output_type": "stream",
       "stream": "stdout",
       "text": [
        "('AMS', 'LHR')\n"
       ]
      },
      {
       "output_type": "stream",
       "stream": "stdout",
       "text": [
        "('ATL', 'LAX')\n"
       ]
      },
      {
       "output_type": "stream",
       "stream": "stdout",
       "text": [
        "('ATL', 'MCO')\n"
       ]
      },
      {
       "output_type": "stream",
       "stream": "stdout",
       "text": [
        "('CDG', 'AMS')\n"
       ]
      },
      {
       "output_type": "stream",
       "stream": "stdout",
       "text": [
        "('CDG', 'LHR')\n"
       ]
      },
      {
       "output_type": "stream",
       "stream": "stdout",
       "text": [
        "('DEN', 'FLL')\n"
       ]
      },
      {
       "output_type": "stream",
       "stream": "stdout",
       "text": [
        "('DEN', 'PHX')\n"
       ]
      },
      {
       "output_type": "stream",
       "stream": "stdout",
       "text": [
        "('DFW', 'LAX')\n"
       ]
      },
      {
       "output_type": "stream",
       "stream": "stdout",
       "text": [
        "('DFW', 'SFO')\n"
       ]
      },
      {
       "output_type": "stream",
       "stream": "stdout",
       "text": [
        "('JFK', 'CDG')\n"
       ]
      },
      {
       "output_type": "stream",
       "stream": "stdout",
       "text": [
        "('JFK', 'LHR')\n"
       ]
      },
      {
       "output_type": "stream",
       "stream": "stdout",
       "text": [
        "('LAX', 'LAS')\n"
       ]
      },
      {
       "output_type": "stream",
       "stream": "stdout",
       "text": [
        "('LAX', 'SFO')\n"
       ]
      },
      {
       "output_type": "stream",
       "stream": "stdout",
       "text": [
        "('LHR', 'AMS')\n"
       ]
      },
      {
       "output_type": "stream",
       "stream": "stdout",
       "text": [
        "('LHR', 'JFK')\n"
       ]
      },
      {
       "output_type": "stream",
       "stream": "stdout",
       "text": [
        "('LHR', 'LAX')\n"
       ]
      },
      {
       "output_type": "stream",
       "stream": "stdout",
       "text": [
        "('LHR', 'MAD')\n"
       ]
      },
      {
       "output_type": "stream",
       "stream": "stdout",
       "text": [
        "('ORD', 'BOS')\n"
       ]
      },
      {
       "output_type": "stream",
       "stream": "stdout",
       "text": [
        "('ORD', 'LGA')\n"
       ]
      },
      {
       "output_type": "stream",
       "stream": "stdout",
       "text": [
        "1e-05\n",
        "('AMS', 'CDG')\n"
       ]
      },
      {
       "output_type": "stream",
       "stream": "stdout",
       "text": [
        "('AMS', 'DXB')\n"
       ]
      },
      {
       "output_type": "stream",
       "stream": "stdout",
       "text": [
        "('AMS', 'JFK')\n"
       ]
      },
      {
       "output_type": "stream",
       "stream": "stdout",
       "text": [
        "('AMS', 'LHR')\n"
       ]
      },
      {
       "output_type": "stream",
       "stream": "stdout",
       "text": [
        "('ATL', 'LAX')\n"
       ]
      },
      {
       "output_type": "stream",
       "stream": "stdout",
       "text": [
        "('ATL', 'MCO')\n"
       ]
      },
      {
       "output_type": "stream",
       "stream": "stdout",
       "text": [
        "('CDG', 'AMS')\n"
       ]
      },
      {
       "output_type": "stream",
       "stream": "stdout",
       "text": [
        "('CDG', 'LHR')\n"
       ]
      },
      {
       "output_type": "stream",
       "stream": "stdout",
       "text": [
        "('DEN', 'FLL')\n"
       ]
      },
      {
       "output_type": "stream",
       "stream": "stdout",
       "text": [
        "('DEN', 'PHX')\n"
       ]
      },
      {
       "output_type": "stream",
       "stream": "stdout",
       "text": [
        "('DFW', 'LAX')\n"
       ]
      },
      {
       "output_type": "stream",
       "stream": "stdout",
       "text": [
        "('DFW', 'SFO')\n"
       ]
      },
      {
       "output_type": "stream",
       "stream": "stdout",
       "text": [
        "('JFK', 'CDG')\n"
       ]
      },
      {
       "output_type": "stream",
       "stream": "stdout",
       "text": [
        "('JFK', 'LHR')\n"
       ]
      },
      {
       "output_type": "stream",
       "stream": "stdout",
       "text": [
        "('LAX', 'LAS')\n"
       ]
      },
      {
       "output_type": "stream",
       "stream": "stdout",
       "text": [
        "('LAX', 'SFO')\n"
       ]
      },
      {
       "output_type": "stream",
       "stream": "stdout",
       "text": [
        "('LHR', 'AMS')\n"
       ]
      },
      {
       "output_type": "stream",
       "stream": "stdout",
       "text": [
        "('LHR', 'JFK')\n"
       ]
      },
      {
       "output_type": "stream",
       "stream": "stdout",
       "text": [
        "('LHR', 'LAX')\n"
       ]
      },
      {
       "output_type": "stream",
       "stream": "stdout",
       "text": [
        "('LHR', 'MAD')\n"
       ]
      },
      {
       "output_type": "stream",
       "stream": "stdout",
       "text": [
        "('ORD', 'BOS')\n"
       ]
      },
      {
       "output_type": "stream",
       "stream": "stdout",
       "text": [
        "('ORD', 'LGA')\n"
       ]
      },
      {
       "output_type": "stream",
       "stream": "stdout",
       "text": [
        "0.1250075\n",
        "('AMS', 'CDG')\n"
       ]
      },
      {
       "output_type": "stream",
       "stream": "stdout",
       "text": [
        "('AMS', 'DXB')\n"
       ]
      },
      {
       "output_type": "stream",
       "stream": "stdout",
       "text": [
        "('AMS', 'JFK')\n"
       ]
      },
      {
       "output_type": "stream",
       "stream": "stdout",
       "text": [
        "('AMS', 'LHR')\n"
       ]
      },
      {
       "output_type": "stream",
       "stream": "stdout",
       "text": [
        "('ATL', 'LAX')\n"
       ]
      },
      {
       "output_type": "stream",
       "stream": "stdout",
       "text": [
        "('ATL', 'MCO')\n"
       ]
      },
      {
       "output_type": "stream",
       "stream": "stdout",
       "text": [
        "('CDG', 'AMS')\n"
       ]
      },
      {
       "output_type": "stream",
       "stream": "stdout",
       "text": [
        "('CDG', 'LHR')\n"
       ]
      },
      {
       "output_type": "stream",
       "stream": "stdout",
       "text": [
        "('DEN', 'FLL')\n"
       ]
      },
      {
       "output_type": "stream",
       "stream": "stdout",
       "text": [
        "('DEN', 'PHX')\n"
       ]
      },
      {
       "output_type": "stream",
       "stream": "stdout",
       "text": [
        "('DFW', 'LAX')\n"
       ]
      },
      {
       "output_type": "stream",
       "stream": "stdout",
       "text": [
        "('DFW', 'SFO')\n"
       ]
      },
      {
       "output_type": "stream",
       "stream": "stdout",
       "text": [
        "('JFK', 'CDG')\n"
       ]
      },
      {
       "output_type": "stream",
       "stream": "stdout",
       "text": [
        "('JFK', 'LHR')\n"
       ]
      },
      {
       "output_type": "stream",
       "stream": "stdout",
       "text": [
        "('LAX', 'LAS')\n"
       ]
      },
      {
       "output_type": "stream",
       "stream": "stdout",
       "text": [
        "('LAX', 'SFO')\n"
       ]
      },
      {
       "output_type": "stream",
       "stream": "stdout",
       "text": [
        "('LHR', 'AMS')\n"
       ]
      },
      {
       "output_type": "stream",
       "stream": "stdout",
       "text": [
        "('LHR', 'JFK')\n"
       ]
      },
      {
       "output_type": "stream",
       "stream": "stdout",
       "text": [
        "('LHR', 'LAX')\n"
       ]
      },
      {
       "output_type": "stream",
       "stream": "stdout",
       "text": [
        "('LHR', 'MAD')\n"
       ]
      },
      {
       "output_type": "stream",
       "stream": "stdout",
       "text": [
        "('ORD', 'BOS')\n"
       ]
      },
      {
       "output_type": "stream",
       "stream": "stdout",
       "text": [
        "('ORD', 'LGA')\n"
       ]
      },
      {
       "output_type": "stream",
       "stream": "stdout",
       "text": [
        "0.250005\n",
        "('AMS', 'CDG')\n"
       ]
      },
      {
       "output_type": "stream",
       "stream": "stdout",
       "text": [
        "('AMS', 'DXB')\n"
       ]
      },
      {
       "output_type": "stream",
       "stream": "stdout",
       "text": [
        "('AMS', 'JFK')\n"
       ]
      },
      {
       "output_type": "stream",
       "stream": "stdout",
       "text": [
        "('AMS', 'LHR')\n"
       ]
      },
      {
       "output_type": "stream",
       "stream": "stdout",
       "text": [
        "('ATL', 'LAX')\n"
       ]
      },
      {
       "output_type": "stream",
       "stream": "stdout",
       "text": [
        "('ATL', 'MCO')\n"
       ]
      },
      {
       "output_type": "stream",
       "stream": "stdout",
       "text": [
        "('CDG', 'AMS')\n"
       ]
      },
      {
       "output_type": "stream",
       "stream": "stdout",
       "text": [
        "('CDG', 'LHR')\n"
       ]
      },
      {
       "output_type": "stream",
       "stream": "stdout",
       "text": [
        "('DEN', 'FLL')\n"
       ]
      },
      {
       "output_type": "stream",
       "stream": "stdout",
       "text": [
        "('DEN', 'PHX')\n"
       ]
      },
      {
       "output_type": "stream",
       "stream": "stdout",
       "text": [
        "('DFW', 'LAX')\n"
       ]
      },
      {
       "output_type": "stream",
       "stream": "stdout",
       "text": [
        "('DFW', 'SFO')\n"
       ]
      },
      {
       "output_type": "stream",
       "stream": "stdout",
       "text": [
        "('JFK', 'CDG')\n"
       ]
      },
      {
       "output_type": "stream",
       "stream": "stdout",
       "text": [
        "('JFK', 'LHR')\n"
       ]
      },
      {
       "output_type": "stream",
       "stream": "stdout",
       "text": [
        "('LAX', 'LAS')\n"
       ]
      },
      {
       "output_type": "stream",
       "stream": "stdout",
       "text": [
        "('LAX', 'SFO')\n"
       ]
      },
      {
       "output_type": "stream",
       "stream": "stdout",
       "text": [
        "('LHR', 'AMS')\n"
       ]
      },
      {
       "output_type": "stream",
       "stream": "stdout",
       "text": [
        "('LHR', 'JFK')\n"
       ]
      },
      {
       "output_type": "stream",
       "stream": "stdout",
       "text": [
        "('LHR', 'LAX')\n"
       ]
      },
      {
       "output_type": "stream",
       "stream": "stdout",
       "text": [
        "('LHR', 'MAD')\n"
       ]
      },
      {
       "output_type": "stream",
       "stream": "stdout",
       "text": [
        "('ORD', 'BOS')\n"
       ]
      },
      {
       "output_type": "stream",
       "stream": "stdout",
       "text": [
        "('ORD', 'LGA')\n"
       ]
      },
      {
       "output_type": "stream",
       "stream": "stdout",
       "text": [
        "0.3750025\n",
        "('AMS', 'CDG')\n"
       ]
      },
      {
       "output_type": "stream",
       "stream": "stdout",
       "text": [
        "('AMS', 'DXB')\n"
       ]
      },
      {
       "output_type": "stream",
       "stream": "stdout",
       "text": [
        "('AMS', 'JFK')\n"
       ]
      },
      {
       "output_type": "stream",
       "stream": "stdout",
       "text": [
        "('AMS', 'LHR')\n"
       ]
      },
      {
       "output_type": "stream",
       "stream": "stdout",
       "text": [
        "('ATL', 'LAX')\n"
       ]
      },
      {
       "output_type": "stream",
       "stream": "stdout",
       "text": [
        "('ATL', 'MCO')\n"
       ]
      },
      {
       "output_type": "stream",
       "stream": "stdout",
       "text": [
        "('CDG', 'AMS')\n"
       ]
      },
      {
       "output_type": "stream",
       "stream": "stdout",
       "text": [
        "('CDG', 'LHR')\n"
       ]
      },
      {
       "output_type": "stream",
       "stream": "stdout",
       "text": [
        "('DEN', 'FLL')\n"
       ]
      },
      {
       "output_type": "stream",
       "stream": "stdout",
       "text": [
        "('DEN', 'PHX')\n"
       ]
      },
      {
       "output_type": "stream",
       "stream": "stdout",
       "text": [
        "('DFW', 'LAX')\n"
       ]
      },
      {
       "output_type": "stream",
       "stream": "stdout",
       "text": [
        "('DFW', 'SFO')\n"
       ]
      },
      {
       "output_type": "stream",
       "stream": "stdout",
       "text": [
        "('JFK', 'CDG')\n"
       ]
      },
      {
       "output_type": "stream",
       "stream": "stdout",
       "text": [
        "('JFK', 'LHR')\n"
       ]
      },
      {
       "output_type": "stream",
       "stream": "stdout",
       "text": [
        "('LAX', 'LAS')\n"
       ]
      },
      {
       "output_type": "stream",
       "stream": "stdout",
       "text": [
        "('LAX', 'SFO')\n"
       ]
      },
      {
       "output_type": "stream",
       "stream": "stdout",
       "text": [
        "('LHR', 'AMS')\n"
       ]
      },
      {
       "output_type": "stream",
       "stream": "stdout",
       "text": [
        "('LHR', 'JFK')\n"
       ]
      },
      {
       "output_type": "stream",
       "stream": "stdout",
       "text": [
        "('LHR', 'LAX')\n"
       ]
      },
      {
       "output_type": "stream",
       "stream": "stdout",
       "text": [
        "('LHR', 'MAD')\n"
       ]
      },
      {
       "output_type": "stream",
       "stream": "stdout",
       "text": [
        "('ORD', 'BOS')\n"
       ]
      },
      {
       "output_type": "stream",
       "stream": "stdout",
       "text": [
        "('ORD', 'LGA')\n"
       ]
      },
      {
       "output_type": "stream",
       "stream": "stdout",
       "text": [
        "0.5\n"
       ]
      }
     ],
     "prompt_number": 187
    },
    {
     "cell_type": "code",
     "collapsed": false,
     "input": [
      "r = (np.transpose(np.transpose(allRevs)/a)-1)*-100"
     ],
     "language": "python",
     "metadata": {},
     "outputs": [],
     "prompt_number": 240
    },
    {
     "cell_type": "code",
     "collapsed": false,
     "input": [
      "plot(xs, r[:,0], 'k-', label='no options')\n",
      "plot(xs, r[:,1], 'k', ls='dashed', label='combination')\n",
      "plot(xs, r[:,2], 'k', ls='dotted', label='only options', lw='1.5')\n",
      "ylabel('cost savings (% of option price)')\n",
      "xlabel('customer\\'s error term')\n",
      "legend(loc='upper left')\n",
      "savefig('/home/patrick/customers_total_costs_strategies.png', dpi=200)"
     ],
     "language": "python",
     "metadata": {},
     "outputs": [
      {
       "metadata": {},
       "output_type": "display_data",
       "png": "[encoded data removed]",
       "text": [
        "<matplotlib.figure.Figure at 0x7f06c44c1a50>"
       ]
      }
     ],
     "prompt_number": 250
    },
    {
     "cell_type": "code",
     "collapsed": false,
     "input": [
      "a = allRevs[:,0]"
     ],
     "language": "python",
     "metadata": {},
     "outputs": [],
     "prompt_number": 215
    },
    {
     "cell_type": "code",
     "collapsed": false,
     "input": [
      "a = allRevs[-1].reshape(22,-1)"
     ],
     "language": "python",
     "metadata": {},
     "outputs": [],
     "prompt_number": 177
    },
    {
     "cell_type": "code",
     "collapsed": false,
     "input": [
      "plot(a[:,0])"
     ],
     "language": "python",
     "metadata": {},
     "outputs": [
      {
       "metadata": {},
       "output_type": "pyout",
       "prompt_number": 178,
       "text": [
        "[<matplotlib.lines.Line2D at 0x7f06c508f6d0>]"
       ]
      },
      {
       "metadata": {},
       "output_type": "display_data",
       "png": "[encoded data removed]",
       "text": [
        "<matplotlib.figure.Figure at 0x7f06c523a390>"
       ]
      }
     ],
     "prompt_number": 178
    },
    {
     "cell_type": "code",
     "collapsed": false,
     "input": [
      "plot(xs, allRevs/447370, 'k')\n",
      "#ylim(0, 1.05)\n",
      "xlabel('customer\\'s error term')\n",
      "ylabel('normalized profits')\n",
      "#savefig('/home/patrick/relative_profits_customer_accuracy.png', dpi=200)"
     ],
     "language": "python",
     "metadata": {},
     "outputs": [
      {
       "metadata": {},
       "output_type": "display_data",
       "png": "[encoded data removed]",
       "text": [
        "<matplotlib.figure.Figure at 0x7f06c5e3fb10>"
       ]
      }
     ],
     "prompt_number": 51
    },
    {
     "cell_type": "code",
     "collapsed": false,
     "input": [
      "MAPE = []\n",
      "for p in pairs:\n",
      "    r = Route_Data(*p)\n",
      "    r_test = r.get_changes(label='test')\n",
      "    r_train = r.get_changes(label='training').mean(axis=0)\n",
      "    MAPE.append((r_test > r_train).mean().mean())\n",
      "MAPE = np.array(MAPE)"
     ],
     "language": "python",
     "metadata": {},
     "outputs": [],
     "prompt_number": 55
    },
    {
     "cell_type": "code",
     "collapsed": false,
     "input": [
      "for i, r in enumerate(revs_sw):\n",
      "    print(pairs[i][0], ' & ', pairs[i][1], '&  {:5.2f}  &  {:5.1f}  &  {:5.2f}  &  {:5.1f}  &  {:5.2f}  \\\\\\\\'.format(*r))"
     ],
     "language": "python",
     "metadata": {},
     "outputs": [
      {
       "output_type": "stream",
       "stream": "stdout",
       "text": [
        "AMS  &  CDG &  15.25  &    7.0  &   5.86  &   38.4  &  24.11  \\\\\n",
        "AMS  &  DXB &  37.75  &    6.5  &  23.28  &   61.7  &  21.23  \\\\\n",
        "AMS  &  JFK &  52.33  &    6.3  &  18.00  &   34.4  &  22.67  \\\\\n",
        "AMS  &  LHR &  16.07  &    6.3  &   9.68  &   60.2  &  23.38  \\\\\n",
        "ATL  &  LAX &  26.55  &    6.9  &  14.76  &   55.6  &  23.63  \\\\\n",
        "ATL  &  MCO &  17.88  &    7.3  &   8.40  &   47.0  &  24.01  \\\\\n",
        "CDG  &  AMS &  15.74  &    6.8  &   6.69  &   42.5  &  23.99  \\\\\n",
        "CDG  &  LHR &  13.62  &    6.3  &   6.96  &   51.1  &  23.58  \\\\\n",
        "DEN  &  FLL &  13.19  &    7.3  &   1.13  &    8.6  &  23.17  \\\\\n",
        "DEN  &  PHX &  12.56  &    6.8  &   6.30  &   50.1  &  23.35  \\\\\n",
        "DFW  &  LAX &  21.78  &    7.6  &   5.59  &   25.6  &  22.45  \\\\\n",
        "DFW  &  SFO &  28.95  &    7.7  &   4.36  &   15.1  &  22.89  \\\\\n",
        "JFK  &  CDG &  169.32  &    6.8  &  122.08  &   72.1  &  23.06  \\\\\n",
        "JFK  &  LHR &  81.27  &    8.5  &  43.14  &   53.1  &  23.64  \\\\\n",
        "LAX  &  LAS &  13.96  &    7.1  &   3.20  &   22.9  &  23.02  \\\\\n",
        "LAX  &  SFO &  17.48  &    8.0  &   7.18  &   41.1  &  23.51  \\\\\n",
        "LHR  &  AMS &  15.24  &    6.4  &   9.20  &   60.4  &  23.48  \\\\\n",
        "LHR  &  JFK &  64.34  &    7.5  &  48.83  &   75.9  &  23.94  \\\\\n",
        "LHR  &  LAX &  107.98  &    8.7  &  74.76  &   69.2  &  23.44  \\\\\n",
        "LHR  &  MAD &  16.89  &    6.1  &   9.24  &   54.7  &  23.10  \\\\\n",
        "ORD  &  BOS &  17.20  &    7.1  &   5.47  &   31.8  &  23.16  \\\\\n",
        "ORD  &  LGA &  18.67  &    7.0  &   8.97  &   48.0  &  23.07  \\\\\n"
       ]
      }
     ],
     "prompt_number": 162
    },
    {
     "cell_type": "code",
     "collapsed": false,
     "input": [
      "for i, r in enumerate(table):\n",
      "    print(pairs[i][0], ' & ', pairs[i][1], '&  {:5.0f}  &  {:5.0f}  &  {:5.0f}  &  {:5.0f}  \\\\\\\\'.format(*(r*100)))"
     ],
     "language": "python",
     "metadata": {},
     "outputs": [
      {
       "output_type": "stream",
       "stream": "stdout",
       "text": [
        "AMS  &  CDG &    100  &     74  &    111  &     61  \\\\\n",
        "AMS  &  DXB &    100  &     84  &    117  &     79  \\\\\n",
        "AMS  &  JFK &    100  &     81  &    112  &     48  \\\\\n",
        "AMS  &  LHR &    100  &     81  &    101  &     79  \\\\\n",
        "ATL  &  LAX &    100  &     77  &    114  &     84  \\\\\n",
        "ATL  &  MCO &    100  &     73  &    119  &     81  \\\\\n",
        "CDG  &  AMS &    100  &     76  &    109  &     64  \\\\\n",
        "CDG  &  LHR &    100  &     80  &    108  &     71  \\\\\n",
        "DEN  &  FLL &    100  &     72  &    131  &     14  \\\\\n",
        "DEN  &  PHX &    100  &     79  &    116  &     74  \\\\\n",
        "DFW  &  LAX &    100  &     74  &    123  &     43  \\\\\n",
        "DFW  &  SFO &    100  &     75  &    126  &     26  \\\\\n",
        "JFK  &  CDG &    100  &     89  &    113  &     88  \\\\\n",
        "JFK  &  LHR &    100  &     85  &    163  &     93  \\\\\n",
        "LAX  &  LAS &    100  &     78  &    129  &     38  \\\\\n",
        "LAX  &  SFO &    100  &     80  &    131  &     68  \\\\\n",
        "LHR  &  AMS &    100  &     80  &    101  &     80  \\\\\n",
        "LHR  &  JFK &    100  &     88  &    151  &    115  \\\\\n",
        "LHR  &  LAX &    100  &     88  &    178  &    122  \\\\\n",
        "LHR  &  MAD &    100  &     80  &     97  &     69  \\\\\n",
        "ORD  &  BOS &    100  &     77  &    120  &     50  \\\\\n",
        "ORD  &  LGA &    100  &     81  &    121  &     71  \\\\\n"
       ]
      }
     ],
     "prompt_number": 160
    },
    {
     "cell_type": "code",
     "collapsed": false,
     "input": [
      "revs_ps = revs"
     ],
     "language": "python",
     "metadata": {},
     "outputs": [],
     "prompt_number": 104
    },
    {
     "cell_type": "code",
     "collapsed": false,
     "input": [
      "revs_ss = revs"
     ],
     "language": "python",
     "metadata": {},
     "outputs": [],
     "prompt_number": 102
    },
    {
     "cell_type": "code",
     "collapsed": false,
     "input": [
      "revs_pw = revs"
     ],
     "language": "python",
     "metadata": {},
     "outputs": [],
     "prompt_number": 148
    },
    {
     "cell_type": "code",
     "collapsed": false,
     "input": [
      "revs_sw = revs"
     ],
     "language": "python",
     "metadata": {},
     "outputs": [],
     "prompt_number": 151
    },
    {
     "cell_type": "code",
     "collapsed": false,
     "input": [
      "table = np.transpose(np.vstack([np.ones(bench.shape), ss/bench, pw/bench, sw/bench]))"
     ],
     "language": "python",
     "metadata": {},
     "outputs": [],
     "prompt_number": 158
    },
    {
     "cell_type": "code",
     "collapsed": false,
     "input": [
      "bench = revs_ps[:,1] * revs_ps[:,3] * revs_ps[:,4]\n",
      "ss = revs_ss[:,1] * revs_ss[:,3] * revs_ss[:,4]\n",
      "pw = revs_pw[:,1] * revs_pw[:,3] * revs_pw[:,4]\n",
      "sw = revs_sw[:,1] * revs_sw[:,3] * revs_sw[:,4]"
     ],
     "language": "python",
     "metadata": {},
     "outputs": [],
     "prompt_number": 153
    },
    {
     "cell_type": "code",
     "collapsed": false,
     "input": [
      "revs_ps.mean(axis=0)"
     ],
     "language": "python",
     "metadata": {},
     "outputs": [
      {
       "metadata": {},
       "output_type": "pyout",
       "prompt_number": 154,
       "text": [
        "array([ 31.3132737 ,   6.89111237,  22.63101461,  67.40201061,  23.81233278])"
       ]
      }
     ],
     "prompt_number": 154
    },
    {
     "cell_type": "code",
     "collapsed": false,
     "input": [
      "revs_ss.mean(axis=0)"
     ],
     "language": "python",
     "metadata": {},
     "outputs": [
      {
       "metadata": {},
       "output_type": "pyout",
       "prompt_number": 155,
       "text": [
        "array([ 32.61945341,   7.02745742,  21.48129826,  58.84984131,  21.38842663])"
       ]
      }
     ],
     "prompt_number": 155
    },
    {
     "cell_type": "code",
     "collapsed": false,
     "input": [
      "revs_pw.mean(axis=0)"
     ],
     "language": "python",
     "metadata": {},
     "outputs": [
      {
       "metadata": {},
       "output_type": "pyout",
       "prompt_number": 156,
       "text": [
        "array([ 29.04615317,   5.84039046,  24.94313021,  81.43542743,  28.07454527])"
       ]
      }
     ],
     "prompt_number": 156
    },
    {
     "cell_type": "code",
     "collapsed": false,
     "input": [
      "revs_sw.mean(axis=0)"
     ],
     "language": "python",
     "metadata": {},
     "outputs": [
      {
       "metadata": {},
       "output_type": "pyout",
       "prompt_number": 157,
       "text": [
        "array([ 36.09242243,   7.09940588,  20.13946307,  46.33869232,  23.26753817])"
       ]
      }
     ],
     "prompt_number": 157
    },
    {
     "cell_type": "code",
     "collapsed": false,
     "input": [
      "revs"
     ],
     "language": "python",
     "metadata": {},
     "outputs": []
    },
    {
     "cell_type": "code",
     "collapsed": false,
     "input": [
      "bench = revs_ps\n",
      "other = revs_pw\n",
      "\n",
      "res = (other[:, -1] * other[:, -3])/(bench[:, -1] * bench[:, -3])\n",
      "scatter(a, res)"
     ],
     "language": "python",
     "metadata": {},
     "outputs": [
      {
       "metadata": {},
       "output_type": "pyout",
       "prompt_number": 58,
       "text": [
        "<matplotlib.collections.PathCollection at 0x7f86e6720550>"
       ]
      },
      {
       "metadata": {},
       "output_type": "display_data",
       "png": "[encoded data removed]",
       "text": [
        "<matplotlib.figure.Figure at 0x7f86e69ad410>"
       ]
      }
     ],
     "prompt_number": 58
    },
    {
     "cell_type": "code",
     "collapsed": false,
     "input": [
      "stats.pearsonr(a, res)"
     ],
     "language": "python",
     "metadata": {},
     "outputs": [
      {
       "metadata": {},
       "output_type": "pyout",
       "prompt_number": 40,
       "text": [
        "(-0.58358327434907442, 0.0043556900686111226)"
       ]
      }
     ],
     "prompt_number": 40
    },
    {
     "cell_type": "code",
     "collapsed": false,
     "input": [
      "means = []\n",
      "\n",
      "for pair in pairs:\n",
      "    sim = Simulation(*pair, seller_accuracy='perfect', customer_accuracy=.2, arrival_rate=1, customer_RE='weak')\n",
      "    means.append(bottleneck.nanmean((sim.route_data.data[4, :])/(sim.route_data.data[2, :])))\n",
      "means = np.array(means)"
     ],
     "language": "python",
     "metadata": {},
     "outputs": [],
     "prompt_number": 8
    },
    {
     "cell_type": "code",
     "collapsed": false,
     "input": [
      "stats.pearsonr(MAPE, revs[:,-3]*(revs[:,-1]/100))"
     ],
     "language": "python",
     "metadata": {},
     "outputs": [
      {
       "metadata": {},
       "output_type": "pyout",
       "prompt_number": 56,
       "text": [
        "(-0.49071356443451608, 0.020404309352414111)"
       ]
      }
     ],
     "prompt_number": 56
    },
    {
     "cell_type": "code",
     "collapsed": false,
     "input": [
      "revs[0,:]"
     ],
     "language": "python",
     "metadata": {},
     "outputs": [
      {
       "metadata": {},
       "output_type": "pyout",
       "prompt_number": 71,
       "text": [
        "array([ 13.11589448,   5.97434049,   9.84914398,  75.09319319,  26.19027003])"
       ]
      }
     ],
     "prompt_number": 71
    },
    {
     "cell_type": "code",
     "collapsed": false,
     "input": [
      "revs[:,2]"
     ],
     "language": "python",
     "metadata": {},
     "outputs": [
      {
       "metadata": {},
       "output_type": "pyout",
       "prompt_number": 72,
       "text": [
        "array([   9.84914398,   29.63509455,   38.58334939,   11.76818928,\n",
        "         17.38967249,   10.72436071,   10.51574041,   10.20722499,\n",
        "          8.27095732,    8.40554566,   13.11198609,   17.66971112,\n",
        "        136.63598273,   49.05311095,    9.37638308,   10.98773506,\n",
        "         10.80660298,   44.22507088,   65.01012296,   12.63770489,\n",
        "         10.96986201,   12.91531303])"
       ]
      }
     ],
     "prompt_number": 72
    },
    {
     "cell_type": "code",
     "collapsed": false,
     "input": [
      "revs.mean(axis=1)"
     ],
     "language": "python",
     "metadata": {},
     "outputs": [
      {
       "metadata": {},
       "output_type": "pyout",
       "prompt_number": 63,
       "text": [
        "array([ 26.04456844,  36.69580035,  39.68101663,  27.33088236,\n",
        "        30.02219095,  26.40346645,  26.53739598,  27.15498225,\n",
        "        26.39746049,  26.26299344,  27.93921916,  30.43164884,\n",
        "        82.01594641,  46.9710274 ,  27.12592221,  28.39284379,\n",
        "        26.71317143,  44.82174469,  54.49546653,  27.53959055,\n",
        "        27.14989538,  28.96721105])"
       ]
      }
     ],
     "prompt_number": 63
    },
    {
     "cell_type": "code",
     "collapsed": false,
     "input": [
      "stats.pearsonr(a, revs[:,1]/100*revs[:,3]/100*revs[:,4]/100)"
     ],
     "language": "python",
     "metadata": {},
     "outputs": [
      {
       "metadata": {},
       "output_type": "pyout",
       "prompt_number": 85,
       "text": [
        "(0.46959674633629617, 0.027451262800230036)"
       ]
      }
     ],
     "prompt_number": 85
    },
    {
     "cell_type": "code",
     "collapsed": false,
     "input": [
      "res = revs[:,1]/100*revs[:,3]/100*revs[:,4]/100"
     ],
     "language": "python",
     "metadata": {},
     "outputs": [],
     "prompt_number": 86
    },
    {
     "cell_type": "code",
     "collapsed": false,
     "input": [
      "res1 = revs_ss[:,1]/100*revs_ss[:,3]/100*revs_ss[:,4]/100\n",
      "res2 = revs_ps[:,1]/100*revs_ps[:,3]/100*revs_ps[:,4]/100\n",
      "\n",
      "fin = res1/res2"
     ],
     "language": "python",
     "metadata": {},
     "outputs": [],
     "prompt_number": 117
    },
    {
     "cell_type": "code",
     "collapsed": false,
     "input": [
      "b = revs_ss/revs_ps"
     ],
     "language": "python",
     "metadata": {},
     "outputs": [],
     "prompt_number": 107
    },
    {
     "cell_type": "code",
     "collapsed": false,
     "input": [
      "res"
     ],
     "language": "python",
     "metadata": {},
     "outputs": [
      {
       "metadata": {},
       "output_type": "pyout",
       "prompt_number": 116,
       "text": [
        "array([  7.37615741e-07,   8.42519506e-07,   8.12126330e-07,\n",
        "         8.09961770e-07,   7.73824968e-07,   7.29814787e-07,\n",
        "         7.58962855e-07,   7.96714189e-07,   7.22996239e-07,\n",
        "         7.89300266e-07,   7.37450805e-07,   7.52833969e-07,\n",
        "         8.88344172e-07,   8.50569053e-07,   7.80812878e-07,\n",
        "         7.98395585e-07,   7.95774365e-07,   8.84824991e-07,\n",
        "         8.76732181e-07,   7.99549767e-07,   7.74372314e-07,\n",
        "         8.07449481e-07])"
       ]
      }
     ],
     "prompt_number": 116
    },
    {
     "cell_type": "code",
     "collapsed": false,
     "input": [
      "scatter(a, fin)"
     ],
     "language": "python",
     "metadata": {},
     "outputs": [
      {
       "metadata": {},
       "output_type": "pyout",
       "prompt_number": 118,
       "text": [
        "<matplotlib.collections.PathCollection at 0x7f06c5799f10>"
       ]
      },
      {
       "metadata": {},
       "output_type": "display_data",
       "png": "[encoded data removed]",
       "text": [
        "<matplotlib.figure.Figure at 0x7f06c58448d0>"
       ]
      }
     ],
     "prompt_number": 118
    },
    {
     "cell_type": "code",
     "collapsed": false,
     "input": [
      "MAPE = a"
     ],
     "language": "python",
     "metadata": {},
     "outputs": [],
     "prompt_number": 133
    },
    {
     "cell_type": "code",
     "collapsed": false,
     "input": [
      "stats.pearsonr(MAPE, fin)"
     ],
     "language": "python",
     "metadata": {},
     "outputs": [
      {
       "metadata": {},
       "output_type": "pyout",
       "prompt_number": 145,
       "text": [
        "(-0.57687092624177849, 0.0049440806817092082)"
       ]
      }
     ],
     "prompt_number": 145
    },
    {
     "cell_type": "code",
     "collapsed": false,
     "input": [
      "scatter(np.array(MAPE), fin, color='k', marker='o')\n",
      "xlabel('mean of price changes')\n",
      "ylabel('performance relative to perfect seller')\n",
      "xs = np.linspace(MAPE.min(), MAPE.max())\n",
      "plot(xs, m*xs + c, 'k--', label=r'$y = %.2g x + %.2f$' %(m, c))\n",
      "legend(loc='upper right')\n",
      "\n",
      "#savefig('/home/patrick/total_profits_VS_mean_strong.png', dpi=200)"
     ],
     "language": "python",
     "metadata": {},
     "outputs": [
      {
       "metadata": {},
       "output_type": "display_data",
       "png": "[encoded data removed]",
       "text": [
        "<matplotlib.figure.Figure at 0x7f06c52bd210>"
       ]
      }
     ],
     "prompt_number": 146
    },
    {
     "cell_type": "code",
     "collapsed": false,
     "input": [
      "a = []\n",
      "for pair in pairs:\n",
      "    r = Route_Data(*pair)\n",
      "    a.append((r.get_changes(label='test')).mean().mean())\n",
      "a = np.array(a)"
     ],
     "language": "python",
     "metadata": {},
     "outputs": [],
     "prompt_number": 120
    },
    {
     "cell_type": "code",
     "collapsed": false,
     "input": [
      "A = np.vstack([MAPE, np.ones(len(MAPE))]).T"
     ],
     "language": "python",
     "metadata": {},
     "outputs": [],
     "prompt_number": 140
    },
    {
     "cell_type": "code",
     "collapsed": false,
     "input": [
      "m, c = np.linalg.lstsq(A, fin)[0]"
     ],
     "language": "python",
     "metadata": {},
     "outputs": [],
     "prompt_number": 143
    },
    {
     "cell_type": "code",
     "collapsed": false,
     "input": [],
     "language": "python",
     "metadata": {},
     "outputs": []
    },
    {
     "cell_type": "code",
     "collapsed": false,
     "input": [
      "plot(margins, revs_05, label=r\"seller's $\\sigma = 0.05$\")\n",
      "plot(margins, revs_10, label=r\"seller's $\\sigma = 0.10$\")\n",
      "plot(margins, revs_15, label=r\"seller's $\\sigma = 0.15$\")\n",
      "plot([1, 1.15], [0,0], color='k')\n",
      "legend(loc='lower right')\n",
      "title('AMS to CDG')\n",
      "xlabel('margin')\n",
      "ylabel('total profits')\n",
      "#savefig('/home/patrick/strong_RE_AMS_CDG_total_profits.png', dpi=200)"
     ],
     "language": "python",
     "metadata": {},
     "outputs": [
      {
       "metadata": {},
       "output_type": "pyout",
       "prompt_number": 100,
       "text": [
        "<matplotlib.text.Text at 0x7f3f5ff2f910>"
       ]
      },
      {
       "metadata": {},
       "output_type": "display_data",
       "png": "[encoded data removed]",
       "text": [
        "<matplotlib.figure.Figure at 0x7f3f5ff7fb10>"
       ]
      }
     ],
     "prompt_number": 100
    },
    {
     "cell_type": "code",
     "collapsed": false,
     "input": [
      "allrevs = []\n",
      "#margins = np.arange(1.1, 1.15, 0.1) #np.arange(1.0, 1.11, 0.01)\n",
      "#accs = np.hstack([[0.00000001], np.arange(0.1, 0.51, 0.1)])\n",
      "\n",
      "for pair in pairs:\n",
      "    print(pair, flush=True)\n",
      "    revs = []\n",
      "    for acc in accs:\n",
      "        sim = Simulation(*pair, seller_accuracy=.05, customer_accuracy=.1, arrival_rate=1, customer_RE='strong')\n",
      "\n",
      "        for n in range(TRIALS):\n",
      "            sim.generate_trial(n, 1.08)\n",
      "        revs.append(sim.total_decision.sum(axis=0)/sim.total_decision.sum())\n",
      "    allrevs.append(revs)"
     ],
     "language": "python",
     "metadata": {},
     "outputs": [
      {
       "output_type": "stream",
       "stream": "stdout",
       "text": [
        "('AMS', 'CDG')\n"
       ]
      },
      {
       "output_type": "stream",
       "stream": "stdout",
       "text": [
        "('AMS', 'DXB')\n"
       ]
      },
      {
       "output_type": "stream",
       "stream": "stdout",
       "text": [
        "('AMS', 'JFK')\n"
       ]
      },
      {
       "output_type": "stream",
       "stream": "stdout",
       "text": [
        "('AMS', 'LHR')\n"
       ]
      },
      {
       "output_type": "stream",
       "stream": "stdout",
       "text": [
        "('ATL', 'LAX')\n"
       ]
      },
      {
       "output_type": "stream",
       "stream": "stdout",
       "text": [
        "('ATL', 'MCO')\n"
       ]
      },
      {
       "output_type": "stream",
       "stream": "stdout",
       "text": [
        "('CDG', 'AMS')\n"
       ]
      },
      {
       "output_type": "stream",
       "stream": "stdout",
       "text": [
        "('CDG', 'LHR')\n"
       ]
      },
      {
       "output_type": "stream",
       "stream": "stdout",
       "text": [
        "('DEN', 'FLL')\n"
       ]
      },
      {
       "output_type": "stream",
       "stream": "stdout",
       "text": [
        "('DEN', 'PHX')\n"
       ]
      },
      {
       "output_type": "stream",
       "stream": "stdout",
       "text": [
        "('DFW', 'LAX')\n"
       ]
      },
      {
       "output_type": "stream",
       "stream": "stdout",
       "text": [
        "('DFW', 'SFO')\n"
       ]
      },
      {
       "output_type": "stream",
       "stream": "stdout",
       "text": [
        "('JFK', 'CDG')\n"
       ]
      },
      {
       "output_type": "stream",
       "stream": "stdout",
       "text": [
        "('JFK', 'LHR')\n"
       ]
      },
      {
       "output_type": "stream",
       "stream": "stdout",
       "text": [
        "('LAX', 'LAS')\n"
       ]
      },
      {
       "output_type": "stream",
       "stream": "stdout",
       "text": [
        "('LAX', 'SFO')\n"
       ]
      },
      {
       "output_type": "stream",
       "stream": "stdout",
       "text": [
        "('LHR', 'AMS')\n"
       ]
      },
      {
       "output_type": "stream",
       "stream": "stdout",
       "text": [
        "('LHR', 'JFK')\n"
       ]
      },
      {
       "output_type": "stream",
       "stream": "stdout",
       "text": [
        "('LHR', 'LAX')\n"
       ]
      },
      {
       "output_type": "stream",
       "stream": "stdout",
       "text": [
        "('LHR', 'MAD')\n"
       ]
      },
      {
       "output_type": "stream",
       "stream": "stdout",
       "text": [
        "('ORD', 'BOS')\n"
       ]
      },
      {
       "output_type": "stream",
       "stream": "stdout",
       "text": [
        "('ORD', 'LGA')\n"
       ]
      }
     ],
     "prompt_number": 39
    },
    {
     "cell_type": "code",
     "collapsed": false,
     "input": [
      "r = np.array(allrevs)"
     ],
     "language": "python",
     "metadata": {},
     "outputs": [],
     "prompt_number": 40
    },
    {
     "cell_type": "code",
     "collapsed": false,
     "input": [
      "for row in r.mean(axis=0):\n",
      "    print(*row, sep=',')"
     ],
     "language": "python",
     "metadata": {},
     "outputs": [
      {
       "output_type": "stream",
       "stream": "stdout",
       "text": [
        "0.0586767254574,0.579576997012,0.0,0.361746277531\n",
        "0.0478084868881,0.53619134316,0.0289909485797,0.387009221372\n",
        "0.0423083891366,0.523474901117,0.0547485619453,0.379468147801\n",
        "0.0393016049693,0.517256284337,0.0769716413368,0.366470469357\n",
        "0.0373576802742,0.513700572846,0.0963586703905,0.352583076489\n",
        "0.0360271162242,0.511286884581,0.11324992424,0.339436074955\n"
       ]
      }
     ],
     "prompt_number": 45
    },
    {
     "cell_type": "code",
     "collapsed": false,
     "input": [
      "avgs = r.mean(axis=0)\n",
      "avgs /= avgs[0,0]"
     ],
     "language": "python",
     "metadata": {},
     "outputs": [],
     "prompt_number": 17
    },
    {
     "cell_type": "code",
     "collapsed": false,
     "input": [
      "normal_c = avgs[:, 0]\n",
      "mix_c = avgs[:, 1]\n",
      "option_c = avgs[:, 2]"
     ],
     "language": "python",
     "metadata": {},
     "outputs": [],
     "prompt_number": 18
    },
    {
     "cell_type": "code",
     "collapsed": false,
     "input": [
      "_ = plot(accs, normal_c, label='all buy/wait')\n",
      "_ = plot(accs, mix_c, label='combination')\n",
      "_ = plot(accs, option_c, label='all options')\n",
      "title('Customer\\'s total costs for three strategies')\n",
      "ylabel('relative costs')\n",
      "_ = xlabel('customer\\'s error term')\n",
      "legend(loc='upper left')\n",
      "#savefig('/home/patrick/customers_total_costs_strategies.png', dpi=200)\n"
     ],
     "language": "python",
     "metadata": {},
     "outputs": [
      {
       "metadata": {},
       "output_type": "pyout",
       "prompt_number": 20,
       "text": [
        "<matplotlib.legend.Legend at 0x7f83b6ad0ed0>"
       ]
      },
      {
       "metadata": {},
       "output_type": "display_data",
       "png": "[encoded data removed]",
       "text": [
        "<matplotlib.figure.Figure at 0x7f83b6b11310>"
       ]
      }
     ],
     "prompt_number": 20
    },
    {
     "cell_type": "code",
     "collapsed": false,
     "input": [
      "mean_changes = []\n",
      "for p in pairs:\n",
      "    route = Route_Data(*p)\n",
      "    mean_changes.append(((route.get_changes(label='test')) * route.get_prices(label='test')).mean().mean())\n",
      "mean_changes = np.array(mean_changes)"
     ],
     "language": "python",
     "metadata": {},
     "outputs": [],
     "prompt_number": 252
    },
    {
     "cell_type": "code",
     "collapsed": false,
     "input": [
      "print(*np.round(mean_changes/mean_changes.max(), 2), sep=' & ')"
     ],
     "language": "python",
     "metadata": {},
     "outputs": [
      {
       "output_type": "stream",
       "stream": "stdout",
       "text": [
        "0.09 & 0.23 & 0.34 & 0.1 & 0.16 & 0.1 & 0.1 & 0.09 & 0.08 & 0.08 & 0.12 & 0.17 & 1.0 & 0.4 & 0.08 & 0.09 & 0.1 & 0.34 & 0.5 & 0.11 & 0.1 & 0.11\n"
       ]
      }
     ],
     "prompt_number": 272
    },
    {
     "cell_type": "code",
     "collapsed": false,
     "input": [
      "scatter(mean_changes/mean_changes.max(), r)"
     ],
     "language": "python",
     "metadata": {},
     "outputs": [
      {
       "metadata": {},
       "output_type": "pyout",
       "prompt_number": 257,
       "text": [
        "<matplotlib.collections.PathCollection at 0x7fd21396c250>"
       ]
      },
      {
       "metadata": {},
       "output_type": "display_data",
       "png": "[encoded data removed]",
       "text": [
        "<matplotlib.figure.Figure at 0x7fd213a25a50>"
       ]
      }
     ],
     "prompt_number": 257
    },
    {
     "cell_type": "code",
     "collapsed": false,
     "input": [
      "print(*np.int_(r), sep=' & ')"
     ],
     "language": "python",
     "metadata": {},
     "outputs": [
      {
       "output_type": "stream",
       "stream": "stdout",
       "text": [
        "7 & 19 & 27 & 8 & 13 & 8 & 7 & 7 & 6 & 6 & 9 & 13 & 91 & 32 & 6 & 7 & 8 & 29 & 43 & 9 & 8 & 9\n"
       ]
      }
     ],
     "prompt_number": 269
    },
    {
     "cell_type": "code",
     "collapsed": false,
     "input": [
      "_ = plot(margins - 1, r)\n",
      "title('Normalized profits of seller with perfect information')\n",
      "xlabel('margin')\n",
      "ylabel('normalized profits')\n",
      "ylim(0, 1.05)\n",
      "savefig('/home/patrick/normalized_profits.png', dpi=200)"
     ],
     "language": "python",
     "metadata": {},
     "outputs": [
      {
       "ename": "TypeError",
       "evalue": "unsupported operand type(s) for -: 'list' and 'int'",
       "output_type": "pyerr",
       "traceback": [
        "\u001b[1;31m---------------------------------------------------------------------------\u001b[0m\n\u001b[1;31mTypeError\u001b[0m                                 Traceback (most recent call last)",
        "\u001b[1;32m<ipython-input-210-b7ed308c317d>\u001b[0m in \u001b[0;36m<module>\u001b[1;34m()\u001b[0m\n\u001b[1;32m----> 1\u001b[1;33m \u001b[0m_\u001b[0m \u001b[1;33m=\u001b[0m \u001b[0mplot\u001b[0m\u001b[1;33m(\u001b[0m\u001b[0mmargins\u001b[0m \u001b[1;33m-\u001b[0m \u001b[1;36m1\u001b[0m\u001b[1;33m,\u001b[0m \u001b[0mr\u001b[0m\u001b[1;33m)\u001b[0m\u001b[1;33m\u001b[0m\u001b[0m\n\u001b[0m\u001b[0;32m      2\u001b[0m \u001b[0mtitle\u001b[0m\u001b[1;33m(\u001b[0m\u001b[1;34m'Normalized profits of seller with perfect information'\u001b[0m\u001b[1;33m)\u001b[0m\u001b[1;33m\u001b[0m\u001b[0m\n\u001b[0;32m      3\u001b[0m \u001b[0mxlabel\u001b[0m\u001b[1;33m(\u001b[0m\u001b[1;34m'margin'\u001b[0m\u001b[1;33m)\u001b[0m\u001b[1;33m\u001b[0m\u001b[0m\n\u001b[0;32m      4\u001b[0m \u001b[0mylabel\u001b[0m\u001b[1;33m(\u001b[0m\u001b[1;34m'normalized profits'\u001b[0m\u001b[1;33m)\u001b[0m\u001b[1;33m\u001b[0m\u001b[0m\n\u001b[0;32m      5\u001b[0m \u001b[0mylim\u001b[0m\u001b[1;33m(\u001b[0m\u001b[1;36m0\u001b[0m\u001b[1;33m,\u001b[0m \u001b[1;36m1.05\u001b[0m\u001b[1;33m)\u001b[0m\u001b[1;33m\u001b[0m\u001b[0m\n",
        "\u001b[1;31mTypeError\u001b[0m: unsupported operand type(s) for -: 'list' and 'int'"
       ]
      }
     ],
     "prompt_number": 210
    },
    {
     "cell_type": "code",
     "collapsed": false,
     "input": [
      "marginsstats.pearsonr(r.mean(axis=0)/30, o)"
     ],
     "language": "python",
     "metadata": {},
     "outputs": [
      {
       "ename": "NameError",
       "evalue": "name 'marginsstats' is not defined",
       "output_type": "pyerr",
       "traceback": [
        "\u001b[1;31m---------------------------------------------------------------------------\u001b[0m\n\u001b[1;31mNameError\u001b[0m                                 Traceback (most recent call last)",
        "\u001b[1;32m<ipython-input-43-446a5851e60d>\u001b[0m in \u001b[0;36m<module>\u001b[1;34m()\u001b[0m\n\u001b[1;32m----> 1\u001b[1;33m \u001b[0mmarginsstats\u001b[0m\u001b[1;33m.\u001b[0m\u001b[0mpearsonr\u001b[0m\u001b[1;33m(\u001b[0m\u001b[0mr\u001b[0m\u001b[1;33m.\u001b[0m\u001b[0mmean\u001b[0m\u001b[1;33m(\u001b[0m\u001b[0maxis\u001b[0m\u001b[1;33m=\u001b[0m\u001b[1;36m0\u001b[0m\u001b[1;33m)\u001b[0m\u001b[1;33m/\u001b[0m\u001b[1;36m30\u001b[0m\u001b[1;33m,\u001b[0m \u001b[0mo\u001b[0m\u001b[1;33m)\u001b[0m\u001b[1;33m\u001b[0m\u001b[0m\n\u001b[0m",
        "\u001b[1;31mNameError\u001b[0m: name 'marginsstats' is not defined"
       ]
      }
     ],
     "prompt_number": 43
    },
    {
     "cell_type": "code",
     "collapsed": false,
     "input": [
      "o = (1 - stats.norm(1, .1).cdf(margins)) * (margins - 1)"
     ],
     "language": "python",
     "metadata": {},
     "outputs": [],
     "prompt_number": 139
    },
    {
     "cell_type": "code",
     "collapsed": false,
     "input": [
      "o/o.max()"
     ],
     "language": "python",
     "metadata": {},
     "outputs": [
      {
       "metadata": {},
       "output_type": "pyout",
       "prompt_number": 150,
       "text": [
        "array([ 0.        ,  0.27151312,  0.49649465,  0.67632554,  0.81323927,\n",
        "        0.91022444,  0.97089732,  0.99935237,  1.        ,  0.97740082,\n",
        "        0.9361058 ,  0.88051017])"
       ]
      }
     ],
     "prompt_number": 150
    },
    {
     "cell_type": "code",
     "collapsed": false,
     "input": [
      "rr = r[:]"
     ],
     "language": "python",
     "metadata": {},
     "outputs": [],
     "prompt_number": 199
    },
    {
     "cell_type": "code",
     "collapsed": false,
     "input": [
      "rr[:, 0] = 0"
     ],
     "language": "python",
     "metadata": {},
     "outputs": [],
     "prompt_number": 200
    },
    {
     "cell_type": "code",
     "collapsed": false,
     "input": [
      "print(*margins, sep=', ')\n",
      "for row in r:\n",
      "    print(*np.int_(row), sep=', ')"
     ],
     "language": "python",
     "metadata": {},
     "outputs": [
      {
       "output_type": "stream",
       "stream": "stdout",
       "text": [
        "1e-08, 0.1, 0.2, 0.3, 0.4, 0.5\n",
        "[0 0 0 0], [0 0 0 0], [0 0 0 0], [0 0 0 0], [0 0 0 0], [0 0 0 0]\n",
        "[0 0 0 0], [0 0 0 0], [0 0 0 0], [0 0 0 0], [0 0 0 0], [0 0 0 0]\n",
        "[0 0 0 0], [0 0 0 0], [0 0 0 0], [0 0 0 0], [0 0 0 0], [0 0 0 0]\n",
        "[0 0 0 0], [0 0 0 0], [0 0 0 0], [0 0 0 0], [0 0 0 0], [0 0 0 0]\n",
        "[0 0 0 0], [0 0 0 0], [0 0 0 0], [0 0 0 0], [0 0 0 0], [0 0 0 0]\n",
        "[0 0 0 0], [0 0 0 0], [0 0 0 0], [0 0 0 0], [0 0 0 0], [0 0 0 0]\n",
        "[0 0 0 0], [0 0 0 0], [0 0 0 0], [0 0 0 0], [0 0 0 0], [0 0 0 0]\n",
        "[0 0 0 0], [0 0 0 0], [0 0 0 0], [0 0 0 0], [0 0 0 0], [0 0 0 0]\n",
        "[0 0 0 0], [0 0 0 0], [0 0 0 0], [0 0 0 0], [0 0 0 0], [0 0 0 0]\n",
        "[0 0 0 0], [0 0 0 0], [0 0 0 0], [0 0 0 0], [0 0 0 0], [0 0 0 0]\n",
        "[0 0 0 0], [0 0 0 0], [0 0 0 0], [0 0 0 0], [0 0 0 0], [0 0 0 0]\n",
        "[0 0 0 0], [0 0 0 0], [0 0 0 0], [0 0 0 0], [0 0 0 0], [0 0 0 0]\n",
        "[0 0 0 0], [0 0 0 0], [0 0 0 0], [0 0 0 0], [0 0 0 0], [0 0 0 0]\n",
        "[0 0 0 0], [0 0 0 0], [0 0 0 0], [0 0 0 0], [0 0 0 0], [0 0 0 0]\n",
        "[0 0 0 0], [0 0 0 0], [0 0 0 0], [0 0 0 0], [0 0 0 0], [0 0 0 0]\n",
        "[0 0 0 0], [0 0 0 0], [0 0 0 0], [0 0 0 0], [0 0 0 0], [0 0 0 0]\n",
        "[0 0 0 0], [0 0 0 0], [0 0 0 0], [0 0 0 0], [0 0 0 0], [0 0 0 0]\n",
        "[0 0 0 0], [0 0 0 0], [0 0 0 0], [0 0 0 0], [0 0 0 0], [0 0 0 0]\n",
        "[0 0 0 0], [0 0 0 0], [0 0 0 0], [0 0 0 0], [0 0 0 0], [0 0 0 0]\n",
        "[0 0 0 0], [0 0 0 0], [0 0 0 0], [0 0 0 0], [0 0 0 0], [0 0 0 0]\n",
        "[0 0 0 0], [0 0 0 0], [0 0 0 0], [0 0 0 0], [0 0 0 0], [0 0 0 0]\n",
        "[0 0 0 0], [0 0 0 0], [0 0 0 0], [0 0 0 0], [0 0 0 0], [0 0 0 0]\n"
       ]
      }
     ],
     "prompt_number": 42
    },
    {
     "cell_type": "code",
     "collapsed": false,
     "input": [
      "_ = plot(margins - 1, r.mean(axis=0)/r.mean(axis=0).max())\n",
      "title('Normalized profits of seller with perfect information')\n",
      "xlabel('margin')\n",
      "ylabel('normalized profits')\n",
      "ylim(0, 1.05)\n",
      "savefig('/home/patrick/normalized_profits.png', dpi=200)"
     ],
     "language": "python",
     "metadata": {},
     "outputs": [
      {
       "metadata": {},
       "output_type": "display_data",
       "png": "[encoded data removed]",
       "text": [
        "<matplotlib.figure.Figure at 0x7fd219677990>"
       ]
      }
     ],
     "prompt_number": 156
    },
    {
     "cell_type": "code",
     "collapsed": false,
     "input": [
      "revs = []\n",
      "marges = np.linspace(1.0, 1.1, 10)\n",
      "for marg in marges:\n",
      "    for n in range(TRIALS):\n",
      "        sim.generate_trial(n, marg)\n",
      "    revs.append(((sim.total_revenues - sim.total_costs)).mean())\n",
      "print(revs[0])\n",
      "#revs = np.round(revs, 2)"
     ],
     "language": "python",
     "metadata": {},
     "outputs": [
      {
       "output_type": "stream",
       "stream": "stdout",
       "text": [
        "-0.0066763194399\n"
       ]
      }
     ],
     "prompt_number": 118
    },
    {
     "cell_type": "code",
     "collapsed": false,
     "input": [
      "for n in range(TRIALS):\n",
      "    sim.generate_trial(n, 1.0)"
     ],
     "language": "python",
     "metadata": {},
     "outputs": [],
     "prompt_number": 121
    },
    {
     "cell_type": "code",
     "collapsed": false,
     "input": [
      "(sim.total_decision.sum(axis=0)/sim.total_decision.sum())"
     ],
     "language": "python",
     "metadata": {},
     "outputs": [
      {
       "metadata": {},
       "output_type": "pyout",
       "prompt_number": 122,
       "text": [
        "array([ 0.04525207,  0.55367295,  0.02770856,  0.37336642])"
       ]
      }
     ],
     "prompt_number": 122
    },
    {
     "cell_type": "code",
     "collapsed": false,
     "input": [
      "(sim.total_decision.sum(axis=0)/sim.total_decision.sum())"
     ],
     "language": "python",
     "metadata": {},
     "outputs": [
      {
       "metadata": {},
       "output_type": "pyout",
       "prompt_number": 101,
       "text": [
        "array([ 0.06880415,  0.82159862,  0.00510871,  0.10448852])"
       ]
      }
     ],
     "prompt_number": 101
    },
    {
     "cell_type": "code",
     "collapsed": false,
     "input": [
      "_ = plot(marges, np.array(revs)/sim.route_data.get_prices().shape[1]) # perfect 0.1"
     ],
     "language": "python",
     "metadata": {},
     "outputs": [
      {
       "metadata": {},
       "output_type": "display_data",
       "png": "[encoded data removed]",
       "text": [
        "<matplotlib.figure.Figure at 0x7fd21ccb1150>"
       ]
      }
     ],
     "prompt_number": 116
    },
    {
     "cell_type": "code",
     "collapsed": false,
     "input": [
      "revs # 0.05 0.1"
     ],
     "language": "python",
     "metadata": {},
     "outputs": [
      {
       "metadata": {},
       "output_type": "pyout",
       "prompt_number": 582,
       "text": [
        "array([  0.  ,  34.6 ,  54.15,  59.51,  56.7 ,  48.98,  39.15,  29.73,\n",
        "        21.23,  14.45])"
       ]
      }
     ],
     "prompt_number": 582
    },
    {
     "cell_type": "code",
     "collapsed": false,
     "input": [
      "revs # 0.1 0.1"
     ],
     "language": "python",
     "metadata": {},
     "outputs": [
      {
       "metadata": {},
       "output_type": "pyout",
       "prompt_number": 585,
       "text": [
        "array([  0.  ,   5.89,  26.89,  35.87,  37.45,  34.5 ,  29.24,  23.58,\n",
        "        18.  ,  13.4 ])"
       ]
      }
     ],
     "prompt_number": 585
    },
    {
     "cell_type": "code",
     "collapsed": false,
     "input": [
      "revs # 0.15 0.1"
     ],
     "language": "python",
     "metadata": {},
     "outputs": [
      {
       "metadata": {},
       "output_type": "pyout",
       "prompt_number": 588,
       "text": [
        "array([  0.  , -21.28,   1.95,  14.02,  19.35,  19.72,  17.76,  15.28,\n",
        "        11.89,   9.22])"
       ]
      }
     ],
     "prompt_number": 588
    },
    {
     "cell_type": "code",
     "collapsed": false,
     "input": [
      "revs # 0.2 0.1"
     ],
     "language": "python",
     "metadata": {},
     "outputs": [
      {
       "metadata": {},
       "output_type": "pyout",
       "prompt_number": 591,
       "text": [
        "array([  0.  , -42.75, -17.71,  -3.37,   4.54,   7.15,   7.45,   7.03,\n",
        "         5.31,   4.18])"
       ]
      }
     ],
     "prompt_number": 591
    },
    {
     "cell_type": "code",
     "collapsed": false,
     "input": [
      "x = 3\n",
      "sigs = [.2] # np.linspace(0.001, .5)\n",
      "a = []\n",
      "for s in sigs:\n",
      "    y = x * np.random.normal(1, s, size=10000000)\n",
      "    a.append(np.abs((x-y)).mean())\n",
      "a"
     ],
     "language": "python",
     "metadata": {},
     "outputs": [
      {
       "metadata": {},
       "output_type": "pyout",
       "prompt_number": 17,
       "text": [
        "[0.47873537293121798]"
       ]
      }
     ],
     "prompt_number": 17
    },
    {
     "cell_type": "code",
     "collapsed": false,
     "input": [
      "np.arange(0, .351, .05)"
     ],
     "language": "python",
     "metadata": {},
     "outputs": [
      {
       "metadata": {},
       "output_type": "pyout",
       "prompt_number": 19,
       "text": [
        "array([ 0.  ,  0.05,  0.1 ,  0.15,  0.2 ,  0.25,  0.3 ,  0.35])"
       ]
      }
     ],
     "prompt_number": 19
    },
    {
     "cell_type": "code",
     "collapsed": false,
     "input": [
      "N = stats.norm(1, 0.1)"
     ],
     "language": "python",
     "metadata": {},
     "outputs": [],
     "prompt_number": 605
    },
    {
     "cell_type": "code",
     "collapsed": false,
     "input": [
      "x[np.abs(-N.pdf(x)*(x - 1) + (1 - N.cdf(x))).argmin()]"
     ],
     "language": "python",
     "metadata": {},
     "outputs": [
      {
       "metadata": {},
       "output_type": "pyout",
       "prompt_number": 666,
       "text": [
        "1.0751836734693878"
       ]
      }
     ],
     "prompt_number": 666
    },
    {
     "cell_type": "code",
     "collapsed": false,
     "input": [
      "x = np.linspace(1.074, 1.076)\n",
      "\n",
      "_ = plot(x, -N.pdf(x)*(x - 1) + (1 - N.cdf(x)), x, x*0)"
     ],
     "language": "python",
     "metadata": {},
     "outputs": [
      {
       "metadata": {},
       "output_type": "display_data",
       "png": "[encoded data removed]",
       "text": [
        "<matplotlib.figure.Figure at 0x7fe1c8a01c90>"
       ]
      }
     ],
     "prompt_number": 657
    },
    {
     "cell_type": "code",
     "collapsed": false,
     "input": [
      "stats.pearsonr(o, revs)"
     ],
     "language": "python",
     "metadata": {},
     "outputs": [
      {
       "metadata": {},
       "output_type": "pyout",
       "prompt_number": 665,
       "text": [
        "(0.9932796701958303, 8.8518441881637076e-09)"
       ]
      }
     ],
     "prompt_number": 665
    },
    {
     "cell_type": "code",
     "collapsed": false,
     "input": [
      "o = (1 - stats.norm(1, .1).cdf(marges)) * (marges - 1)\n",
      "fig, ax1 = plt.subplots()\n",
      "print(np.argmax(revs))\n",
      "_ = ax1.plot(marges, revs)\n",
      "ax2 = ax1.twinx()\n",
      "_ = ax2.plot(marges, o, color='r')\n",
      "ax1.set_ylim(0)"
     ],
     "language": "python",
     "metadata": {},
     "outputs": [
      {
       "output_type": "stream",
       "stream": "stdout",
       "text": [
        "6\n"
       ]
      },
      {
       "metadata": {},
       "output_type": "pyout",
       "prompt_number": 664,
       "text": [
        "(0, 25.0)"
       ]
      },
      {
       "metadata": {},
       "output_type": "display_data",
       "png": "[encoded data removed]",
       "text": [
        "<matplotlib.figure.Figure at 0x7fe1c8c93850>"
       ]
      }
     ],
     "prompt_number": 664
    },
    {
     "cell_type": "code",
     "collapsed": false,
     "input": [
      "o = (1 - stats.norm(1, .1).cdf(marges)) * (marges - 1)\n",
      "print(np.argmax(o))\n",
      "_ = plot(marges, o)"
     ],
     "language": "python",
     "metadata": {},
     "outputs": [
      {
       "output_type": "stream",
       "stream": "stdout",
       "text": [
        "5\n"
       ]
      },
      {
       "metadata": {},
       "output_type": "display_data",
       "png": "[encoded data removed]",
       "text": [
        "<matplotlib.figure.Figure at 0x7fe1c871c290>"
       ]
      }
     ],
     "prompt_number": 647
    },
    {
     "cell_type": "code",
     "collapsed": false,
     "input": [
      "_ = scatter((sim.total_profits/sim.total_accepted).mean(axis=0), Route_Data(*pairs[0]).get_changes(label='test').mean(axis=0)[3:])"
     ],
     "language": "python",
     "metadata": {},
     "outputs": [
      {
       "metadata": {},
       "output_type": "display_data",
       "png": "[encoded data removed]",
       "text": [
        "<matplotlib.figure.Figure at 0x7fe1d1db2210>"
       ]
      }
     ],
     "prompt_number": 367
    },
    {
     "cell_type": "code",
     "collapsed": false,
     "input": [
      "mtp = []\n",
      "stds = []\n",
      "means = []\n",
      "for pair in pairs:\n",
      "    sim = Simulation(*pair, seller_accuracy='perfect', customer_accuracy=.3, arrival_rate=1, customer_RE='strong')\n",
      "    for n in range(TRIALS):\n",
      "        sim.generate_trial(n)\n",
      "    mtp.append((sim.total_profits/sim.total_accepted).mean())\n",
      "\n",
      "    rd = Route_Data(*pair).get_changes(label='test')\n",
      "    stds.append(rd.std().mean())\n",
      "    means.append(rd.mean().mean())"
     ],
     "language": "python",
     "metadata": {},
     "outputs": [],
     "prompt_number": 361
    },
    {
     "cell_type": "code",
     "collapsed": false,
     "input": [
      "scatter(mtp, stds)"
     ],
     "language": "python",
     "metadata": {},
     "outputs": [
      {
       "metadata": {},
       "output_type": "pyout",
       "prompt_number": 363,
       "text": [
        "<matplotlib.collections.PathCollection at 0x7fe1d1d510d0>"
       ]
      },
      {
       "metadata": {},
       "output_type": "display_data",
       "png": "[encoded data removed]",
       "text": [
        "<matplotlib.figure.Figure at 0x7fe1d0377310>"
       ]
      }
     ],
     "prompt_number": 363
    },
    {
     "cell_type": "code",
     "collapsed": false,
     "input": [
      "len(mtp)"
     ],
     "language": "python",
     "metadata": {},
     "outputs": [
      {
       "metadata": {},
       "output_type": "pyout",
       "prompt_number": 233,
       "text": [
        "1"
       ]
      }
     ],
     "prompt_number": 233
    },
    {
     "cell_type": "code",
     "collapsed": false,
     "input": [
      "Route_Data(*pairs[18]).get_changes(label='test').mean(axis=0)[3:], ((sim.total_revenues - sim.total_costs)/sim.total_accepted).mean()"
     ],
     "language": "python",
     "metadata": {},
     "outputs": [
      {
       "metadata": {},
       "output_type": "pyout",
       "prompt_number": 228,
       "text": [
        "<matplotlib.collections.PathCollection at 0x7fe1d8aab890>"
       ]
      },
      {
       "metadata": {},
       "output_type": "display_data",
       "png": "[encoded data removed]",
       "text": [
        "<matplotlib.figure.Figure at 0x7fe1d8b997d0>"
       ]
      }
     ],
     "prompt_number": 228
    },
    {
     "cell_type": "code",
     "collapsed": false,
     "input": [
      "_ = plot(((sim.total_revenues - sim.total_costs)/sim.total_accepted).mean(axis=0))\n",
      "_ = plot(Route_Data(*pairs[2]).get_changes(label='test').std(axis=0)[3:])"
     ],
     "language": "python",
     "metadata": {},
     "outputs": [
      {
       "metadata": {},
       "output_type": "display_data",
       "png": "[encoded data removed]",
       "text": [
        "<matplotlib.figure.Figure at 0x7fe1eb630b50>"
       ]
      }
     ],
     "prompt_number": 200
    },
    {
     "cell_type": "code",
     "collapsed": false,
     "input": [
      "x = 2\n",
      "_ = plot(Route_Data(*pairs[x]).get_changes(label='test').mean(axis=0))\n",
      "_ = plot(Route_Data(*pairs[x]).get_changes(label='training').mean(axis=0))"
     ],
     "language": "python",
     "metadata": {},
     "outputs": [
      {
       "metadata": {},
       "output_type": "display_data",
       "png": "[encoded data removed]",
       "text": [
        "<matplotlib.figure.Figure at 0x7fe1eb776510>"
       ]
      }
     ],
     "prompt_number": 195
    },
    {
     "cell_type": "code",
     "collapsed": false,
     "input": [
      "_ = plot((sim.total_revenues - sim.total_costs).mean(axis=0)/3936)"
     ],
     "language": "python",
     "metadata": {},
     "outputs": [
      {
       "metadata": {},
       "output_type": "display_data",
       "png": "[encoded data removed]",
       "text": [
        "<matplotlib.figure.Figure at 0x7f5f1d6189d0>"
       ]
      }
     ],
     "prompt_number": 1914
    },
    {
     "cell_type": "code",
     "collapsed": false,
     "input": [
      "sim.route_data.get_prices().shape"
     ],
     "language": "python",
     "metadata": {},
     "outputs": [
      {
       "metadata": {},
       "output_type": "pyout",
       "prompt_number": 1907,
       "text": [
        "(3936, 42)"
       ]
      }
     ],
     "prompt_number": 1907
    },
    {
     "cell_type": "code",
     "collapsed": false,
     "input": [],
     "language": "python",
     "metadata": {},
     "outputs": []
    },
    {
     "cell_type": "code",
     "collapsed": false,
     "input": [
      "MIN_PRICE = 1.03\n",
      "MARGIN = 1\n",
      "TRIALS = 50\n",
      "\n",
      "profits = []\n",
      "\n",
      "for pair in pairs:\n",
      "    print(pair, flush=True)\n",
      "    sim = Simulation(*pair, seller_accuracy=.05, customer_accuracy=.15, arrival_rate=1)\n",
      "    for n in range(TRIALS):\n",
      "        sim.generate_trial(n)\n",
      "    profits_abs = sim.total_revenues - sim.total_costs\n",
      "    profits.append([sim.total_revenues.sum(), profits_abs.sum(), sim.total_accepted.sum()])\n",
      "\n",
      "profits = np.array(profits)\n",
      "profits[np.isnan(profits)] = 0\n",
      "profits = np.int_(profits)\n",
      "for row in profits:\n",
      "    print(*row)"
     ],
     "language": "python",
     "metadata": {},
     "outputs": [
      {
       "output_type": "stream",
       "stream": "stdout",
       "text": [
        "('AMS', 'CDG')\n"
       ]
      },
      {
       "ename": "KeyboardInterrupt",
       "evalue": "",
       "output_type": "pyerr",
       "traceback": [
        "\u001b[1;31m---------------------------------------------------------------------------\u001b[0m\n\u001b[1;31mKeyboardInterrupt\u001b[0m                         Traceback (most recent call last)",
        "\u001b[1;32m<ipython-input-646-a13b8b1256f4>\u001b[0m in \u001b[0;36m<module>\u001b[1;34m()\u001b[0m\n\u001b[0;32m      9\u001b[0m     \u001b[0msim\u001b[0m \u001b[1;33m=\u001b[0m \u001b[0mSimulation\u001b[0m\u001b[1;33m(\u001b[0m\u001b[1;33m*\u001b[0m\u001b[0mpair\u001b[0m\u001b[1;33m,\u001b[0m \u001b[0mseller_accuracy\u001b[0m\u001b[1;33m=\u001b[0m\u001b[1;36m.05\u001b[0m\u001b[1;33m,\u001b[0m \u001b[0mcustomer_accuracy\u001b[0m\u001b[1;33m=\u001b[0m\u001b[1;36m.15\u001b[0m\u001b[1;33m,\u001b[0m \u001b[0marrival_rate\u001b[0m\u001b[1;33m=\u001b[0m\u001b[1;36m1\u001b[0m\u001b[1;33m)\u001b[0m\u001b[1;33m\u001b[0m\u001b[0m\n\u001b[0;32m     10\u001b[0m     \u001b[1;32mfor\u001b[0m \u001b[0mn\u001b[0m \u001b[1;32min\u001b[0m \u001b[0mrange\u001b[0m\u001b[1;33m(\u001b[0m\u001b[0mTRIALS\u001b[0m\u001b[1;33m)\u001b[0m\u001b[1;33m:\u001b[0m\u001b[1;33m\u001b[0m\u001b[0m\n\u001b[1;32m---> 11\u001b[1;33m         \u001b[0msim\u001b[0m\u001b[1;33m.\u001b[0m\u001b[0mgenerate_trial\u001b[0m\u001b[1;33m(\u001b[0m\u001b[0mn\u001b[0m\u001b[1;33m)\u001b[0m\u001b[1;33m\u001b[0m\u001b[0m\n\u001b[0m\u001b[0;32m     12\u001b[0m     \u001b[0mprofits_abs\u001b[0m \u001b[1;33m=\u001b[0m \u001b[0msim\u001b[0m\u001b[1;33m.\u001b[0m\u001b[0mtotal_revenues\u001b[0m \u001b[1;33m-\u001b[0m \u001b[0msim\u001b[0m\u001b[1;33m.\u001b[0m\u001b[0mtotal_costs\u001b[0m\u001b[1;33m\u001b[0m\u001b[0m\n\u001b[0;32m     13\u001b[0m     \u001b[0mprofits\u001b[0m\u001b[1;33m.\u001b[0m\u001b[0mappend\u001b[0m\u001b[1;33m(\u001b[0m\u001b[1;33m[\u001b[0m\u001b[0msim\u001b[0m\u001b[1;33m.\u001b[0m\u001b[0mtotal_revenues\u001b[0m\u001b[1;33m.\u001b[0m\u001b[0msum\u001b[0m\u001b[1;33m(\u001b[0m\u001b[1;33m)\u001b[0m\u001b[1;33m,\u001b[0m \u001b[0mprofits_abs\u001b[0m\u001b[1;33m.\u001b[0m\u001b[0msum\u001b[0m\u001b[1;33m(\u001b[0m\u001b[1;33m)\u001b[0m\u001b[1;33m,\u001b[0m \u001b[0msim\u001b[0m\u001b[1;33m.\u001b[0m\u001b[0mtotal_accepted\u001b[0m\u001b[1;33m.\u001b[0m\u001b[0msum\u001b[0m\u001b[1;33m(\u001b[0m\u001b[1;33m)\u001b[0m\u001b[1;33m]\u001b[0m\u001b[1;33m)\u001b[0m\u001b[1;33m\u001b[0m\u001b[0m\n",
        "\u001b[1;32m<ipython-input-630-00298f32b25c>\u001b[0m in \u001b[0;36mgenerate_trial\u001b[1;34m(self, trial_num)\u001b[0m\n\u001b[0;32m     22\u001b[0m \u001b[1;33m\u001b[0m\u001b[0m\n\u001b[0;32m     23\u001b[0m     \u001b[1;32mdef\u001b[0m \u001b[0mgenerate_trial\u001b[0m\u001b[1;33m(\u001b[0m\u001b[0mself\u001b[0m\u001b[1;33m,\u001b[0m \u001b[0mtrial_num\u001b[0m\u001b[1;33m)\u001b[0m\u001b[1;33m:\u001b[0m\u001b[1;33m\u001b[0m\u001b[0m\n\u001b[1;32m---> 24\u001b[1;33m         \u001b[0marrivals\u001b[0m \u001b[1;33m=\u001b[0m \u001b[0mnp\u001b[0m\u001b[1;33m.\u001b[0m\u001b[0mrandom\u001b[0m\u001b[1;33m.\u001b[0m\u001b[0mpoisson\u001b[0m\u001b[1;33m(\u001b[0m\u001b[0mself\u001b[0m\u001b[1;33m.\u001b[0m\u001b[0marrival_rate\u001b[0m\u001b[1;33m,\u001b[0m \u001b[0msize\u001b[0m\u001b[1;33m=\u001b[0m\u001b[0mself\u001b[0m\u001b[1;33m.\u001b[0m\u001b[0moption_days\u001b[0m\u001b[1;33m)\u001b[0m\u001b[1;33m\u001b[0m\u001b[0m\n\u001b[0m\u001b[0;32m     25\u001b[0m         \u001b[0mcases\u001b[0m \u001b[1;33m=\u001b[0m \u001b[0mself\u001b[0m\u001b[1;33m.\u001b[0m\u001b[0mroute_data\u001b[0m\u001b[1;33m.\u001b[0m\u001b[0mselect_cases\u001b[0m\u001b[1;33m(\u001b[0m\u001b[0marrivals\u001b[0m\u001b[1;33m)\u001b[0m\u001b[1;33m\u001b[0m\u001b[0m\n\u001b[0;32m     26\u001b[0m         \u001b[0mlabels\u001b[0m \u001b[1;33m=\u001b[0m \u001b[0mnp\u001b[0m\u001b[1;33m.\u001b[0m\u001b[0mint_\u001b[0m\u001b[1;33m(\u001b[0m\u001b[0mcases\u001b[0m\u001b[1;33m[\u001b[0m\u001b[1;36m0\u001b[0m\u001b[1;33m,\u001b[0m \u001b[1;33m:\u001b[0m\u001b[1;33m]\u001b[0m\u001b[1;33m)\u001b[0m\u001b[1;33m\u001b[0m\u001b[0m\n",
        "\u001b[1;31mKeyboardInterrupt\u001b[0m: "
       ]
      }
     ],
     "prompt_number": 646
    },
    {
     "cell_type": "code",
     "collapsed": false,
     "input": [
      "sim = Simulation('AMS', 'CDG', seller_accuracy=.05, customer_accuracy=.05, customer_RE='strong')\n",
      "for n in range(TRIALS):\n",
      "    sim.generate_trial(n)"
     ],
     "language": "python",
     "metadata": {},
     "outputs": [],
     "prompt_number": 111
    },
    {
     "cell_type": "code",
     "collapsed": false,
     "input": [
      "profits = ((sim.total_revenues - sim.total_costs)).ravel()\n",
      "_ = hist(profits, bins=100, normed=True)"
     ],
     "language": "python",
     "metadata": {},
     "outputs": [
      {
       "metadata": {},
       "output_type": "display_data",
       "png": "[encoded data removed]",
       "text": [
        "<matplotlib.figure.Figure at 0x7f9474539090>"
       ]
      }
     ],
     "prompt_number": 112
    },
    {
     "cell_type": "code",
     "collapsed": false,
     "input": [
      "profits = ((sim.total_revenues - sim.total_costs)).ravel()\n",
      "_ = hist(profits, bins=100, normed=True)"
     ],
     "language": "python",
     "metadata": {},
     "outputs": [
      {
       "metadata": {},
       "output_type": "display_data",
       "png": "[encoded data removed]",
       "text": [
        "<matplotlib.figure.Figure at 0x7f946fbe5650>"
       ]
      }
     ],
     "prompt_number": 109
    },
    {
     "cell_type": "code",
     "collapsed": false,
     "input": [
      "profits.sum()/1000"
     ],
     "language": "python",
     "metadata": {},
     "outputs": [
      {
       "metadata": {},
       "output_type": "pyout",
       "prompt_number": 113,
       "text": [
        "784.9485043456109"
       ]
      }
     ],
     "prompt_number": 113
    },
    {
     "cell_type": "code",
     "collapsed": false,
     "input": [
      "profits = (sim.total_revenues - sim.total_costs).ravel()\n",
      "_ = hist(profits, bins=100, normed=True)"
     ],
     "language": "python",
     "metadata": {},
     "outputs": [
      {
       "metadata": {},
       "output_type": "display_data",
       "png": "[encoded data removed]",
       "text": [
        "<matplotlib.figure.Figure at 0x7fe37a893490>"
       ]
      }
     ],
     "prompt_number": 1966
    },
    {
     "cell_type": "code",
     "collapsed": false,
     "input": [
      "profits.mean()"
     ],
     "language": "python",
     "metadata": {},
     "outputs": [
      {
       "metadata": {},
       "output_type": "pyout",
       "prompt_number": 1955,
       "text": [
        "1594.5648674190336"
       ]
      }
     ],
     "prompt_number": 1955
    },
    {
     "cell_type": "code",
     "collapsed": false,
     "input": [
      "((sim.total_revenues - sim.total_costs)/sim.total_revenues).mean()"
     ],
     "language": "python",
     "metadata": {},
     "outputs": [
      {
       "metadata": {},
       "output_type": "pyout",
       "prompt_number": 1891,
       "text": [
        "0.63415962652669244"
       ]
      }
     ],
     "prompt_number": 1891
    },
    {
     "cell_type": "code",
     "collapsed": false,
     "input": [
      "(sim.total_revenues - sim.total_costs).sum()/TRIALS/1000"
     ],
     "language": "python",
     "metadata": {},
     "outputs": [
      {
       "metadata": {},
       "output_type": "pyout",
       "prompt_number": 1886,
       "text": [
        "42.437217447129484"
       ]
      }
     ],
     "prompt_number": 1886
    },
    {
     "cell_type": "code",
     "collapsed": false,
     "input": [
      "sim = Simulation('ATL', 'MCO', .0001, .15, 1)\n",
      "a = sim.generate_trial(0)"
     ],
     "language": "python",
     "metadata": {},
     "outputs": [],
     "prompt_number": 2250
    },
    {
     "cell_type": "code",
     "collapsed": false,
     "input": [
      "_ = hist(a, bins=100, normed=True)\n",
      "print('mean: ', a.mean(), ' std: ', a.std())"
     ],
     "language": "python",
     "metadata": {},
     "outputs": [
      {
       "output_type": "stream",
       "stream": "stdout",
       "text": [
        "mean:  1.02430319683  std:  0.045307516927\n"
       ]
      },
      {
       "metadata": {},
       "output_type": "display_data",
       "png": "[encoded data removed]",
       "text": [
        "<matplotlib.figure.Figure at 0x7fe378351890>"
       ]
      }
     ],
     "prompt_number": 2251
    },
    {
     "cell_type": "code",
     "collapsed": false,
     "input": [
      "a = ((wta[accepted]+1)/changes[accepted])\n",
      "_ = hist(a, bins=100, normed=True)\n",
      "print('mean: ', a.mean(), ' std: ', a.std())"
     ],
     "language": "python",
     "metadata": {},
     "outputs": [
      {
       "output_type": "stream",
       "stream": "stdout",
       "text": [
        "mean:  0.983012667089  std:  0.0867434161644\n"
       ]
      },
      {
       "metadata": {},
       "output_type": "display_data",
       "png": "[encoded data removed]",
       "text": [
        "<matplotlib.figure.Figure at 0x7fe37b1adf90>"
       ]
      }
     ],
     "prompt_number": 1668
    },
    {
     "cell_type": "code",
     "collapsed": false,
     "input": [
      "a = ((wta[accepted]+1)/changes[accepted])\n",
      "_ = hist(a, bins=100, normed=True)\n",
      "print('mean: ', a.mean(), ' std: ', a.std())"
     ],
     "language": "python",
     "metadata": {},
     "outputs": [
      {
       "output_type": "stream",
       "stream": "stdout",
       "text": [
        "mean:  1.02422894435  std:  0.0449458791439\n"
       ]
      },
      {
       "metadata": {},
       "output_type": "display_data",
       "png": "[encoded data removed]",
       "text": [
        "<matplotlib.figure.Figure at 0x7fe37b293250>"
       ]
      }
     ],
     "prompt_number": 1670
    },
    {
     "cell_type": "code",
     "collapsed": false,
     "input": [
      "a = ((wta[accepted]+1)/changes[accepted])\n",
      "_ = hist(a, bins=100, normed=True)\n",
      "print('mean: ', a.mean(), ' std: ', a.std())"
     ],
     "language": "python",
     "metadata": {},
     "outputs": [
      {
       "output_type": "stream",
       "stream": "stdout",
       "text": [
        "mean:  0.763594859654  std:  0.191511148613\n"
       ]
      },
      {
       "metadata": {},
       "output_type": "display_data",
       "png": "[encoded data removed]",
       "text": [
        "<matplotlib.figure.Figure at 0x7fe37aa4eed0>"
       ]
      }
     ],
     "prompt_number": 1663
    },
    {
     "cell_type": "code",
     "collapsed": false,
     "input": [
      "a = ((wta[accepted]+1)/changes[accepted])\n",
      "_ = hist(a, bins=100, normed=True)\n",
      "print('mean: ', a.mean(), ' std: ', a.std())"
     ],
     "language": "python",
     "metadata": {},
     "outputs": [
      {
       "output_type": "stream",
       "stream": "stdout",
       "text": [
        "mean:  0.891370645829  std:  0.112401991502\n"
       ]
      },
      {
       "metadata": {},
       "output_type": "display_data",
       "png": "[encoded data removed]",
       "text": [
        "<matplotlib.figure.Figure at 0x7fe379dd7510>"
       ]
      }
     ],
     "prompt_number": 1661
    },
    {
     "cell_type": "code",
     "collapsed": false,
     "input": [
      "a = ((wta[accepted]+1)/changes[accepted])\n",
      "_ = hist(a, bins=100, normed=True)\n",
      "print('mean: ', a.mean(), ' std: ', a.std())"
     ],
     "language": "python",
     "metadata": {},
     "outputs": [
      {
       "output_type": "stream",
       "stream": "stdout",
       "text": [
        "mean:  0.99999976964  std:  0.0001056786684\n"
       ]
      },
      {
       "metadata": {},
       "output_type": "display_data",
       "png": "[encoded data removed]",
       "text": [
        "<matplotlib.figure.Figure at 0x7fe37b350590>"
       ]
      }
     ],
     "prompt_number": 1659
    },
    {
     "cell_type": "code",
     "collapsed": false,
     "input": [
      "a = ((wta[accepted]+1)/changes[accepted])\n",
      "_ = hist(a, bins=100, normed=True)\n",
      "print('mean: ', a.mean(), ' std: ', a.std())"
     ],
     "language": "python",
     "metadata": {},
     "outputs": [
      {
       "output_type": "stream",
       "stream": "stdout",
       "text": [
        "mean:  0.991077110993  std:  0.0949599044241\n"
       ]
      },
      {
       "metadata": {},
       "output_type": "display_data",
       "png": "[encoded data removed]",
       "text": [
        "<matplotlib.figure.Figure at 0x7fe37b2ec750>"
       ]
      }
     ],
     "prompt_number": 1616
    },
    {
     "cell_type": "code",
     "collapsed": false,
     "input": [
      "a = ((wta[accepted]+1)/changes[accepted])\n",
      "_ = hist(a, bins=100, normed=True)\n",
      "print('mean: ', a.mean(), ' std: ', a.std())"
     ],
     "language": "python",
     "metadata": {},
     "outputs": [
      {
       "output_type": "stream",
       "stream": "stdout",
       "text": [
        "mean:  0.949322521927  std:  0.0902855934646\n"
       ]
      },
      {
       "metadata": {},
       "output_type": "display_data",
       "png": "[encoded data removed]",
       "text": [
        "<matplotlib.figure.Figure at 0x7fe37ad30e10>"
       ]
      }
     ],
     "prompt_number": 1622
    },
    {
     "cell_type": "code",
     "collapsed": false,
     "input": [
      "a = ((wta[accepted]+1)/changes[accepted])\n",
      "_ = hist(a, bins=100, normed=True)\n",
      "print('mean: ', a.mean(), ' std: ', a.std())"
     ],
     "language": "python",
     "metadata": {},
     "outputs": [
      {
       "output_type": "stream",
       "stream": "stdout",
       "text": [
        "mean:  0.867668852849  std:  0.0933114176053\n"
       ]
      },
      {
       "metadata": {},
       "output_type": "display_data",
       "png": "[encoded data removed]",
       "text": [
        "<matplotlib.figure.Figure at 0x7fe37a10bf50>"
       ]
      }
     ],
     "prompt_number": 1619
    },
    {
     "cell_type": "code",
     "collapsed": false,
     "input": [
      "_ = plot(sim.total_exercise.mean(axis=0)/sim.total_accepted.mean(axis=0))"
     ],
     "language": "python",
     "metadata": {},
     "outputs": [
      {
       "metadata": {},
       "output_type": "display_data",
       "png": "[encoded data removed]",
       "text": [
        "<matplotlib.figure.Figure at 0x7fe37b518110>"
       ]
      }
     ],
     "prompt_number": 1195
    },
    {
     "cell_type": "code",
     "collapsed": false,
     "input": [
      "sim.total_exercise.mean(axis=0)/sim.total_exercise.sum(axis=0)"
     ],
     "language": "python",
     "metadata": {},
     "outputs": [
      {
       "metadata": {},
       "output_type": "pyout",
       "prompt_number": 1147,
       "text": [
        "array([ 0.002,  0.002,  0.002,  0.002,  0.002,  0.002,  0.002,  0.002,\n",
        "        0.002,  0.002,  0.002,  0.002,  0.002,  0.002,  0.002,  0.002,\n",
        "        0.002,  0.002,  0.002,  0.002,  0.002,  0.002,  0.002,  0.002,\n",
        "        0.002,  0.002,  0.002,  0.002,  0.002,  0.002,  0.002,  0.002,\n",
        "        0.002,  0.002,  0.002,  0.002,  0.002,  0.002,  0.002])"
       ]
      }
     ],
     "prompt_number": 1147
    },
    {
     "cell_type": "code",
     "collapsed": false,
     "input": [
      "sim.total_decision.sum(axis=0)/sim.total_decision.sum()"
     ],
     "language": "python",
     "metadata": {},
     "outputs": [
      {
       "metadata": {},
       "output_type": "pyout",
       "prompt_number": 1125,
       "text": [
        "array([ 0.05007516,  0.8846748 ,  0.01077139,  0.05447865])"
       ]
      }
     ],
     "prompt_number": 1125
    },
    {
     "cell_type": "code",
     "collapsed": false,
     "input": [
      "_ = plot(((sim.total_revenues - sim.total_costs)/sim.total_revenues).mean(axis=0))"
     ],
     "language": "python",
     "metadata": {},
     "outputs": [
      {
       "metadata": {},
       "output_type": "display_data",
       "png": "[encoded data removed]",
       "text": [
        "<matplotlib.figure.Figure at 0x7fe37b513f90>"
       ]
      }
     ],
     "prompt_number": 1122
    },
    {
     "cell_type": "code",
     "collapsed": false,
     "input": [
      "_ = plot((sim.total_revenues - sim.total_costs).mean(axis=0) / (sim.route_data.get_prices().ix[:, DAYS_TO_MATURITY:].mean(axis=0))*100)"
     ],
     "language": "python",
     "metadata": {},
     "outputs": [
      {
       "metadata": {},
       "output_type": "display_data",
       "png": "[encoded data removed]",
       "text": [
        "<matplotlib.figure.Figure at 0x7fe37b4c9950>"
       ]
      }
     ],
     "prompt_number": 1108
    },
    {
     "cell_type": "code",
     "collapsed": false,
     "input": [
      "_ = plot(((sim.total_revenues - sim.total_costs)/sim.total_accepted).mean(axis=0))"
     ],
     "language": "python",
     "metadata": {},
     "outputs": [
      {
       "metadata": {},
       "output_type": "display_data",
       "png": "[encoded data removed]",
       "text": [
        "<matplotlib.figure.Figure at 0x7fe37b3860d0>"
       ]
      }
     ],
     "prompt_number": 1106
    },
    {
     "cell_type": "heading",
     "level": 3,
     "metadata": {},
     "source": [
      "Convergence"
     ]
    },
    {
     "cell_type": "code",
     "collapsed": false,
     "input": [
      "profits = np.array(profits)\n",
      "_ = plot(profits/profits.mean())"
     ],
     "language": "python",
     "metadata": {},
     "outputs": [
      {
       "metadata": {},
       "output_type": "display_data",
       "png": "[encoded data removed]",
       "text": [
        "<matplotlib.figure.Figure at 0x7fe37b747cd0>"
       ]
      }
     ],
     "prompt_number": 922
    },
    {
     "cell_type": "code",
     "collapsed": false,
     "input": [
      "Goedemorgen met Patrick van Kempen,\n",
      "\n",
      "Ik heb maandag dus die twee interviewgesprekken gehad, en dacht dat jij daar eigenlijk gisteren op terug zou komen.\n",
      "\n",
      "Dus ik vroeg me af of jullie al een besluit hebben kunnen nemen...\n",
      "\n",
      "\n",
      "\n",
      "Ok, jammer.. zou je me kunnen vertellen waarom jullie dat besluit hebben genomen? is handig voor mij voor toekomstige interviews\n",
      "\n",
      "Nou, ik wil jullie alsnog bedanken voor jullie tijd en \n",
      "\n",
      "prettige dag verder,\n",
      "\n",
      "Patrick"
     ],
     "language": "python",
     "metadata": {},
     "outputs": []
    }
   ],
   "metadata": {}
  }
 ]
}