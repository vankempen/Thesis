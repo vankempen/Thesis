{
 "metadata": {
  "name": ""
 },
 "nbformat": 3,
 "nbformat_minor": 0,
 "worksheets": [
  {
   "cells": [
    {
     "cell_type": "code",
     "collapsed": false,
     "input": [
      "from __future__ import division\n",
      "\n",
      "import h5py\n",
      "import numpy as np\n",
      "import pandas as pd\n",
      "import scipy.stats as ss\n",
      "pd.set_option('display.max_rows', 500)\n",
      "pd.set_option('display.max_columns', 30)\n",
      "\n",
      "import random  # for sampling"
     ],
     "language": "python",
     "metadata": {},
     "outputs": [],
     "prompt_number": 90
    },
    {
     "cell_type": "heading",
     "level": 2,
     "metadata": {},
     "source": [
      "Empirical data"
     ]
    },
    {
     "cell_type": "code",
     "collapsed": false,
     "input": [
      "storage = h5py.File('storage/flightsTest.h5', 'r')\n",
      "historical = h5py.File('storage/flightsTrain.h5', 'r')"
     ],
     "language": "python",
     "metadata": {},
     "outputs": [],
     "prompt_number": 2
    },
    {
     "cell_type": "heading",
     "level": 2,
     "metadata": {},
     "source": [
      "Stats"
     ]
    },
    {
     "cell_type": "code",
     "collapsed": false,
     "input": [
      "def get_ticketPrices(dataset, flyFrom, flyTo):\n",
      "    \"\"\"\n",
      "    returns cleaned up ticketPrices AND meanTicketPrice in whole $'s (for sell-outs)\n",
      "    \n",
      "    dataset: data to get prices from (historical/current)\n",
      "    flyFrom: outbound airport\n",
      "    flyTo: inbound airport\n",
      "    \"\"\"\n",
      "    ticketPrices = pd.DataFrame(dataset[flyFrom][flyTo][:,1:43], dtype=np.float64)\n",
      "    ticketPrices[ticketPrices == 0] = np.nan\n",
      "    ticketPrices = ticketPrices.dropna(thresh=int(42*2/3)).ffill(axis=1)  # drop everythings that has less than 2/3 avilable data\n",
      "    meanTicketPrice = ticketPrices.mean().mean()\n",
      "    return ticketPrices, meanTicketPrice"
     ],
     "language": "python",
     "metadata": {},
     "outputs": [],
     "prompt_number": 3
    },
    {
     "cell_type": "heading",
     "level": 4,
     "metadata": {},
     "source": [
      "total descr"
     ]
    },
    {
     "cell_type": "code",
     "collapsed": false,
     "input": [
      "dset = historical\n",
      "\n",
      "desc = {}\n",
      "desc['totalFlights'] = 0\n",
      "desc['totalValidFlights'] = 0\n",
      "desc['percValidFlights'] = 0\n",
      "desc['totalObservations'] = 0\n",
      "desc['totalSellout'] = 0\n",
      "desc['percSellout'] = 0\n",
      "\n",
      "\n",
      "for flyFrom in dset.keys():\n",
      "    for flyTo in dset[flyFrom].keys():\n",
      "        #        desc = { 'flyFrom': flyFrom, 'flyTo': flyTo }\n",
      "        ticketPrices = pd.DataFrame(dset[flyFrom][flyTo][:,1:43], dtype=np.float64)\n",
      "        \n",
      "        desc['totalFlights'] += ticketPrices.shape[0]\n",
      "\n",
      "        # cleaning\n",
      "        ticketPrices[ticketPrices == 0] = np.nan\n",
      "        ticketPrices = ticketPrices.dropna(thresh=int(42*2/3))  # drop everythings that has less than 2/3 avilable data\n",
      "        \n",
      "        desc['totalValidFlights'] += ticketPrices.shape[0]\n",
      "\n",
      "        desc['totalObservations'] +=  ticketPrices.count().sum()\n",
      "        \n",
      "        ticketPrices = ticketPrices.ffill(axis=1)\n",
      "        desc['totalSellout'] += ticketPrices.icol(0).count()\n",
      "\n",
      "desc['percValidFlights'] = (desc['totalValidFlights']/desc['totalFlights']) * 100\n",
      "desc['totalSellout'] = desc['totalValidFlights'] - desc['totalSellout']\n",
      "desc['percSellout'] = (desc['totalSellout']/desc['totalValidFlights']) * 100\n",
      "        \n",
      "#other stats\n",
      "#ticketPrices = ticketPrices.ffill(axis=1)\n",
      "        \n",
      "print \"{totalFlights:,}  &  {totalValidFlights:,}  &  {percValidFlights:.1f}  &  {totalObservations:,}  &  {totalSellout:,}  &  {percSellout:.1f} \\\\\\\\\".format(**desc)"
     ],
     "language": "python",
     "metadata": {},
     "outputs": [
      {
       "output_type": "stream",
       "stream": "stdout",
       "text": [
        "321,545  &  179,433  &  55.8  &  7,215,341  &  9,590  &  5.3 \\\\\n"
       ]
      }
     ],
     "prompt_number": 48
    },
    {
     "cell_type": "heading",
     "level": 4,
     "metadata": {},
     "source": [
      "set descr"
     ]
    },
    {
     "cell_type": "code",
     "collapsed": false,
     "input": [
      "dset = storage\n",
      "\n",
      "for flyFrom in dset.keys():\n",
      "    for flyTo in dset[flyFrom].keys():\n",
      "        desc = { 'flyFrom': flyFrom, 'flyTo': flyTo }\n",
      "        ticketPrices = pd.DataFrame(dset[flyFrom][flyTo][:,1:43], dtype=np.float64)\n",
      "        \n",
      "        desc['totalFlights'] = ticketPrices.shape[0]\n",
      "\n",
      "        # cleaning\n",
      "        ticketPrices[ticketPrices == 0] = np.nan\n",
      "        ticketPrices = ticketPrices.dropna(thresh=int(42*2/3))  # drop everythings that has less than 2/3 avilable data\n",
      "        \n",
      "        \n",
      "        desc['totalValidFlights'] = ticketPrices.shape[0]\n",
      "        desc['percValidFlights'] = (desc['totalValidFlights']/desc['totalFlights'])*100\n",
      "        desc['totalObservations'] =  ticketPrices.count().sum()\n",
      "        \n",
      "        ticketPrices = ticketPrices.ffill(axis=1)\n",
      "        desc['totalSellout'] = desc['totalValidFlights'] - ticketPrices.icol(0).count()\n",
      "        desc['percSellout'] = (desc['totalSellout']/desc['totalValidFlights'])*100\n",
      "        \n",
      "        #other stats\n",
      "        #ticketPrices = ticketPrices.ffill(axis=1)\n",
      "        \n",
      "        print \"{flyFrom}  &  {flyTo}  &  {totalFlights:6,}  &  {totalValidFlights:6,}  &  {percValidFlights:5.1f}  &  {totalObservations:7,}  &  {totalSellout:5,}  &  {percSellout:4.1f} \\\\\\\\\".format(**desc)"
     ],
     "language": "python",
     "metadata": {},
     "outputs": [
      {
       "output_type": "stream",
       "stream": "stdout",
       "text": [
        "AMS  &  CDG  &   4,630  &   3,936  &   85.0  &  164,706  &    146  &   3.7 \\\\\n",
        "AMS  &  DXB  &      14  &      14  &  100.0  &      588  &      0  &   0.0 \\\\\n",
        "AMS  &  JFK  &     252  &     252  &  100.0  &   10,572  &      6  &   2.4 \\\\\n",
        "AMS  &  LHR  &   2,834  &   2,558  &   90.3  &  106,611  &    108  &   4.2 \\\\\n",
        "ATL  &  LAX  &   1,776  &   1,421  &   80.0  &   59,225  &      3  &   0.2 \\\\\n",
        "ATL  &  MCO  &   4,727  &   3,757  &   79.5  &  156,488  &     24  &   0.6 \\\\\n",
        "CDG  &  AMS  &   4,149  &   3,936  &   94.9  &  165,125  &     94  &   2.4 \\\\\n",
        "CDG  &  LHR  &   1,264  &   1,250  &   98.9  &   52,437  &     14  &   1.1 \\\\"
       ]
      },
      {
       "output_type": "stream",
       "stream": "stdout",
       "text": [
        "\n",
        "DEN  &  FLL  &      21  &      21  &  100.0  &      865  &      4  &  19.0 \\\\\n",
        "DEN  &  PHX  &   1,541  &   1,453  &   94.3  &   60,847  &     50  &   3.4 \\\\\n",
        "DFW  &  LAX  &  11,157  &   8,872  &   79.5  &  368,838  &    467  &   5.3 \\\\\n",
        "DFW  &  SFO  &   5,272  &   4,503  &   85.4  &  182,895  &    578  &  12.8 \\\\"
       ]
      },
      {
       "output_type": "stream",
       "stream": "stdout",
       "text": [
        "\n",
        "JFK  &  CDG  &   2,569  &   1,782  &   69.4  &   73,119  &    146  &   8.2 \\\\\n",
        "JFK  &  LHR  &  10,824  &   7,918  &   73.2  &  331,646  &    182  &   2.3 \\\\\n",
        "LAX  &  LAS  &   7,642  &   5,334  &   69.8  &  208,889  &    431  &   8.1 \\\\"
       ]
      },
      {
       "output_type": "stream",
       "stream": "stdout",
       "text": [
        "\n",
        "LAX  &  SFO  &  32,367  &  16,161  &   49.9  &  653,809  &  1,317  &   8.1 \\\\"
       ]
      },
      {
       "output_type": "stream",
       "stream": "stdout",
       "text": [
        "\n",
        "LHR  &  AMS  &   2,788  &   2,567  &   92.1  &  107,431  &     50  &   1.9 \\\\\n",
        "LHR  &  JFK  &   9,981  &   7,690  &   77.0  &  322,109  &    159  &   2.1 \\\\\n",
        "LHR  &  LAX  &   1,581  &     837  &   52.9  &   34,580  &     58  &   6.9 \\\\\n",
        "LHR  &  MAD  &   4,758  &   4,732  &   99.5  &  198,705  &     26  &   0.5 \\\\"
       ]
      },
      {
       "output_type": "stream",
       "stream": "stdout",
       "text": [
        "\n",
        "ORD  &  BOS  &   9,037  &   7,204  &   79.7  &  287,993  &  1,140  &  15.8 \\\\\n",
        "ORD  &  LGA  &  21,933  &  12,718  &   58.0  &  517,459  &  1,050  &   8.3 \\\\"
       ]
      },
      {
       "output_type": "stream",
       "stream": "stdout",
       "text": [
        "\n"
       ]
      }
     ],
     "prompt_number": 134
    },
    {
     "cell_type": "heading",
     "level": 4,
     "metadata": {},
     "source": [
      "flight descr total"
     ]
    },
    {
     "cell_type": "code",
     "collapsed": false,
     "input": [
      "dset = historical\n",
      "\n",
      "for flyFrom in dset.keys():\n",
      "    for flyTo in dset[flyFrom].keys():\n",
      "        desc = { 'flyFrom': flyFrom, 'flyTo': flyTo }\n",
      "        ticketPrices = pd.DataFrame(storage[flyFrom][flyTo][:,1:43], dtype=np.float64)\n",
      "        t2 = pd.DataFrame(historical[flyFrom][flyTo][:,1:43], dtype=np.float64)\n",
      "        ticketPrices = ticketPrices.append(t2, ignore_index=True)\n",
      "        \n",
      "        #cleaning\n",
      "        ticketPrices[ticketPrices == 0] = np.nan\n",
      "        ticketPrices = ticketPrices.dropna(thresh=int(42*2/3))  # drop everythings that has less than 2/3 avilable data\n",
      "        ticketPrices = ticketPrices.ffill(axis=1)\n",
      "        \n",
      "        desc['meanTicketPrice'] = ticketPrices.mean().mean()/100\n",
      "        desc['stdTicketPrice'] = ticketPrices.std().mean()/100\n",
      "        desc['minTicketPrice'] = ticketPrices.min().min()/100\n",
      "        desc['maxTicketPrice'] = ticketPrices.max().max()/100\n",
      "        \n",
      "        \n",
      "        #price changes\n",
      "        ticketPrices = np.log(ticketPrices)\n",
      "        dailyReturns = ticketPrices.T.shift(1).T-ticketPrices\n",
      "        \n",
      "        desc['meanReturns'] = dailyReturns.mean().mean()\n",
      "        desc['stdReturns'] = dailyReturns.std().mean()\n",
      "        desc['minReturn'] = dailyReturns.min().min()\n",
      "        desc['maxReturn'] = dailyReturns.max().max()\n",
      "        \n",
      "        #fill sold outs\n",
      "        #ticketPrices = ticketPrices.fillna(ticketPrices.icol(0).mean())\n",
      "        \n",
      "        print \"{flyFrom}  &  {flyTo}  &  {meanTicketPrice:4.0f}  &  {stdTicketPrice:4.0f}  &  {minTicketPrice:4.0f}  &  {maxTicketPrice:4.0f}  &  {meanReturns:3.3f}  &  {stdReturns:3.3f}  &  {minReturn:3.3f}  &  {maxReturn:3.3f}  \\\\\\\\\".format(**desc)"
     ],
     "language": "python",
     "metadata": {},
     "outputs": [
      {
       "output_type": "stream",
       "stream": "stdout",
       "text": [
        "AMS  &  CDG  &   237  &    79  &    98  &   835  &  0.019  &  0.084  &  -0.968  &  1.009  \\\\\n",
        "AMS  &  DXB  &   718  &   165  &   467  &  2205  &  0.007  &  0.063  &  -0.461  &  0.977  \\\\\n",
        "AMS  &  JFK  &  1023  &   334  &   546  &  3975  &  0.008  &  0.066  &  -0.843  &  1.093  \\\\\n",
        "AMS  &  LHR  &   262  &    81  &   128  &   816  &  0.012  &  0.050  &  -0.603  &  0.673  \\\\"
       ]
      },
      {
       "output_type": "stream",
       "stream": "stdout",
       "text": [
        "\n",
        "ATL  &  LAX  &   383  &    60  &   251  &   985  &  0.015  &  0.066  &  -0.674  &  0.651  \\\\\n",
        "ATL  &  MCO  &   239  &    47  &    89  &   900  &  0.021  &  0.079  &  -0.606  &  0.689  \\\\"
       ]
      },
      {
       "output_type": "stream",
       "stream": "stdout",
       "text": [
        "\n",
        "CDG  &  AMS  &   245  &    81  &    98  &   915  &  0.018  &  0.078  &  -1.053  &  1.036  \\\\"
       ]
      },
      {
       "output_type": "stream",
       "stream": "stdout",
       "text": [
        "\n",
        "CDG  &  LHR  &   231  &    74  &    97  &   780  &  0.010  &  0.080  &  -1.027  &  0.818  \\\\\n",
        "DEN  &  FLL  &   193  &    61  &    89  &   546  &  0.010  &  0.063  &  -0.386  &  0.537  \\\\\n",
        "DEN  &  PHX  &   186  &    45  &   103  &  1101  &  0.014  &  0.065  &  -0.923  &  1.043  \\\\"
       ]
      },
      {
       "output_type": "stream",
       "stream": "stdout",
       "text": [
        "\n",
        "DFW  &  LAX  &   312  &    86  &   110  &  2068  &  0.023  &  0.076  &  -1.695  &  1.690  \\\\"
       ]
      },
      {
       "output_type": "stream",
       "stream": "stdout",
       "text": [
        "\n",
        "DFW  &  SFO  &   380  &   124  &   164  &  2018  &  0.023  &  0.095  &  -1.263  &  1.370  \\\\"
       ]
      },
      {
       "output_type": "stream",
       "stream": "stdout",
       "text": [
        "\n",
        "JFK  &  CDG  &  2353  &  2177  &   638  &  9164  &  0.012  &  0.083  &  -1.592  &  1.783  \\\\\n",
        "JFK  &  LHR  &  1389  &   959  &   604  &  11498  &  0.024  &  0.131  &  -1.998  &  1.988  \\\\"
       ]
      },
      {
       "output_type": "stream",
       "stream": "stdout",
       "text": [
        "\n",
        "LAX  &  LAS  &   205  &    90  &    54  &  1306  &  0.012  &  0.100  &  -1.633  &  1.635  \\\\"
       ]
      },
      {
       "output_type": "stream",
       "stream": "stdout",
       "text": [
        "\n",
        "LAX  &  SFO  &   207  &   112  &    82  &  1332  &  0.020  &  0.106  &  -1.810  &  1.333  \\\\"
       ]
      },
      {
       "output_type": "stream",
       "stream": "stdout",
       "text": [
        "\n",
        "LHR  &  AMS  &   255  &    93  &   113  &   996  &  0.013  &  0.050  &  -0.691  &  0.733  \\\\"
       ]
      },
      {
       "output_type": "stream",
       "stream": "stdout",
       "text": [
        "\n",
        "LHR  &  JFK  &  1177  &   831  &   510  &  9565  &  0.012  &  0.118  &  -2.141  &  2.169  \\\\"
       ]
      },
      {
       "output_type": "stream",
       "stream": "stdout",
       "text": [
        "\n",
        "LHR  &  LAX  &  1554  &  1073  &   683  &  8944  &  0.011  &  0.155  &  -1.823  &  2.129  \\\\\n",
        "LHR  &  MAD  &   330  &    90  &   172  &  1141  &  0.010  &  0.057  &  -1.006  &  0.848  \\\\"
       ]
      },
      {
       "output_type": "stream",
       "stream": "stdout",
       "text": [
        "\n",
        "ORD  &  BOS  &   245  &    61  &    89  &  1682  &  0.014  &  0.072  &  -1.352  &  1.441  \\\\"
       ]
      },
      {
       "output_type": "stream",
       "stream": "stdout",
       "text": [
        "\n",
        "ORD  &  LGA  &   272  &    49  &    89  &  1219  &  0.014  &  0.063  &  -0.946  &  1.159  \\\\"
       ]
      },
      {
       "output_type": "stream",
       "stream": "stdout",
       "text": [
        "\n"
       ]
      }
     ],
     "prompt_number": 260
    },
    {
     "cell_type": "code",
     "collapsed": false,
     "input": [
      "ticketPrices = pd.DataFrame(storage['JFK']['LHR'][:,1:43], dtype=np.float64)\n",
      "ticketPrices[ticketPrices == 0] = np.nan\n",
      "ticketPrices = ticketPrices.dropna(thresh=int(42*2/3))  # drop everythings that has less than 2/3 avilable data\n",
      "ticketPrices = ticketPrices.ffill(axis=1)\n",
      "tp = ticketPrices.values.flatten()\n",
      "f = tp[np.logical_not(np.isnan(tp))]"
     ],
     "language": "python",
     "metadata": {},
     "outputs": [],
     "prompt_number": 255
    },
    {
     "cell_type": "code",
     "collapsed": false,
     "input": [
      "_ = hist(f, bins=100)"
     ],
     "language": "python",
     "metadata": {},
     "outputs": [
      {
       "metadata": {},
       "output_type": "display_data",
       "png": "[encoded data removed]",
       "text": [
        "<matplotlib.figure.Figure at 0xa70eed0>"
       ]
      }
     ],
     "prompt_number": 259
    },
    {
     "cell_type": "heading",
     "level": 4,
     "metadata": {},
     "source": [
      "flight descr total in dbb"
     ]
    },
    {
     "cell_type": "code",
     "collapsed": false,
     "input": [
      "#construct uber-dataframe\n",
      "ticketPrices = None\n",
      "\n",
      "for flyFrom in storage.keys():\n",
      "    for flyTo in storage[flyFrom].keys():\n",
      "        if not ticketPrices:\n",
      "            ticketPrices = pd.DataFrame(storage[flyFrom][flyTo][:,1:43], dtype=np.float64)\n",
      "        else:\n",
      "            ticketPrices = ticketPrices.append(pd.DataFrame(storage[flyFrom][flyTo][:,1:43], dtype=np.float64), ignore_index=True)\n",
      "        t2 = pd.DataFrame(historical[flyFrom][flyTo][:,1:43], dtype=np.float64)\n",
      "        ticketPrices = ticketPrices.append(t2, ignore_index=True)\n",
      "\n",
      "        print ticketPrices.shape\n",
      "        \n",
      "#cleaning\n",
      "ticketPrices[ticketPrices == 0] = np.nan\n",
      "ticketPrices = ticketPrices.dropna(thresh=int(42*2/3))  # drop everythings that has less than 2/3 avilable data\n",
      "ticketPrices = ticketPrices.ffill(axis=1)\n",
      "\n",
      "\"\"\"desc['meanTicketPrice'] = ticketPrices.mean()/100\n",
      "desc['stdTicketPrice'] = ticketPrices.std().mean()/100\n",
      "\n",
      "#price changes\n",
      "ticketPrices = np.log(ticketPrices)\n",
      "dailyReturns = ticketPrices.T.shift(1).T-ticketPrices\n",
      "\n",
      "desc['meanReturns'] = dailyReturns.mean().mean()\n",
      "desc['stdReturns'] = dailyReturns.std().mean()\n",
      "\n",
      "#fill sold outs\n",
      "#ticketPrices = ticketPrices.fillna(ticketPrices.icol(0).mean())\n",
      "\n",
      "print \"{meanTicketPrice:4.0f}  &  {stdTicketPrice:4.0f}  &  {meanReturns:3.3f}  &  {stdReturns:3.3f}  \\\\\\\\\".format(**desc)\"\"\""
     ],
     "language": "python",
     "metadata": {},
     "outputs": [
      {
       "output_type": "stream",
       "stream": "stdout",
       "text": [
        "(13019, 42)\n",
        "(13068, 42)\n",
        "(13959, 42)\n",
        "(22173, 42)"
       ]
      },
      {
       "output_type": "stream",
       "stream": "stdout",
       "text": [
        "\n",
        "(27562, 42)\n",
        "(40843, 42)"
       ]
      },
      {
       "output_type": "stream",
       "stream": "stdout",
       "text": [
        "\n",
        "(53178, 42)"
       ]
      },
      {
       "output_type": "stream",
       "stream": "stdout",
       "text": [
        "\n",
        "(57019, 42)\n",
        "(57098, 42)"
       ]
      },
      {
       "output_type": "stream",
       "stream": "stdout",
       "text": [
        "\n",
        "(61072, 42)\n",
        "(108808, 42)"
       ]
      },
      {
       "output_type": "stream",
       "stream": "stdout",
       "text": [
        "\n",
        "(130197, 42)"
       ]
      },
      {
       "output_type": "stream",
       "stream": "stdout",
       "text": [
        "\n",
        "(137713, 42)"
       ]
      },
      {
       "output_type": "stream",
       "stream": "stdout",
       "text": [
        "\n",
        "(171977, 42)"
       ]
      },
      {
       "output_type": "stream",
       "stream": "stdout",
       "text": [
        "\n",
        "(195880, 42)"
       ]
      },
      {
       "output_type": "stream",
       "stream": "stdout",
       "text": [
        "\n",
        "(297133, 42)"
       ]
      },
      {
       "output_type": "stream",
       "stream": "stdout",
       "text": [
        "\n",
        "(305151, 42)"
       ]
      },
      {
       "output_type": "stream",
       "stream": "stdout",
       "text": [
        "\n",
        "(337672, 42)"
       ]
      },
      {
       "output_type": "stream",
       "stream": "stdout",
       "text": [
        "\n",
        "(342766, 42)"
       ]
      },
      {
       "output_type": "stream",
       "stream": "stdout",
       "text": [
        "\n",
        "(356988, 42)"
       ]
      },
      {
       "output_type": "stream",
       "stream": "stdout",
       "text": [
        "\n",
        "(390170, 42)"
       ]
      },
      {
       "output_type": "stream",
       "stream": "stdout",
       "text": [
        "\n",
        "(462662, 42)"
       ]
      },
      {
       "output_type": "stream",
       "stream": "stdout",
       "text": [
        "\n"
       ]
      },
      {
       "metadata": {},
       "output_type": "pyout",
       "prompt_number": 5,
       "text": [
        "'desc[\\'meanTicketPrice\\'] = ticketPrices.mean()/100\\ndesc[\\'stdTicketPrice\\'] = ticketPrices.std().mean()/100\\n\\n#price changes\\nticketPrices = np.log(ticketPrices)\\ndailyReturns = ticketPrices.T.shift(1).T-ticketPrices\\n\\ndesc[\\'meanReturns\\'] = dailyReturns.mean().mean()\\ndesc[\\'stdReturns\\'] = dailyReturns.std().mean()\\n\\n#fill sold outs\\n#ticketPrices = ticketPrices.fillna(ticketPrices.icol(0).mean())\\n\\nprint \"{meanTicketPrice:4.0f}  &  {stdTicketPrice:4.0f}  &  {meanReturns:3.3f}  &  {stdReturns:3.3f}  \\\\\\\\\".format(**desc)'"
       ]
      }
     ],
     "prompt_number": 5
    },
    {
     "cell_type": "code",
     "collapsed": false,
     "input": [
      "tp = np.log(ticketPrices)\n",
      "dailyReturns = tp.T.shift(1).T-tp"
     ],
     "language": "python",
     "metadata": {},
     "outputs": [],
     "prompt_number": 6
    },
    {
     "cell_type": "code",
     "collapsed": false,
     "input": [
      "fig = plt.figure(dpi=400, figsize=(9,9))\n",
      "plt.subplots_adjust(hspace=.3, wspace=.5, right=.99)\n",
      "\n",
      "#run sequence plot\n",
      "ax1 = plt.subplot(2,2,1)\n",
      "t = np.arange(1, 42.01, 1)\n",
      "ax1.plot(t, dailyReturns.mean(), '-', color='#3e3e3e', label=r'$\\mu$')\n",
      "ax1.set_title('Run sequence plot')\n",
      "ax1.set_xlabel('number of days before departure')\n",
      "ax1.set_ylabel(r'average price change ($\\mu$)')\n",
      "ax1.legend(loc='lower left')\n",
      "\n",
      "ax1sec = ax1.twinx()\n",
      "ax1sec.plot(t, dailyReturns.std(), '--', label=r'$\\sigma$')\n",
      "ax1sec.set_ylabel(r'standard deviation of price changes ($\\sigma$)')\n",
      "ax1sec.legend(loc='upper right')\n",
      "\n",
      "\n",
      "#lagplot\n",
      "ax3 = plt.subplot(2,2,2)\n",
      "d3 = random.sample(dailyReturns.index, 1000)\n",
      "pd.tools.plotting.lag_plot(dailyReturns.ix[d3], ax=ax3)\n",
      "ax3.set_title('Lag plot')\n",
      "\n",
      "\n",
      "#histogram\n",
      "d = dailyReturns.values.flatten()\n",
      "d = d[np.logical_not(np.isnan(d))]\n",
      "\n",
      "ax2 = plt.subplot(2,2,3)\n",
      "histRet = ax2.hist(d, bins=150, color='#3e3e3e')\n",
      "#ax2.set_ylim(0, 2000000)\n",
      "ax2.set_xlim(-.75, .75)\n",
      "ax2.set_title('Historgram')\n",
      "ax2.set_xlabel('logarithmic price change')\n",
      "ax2.set_ylabel('number of observations')\n",
      "\n",
      "#probplot\n",
      "ax4 = plt.subplot(2,2,4)\n",
      "_ = ss.probplot(random.sample(d, 100000), plot=plt)\n",
      "ax4.set_title('Normal probability plot')\n",
      "\n",
      "#plt.savefig('/home/patrick/Thesis/ThesisTemplate/figures/4-plot.png')"
     ],
     "language": "python",
     "metadata": {},
     "outputs": [
      {
       "metadata": {},
       "output_type": "display_data",
       "png": "[encoded data removed]",
       "text": [
        "<matplotlib.figure.Figure at 0x589befd0>"
       ]
      }
     ],
     "prompt_number": 176
    },
    {
     "cell_type": "code",
     "collapsed": false,
     "input": [
      "m = np.max(histRet[0])\n",
      "print m, len(d), m/len(d)\n",
      "print histRet[1][74], histRet[1][75]"
     ],
     "language": "python",
     "metadata": {},
     "outputs": [
      {
       "output_type": "stream",
       "stream": "stdout",
       "text": [
        "6369483.0 11357715 0.56080672917\n",
        "-0.0147129237612 0.014013973467\n"
       ]
      }
     ],
     "prompt_number": 173
    },
    {
     "cell_type": "code",
     "collapsed": false,
     "input": [
      "tp = ticketPrices.values.flatten()\n",
      "print tp.shape\n",
      "tp = tp[np.logical_not(np.isnan(tp))]"
     ],
     "language": "python",
     "metadata": {},
     "outputs": [
      {
       "output_type": "stream",
       "stream": "stdout",
       "text": [
        "(11690658,)\n"
       ]
      }
     ],
     "prompt_number": 183
    },
    {
     "cell_type": "code",
     "collapsed": false,
     "input": [
      "data = []\n",
      "labels = []\n",
      "\n",
      "for flyFrom in storage.keys():\n",
      "    for flyTo in storage[flyFrom].keys():\n",
      "        a = get_ticketPrices(storage, flyFrom, flyTo)[0]\n",
      "        a = a.append(get_ticketPrices(historical, flyFrom, flyTo)[0], ignore_index=True)\n",
      "        a = a.values.flatten()\n",
      "        a = a[np.logical_not(np.isnan(a))]\n",
      "        data.append(a/100)\n",
      "        labels.append(r'%s $\\rightarrow$ %s' % (flyFrom, flyTo))"
     ],
     "language": "python",
     "metadata": {},
     "outputs": [],
     "prompt_number": 220
    },
    {
     "cell_type": "code",
     "collapsed": false,
     "input": [
      "fig, ax1 = plt.subplots(figsize=(10,6))\n",
      "plt.subplots_adjust(hspace=.3, wspace=.5, bottom=.20)\n",
      "\n",
      "f = ax1.boxplot(data, sym='k.')\n",
      "xtickNames = plt.setp(ax1, xticklabels=labels)\n",
      "_ = plt.setp(xtickNames, rotation=90, fontsize=10)\n",
      "ax1.set_ylabel('ticket price')\n",
      "#plt.savefig('/home/patrick/Thesis/ThesisTemplate/figures/outlierAnalysis.png')"
     ],
     "language": "python",
     "metadata": {},
     "outputs": [
      {
       "metadata": {},
       "output_type": "pyout",
       "prompt_number": 235,
       "text": [
        "<matplotlib.text.Text at 0x6d902590>"
       ]
      },
      {
       "metadata": {},
       "output_type": "display_data",
       "png": "[encoded data removed]",
       "text": [
        "<matplotlib.figure.Figure at 0x6e62d850>"
       ]
      }
     ],
     "prompt_number": 235
    },
    {
     "cell_type": "code",
     "collapsed": false,
     "input": [
      "g = f['fliers'][0]\n",
      "g."
     ],
     "language": "python",
     "metadata": {},
     "outputs": [],
     "prompt_number": 241
    },
    {
     "cell_type": "heading",
     "level": 4,
     "metadata": {},
     "source": [
      "TMP"
     ]
    },
    {
     "cell_type": "code",
     "collapsed": false,
     "input": [
      "ticketPrices = pd.DataFrame(dset['JFK']['CDG'][:,1:43], dtype=np.float64)\n",
      "\n",
      "#cleaning\n",
      "ticketPrices[ticketPrices == 0] = np.nan\n",
      "ticketPrices = ticketPrices.dropna(thresh=int(42*2/3))  # drop everythings that has less than 2/3 avilable data\n",
      "ticketPrices = ticketPrices.ffill(axis=1)"
     ],
     "language": "python",
     "metadata": {},
     "outputs": [],
     "prompt_number": 90
    },
    {
     "cell_type": "code",
     "collapsed": false,
     "input": [
      "for flyFrom in storage.keys():\n",
      "    for flyTo in storage[flyFrom].keys():\n",
      "        ticketPrices = pd.DataFrame(storage[flyFrom][flyTo][:,1:43], dtype=np.float64)\n",
      "        \n",
      "        tnf =  ticketPrices.shape[0]\n",
      "        \n",
      "        ticketPrices[ticketPrices == 0] = np.nan\n",
      "        ticketPrices = ticketPrices.dropna(thresh=int(42*2/3))  # drop everythings that has less than 2/3 avilable data\n",
      "        \n",
      "        pvf = ticketPrices.shape[0]/tnf\n",
      "        pmf = tnf - ticketPrices.shape[0]\n",
      "        no = ticketPrices.count().sum()\n",
      "        \n",
      "        ticketPrices = ticketPrices.ffill(axis=1)\n",
      "        \n",
      "        pso = 1-(ticketPrices.icol(1).count()/tnf)\n",
      "\n",
      "        mtp = ticketPrices.mean().mean()\n",
      "        \n",
      "        pcs = (ticketPrices.T.shift(1).T/ticketPrices)-1\n",
      "        mc1d = pcs.mean().mean()\n",
      "\n",
      "        \n",
      "        \n",
      "        print \"%s  &  %s  &  %d  &  %.2f  &  %d  &  %s  &  %.2f  &  %s  &  %.2f\\\\,\\\\%%  &  %.2f\\\\,\\\\%%  &  %.2f\\\\,\\\\%%\" % \\\n",
      "              (flyFrom, flyTo, tnf, pvf, pmf, locale.format(\"%d\", no, grouping=True), pso, locale.format(\"%d\", mtp/100, grouping=True), mc1d*100, pcs.min().min()*100, pcs.max().max()*100)\n",
      "\n",
      "        #x = pcs.values[np.logical_not(np.isnan(pcs.values))].flatten()\n",
      "        #hist(x, bins=50)"
     ],
     "language": "python",
     "metadata": {},
     "outputs": []
    }
   ],
   "metadata": {}
  }
 ]
}