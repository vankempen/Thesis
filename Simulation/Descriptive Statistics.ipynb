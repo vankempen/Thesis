{
 "metadata": {
  "name": ""
 },
 "nbformat": 3,
 "nbformat_minor": 0,
 "worksheets": [
  {
   "cells": [
    {
     "cell_type": "code",
     "collapsed": false,
     "input": [
      "from __future__ import division\n",
      "\n",
      "import h5py\n",
      "import numpy as np\n",
      "import pandas as pd\n",
      "import scipy.stats as ss\n",
      "pd.set_option('display.max_rows', 500)\n",
      "pd.set_option('display.max_columns', 30)"
     ],
     "language": "python",
     "metadata": {},
     "outputs": [],
     "prompt_number": 23
    },
    {
     "cell_type": "heading",
     "level": 2,
     "metadata": {},
     "source": [
      "Empirical data"
     ]
    },
    {
     "cell_type": "code",
     "collapsed": false,
     "input": [
      "storage = h5py.File('storage/flightsTest.h5', 'r')\n",
      "historical = h5py.File('storage/flightsTrain.h5', 'r')"
     ],
     "language": "python",
     "metadata": {},
     "outputs": [],
     "prompt_number": 2
    },
    {
     "cell_type": "heading",
     "level": 2,
     "metadata": {},
     "source": [
      "Stats"
     ]
    },
    {
     "cell_type": "code",
     "collapsed": false,
     "input": [
      "def get_ticketPrices(dataset, flyFrom, flyTo):\n",
      "    \"\"\"\n",
      "    returns cleaned up ticketPrices AND meanTicketPrice in whole $'s (for sell-outs)\n",
      "    \n",
      "    dataset: data to get prices from (historical/current)\n",
      "    flyFrom: outbound airport\n",
      "    flyTo: inbound airport\n",
      "    \"\"\"\n",
      "    ticketPrices = pd.DataFrame(dataset[flyFrom][flyTo][:,1:43], dtype=np.float64)\n",
      "    ticketPrices[ticketPrices == 0] = np.nan\n",
      "    ticketPrices = ticketPrices.dropna(thresh=int(42*2/3)).ffill(axis=1)  # drop everythings that has less than 2/3 avilable data\n",
      "    meanTicketPrice = ticketPrices.mean().mean()\n",
      "    return ticketPrices, meanTicketPrice"
     ],
     "language": "python",
     "metadata": {},
     "outputs": [],
     "prompt_number": 3
    },
    {
     "cell_type": "heading",
     "level": 4,
     "metadata": {},
     "source": [
      "Freqs"
     ]
    },
    {
     "cell_type": "code",
     "collapsed": false,
     "input": [
      "dset = historical\n",
      "\n",
      "for flyFrom in dset.keys():\n",
      "    for flyTo in dset[flyFrom].keys():\n",
      "        desc = { 'flyFrom': flyFrom, 'flyTo': flyTo }\n",
      "        ticketPrices = pd.DataFrame(dset[flyFrom][flyTo][:,1:43], dtype=np.float64)\n",
      "        \n",
      "        desc['totalFlights'] = ticketPrices.shape[0]\n",
      "\n",
      "        # cleaning\n",
      "        ticketPrices[ticketPrices == 0] = np.nan\n",
      "        ticketPrices = ticketPrices.dropna(thresh=int(42*2/3))  # drop everythings that has less than 2/3 avilable data\n",
      "        \n",
      "        desc['totalValidFlights'] = ticketPrices.shape[0]\n",
      "        desc['percValidFlights'] = (desc['totalValidFlights']/desc['totalFlights'])\n",
      "        desc['totalObservations'] =  ticketPrices.count().sum()\n",
      "        desc['totalSellout'] = desc['totalFlights'] - ticketPrices.icol(1).count()\n",
      "        desc['percSellout'] = (desc['totalSellout']/desc['totalFlights'])\n",
      "        \n",
      "        #other stats\n",
      "        #ticketPrices = ticketPrices.ffill(axis=1)\n",
      "        \n",
      "        print \"{flyFrom}  &  {flyTo}  &  {totalFlights:,}  &  {totalValidFlights:,}  &  {percValidFlights:.1%}  &  {totalObservations:,}  &  {totalSellout:,}  &  {percSellout:.1%} \\\\\\\\\".format(**desc)"
     ],
     "language": "python",
     "metadata": {},
     "outputs": [
      {
       "output_type": "stream",
       "stream": "stdout",
       "text": [
        "AMS  &  CDG  &  8,389  &  7,871  &  93.8%  &  329,235  &  752  &  9.0% \\\\\n",
        "AMS  &  DXB  &  35  &  28  &  80.0%  &  1,176  &  7  &  20.0% \\\\\n",
        "AMS  &  JFK  &  639  &  638  &  99.8%  &  26,796  &  1  &  0.2% \\\\\n",
        "AMS  &  LHR  &  5,380  &  4,891  &  90.9%  &  204,906  &  606  &  11.3% \\\\\n",
        "ATL  &  LAX  &  3,613  &  3,203  &  88.7%  &  133,976  &  422  &  11.7% \\\\\n",
        "ATL  &  MCO  &  8,554  &  7,602  &  88.9%  &  317,860  &  979  &  11.4% \\\\"
       ]
      },
      {
       "output_type": "stream",
       "stream": "stdout",
       "text": [
        "\n",
        "CDG  &  AMS  &  8,186  &  7,874  &  96.2%  &  329,613  &  414  &  5.1% \\\\\n",
        "CDG  &  LHR  &  2,577  &  2,529  &  98.1%  &  106,218  &  48  &  1.9% \\\\\n",
        "DEN  &  FLL  &  58  &  45  &  77.6%  &  1,792  &  17  &  29.3% \\\\\n",
        "DEN  &  PHX  &  2,433  &  2,426  &  99.7%  &  101,656  &  63  &  2.6% \\\\\n",
        "DFW  &  LAX  &  36,579  &  14,845  &  40.6%  &  559,879  &  21,955  &  60.0% \\\\"
       ]
      },
      {
       "output_type": "stream",
       "stream": "stdout",
       "text": [
        "\n",
        "DFW  &  SFO  &  16,117  &  7,436  &  46.1%  &  279,339  &  8,929  &  55.4% \\\\\n",
        "JFK  &  CDG  &  4,947  &  3,238  &  65.5%  &  132,385  &  2,022  &  40.9% \\\\"
       ]
      },
      {
       "output_type": "stream",
       "stream": "stdout",
       "text": [
        "\n",
        "JFK  &  LHR  &  23,440  &  14,825  &  63.2%  &  610,280  &  9,851  &  42.0% \\\\"
       ]
      },
      {
       "output_type": "stream",
       "stream": "stdout",
       "text": [
        "\n",
        "LAX  &  LAS  &  16,261  &  9,782  &  60.2%  &  385,907  &  6,766  &  41.6% \\\\\n",
        "LAX  &  SFO  &  68,886  &  24,929  &  36.2%  &  988,534  &  45,774  &  66.4% \\\\"
       ]
      },
      {
       "output_type": "stream",
       "stream": "stdout",
       "text": [
        "\n",
        "LHR  &  AMS  &  5,230  &  4,904  &  93.8%  &  204,973  &  467  &  8.9% \\\\\n",
        "LHR  &  JFK  &  22,540  &  14,711  &  65.3%  &  606,489  &  8,801  &  39.0% \\\\"
       ]
      },
      {
       "output_type": "stream",
       "stream": "stdout",
       "text": [
        "\n",
        "LHR  &  LAX  &  3,513  &  1,597  &  45.5%  &  64,877  &  2,126  &  60.5% \\\\\n",
        "LHR  &  MAD  &  9,464  &  9,438  &  99.7%  &  395,966  &  68  &  0.7% \\\\\n",
        "ORD  &  BOS  &  24,145  &  12,904  &  53.4%  &  493,077  &  12,829  &  53.1% \\\\"
       ]
      },
      {
       "output_type": "stream",
       "stream": "stdout",
       "text": [
        "\n",
        "ORD  &  LGA  &  50,559  &  23,717  &  46.9%  &  940,407  &  28,077  &  55.5% \\\\"
       ]
      },
      {
       "output_type": "stream",
       "stream": "stdout",
       "text": [
        "\n"
       ]
      }
     ],
     "prompt_number": 33
    },
    {
     "cell_type": "code",
     "collapsed": false,
     "input": [
      "for flyFrom in storage.keys():\n",
      "    for flyTo in storage[flyFrom].keys():\n",
      "        ticketPrices = pd.DataFrame(storage[flyFrom][flyTo][:,1:43], dtype=np.float64)\n",
      "        \n",
      "        tnf =  ticketPrices.shape[0]\n",
      "        \n",
      "        ticketPrices[ticketPrices == 0] = np.nan\n",
      "        ticketPrices = ticketPrices.dropna(thresh=int(42*2/3))  # drop everythings that has less than 2/3 avilable data\n",
      "        \n",
      "        pvf = ticketPrices.shape[0]/tnf\n",
      "        pmf = tnf - ticketPrices.shape[0]\n",
      "        no = ticketPrices.count().sum()\n",
      "        \n",
      "        ticketPrices = ticketPrices.ffill(axis=1)\n",
      "        \n",
      "        pso = 1-(ticketPrices.icol(1).count()/tnf)\n",
      "\n",
      "        mtp = ticketPrices.mean().mean()\n",
      "        \n",
      "        pcs = (ticketPrices.T.shift(1).T/ticketPrices)-1\n",
      "        mc1d = pcs.mean().mean()\n",
      "\n",
      "        \n",
      "        \n",
      "        print \"%s  &  %s  &  %d  &  %.2f  &  %d  &  %s  &  %.2f  &  %s  &  %.2f\\\\,\\\\%%  &  %.2f\\\\,\\\\%%  &  %.2f\\\\,\\\\%%\" % \\\n",
      "              (flyFrom, flyTo, tnf, pvf, pmf, locale.format(\"%d\", no, grouping=True), pso, locale.format(\"%d\", mtp/100, grouping=True), mc1d*100, pcs.min().min()*100, pcs.max().max()*100)\n",
      "\n",
      "        #x = pcs.values[np.logical_not(np.isnan(pcs.values))].flatten()\n",
      "        #hist(x, bins=50)"
     ],
     "language": "python",
     "metadata": {},
     "outputs": []
    }
   ],
   "metadata": {}
  }
 ]
}